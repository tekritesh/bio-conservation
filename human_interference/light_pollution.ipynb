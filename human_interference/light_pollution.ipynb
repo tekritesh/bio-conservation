{
 "cells": [
  {
   "cell_type": "markdown",
   "id": "550c4046",
   "metadata": {},
   "source": [
    "# Light Pollution Data & EDA\n",
    "\n",
    "\n",
    "1. Data Provenance \n",
    "\n",
    "    a. Where is the data from?\n",
    "        Open night time lights by world bank (Uses both DMSP and VIIR data)\n",
    "        https://worldbank.github.io/OpenNightLights/welcome.html\n",
    "\n",
    "    \n",
    "    b. Is it reliable? (partially subjective)\n",
    "        Yes, true satellite and sensor data to get radiance/night lights (can use google earth engine)\n",
    "    \n",
    "    \n",
    "2. Time measures\n",
    "\n",
    "    a. Time range of the dataset\n",
    "        2014-01-01T00:00:00Z - 2022-05-01T00:00:00\n",
    "    \n",
    "    b. Granularity (Weekly, Monthly, Aperiodic, Daily, Timestamp)\n",
    "         Monthly aggregates available, satellite collects data daily. I think we don't need daily granularity for light pollution. Daily granularity has too much noise due to clouds especially near the equator\n",
    "    \n",
    "    \n",
    "3. Location\n",
    "\n",
    "    a. Is it available for the UK, Brazil/India?\n",
    "        Yes\n",
    "    \n",
    "    b. Granularity (is it a pin point location?, Rounded coordinates?...)\n",
    "        750 m^2 area is the minimal resolution\n",
    "    \n",
    "    c. Format (shape files, lat long, geographical code)\n",
    "        can use any of the above\n",
    "    \n",
    "    \n",
    "4. Data Gaps and size\n",
    "\n",
    "    a. Size of the data\n",
    "        Entire world is around 250TB. We only need monthly composites for some regions ans some years\n",
    "        \n",
    "    b. Available columns and columns of interest\n",
    "        Radiance, avg_radiance, SOL (sum of lights),DNB radiance, I5 (LWIR) radiance, lunar illuminance, sample position within DNB scan, quality bitflag or “vflag” grid with on/off states for these fields:, daytime/nighttime/near-terminator, zero lunar illuminance, viirs cloud mask, nightfire detection, lightning, high energy particle hit,stray light affected/corrected\n",
    "\n",
    "\n",
    "    c. Missing data (amount and years/locations missing)\n",
    "        NA but resolution is the cause of missing data\n",
    "    \n",
    "    d. Nulls or Nans\n",
    "        NA\n",
    "    \n",
    "    e. Primary key\n",
    "        latitude longitude?\n",
    "    \n",
    "    f. Columns to join on\n",
    "        latitude, longitude, date\n",
    "    \n",
    "    g. Any additional fields\n",
    "        Cloud cover resolution, scale factor, clipping and country boundaries,\n",
    "        Quarterly data updates\n",
    "    \n",
    "    \n",
    "5. Ease of access\n",
    "\n",
    "    a. Is there a free to use license?s\n",
    "        Yes, open access\n",
    "    \n",
    "    b. How is data accessed? (API, download)\n",
    "        Java or python API calls. Files available for download but too large\n",
    "    \n",
    "    c. Is the documentation straightforward?\n",
    "        Yes\n",
    "    \n",
    "    d. Any limits on how much data we can download?\n",
    "       No\n",
    "\n",
    "## Light Pollution\n",
    "\n",
    "* Glare – excessive brightness that causes visual discomfort\n",
    "* Skyglow – brightening of the night sky over inhabited areas\n",
    "* Light trespass – light falling where it is not intended or needed\n",
    "* Clutter – bright, confusing and excessive groupings of light sources"
   ]
  },
  {
   "cell_type": "code",
   "execution_count": 1,
   "id": "c233b402",
   "metadata": {},
   "outputs": [],
   "source": [
    "import pandas as pd\n",
    "import geemap, ee\n",
    "import matplotlib.pyplot as plt\n",
    "import seaborn as sns\n",
    "import numpy as np\n",
    "\n",
    "try:\n",
    "        ee.Initialize()\n",
    "except Exception as e:\n",
    "        ee.Authenticate()\n",
    "        ee.Initialize()"
   ]
  },
  {
   "cell_type": "code",
   "execution_count": 2,
   "id": "b740bbba",
   "metadata": {
    "scrolled": false
   },
   "outputs": [
    {
     "data": {
      "application/vnd.jupyter.widget-view+json": {
       "model_id": "963d484157e94fc2b123bf58b3243fff",
       "version_major": 2,
       "version_minor": 0
      },
      "text/plain": [
       "Map(center=[20, 0], controls=(WidgetControl(options=['position', 'transparent_bg'], widget=HBox(children=(Togg…"
      ]
     },
     "metadata": {},
     "output_type": "display_data"
    }
   ],
   "source": [
    "center_lat = -3.497341\n",
    "center_lon = 38.642394\n",
    "\n",
    "zoomlevel=15\n",
    "\n",
    "\n",
    "# get December image, we're using the \"avg_rad\" band\n",
    "viirs2020_01 = ee.ImageCollection(\"NOAA/VIIRS/DNB/MONTHLY_V1/VCMSLCFG\").filterDate(\"2022-01-01\",\"2022-01-31\").select('avg_rad').median()\n",
    "\n",
    "\n",
    "# initialize our map\n",
    "map1 = geemap.Map()\n",
    "map1.add_basemap('SATELLITE')\n",
    "map1.addLayer(viirs2020_01, {}, \"VIIRS-DNB\")\n",
    "\n",
    "map1.addLayerControl()\n",
    "map1\n"
   ]
  },
  {
   "cell_type": "code",
   "execution_count": 3,
   "id": "ffef15da",
   "metadata": {},
   "outputs": [
    {
     "data": {
      "application/vnd.jupyter.widget-view+json": {
       "model_id": "2f5495866cc4442db4bc429729648092",
       "version_major": 2,
       "version_minor": 0
      },
      "text/plain": [
       "Map(center=[-3.497341, 38.642394], controls=(WidgetControl(options=['position', 'transparent_bg'], widget=HBox…"
      ]
     },
     "metadata": {},
     "output_type": "display_data"
    }
   ],
   "source": [
    "lat = center_lat\n",
    "lon = center_lon\n",
    "aoi = ee.Geometry.Point([lon, lat]).buffer(20000);\n",
    "viirs2020_01_clipped = viirs2020_01.clip(aoi)\n",
    "\n",
    "map2 = geemap.Map(center=[lat, lon],zoom=10)\n",
    "map2.add_basemap('SATELLITE')\n",
    "map2.addLayer(viirs2020_01_clipped, {}, \"VIIRS-DNB- Greater LA Dec 2019\")\n",
    "map2.addLayerControl()\n",
    "map2"
   ]
  },
  {
   "cell_type": "code",
   "execution_count": 4,
   "id": "a9f3a94b",
   "metadata": {},
   "outputs": [],
   "source": [
    "def get_avg_radiance(lat, lon, date, buffer=20000, scale=100, geometry = None):\n",
    "    \"\"\"\n",
    "    buffer (int): value in meters of radius around center lat lon\n",
    "    \"\"\"\n",
    "    yy = date.split('-')[0] \n",
    "    mm = date.split('-')[1] \n",
    "    start = yy + '-' + mm + '-01' ##get data for the month\n",
    "    \n",
    "    viirs = ee.ImageCollection(\"NOAA/VIIRS/DNB/MONTHLY_V1/VCMSLCFG\").\\\n",
    "    filterDate(start).select('avg_rad').median()\n",
    "    aoi = ee.Geometry.Point([lon, lat]).buffer(buffer);\n",
    "    viirs_clipped = viirs.clip(aoi)\n",
    "    \n",
    "    avg_rad = viirs_clipped.reduceRegion(reducer=ee.Reducer.mean(),\n",
    "                                     geometry = None,\n",
    "                                     scale=scale,\n",
    "                                     maxPixels=1e9).get('avg_rad')\n",
    "    \n",
    "    return avg_rad.getInfo()\n"
   ]
  },
  {
   "cell_type": "code",
   "execution_count": 5,
   "id": "fd0318da",
   "metadata": {},
   "outputs": [
    {
     "data": {
      "text/plain": [
       "0.2997921929806698"
      ]
     },
     "execution_count": 5,
     "metadata": {},
     "output_type": "execute_result"
    }
   ],
   "source": [
    "get_avg_radiance(lat=center_lat, lon=center_lon, date='2022-01-01', buffer=20000, scale=100)"
   ]
  },
  {
   "cell_type": "code",
   "execution_count": 6,
   "id": "e4e0a346",
   "metadata": {},
   "outputs": [],
   "source": [
    "brazil0 = ee.Feature(ee.FeatureCollection(\"FAO/GAUL/2015/level0\").\\\n",
    "                     filter(ee.Filter.eq('ADM0_NAME', 'Brazil')).first()).geometry()\n",
    "india0 = ee.Feature(ee.FeatureCollection(\"FAO/GAUL/2015/level0\").\\\n",
    "                     filter(ee.Filter.eq('ADM0_NAME', 'India')).first()).geometry()\n",
    "uk0 = ee.Feature(ee.FeatureCollection(\"FAO/GAUL/2015/level0\").\\\n",
    "                     filter(ee.Filter.eq('ADM0_NAME', 'U.K. of Great Britain and Northern Ireland')).first()).geometry()\n"
   ]
  },
  {
   "cell_type": "code",
   "execution_count": 7,
   "id": "e0d4d18b",
   "metadata": {},
   "outputs": [
    {
     "data": {
      "application/vnd.jupyter.widget-view+json": {
       "model_id": "4b61f9f4c54648e79eb42035e9b5783b",
       "version_major": 2,
       "version_minor": 0
      },
      "text/plain": [
       "Map(center=[-3.497341, 38.642394], controls=(WidgetControl(options=['position', 'transparent_bg'], widget=HBox…"
      ]
     },
     "metadata": {},
     "output_type": "display_data"
    }
   ],
   "source": [
    "viirs2020_01_clipped = viirs2020_01.clip(uk0)\n",
    "\n",
    "map2 = geemap.Map(center=[lat, lon],zoom=7)\n",
    "map2.add_basemap('SATELLITE')\n",
    "map2.addLayer(viirs2020_01_clipped, {}, \"VIIRS-DNB- Greater LA Dec 2019\")\n",
    "map2.addLayerControl()\n",
    "map2"
   ]
  },
  {
   "cell_type": "code",
   "execution_count": null,
   "id": "2cc66208",
   "metadata": {},
   "outputs": [],
   "source": []
  },
  {
   "cell_type": "code",
   "execution_count": null,
   "id": "8b4c9447",
   "metadata": {},
   "outputs": [],
   "source": []
  },
  {
   "cell_type": "code",
   "execution_count": null,
   "id": "8e88a768",
   "metadata": {},
   "outputs": [],
   "source": []
  },
  {
   "cell_type": "code",
   "execution_count": null,
   "id": "120d1ffb",
   "metadata": {},
   "outputs": [],
   "source": []
  },
  {
   "cell_type": "code",
   "execution_count": null,
   "id": "9032c10d",
   "metadata": {},
   "outputs": [],
   "source": []
  },
  {
   "cell_type": "code",
   "execution_count": null,
   "id": "dac966f6",
   "metadata": {},
   "outputs": [],
   "source": []
  },
  {
   "cell_type": "code",
   "execution_count": null,
   "id": "31e6d4aa",
   "metadata": {},
   "outputs": [],
   "source": []
  },
  {
   "cell_type": "code",
   "execution_count": null,
   "id": "b5157f5b",
   "metadata": {},
   "outputs": [],
   "source": []
  },
  {
   "cell_type": "code",
   "execution_count": null,
   "id": "d108ebd7",
   "metadata": {},
   "outputs": [],
   "source": []
  }
 ],
 "metadata": {
  "kernelspec": {
   "display_name": "Python 3 (ipykernel)",
   "language": "python",
   "name": "python3"
  },
  "language_info": {
   "codemirror_mode": {
    "name": "ipython",
    "version": 3
   },
   "file_extension": ".py",
   "mimetype": "text/x-python",
   "name": "python",
   "nbconvert_exporter": "python",
   "pygments_lexer": "ipython3",
   "version": "3.8.13"
  }
 },
 "nbformat": 4,
 "nbformat_minor": 5
}
