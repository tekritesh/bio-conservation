{
 "cells": [
  {
   "cell_type": "markdown",
   "id": "550c4046",
   "metadata": {},
   "source": [
    "# Light Pollution Data & EDA\n",
    "\n",
    "\n",
    "1. Data Provenance \n",
    "\n",
    "    a. Where is the data from?\n",
    "        Open night time lights by world bank (Uses both DMSP and VIIR data)\n",
    "        https://worldbank.github.io/OpenNightLights/welcome.html\n",
    "\n",
    "    \n",
    "    b. Is it reliable? (partially subjective)\n",
    "        Yes, true satellite and sensor data to get radiance/night lights (can use google earth engine)\n",
    "    \n",
    "    \n",
    "2. Time measures\n",
    "\n",
    "    a. Time range of the dataset\n",
    "        2014-01-01T00:00:00Z - 2022-05-01T00:00:00\n",
    "    \n",
    "    b. Granularity (Weekly, Monthly, Aperiodic, Daily, Timestamp)\n",
    "         Monthly aggregates available, satellite collects data daily. I think we don't need daily granularity for light pollution\n",
    "    \n",
    "    \n",
    "3. Location\n",
    "\n",
    "    a. Is it available for the UK, Brazil/India?\n",
    "    \n",
    "    b. Granularity (is it a pin point location?, Rounded coordinates?...)\n",
    "    \n",
    "    c. Format (shape files, lat long, geographical code)\n",
    "    \n",
    "    \n",
    "4. Data Gaps and size\n",
    "\n",
    "    a. Size of the data\n",
    "    \n",
    "    b. Available columns and columns of interest\n",
    "    \n",
    "    c. Missing data (amount and years/locations missing)\n",
    "    \n",
    "    d. Nulls or Nans\n",
    "    \n",
    "    e. Primary key\n",
    "    \n",
    "    f. Columns to join on\n",
    "    \n",
    "    g. Any additional fields\n",
    "    \n",
    "    \n",
    "5. Ease of access\n",
    "\n",
    "    a. Is there a free to use license?\n",
    "    \n",
    "    b. How is data accessed? (API, download)\n",
    "    \n",
    "    c. Is the documentation straightforward?\n",
    "    \n",
    "    d. Any limits on how much data we can download?\n",
    "\n"
   ]
  },
  {
   "cell_type": "code",
   "execution_count": 1,
   "id": "c233b402",
   "metadata": {},
   "outputs": [],
   "source": [
    "import pandas as pd"
   ]
  },
  {
   "cell_type": "code",
   "execution_count": null,
   "id": "f285886f",
   "metadata": {},
   "outputs": [],
   "source": []
  }
 ],
 "metadata": {
  "kernelspec": {
   "display_name": "Python 3 (ipykernel)",
   "language": "python",
   "name": "python3"
  },
  "language_info": {
   "codemirror_mode": {
    "name": "ipython",
    "version": 3
   },
   "file_extension": ".py",
   "mimetype": "text/x-python",
   "name": "python",
   "nbconvert_exporter": "python",
   "pygments_lexer": "ipython3",
   "version": "3.9.12"
  }
 },
 "nbformat": 4,
 "nbformat_minor": 5
}
