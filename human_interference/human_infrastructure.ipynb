{
 "cells": [
  {
   "cell_type": "markdown",
   "id": "ebfa8c0a",
   "metadata": {},
   "source": [
    "# Human Infrastructure Data & EDA\n",
    "\n",
    "\n",
    "1. Data Provenance \n",
    "\n",
    "    a. Where is the data from?\n",
    "\n",
    "\n",
    "    \n",
    "    b. Is it reliable? (partially subjective)\n",
    "    \n",
    "    \n",
    "2. Time measures\n",
    "\n",
    "    a. Time range of the dataset\n",
    "        2014-01-01T00:00:00Z - 2022-05-01T00:00:00\n",
    "    \n",
    "    b. Granularity (Weekly, Monthly, Aperiodic, Daily, Timestamp)\n",
    "         \n",
    "    \n",
    "    \n",
    "3. Location\n",
    "\n",
    "    a. Is it available for the UK, Brazil/India?\n",
    " \n",
    "    \n",
    "    b. Granularity (is it a pin point location?, Rounded coordinates?...)\n",
    "    \n",
    "    c. Format (shape files, lat long, geographical code)\n",
    "    \n",
    "    \n",
    "4. Data Gaps and size\n",
    "\n",
    "    a. Size of the data\n",
    "        Entire world is around 250TB. We only need monthly composites for some regions ans some years\n",
    "        \n",
    "    b. Available columns and columns of interest\n",
    " \n",
    "\n",
    "    c. Missing data (amount and years/locations missing)\n",
    "    \n",
    "    d. Nulls or Nans\n",
    "    \n",
    "    e. Primary key\n",
    "    \n",
    "    f. Columns to join on\n",
    "    \n",
    "    g. Any additional fields\n",
    "\n",
    "    \n",
    "    \n",
    "5. Ease of access\n",
    "\n",
    "    a. Is there a free to use license?s\n",
    " \n",
    "    \n",
    "    b. How is data accessed? (API, download)\n",
    "    \n",
    "    c. Is the documentation straightforward?\n",
    "        \n",
    "    \n",
    "    d. Any limits on how much data we can download?\n",
    "       \n"
   ]
  },
  {
   "cell_type": "markdown",
   "id": "f9f331c8",
   "metadata": {},
   "source": [
    "https://ghsl.jrc.ec.europa.eu/\n",
    "https://www.openrailwaymap.org/\n",
    "Roadways map/bridges https://developers.google.com/maps/documentation/javascript/trafficlayer\n",
    "Electrical lines? (is this important)\n",
    "Dams\n"
   ]
  },
  {
   "cell_type": "code",
   "execution_count": 8,
   "id": "d02cdf7b",
   "metadata": {},
   "outputs": [],
   "source": [
    "import pandas as pd\n",
    "import geemap, ee\n",
    "import matplotlib.pyplot as plt\n",
    "import seaborn as sns\n",
    "import numpy as np\n",
    "\n",
    "try:\n",
    "        ee.Initialize()\n",
    "except Exception as e:\n",
    "        ee.Authenticate()\n",
    "        ee.Initialize()\n",
    "        "
   ]
  },
  {
   "cell_type": "code",
   "execution_count": 15,
   "id": "a8008bc3",
   "metadata": {},
   "outputs": [
    {
     "data": {
      "application/vnd.jupyter.widget-view+json": {
       "model_id": "fa92de5c9f3d40af974f7973e0ef2ead",
       "version_major": 2,
       "version_minor": 0
      },
      "text/plain": [
       "Map(center=[54.03949956479122, -2.7881851686945835], controls=(WidgetControl(options=['position', 'transparent…"
      ]
     },
     "metadata": {},
     "output_type": "display_data"
    }
   ],
   "source": [
    "# get our Nepal boundary\n",
    "aoi = ee.FeatureCollection(\"FAO/GAUL/2015/level0\").filter(ee.Filter.eq('ADM0_NAME','U.K. of Great Britain and Northern Ireland')).geometry()\n",
    "\n",
    "ghsl = ee.ImageCollection('JRC/GHSL/P2016/SMOD_POP_GLOBE_V1').filter(ee.Filter.date('2015-01-01', '2015-12-31')).select('smod_code').median();\n",
    "\n",
    "# create a boolean mask setting anything equaling 2 (low density) or 3 (high density) as True\n",
    "# this will actually be our binary label layer\n",
    "#ghslbinary = ghsl.gte(2)\n",
    "\n",
    "ghslVis= {\"min\":0.0, \"max\":3.0,\"palette\":['000000', '448564', '70daa4', 'ffffff']}\n",
    "#ghslbiVis= {\"palette\":['000000', 'ffffff']}\n",
    "\n",
    "map1 = geemap.Map()\n",
    "map1.centerObject(aoi,7)\n",
    "map1.addLayer(ghsl.clip(aoi), ghslVis, 'Degree of Urbanization')\n",
    "#map1.addLayer(ghslbinary.clip(aoi), ghslbiVis, 'Built up')\n",
    "map1.addLayerControl()\n",
    "map1"
   ]
  },
  {
   "cell_type": "code",
   "execution_count": 20,
   "id": "23f618f4",
   "metadata": {},
   "outputs": [
    {
     "data": {
      "application/vnd.jupyter.widget-view+json": {
       "model_id": "aa1c4b964e4c4ffb941272e8cf381121",
       "version_major": 2,
       "version_minor": 0
      },
      "text/plain": [
       "Map(center=[12.9716, 77.5946], controls=(WidgetControl(options=['position', 'transparent_bg'], widget=HBox(chi…"
      ]
     },
     "metadata": {},
     "output_type": "display_data"
    }
   ],
   "source": [
    "center_lat = -3.497341\n",
    "center_lon = 38.642394\n",
    "\n",
    "\n",
    "aoi = ee.Geometry.Point([lon, lat]).buffer(15000);\n",
    "ghsl_clipped = ghsl.clip(aoi)\n",
    "ghslVis= {\"min\":0.0, \"max\":3.0,\"palette\":['000000', '448564', '70daa4', 'ffffff']}\n",
    "\n",
    "map2 = geemap.Map(center=[lat, lon],zoom=10)\n",
    "map2.add_basemap('SATELLITE')\n",
    "map2.addLayer(ghsl_clipped, ghslVis, \"Degree of urbanization\")\n",
    "map2.addLayerControl()\n",
    "map2"
   ]
  },
  {
   "cell_type": "code",
   "execution_count": 21,
   "id": "90bbabfa",
   "metadata": {},
   "outputs": [],
   "source": [
    "def get_avg_deg_urban(lat, lon, buffer=10000, scale=100, geometry = None):\n",
    "    \"\"\"\n",
    "    buffer (int): value in meters of radius around center lat lon\n",
    "    \"\"\"\n",
    "    ghsl = ee.ImageCollection('JRC/GHSL/P2016/SMOD_POP_GLOBE_V1').\\\n",
    "    filter(ee.Filter.date('2015-01-01', '2015-12-31')).select('smod_code').median()\n",
    "\n",
    "    aoi = ee.Geometry.Point([lon, lat]).buffer(buffer);\n",
    "    ghsl_clipped = ghsl.clip(aoi)\n",
    "    \n",
    "    smod_code = ghsl_clipped.reduceRegion(reducer=ee.Reducer.mean(),\n",
    "                                     geometry = None,\n",
    "                                     scale=scale,\n",
    "                                     maxPixels=1e9).get('smod_code')\n",
    "    \n",
    "    return smod_code.getInfo()"
   ]
  },
  {
   "cell_type": "code",
   "execution_count": 22,
   "id": "441a137d",
   "metadata": {},
   "outputs": [
    {
     "data": {
      "text/plain": [
       "2.9949516291458917"
      ]
     },
     "execution_count": 22,
     "metadata": {},
     "output_type": "execute_result"
    }
   ],
   "source": [
    "lat = 12.9716\n",
    "lon = 77.5946\n",
    "get_avg_deg_urban(lat, lon)"
   ]
  },
  {
   "cell_type": "code",
   "execution_count": null,
   "id": "a987245f",
   "metadata": {},
   "outputs": [],
   "source": []
  }
 ],
 "metadata": {
  "kernelspec": {
   "display_name": "Python 3 (ipykernel)",
   "language": "python",
   "name": "python3"
  },
  "language_info": {
   "codemirror_mode": {
    "name": "ipython",
    "version": 3
   },
   "file_extension": ".py",
   "mimetype": "text/x-python",
   "name": "python",
   "nbconvert_exporter": "python",
   "pygments_lexer": "ipython3",
   "version": "3.9.12"
  }
 },
 "nbformat": 4,
 "nbformat_minor": 5
}
