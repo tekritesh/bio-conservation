{
 "cells": [
  {
   "cell_type": "markdown",
   "id": "d8ec082e",
   "metadata": {},
   "source": [
    "# GBIF Data & EDA\n",
    "\n",
    "\n",
    "1. Data Provenance \n",
    "\n",
    "    a. Where is the data from?\n",
    "        GBIF, multiple data sources, mostly validated\n",
    "\n",
    "    \n",
    "    b. Is it reliable? (partially subjective)\n",
    "        Yes, it is part of the competition\n",
    "    \n",
    "    \n",
    "2. Time measures\n",
    "\n",
    "    a. Time range of the dataset\n",
    "        1900s? - Present\n",
    "        \n",
    "    b. Granularity (Weekly, Monthly, Aperiodic, Daily, Timestamp)\n",
    "         Daily granularity, asynchronous, time of occurrence available\n",
    "    \n",
    "    \n",
    "3. Location\n",
    "\n",
    "    a. Is it available for the UK, Brazil/India?\n",
    "        Yes\n",
    "    \n",
    "    b. Granularity (is it a pin point location?, Rounded coordinates?...)\n",
    "        Coordinates\n",
    "    \n",
    "    c. Format (shape files, lat long, geographical code)\n",
    "        lat, lon and geographical code available too. We will use lat lon\n",
    "    \n",
    "    \n",
    "4. Data Gaps and size\n",
    "\n",
    "    a. Size of the data\n",
    "        \n",
    "    b. Available columns and columns of interest\n",
    "\n",
    "    c. Missing data (amount and years/locations missing)\n",
    "    \n",
    "    d. Nulls or Nans\n",
    "    \n",
    "    e. Primary key\n",
    "    \n",
    "    f. Columns to join on\n",
    "        latitude, longitude, date\n",
    "    \n",
    "    g. Any additional fields\n",
    "\n",
    "    \n",
    "    \n",
    "5. Ease of access\n",
    "\n",
    "    a. Is there a free to use license?s\n",
    "        Yes, open access, pygbif: https://pygbif.readthedocs.io/en/latest/modules/occurrence.html\n",
    "    \n",
    "    b. How is data accessed? (API, download)\n",
    "        R or python API calls. Files available for download \n",
    "    \n",
    "    c. Is the documentation straightforward?\n",
    "        Yes\n",
    "    \n",
    "    d. Any limits on how much data we can download?\n",
    "       No\n",
    "\n",
    "\n",
    "\n"
   ]
  },
  {
   "cell_type": "code",
   "execution_count": 1,
   "id": "db80f9e4",
   "metadata": {},
   "outputs": [],
   "source": [
    "import pandas as pd\n",
    "from pygbif import species as species\n",
    "from pygbif import occurrences as occ"
   ]
  },
  {
   "cell_type": "code",
   "execution_count": 2,
   "id": "e6de8ddf",
   "metadata": {},
   "outputs": [],
   "source": [
    "splist = ['Cyanocitta stelleri', 'Junco hyemalis', 'Aix sponsa',\n",
    "  'Ursus americanus', 'Pinus conorta', 'Poa annuus']\n",
    "keys = [ species.name_backbone(x)['usageKey'] for x in splist ]"
   ]
  },
  {
   "cell_type": "code",
   "execution_count": 3,
   "id": "69ec85e1",
   "metadata": {},
   "outputs": [],
   "source": [
    "out = [ occ.search(taxonKey = x, limit=0)['count'] for x in keys ]"
   ]
  },
  {
   "cell_type": "code",
   "execution_count": 4,
   "id": "ba2d6904",
   "metadata": {},
   "outputs": [
    {
     "data": {
      "text/plain": [
       "[('Junco hyemalis', 9444964),\n",
       " ('Aix sponsa', 4755322),\n",
       " ('Poa annuus', 3022807),\n",
       " ('Cyanocitta stelleri', 1795348),\n",
       " ('Ursus americanus', 26363),\n",
       " ('Pinus conorta', 23136)]"
      ]
     },
     "execution_count": 4,
     "metadata": {},
     "output_type": "execute_result"
    }
   ],
   "source": [
    "x = dict(zip(splist, out))\n",
    "sorted(x.items(), key=lambda z:z[1], reverse=True)"
   ]
  },
  {
   "cell_type": "code",
   "execution_count": 5,
   "id": "20e110cf",
   "metadata": {},
   "outputs": [
    {
     "data": {
      "text/plain": [
       "{'offset': 10,\n",
       " 'limit': 5,\n",
       " 'endOfRecords': False,\n",
       " 'count': 177,\n",
       " 'results': [{'key': 240713143,\n",
       "   'datasetKey': '7b5d6a48-f762-11e1-a439-00145eb45e9a',\n",
       "   'publishingOrgKey': '104e9c96-791b-4f14-978c-f581cb214912',\n",
       "   'networkKeys': ['8534dd20-c368-4a1f-bdaf-e6b390710f89',\n",
       "    '2b7c7b4f-4d4f-40d3-94de-c28b6fa054a6'],\n",
       "   'installationKey': '27c24cba-13c5-47d1-96a1-16abd8f11437',\n",
       "   'publishingCountry': 'GB',\n",
       "   'protocol': 'DWC_ARCHIVE',\n",
       "   'lastCrawled': '2022-04-20T02:43:52.288+00:00',\n",
       "   'lastParsed': '2022-04-25T19:18:09.617+00:00',\n",
       "   'crawlId': 217,\n",
       "   'hostingOrganizationKey': 'fb10a11f-4417-41c8-be6a-13a5c8535122',\n",
       "   'extensions': {},\n",
       "   'basisOfRecord': 'HUMAN_OBSERVATION',\n",
       "   'occurrenceStatus': 'PRESENT',\n",
       "   'taxonKey': 7965222,\n",
       "   'kingdomKey': 4,\n",
       "   'phylumKey': 8376456,\n",
       "   'orderKey': 7617014,\n",
       "   'familyKey': 8405705,\n",
       "   'genusKey': 7965222,\n",
       "   'acceptedTaxonKey': 7965222,\n",
       "   'scientificName': 'Tinogullmia Nyholm, 1954',\n",
       "   'acceptedScientificName': 'Tinogullmia Nyholm, 1954',\n",
       "   'kingdom': 'Chromista',\n",
       "   'phylum': 'Foraminifera',\n",
       "   'order': 'Allogromiida',\n",
       "   'family': 'Allogromiidae',\n",
       "   'genus': 'Tinogullmia',\n",
       "   'genericName': 'Tinogullmia',\n",
       "   'taxonRank': 'GENUS',\n",
       "   'taxonomicStatus': 'ACCEPTED',\n",
       "   'decimalLongitude': 163.583,\n",
       "   'decimalLatitude': -77.5997,\n",
       "   'issues': ['GEODETIC_DATUM_ASSUMED_WGS84'],\n",
       "   'lastInterpreted': '2022-04-25T19:18:09.617+00:00',\n",
       "   'license': 'http://creativecommons.org/licenses/by/4.0/legalcode',\n",
       "   'identifiers': [],\n",
       "   'media': [],\n",
       "   'facts': [],\n",
       "   'relations': [],\n",
       "   'gadm': {'level0': {'gid': 'ATA', 'name': 'Antarctica'}},\n",
       "   'isInCluster': False,\n",
       "   'datasetID': 'IMIS:dasid:1775',\n",
       "   'inCluster': False,\n",
       "   'geodeticDatum': 'WGS84',\n",
       "   'countryCode': 'AQ',\n",
       "   'recordedByIDs': [],\n",
       "   'identifiedByIDs': [],\n",
       "   'country': 'Antarctica',\n",
       "   'identifier': 'urn:catalog:BAS:CAML - Foraminifera:108',\n",
       "   'catalogNumber': '108',\n",
       "   'scientificNameID': 'urn:lsid:marinespecies.org:taxname:112000',\n",
       "   'institutionCode': 'BAS',\n",
       "   'locality': 'Explorers Cove',\n",
       "   'collectionCode': 'CAML - Foraminifera',\n",
       "   'occurrenceRemarks': 'GenBankID: AJ307860',\n",
       "   'gbifID': '240713143',\n",
       "   'occurrenceID': 'urn:catalog:BAS:CAML - Foraminifera:108',\n",
       "   'bibliographicCitation': 'Holzmann'},\n",
       "  {'key': 240713144,\n",
       "   'datasetKey': '7b5d6a48-f762-11e1-a439-00145eb45e9a',\n",
       "   'publishingOrgKey': '104e9c96-791b-4f14-978c-f581cb214912',\n",
       "   'networkKeys': ['8534dd20-c368-4a1f-bdaf-e6b390710f89',\n",
       "    '2b7c7b4f-4d4f-40d3-94de-c28b6fa054a6'],\n",
       "   'installationKey': '27c24cba-13c5-47d1-96a1-16abd8f11437',\n",
       "   'publishingCountry': 'GB',\n",
       "   'protocol': 'DWC_ARCHIVE',\n",
       "   'lastCrawled': '2022-04-20T02:43:52.288+00:00',\n",
       "   'lastParsed': '2022-04-25T19:18:09.616+00:00',\n",
       "   'crawlId': 217,\n",
       "   'hostingOrganizationKey': 'fb10a11f-4417-41c8-be6a-13a5c8535122',\n",
       "   'extensions': {},\n",
       "   'basisOfRecord': 'HUMAN_OBSERVATION',\n",
       "   'occurrenceStatus': 'PRESENT',\n",
       "   'taxonKey': 7965222,\n",
       "   'kingdomKey': 4,\n",
       "   'phylumKey': 8376456,\n",
       "   'orderKey': 7617014,\n",
       "   'familyKey': 8405705,\n",
       "   'genusKey': 7965222,\n",
       "   'acceptedTaxonKey': 7965222,\n",
       "   'scientificName': 'Tinogullmia Nyholm, 1954',\n",
       "   'acceptedScientificName': 'Tinogullmia Nyholm, 1954',\n",
       "   'kingdom': 'Chromista',\n",
       "   'phylum': 'Foraminifera',\n",
       "   'order': 'Allogromiida',\n",
       "   'family': 'Allogromiidae',\n",
       "   'genus': 'Tinogullmia',\n",
       "   'genericName': 'Tinogullmia',\n",
       "   'taxonRank': 'GENUS',\n",
       "   'taxonomicStatus': 'ACCEPTED',\n",
       "   'decimalLongitude': 163.583,\n",
       "   'decimalLatitude': -77.5667,\n",
       "   'issues': ['GEODETIC_DATUM_ASSUMED_WGS84'],\n",
       "   'lastInterpreted': '2022-04-25T19:18:09.616+00:00',\n",
       "   'license': 'http://creativecommons.org/licenses/by/4.0/legalcode',\n",
       "   'identifiers': [],\n",
       "   'media': [],\n",
       "   'facts': [],\n",
       "   'relations': [],\n",
       "   'gadm': {},\n",
       "   'isInCluster': False,\n",
       "   'datasetID': 'IMIS:dasid:1775',\n",
       "   'inCluster': False,\n",
       "   'geodeticDatum': 'WGS84',\n",
       "   'countryCode': 'AQ',\n",
       "   'recordedByIDs': [],\n",
       "   'identifiedByIDs': [],\n",
       "   'country': 'Antarctica',\n",
       "   'identifier': 'urn:catalog:BAS:CAML - Foraminifera:109',\n",
       "   'catalogNumber': '109',\n",
       "   'scientificNameID': 'urn:lsid:marinespecies.org:taxname:112000',\n",
       "   'institutionCode': 'BAS',\n",
       "   'locality': 'Explorers Cove',\n",
       "   'collectionCode': 'CAML - Foraminifera',\n",
       "   'occurrenceRemarks': 'GenBankID: AJ307859',\n",
       "   'gbifID': '240713144',\n",
       "   'occurrenceID': 'urn:catalog:BAS:CAML - Foraminifera:109',\n",
       "   'bibliographicCitation': 'Holzmann'},\n",
       "  {'key': 240713145,\n",
       "   'datasetKey': '7b5d6a48-f762-11e1-a439-00145eb45e9a',\n",
       "   'publishingOrgKey': '104e9c96-791b-4f14-978c-f581cb214912',\n",
       "   'networkKeys': ['8534dd20-c368-4a1f-bdaf-e6b390710f89',\n",
       "    '2b7c7b4f-4d4f-40d3-94de-c28b6fa054a6'],\n",
       "   'installationKey': '27c24cba-13c5-47d1-96a1-16abd8f11437',\n",
       "   'publishingCountry': 'GB',\n",
       "   'protocol': 'DWC_ARCHIVE',\n",
       "   'lastCrawled': '2022-04-20T02:43:52.288+00:00',\n",
       "   'lastParsed': '2022-04-25T19:18:09.515+00:00',\n",
       "   'crawlId': 217,\n",
       "   'hostingOrganizationKey': 'fb10a11f-4417-41c8-be6a-13a5c8535122',\n",
       "   'extensions': {},\n",
       "   'basisOfRecord': 'HUMAN_OBSERVATION',\n",
       "   'occurrenceStatus': 'PRESENT',\n",
       "   'taxonKey': 8235386,\n",
       "   'kingdomKey': 4,\n",
       "   'phylumKey': 8376456,\n",
       "   'classKey': 7434778,\n",
       "   'orderKey': 7692889,\n",
       "   'familyKey': 7580615,\n",
       "   'genusKey': 7726588,\n",
       "   'speciesKey': 7771557,\n",
       "   'acceptedTaxonKey': 7771557,\n",
       "   'scientificName': 'Epistominella vitrea Parker, 1953',\n",
       "   'acceptedScientificName': 'Eilohedra vitrea (Parker, 1953)',\n",
       "   'kingdom': 'Chromista',\n",
       "   'phylum': 'Foraminifera',\n",
       "   'order': 'Rotaliida',\n",
       "   'family': 'Pseudoparrellidae',\n",
       "   'genus': 'Eilohedra',\n",
       "   'species': 'Eilohedra vitrea',\n",
       "   'genericName': 'Epistominella',\n",
       "   'specificEpithet': 'vitrea',\n",
       "   'taxonRank': 'SPECIES',\n",
       "   'taxonomicStatus': 'SYNONYM',\n",
       "   'iucnRedListCategory': 'NE',\n",
       "   'decimalLongitude': -54.2175,\n",
       "   'decimalLatitude': -65.3378,\n",
       "   'depth': 1080.0,\n",
       "   'issues': ['GEODETIC_DATUM_ASSUMED_WGS84'],\n",
       "   'lastInterpreted': '2022-04-25T19:18:09.515+00:00',\n",
       "   'license': 'http://creativecommons.org/licenses/by/4.0/legalcode',\n",
       "   'identifiers': [],\n",
       "   'media': [],\n",
       "   'facts': [],\n",
       "   'relations': [],\n",
       "   'gadm': {},\n",
       "   'isInCluster': False,\n",
       "   'datasetID': 'IMIS:dasid:1775',\n",
       "   'inCluster': False,\n",
       "   'geodeticDatum': 'WGS84',\n",
       "   'class': 'Globothalamea',\n",
       "   'countryCode': 'AQ',\n",
       "   'recordedByIDs': [],\n",
       "   'identifiedByIDs': [],\n",
       "   'country': 'Antarctica',\n",
       "   'identifier': 'urn:catalog:BAS:CAML - Foraminifera:11',\n",
       "   'catalogNumber': '11',\n",
       "   'scientificNameID': 'urn:lsid:marinespecies.org:taxname:113340',\n",
       "   'institutionCode': 'BAS',\n",
       "   'locality': 'Weddell Sea',\n",
       "   'collectionCode': 'CAML - Foraminifera',\n",
       "   'occurrenceRemarks': 'GenBankID: AM491316',\n",
       "   'gbifID': '240713145',\n",
       "   'occurrenceID': 'urn:catalog:BAS:CAML - Foraminifera:11',\n",
       "   'bibliographicCitation': 'Pawlowski,J., Bowser,S.S. and Gooday,A.J. Deep-sea Res. II, Top. Stud. Oceanogr. 54 (16-17), 1720-1726 (2007) Molecular Ecol. (submitted ...'},\n",
       "  {'key': 240713146,\n",
       "   'datasetKey': '7b5d6a48-f762-11e1-a439-00145eb45e9a',\n",
       "   'publishingOrgKey': '104e9c96-791b-4f14-978c-f581cb214912',\n",
       "   'networkKeys': ['8534dd20-c368-4a1f-bdaf-e6b390710f89',\n",
       "    '2b7c7b4f-4d4f-40d3-94de-c28b6fa054a6'],\n",
       "   'installationKey': '27c24cba-13c5-47d1-96a1-16abd8f11437',\n",
       "   'publishingCountry': 'GB',\n",
       "   'protocol': 'DWC_ARCHIVE',\n",
       "   'lastCrawled': '2022-04-20T02:43:52.288+00:00',\n",
       "   'lastParsed': '2022-04-25T19:18:09.622+00:00',\n",
       "   'crawlId': 217,\n",
       "   'hostingOrganizationKey': 'fb10a11f-4417-41c8-be6a-13a5c8535122',\n",
       "   'extensions': {},\n",
       "   'basisOfRecord': 'HUMAN_OBSERVATION',\n",
       "   'occurrenceStatus': 'PRESENT',\n",
       "   'taxonKey': 7965222,\n",
       "   'kingdomKey': 4,\n",
       "   'phylumKey': 8376456,\n",
       "   'orderKey': 7617014,\n",
       "   'familyKey': 8405705,\n",
       "   'genusKey': 7965222,\n",
       "   'acceptedTaxonKey': 7965222,\n",
       "   'scientificName': 'Tinogullmia Nyholm, 1954',\n",
       "   'acceptedScientificName': 'Tinogullmia Nyholm, 1954',\n",
       "   'kingdom': 'Chromista',\n",
       "   'phylum': 'Foraminifera',\n",
       "   'order': 'Allogromiida',\n",
       "   'family': 'Allogromiidae',\n",
       "   'genus': 'Tinogullmia',\n",
       "   'genericName': 'Tinogullmia',\n",
       "   'taxonRank': 'GENUS',\n",
       "   'taxonomicStatus': 'ACCEPTED',\n",
       "   'decimalLongitude': 163.583,\n",
       "   'decimalLatitude': -77.5997,\n",
       "   'issues': ['GEODETIC_DATUM_ASSUMED_WGS84'],\n",
       "   'lastInterpreted': '2022-04-25T19:18:09.622+00:00',\n",
       "   'license': 'http://creativecommons.org/licenses/by/4.0/legalcode',\n",
       "   'identifiers': [],\n",
       "   'media': [],\n",
       "   'facts': [],\n",
       "   'relations': [],\n",
       "   'gadm': {'level0': {'gid': 'ATA', 'name': 'Antarctica'}},\n",
       "   'isInCluster': False,\n",
       "   'datasetID': 'IMIS:dasid:1775',\n",
       "   'inCluster': False,\n",
       "   'geodeticDatum': 'WGS84',\n",
       "   'countryCode': 'AQ',\n",
       "   'recordedByIDs': [],\n",
       "   'identifiedByIDs': [],\n",
       "   'country': 'Antarctica',\n",
       "   'identifier': 'urn:catalog:BAS:CAML - Foraminifera:110',\n",
       "   'catalogNumber': '110',\n",
       "   'scientificNameID': 'urn:lsid:marinespecies.org:taxname:112000',\n",
       "   'institutionCode': 'BAS',\n",
       "   'locality': 'Explorers Cove',\n",
       "   'collectionCode': 'CAML - Foraminifera',\n",
       "   'occurrenceRemarks': 'GenBankID: AJ307858',\n",
       "   'gbifID': '240713146',\n",
       "   'occurrenceID': 'urn:catalog:BAS:CAML - Foraminifera:110',\n",
       "   'bibliographicCitation': 'Holzmann'},\n",
       "  {'key': 240713147,\n",
       "   'datasetKey': '7b5d6a48-f762-11e1-a439-00145eb45e9a',\n",
       "   'publishingOrgKey': '104e9c96-791b-4f14-978c-f581cb214912',\n",
       "   'networkKeys': ['8534dd20-c368-4a1f-bdaf-e6b390710f89',\n",
       "    '2b7c7b4f-4d4f-40d3-94de-c28b6fa054a6'],\n",
       "   'installationKey': '27c24cba-13c5-47d1-96a1-16abd8f11437',\n",
       "   'publishingCountry': 'GB',\n",
       "   'protocol': 'DWC_ARCHIVE',\n",
       "   'lastCrawled': '2022-04-20T02:43:52.288+00:00',\n",
       "   'lastParsed': '2022-04-25T19:18:09.621+00:00',\n",
       "   'crawlId': 217,\n",
       "   'hostingOrganizationKey': 'fb10a11f-4417-41c8-be6a-13a5c8535122',\n",
       "   'extensions': {},\n",
       "   'basisOfRecord': 'HUMAN_OBSERVATION',\n",
       "   'occurrenceStatus': 'PRESENT',\n",
       "   'taxonKey': 8156596,\n",
       "   'kingdomKey': 4,\n",
       "   'phylumKey': 8376456,\n",
       "   'orderKey': 7617014,\n",
       "   'familyKey': 8405705,\n",
       "   'genusKey': 8156596,\n",
       "   'acceptedTaxonKey': 8156596,\n",
       "   'scientificName': 'Nemogullmia Nyholm, 1953',\n",
       "   'acceptedScientificName': 'Nemogullmia Nyholm, 1953',\n",
       "   'kingdom': 'Chromista',\n",
       "   'phylum': 'Foraminifera',\n",
       "   'order': 'Allogromiida',\n",
       "   'family': 'Allogromiidae',\n",
       "   'genus': 'Nemogullmia',\n",
       "   'genericName': 'Nemogullmia',\n",
       "   'taxonRank': 'GENUS',\n",
       "   'taxonomicStatus': 'ACCEPTED',\n",
       "   'decimalLongitude': 163.583,\n",
       "   'decimalLatitude': -77.5997,\n",
       "   'issues': ['GEODETIC_DATUM_ASSUMED_WGS84'],\n",
       "   'lastInterpreted': '2022-04-25T19:18:09.621+00:00',\n",
       "   'license': 'http://creativecommons.org/licenses/by/4.0/legalcode',\n",
       "   'identifiers': [],\n",
       "   'media': [],\n",
       "   'facts': [],\n",
       "   'relations': [],\n",
       "   'gadm': {'level0': {'gid': 'ATA', 'name': 'Antarctica'}},\n",
       "   'isInCluster': False,\n",
       "   'datasetID': 'IMIS:dasid:1775',\n",
       "   'inCluster': False,\n",
       "   'geodeticDatum': 'WGS84',\n",
       "   'countryCode': 'AQ',\n",
       "   'recordedByIDs': [],\n",
       "   'identifiedByIDs': [],\n",
       "   'country': 'Antarctica',\n",
       "   'identifier': 'urn:catalog:BAS:CAML - Foraminifera:111',\n",
       "   'catalogNumber': '111',\n",
       "   'institutionCode': 'BAS',\n",
       "   'locality': 'New Harbour, Ice Berg',\n",
       "   'collectionCode': 'CAML - Foraminifera',\n",
       "   'occurrenceRemarks': 'GenBankID: AJ307856',\n",
       "   'gbifID': '240713147',\n",
       "   'occurrenceID': 'urn:catalog:BAS:CAML - Foraminifera:111',\n",
       "   'bibliographicCitation': 'Holzmann'}],\n",
       " 'facets': []}"
      ]
     },
     "execution_count": 5,
     "metadata": {},
     "output_type": "execute_result"
    }
   ],
   "source": [
    "occ.search(datasetKey='7b5d6a48-f762-11e1-a439-00145eb45e9a', offset=10, limit=5)\n"
   ]
  },
  {
   "cell_type": "code",
   "execution_count": 35,
   "id": "2f3a6998",
   "metadata": {},
   "outputs": [],
   "source": [
    "out = occ.search(q = \"kingfisher\", limit=2,  fields='minimal', hasGeospatialIssue= False )\n"
   ]
  },
  {
   "cell_type": "code",
   "execution_count": 6,
   "id": "d9d3b3fc",
   "metadata": {},
   "outputs": [],
   "source": [
    "ds1 = occ.search(q = \"kingfisher\",publishingCountry='IN', limit=2000, basisOfRecord='HUMAN_OBSERVATION',\n",
    "           year = 2019,\n",
    "           hasGeospatialIssue= False )['results']\n",
    "ds2 = occ.search(publishingCountry='IN', limit=2000, basisOfRecord='HUMAN_OBSERVATION',\n",
    "           year = 2021,\n",
    "           hasGeospatialIssue= False )['results']"
   ]
  },
  {
   "cell_type": "code",
   "execution_count": 7,
   "id": "657cce72",
   "metadata": {},
   "outputs": [],
   "source": [
    "df = pd.concat([pd.DataFrame(ds1),pd.DataFrame(ds2)])"
   ]
  },
  {
   "cell_type": "code",
   "execution_count": 8,
   "id": "4df07e08",
   "metadata": {},
   "outputs": [
    {
     "data": {
      "text/html": [
       "<div>\n",
       "<style scoped>\n",
       "    .dataframe tbody tr th:only-of-type {\n",
       "        vertical-align: middle;\n",
       "    }\n",
       "\n",
       "    .dataframe tbody tr th {\n",
       "        vertical-align: top;\n",
       "    }\n",
       "\n",
       "    .dataframe thead th {\n",
       "        text-align: right;\n",
       "    }\n",
       "</style>\n",
       "<table border=\"1\" class=\"dataframe\">\n",
       "  <thead>\n",
       "    <tr style=\"text-align: right;\">\n",
       "      <th></th>\n",
       "      <th>key</th>\n",
       "      <th>datasetKey</th>\n",
       "      <th>publishingOrgKey</th>\n",
       "      <th>installationKey</th>\n",
       "      <th>publishingCountry</th>\n",
       "      <th>protocol</th>\n",
       "      <th>lastCrawled</th>\n",
       "      <th>lastParsed</th>\n",
       "      <th>crawlId</th>\n",
       "      <th>hostingOrganizationKey</th>\n",
       "      <th>...</th>\n",
       "      <th>vernacularName</th>\n",
       "      <th>institutionCode</th>\n",
       "      <th>taxonConceptID</th>\n",
       "      <th>county</th>\n",
       "      <th>locality</th>\n",
       "      <th>collectionCode</th>\n",
       "      <th>informationWithheld</th>\n",
       "      <th>dataGeneralizations</th>\n",
       "      <th>infraspecificEpithet</th>\n",
       "      <th>identificationVerificationStatus</th>\n",
       "    </tr>\n",
       "  </thead>\n",
       "  <tbody>\n",
       "    <tr>\n",
       "      <th>0</th>\n",
       "      <td>3034595772</td>\n",
       "      <td>c6b86c40-ff71-4e5e-902c-111f400d0d56</td>\n",
       "      <td>62431bdf-fa0c-452b-afce-be14884a47ff</td>\n",
       "      <td>92b6f5e3-6a88-4ec9-a61c-c368b6775e20</td>\n",
       "      <td>IN</td>\n",
       "      <td>DWC_ARCHIVE</td>\n",
       "      <td>2022-06-21T09:54:05.630+00:00</td>\n",
       "      <td>2022-06-21T09:54:47.904+00:00</td>\n",
       "      <td>109</td>\n",
       "      <td>62431bdf-fa0c-452b-afce-be14884a47ff</td>\n",
       "      <td>...</td>\n",
       "      <td>NaN</td>\n",
       "      <td>NaN</td>\n",
       "      <td>NaN</td>\n",
       "      <td>NaN</td>\n",
       "      <td>NaN</td>\n",
       "      <td>NaN</td>\n",
       "      <td>NaN</td>\n",
       "      <td>NaN</td>\n",
       "      <td>NaN</td>\n",
       "      <td>NaN</td>\n",
       "    </tr>\n",
       "    <tr>\n",
       "      <th>1</th>\n",
       "      <td>3034576139</td>\n",
       "      <td>c6b86c40-ff71-4e5e-902c-111f400d0d56</td>\n",
       "      <td>62431bdf-fa0c-452b-afce-be14884a47ff</td>\n",
       "      <td>92b6f5e3-6a88-4ec9-a61c-c368b6775e20</td>\n",
       "      <td>IN</td>\n",
       "      <td>DWC_ARCHIVE</td>\n",
       "      <td>2022-06-21T09:54:05.630+00:00</td>\n",
       "      <td>2022-06-21T09:54:41.691+00:00</td>\n",
       "      <td>109</td>\n",
       "      <td>62431bdf-fa0c-452b-afce-be14884a47ff</td>\n",
       "      <td>...</td>\n",
       "      <td>NaN</td>\n",
       "      <td>NaN</td>\n",
       "      <td>NaN</td>\n",
       "      <td>NaN</td>\n",
       "      <td>NaN</td>\n",
       "      <td>NaN</td>\n",
       "      <td>NaN</td>\n",
       "      <td>NaN</td>\n",
       "      <td>NaN</td>\n",
       "      <td>NaN</td>\n",
       "    </tr>\n",
       "    <tr>\n",
       "      <th>2</th>\n",
       "      <td>2754823165</td>\n",
       "      <td>4fa7b334-ce0d-4e88-aaae-2e0c138d049e</td>\n",
       "      <td>e2e717bf-551a-4917-bdc9-4fa0f342c530</td>\n",
       "      <td>7182d304-b0a2-404b-baba-2086a325c221</td>\n",
       "      <td>IN</td>\n",
       "      <td>DWC_ARCHIVE</td>\n",
       "      <td>2022-03-02T17:41:33.833+00:00</td>\n",
       "      <td>2022-04-25T22:19:34.735+00:00</td>\n",
       "      <td>15</td>\n",
       "      <td>e2e717bf-551a-4917-bdc9-4fa0f342c530</td>\n",
       "      <td>...</td>\n",
       "      <td>Common Kingfisher</td>\n",
       "      <td>CLO</td>\n",
       "      <td>avibase-9505E03D</td>\n",
       "      <td>Medak</td>\n",
       "      <td>Near Kingfisher Pond</td>\n",
       "      <td>EBIRD</td>\n",
       "      <td>NaN</td>\n",
       "      <td>NaN</td>\n",
       "      <td>NaN</td>\n",
       "      <td>NaN</td>\n",
       "    </tr>\n",
       "    <tr>\n",
       "      <th>3</th>\n",
       "      <td>2767355764</td>\n",
       "      <td>4fa7b334-ce0d-4e88-aaae-2e0c138d049e</td>\n",
       "      <td>e2e717bf-551a-4917-bdc9-4fa0f342c530</td>\n",
       "      <td>7182d304-b0a2-404b-baba-2086a325c221</td>\n",
       "      <td>IN</td>\n",
       "      <td>DWC_ARCHIVE</td>\n",
       "      <td>2022-03-02T17:41:33.833+00:00</td>\n",
       "      <td>2022-04-25T22:18:21.024+00:00</td>\n",
       "      <td>15</td>\n",
       "      <td>e2e717bf-551a-4917-bdc9-4fa0f342c530</td>\n",
       "      <td>...</td>\n",
       "      <td>Common Kingfisher</td>\n",
       "      <td>CLO</td>\n",
       "      <td>avibase-9505E03D</td>\n",
       "      <td>Medak</td>\n",
       "      <td>Near Kingfisher Pond</td>\n",
       "      <td>EBIRD</td>\n",
       "      <td>NaN</td>\n",
       "      <td>NaN</td>\n",
       "      <td>NaN</td>\n",
       "      <td>NaN</td>\n",
       "    </tr>\n",
       "    <tr>\n",
       "      <th>4</th>\n",
       "      <td>2763072198</td>\n",
       "      <td>4fa7b334-ce0d-4e88-aaae-2e0c138d049e</td>\n",
       "      <td>e2e717bf-551a-4917-bdc9-4fa0f342c530</td>\n",
       "      <td>7182d304-b0a2-404b-baba-2086a325c221</td>\n",
       "      <td>IN</td>\n",
       "      <td>DWC_ARCHIVE</td>\n",
       "      <td>2022-03-02T17:41:33.833+00:00</td>\n",
       "      <td>2022-04-25T22:27:41.914+00:00</td>\n",
       "      <td>15</td>\n",
       "      <td>e2e717bf-551a-4917-bdc9-4fa0f342c530</td>\n",
       "      <td>...</td>\n",
       "      <td>Pied Kingfisher</td>\n",
       "      <td>CLO</td>\n",
       "      <td>avibase-8205077F</td>\n",
       "      <td>Medak</td>\n",
       "      <td>Near Kingfisher Pond</td>\n",
       "      <td>EBIRD</td>\n",
       "      <td>NaN</td>\n",
       "      <td>NaN</td>\n",
       "      <td>NaN</td>\n",
       "      <td>NaN</td>\n",
       "    </tr>\n",
       "    <tr>\n",
       "      <th>...</th>\n",
       "      <td>...</td>\n",
       "      <td>...</td>\n",
       "      <td>...</td>\n",
       "      <td>...</td>\n",
       "      <td>...</td>\n",
       "      <td>...</td>\n",
       "      <td>...</td>\n",
       "      <td>...</td>\n",
       "      <td>...</td>\n",
       "      <td>...</td>\n",
       "      <td>...</td>\n",
       "      <td>...</td>\n",
       "      <td>...</td>\n",
       "      <td>...</td>\n",
       "      <td>...</td>\n",
       "      <td>...</td>\n",
       "      <td>...</td>\n",
       "      <td>...</td>\n",
       "      <td>...</td>\n",
       "      <td>...</td>\n",
       "      <td>...</td>\n",
       "    </tr>\n",
       "    <tr>\n",
       "      <th>295</th>\n",
       "      <td>3323284087</td>\n",
       "      <td>c6b86c40-ff71-4e5e-902c-111f400d0d56</td>\n",
       "      <td>62431bdf-fa0c-452b-afce-be14884a47ff</td>\n",
       "      <td>92b6f5e3-6a88-4ec9-a61c-c368b6775e20</td>\n",
       "      <td>IN</td>\n",
       "      <td>DWC_ARCHIVE</td>\n",
       "      <td>2022-06-21T09:54:05.630+00:00</td>\n",
       "      <td>2022-06-21T09:54:41.723+00:00</td>\n",
       "      <td>109</td>\n",
       "      <td>62431bdf-fa0c-452b-afce-be14884a47ff</td>\n",
       "      <td>...</td>\n",
       "      <td>NaN</td>\n",
       "      <td>NaN</td>\n",
       "      <td>NaN</td>\n",
       "      <td>NaN</td>\n",
       "      <td>NaN</td>\n",
       "      <td>NaN</td>\n",
       "      <td>NaN</td>\n",
       "      <td>NaN</td>\n",
       "      <td>NaN</td>\n",
       "      <td>NaN</td>\n",
       "    </tr>\n",
       "    <tr>\n",
       "      <th>296</th>\n",
       "      <td>3323284150</td>\n",
       "      <td>c6b86c40-ff71-4e5e-902c-111f400d0d56</td>\n",
       "      <td>62431bdf-fa0c-452b-afce-be14884a47ff</td>\n",
       "      <td>92b6f5e3-6a88-4ec9-a61c-c368b6775e20</td>\n",
       "      <td>IN</td>\n",
       "      <td>DWC_ARCHIVE</td>\n",
       "      <td>2022-06-21T09:54:05.630+00:00</td>\n",
       "      <td>2022-06-21T09:54:41.997+00:00</td>\n",
       "      <td>109</td>\n",
       "      <td>62431bdf-fa0c-452b-afce-be14884a47ff</td>\n",
       "      <td>...</td>\n",
       "      <td>NaN</td>\n",
       "      <td>NaN</td>\n",
       "      <td>NaN</td>\n",
       "      <td>NaN</td>\n",
       "      <td>NaN</td>\n",
       "      <td>NaN</td>\n",
       "      <td>NaN</td>\n",
       "      <td>NaN</td>\n",
       "      <td>NaN</td>\n",
       "      <td>NaN</td>\n",
       "    </tr>\n",
       "    <tr>\n",
       "      <th>297</th>\n",
       "      <td>3323284296</td>\n",
       "      <td>c6b86c40-ff71-4e5e-902c-111f400d0d56</td>\n",
       "      <td>62431bdf-fa0c-452b-afce-be14884a47ff</td>\n",
       "      <td>92b6f5e3-6a88-4ec9-a61c-c368b6775e20</td>\n",
       "      <td>IN</td>\n",
       "      <td>DWC_ARCHIVE</td>\n",
       "      <td>2022-06-21T09:54:05.630+00:00</td>\n",
       "      <td>2022-06-21T09:54:42.927+00:00</td>\n",
       "      <td>109</td>\n",
       "      <td>62431bdf-fa0c-452b-afce-be14884a47ff</td>\n",
       "      <td>...</td>\n",
       "      <td>NaN</td>\n",
       "      <td>NaN</td>\n",
       "      <td>NaN</td>\n",
       "      <td>NaN</td>\n",
       "      <td>NaN</td>\n",
       "      <td>NaN</td>\n",
       "      <td>NaN</td>\n",
       "      <td>NaN</td>\n",
       "      <td>NaN</td>\n",
       "      <td>NaN</td>\n",
       "    </tr>\n",
       "    <tr>\n",
       "      <th>298</th>\n",
       "      <td>3323284351</td>\n",
       "      <td>c6b86c40-ff71-4e5e-902c-111f400d0d56</td>\n",
       "      <td>62431bdf-fa0c-452b-afce-be14884a47ff</td>\n",
       "      <td>92b6f5e3-6a88-4ec9-a61c-c368b6775e20</td>\n",
       "      <td>IN</td>\n",
       "      <td>DWC_ARCHIVE</td>\n",
       "      <td>2022-06-21T09:54:05.630+00:00</td>\n",
       "      <td>2022-06-21T09:54:43.489+00:00</td>\n",
       "      <td>109</td>\n",
       "      <td>62431bdf-fa0c-452b-afce-be14884a47ff</td>\n",
       "      <td>...</td>\n",
       "      <td>NaN</td>\n",
       "      <td>NaN</td>\n",
       "      <td>NaN</td>\n",
       "      <td>NaN</td>\n",
       "      <td>NaN</td>\n",
       "      <td>NaN</td>\n",
       "      <td>NaN</td>\n",
       "      <td>NaN</td>\n",
       "      <td>NaN</td>\n",
       "      <td>NaN</td>\n",
       "    </tr>\n",
       "    <tr>\n",
       "      <th>299</th>\n",
       "      <td>3323284387</td>\n",
       "      <td>c6b86c40-ff71-4e5e-902c-111f400d0d56</td>\n",
       "      <td>62431bdf-fa0c-452b-afce-be14884a47ff</td>\n",
       "      <td>92b6f5e3-6a88-4ec9-a61c-c368b6775e20</td>\n",
       "      <td>IN</td>\n",
       "      <td>DWC_ARCHIVE</td>\n",
       "      <td>2022-06-21T09:54:05.630+00:00</td>\n",
       "      <td>2022-06-21T09:54:43.725+00:00</td>\n",
       "      <td>109</td>\n",
       "      <td>62431bdf-fa0c-452b-afce-be14884a47ff</td>\n",
       "      <td>...</td>\n",
       "      <td>NaN</td>\n",
       "      <td>NaN</td>\n",
       "      <td>NaN</td>\n",
       "      <td>NaN</td>\n",
       "      <td>NaN</td>\n",
       "      <td>NaN</td>\n",
       "      <td>NaN</td>\n",
       "      <td>NaN</td>\n",
       "      <td>NaN</td>\n",
       "      <td>NaN</td>\n",
       "    </tr>\n",
       "  </tbody>\n",
       "</table>\n",
       "<p>600 rows × 82 columns</p>\n",
       "</div>"
      ],
      "text/plain": [
       "            key                            datasetKey  \\\n",
       "0    3034595772  c6b86c40-ff71-4e5e-902c-111f400d0d56   \n",
       "1    3034576139  c6b86c40-ff71-4e5e-902c-111f400d0d56   \n",
       "2    2754823165  4fa7b334-ce0d-4e88-aaae-2e0c138d049e   \n",
       "3    2767355764  4fa7b334-ce0d-4e88-aaae-2e0c138d049e   \n",
       "4    2763072198  4fa7b334-ce0d-4e88-aaae-2e0c138d049e   \n",
       "..          ...                                   ...   \n",
       "295  3323284087  c6b86c40-ff71-4e5e-902c-111f400d0d56   \n",
       "296  3323284150  c6b86c40-ff71-4e5e-902c-111f400d0d56   \n",
       "297  3323284296  c6b86c40-ff71-4e5e-902c-111f400d0d56   \n",
       "298  3323284351  c6b86c40-ff71-4e5e-902c-111f400d0d56   \n",
       "299  3323284387  c6b86c40-ff71-4e5e-902c-111f400d0d56   \n",
       "\n",
       "                         publishingOrgKey  \\\n",
       "0    62431bdf-fa0c-452b-afce-be14884a47ff   \n",
       "1    62431bdf-fa0c-452b-afce-be14884a47ff   \n",
       "2    e2e717bf-551a-4917-bdc9-4fa0f342c530   \n",
       "3    e2e717bf-551a-4917-bdc9-4fa0f342c530   \n",
       "4    e2e717bf-551a-4917-bdc9-4fa0f342c530   \n",
       "..                                    ...   \n",
       "295  62431bdf-fa0c-452b-afce-be14884a47ff   \n",
       "296  62431bdf-fa0c-452b-afce-be14884a47ff   \n",
       "297  62431bdf-fa0c-452b-afce-be14884a47ff   \n",
       "298  62431bdf-fa0c-452b-afce-be14884a47ff   \n",
       "299  62431bdf-fa0c-452b-afce-be14884a47ff   \n",
       "\n",
       "                          installationKey publishingCountry     protocol  \\\n",
       "0    92b6f5e3-6a88-4ec9-a61c-c368b6775e20                IN  DWC_ARCHIVE   \n",
       "1    92b6f5e3-6a88-4ec9-a61c-c368b6775e20                IN  DWC_ARCHIVE   \n",
       "2    7182d304-b0a2-404b-baba-2086a325c221                IN  DWC_ARCHIVE   \n",
       "3    7182d304-b0a2-404b-baba-2086a325c221                IN  DWC_ARCHIVE   \n",
       "4    7182d304-b0a2-404b-baba-2086a325c221                IN  DWC_ARCHIVE   \n",
       "..                                    ...               ...          ...   \n",
       "295  92b6f5e3-6a88-4ec9-a61c-c368b6775e20                IN  DWC_ARCHIVE   \n",
       "296  92b6f5e3-6a88-4ec9-a61c-c368b6775e20                IN  DWC_ARCHIVE   \n",
       "297  92b6f5e3-6a88-4ec9-a61c-c368b6775e20                IN  DWC_ARCHIVE   \n",
       "298  92b6f5e3-6a88-4ec9-a61c-c368b6775e20                IN  DWC_ARCHIVE   \n",
       "299  92b6f5e3-6a88-4ec9-a61c-c368b6775e20                IN  DWC_ARCHIVE   \n",
       "\n",
       "                       lastCrawled                     lastParsed  crawlId  \\\n",
       "0    2022-06-21T09:54:05.630+00:00  2022-06-21T09:54:47.904+00:00      109   \n",
       "1    2022-06-21T09:54:05.630+00:00  2022-06-21T09:54:41.691+00:00      109   \n",
       "2    2022-03-02T17:41:33.833+00:00  2022-04-25T22:19:34.735+00:00       15   \n",
       "3    2022-03-02T17:41:33.833+00:00  2022-04-25T22:18:21.024+00:00       15   \n",
       "4    2022-03-02T17:41:33.833+00:00  2022-04-25T22:27:41.914+00:00       15   \n",
       "..                             ...                            ...      ...   \n",
       "295  2022-06-21T09:54:05.630+00:00  2022-06-21T09:54:41.723+00:00      109   \n",
       "296  2022-06-21T09:54:05.630+00:00  2022-06-21T09:54:41.997+00:00      109   \n",
       "297  2022-06-21T09:54:05.630+00:00  2022-06-21T09:54:42.927+00:00      109   \n",
       "298  2022-06-21T09:54:05.630+00:00  2022-06-21T09:54:43.489+00:00      109   \n",
       "299  2022-06-21T09:54:05.630+00:00  2022-06-21T09:54:43.725+00:00      109   \n",
       "\n",
       "                   hostingOrganizationKey  ...     vernacularName  \\\n",
       "0    62431bdf-fa0c-452b-afce-be14884a47ff  ...                NaN   \n",
       "1    62431bdf-fa0c-452b-afce-be14884a47ff  ...                NaN   \n",
       "2    e2e717bf-551a-4917-bdc9-4fa0f342c530  ...  Common Kingfisher   \n",
       "3    e2e717bf-551a-4917-bdc9-4fa0f342c530  ...  Common Kingfisher   \n",
       "4    e2e717bf-551a-4917-bdc9-4fa0f342c530  ...    Pied Kingfisher   \n",
       "..                                    ...  ...                ...   \n",
       "295  62431bdf-fa0c-452b-afce-be14884a47ff  ...                NaN   \n",
       "296  62431bdf-fa0c-452b-afce-be14884a47ff  ...                NaN   \n",
       "297  62431bdf-fa0c-452b-afce-be14884a47ff  ...                NaN   \n",
       "298  62431bdf-fa0c-452b-afce-be14884a47ff  ...                NaN   \n",
       "299  62431bdf-fa0c-452b-afce-be14884a47ff  ...                NaN   \n",
       "\n",
       "    institutionCode    taxonConceptID  county              locality  \\\n",
       "0               NaN               NaN     NaN                   NaN   \n",
       "1               NaN               NaN     NaN                   NaN   \n",
       "2               CLO  avibase-9505E03D   Medak  Near Kingfisher Pond   \n",
       "3               CLO  avibase-9505E03D   Medak  Near Kingfisher Pond   \n",
       "4               CLO  avibase-8205077F   Medak  Near Kingfisher Pond   \n",
       "..              ...               ...     ...                   ...   \n",
       "295             NaN               NaN     NaN                   NaN   \n",
       "296             NaN               NaN     NaN                   NaN   \n",
       "297             NaN               NaN     NaN                   NaN   \n",
       "298             NaN               NaN     NaN                   NaN   \n",
       "299             NaN               NaN     NaN                   NaN   \n",
       "\n",
       "     collectionCode  informationWithheld  dataGeneralizations  \\\n",
       "0               NaN                  NaN                  NaN   \n",
       "1               NaN                  NaN                  NaN   \n",
       "2             EBIRD                  NaN                  NaN   \n",
       "3             EBIRD                  NaN                  NaN   \n",
       "4             EBIRD                  NaN                  NaN   \n",
       "..              ...                  ...                  ...   \n",
       "295             NaN                  NaN                  NaN   \n",
       "296             NaN                  NaN                  NaN   \n",
       "297             NaN                  NaN                  NaN   \n",
       "298             NaN                  NaN                  NaN   \n",
       "299             NaN                  NaN                  NaN   \n",
       "\n",
       "     infraspecificEpithet  identificationVerificationStatus  \n",
       "0                     NaN                               NaN  \n",
       "1                     NaN                               NaN  \n",
       "2                     NaN                               NaN  \n",
       "3                     NaN                               NaN  \n",
       "4                     NaN                               NaN  \n",
       "..                    ...                               ...  \n",
       "295                   NaN                               NaN  \n",
       "296                   NaN                               NaN  \n",
       "297                   NaN                               NaN  \n",
       "298                   NaN                               NaN  \n",
       "299                   NaN                               NaN  \n",
       "\n",
       "[600 rows x 82 columns]"
      ]
     },
     "execution_count": 8,
     "metadata": {},
     "output_type": "execute_result"
    }
   ],
   "source": [
    "df"
   ]
  },
  {
   "cell_type": "code",
   "execution_count": 9,
   "id": "120b04f4",
   "metadata": {},
   "outputs": [
    {
     "data": {
      "application/vnd.plotly.v1+json": {
       "config": {
        "plotlyServerURL": "https://plot.ly"
       },
       "data": [
        {
         "geo": "geo",
         "hovertemplate": "scientificName=Halcyon smyrnensis (Linnaeus, 1758)<br>year=2019<br>decimalLatitude=%{lat}<br>decimalLongitude=%{lon}<extra></extra>",
         "lat": [
          22.584674,
          17.516224,
          17.516224,
          17.516224,
          17.516224,
          17.516224,
          17.516224,
          17.516224,
          17.516224,
          17.516224,
          17.516224,
          9.01827,
          12.030479,
          11.854271,
          18.6264,
          12.030479,
          9.309585,
          17.757025,
          18.6264,
          18.6264,
          12.030479,
          12.030479,
          17.956942,
          11.854271,
          10.007529,
          12.030479,
          12.030479,
          21.571848,
          12.030479,
          10.064858,
          18.6264,
          22.556664,
          12.030479,
          12.030479,
          11.39564,
          22.556664,
          12.343227,
          12.030479,
          10.0685,
          11.86957,
          11.917625,
          12.030479,
          21.571848,
          11.795632,
          9.309585,
          12.030479,
          12.030479,
          12.343227,
          12.343227,
          12.708288,
          18.628881,
          10.0685,
          18.6264,
          12.030479,
          10.022283,
          12.030479,
          12.030479,
          12.030479,
          12.030479,
          12.030479,
          9.309585,
          11.933059,
          10.0685,
          12.475221,
          12.343227,
          12.030479,
          11.88032,
          11.917625,
          12.030479,
          10.782508,
          11.854271,
          21.578222,
          22.583574,
          15.61972,
          12.030479,
          11.854271,
          18.80903,
          15.010409,
          10.0685,
          10.782508,
          12.030479,
          11.854271,
          12.030479,
          12.343227,
          11.794866,
          9.309585,
          12.030479,
          21.571848,
          19.021551,
          9.01827,
          10.0685,
          12.030479,
          12.030479,
          12.756868,
          8.873825,
          11.854271,
          12.030479,
          12.343227,
          11.88032,
          12.010757,
          18.6264,
          10.0685,
          17.723415,
          9.139385,
          11.917625,
          21.45152,
          12.030479,
          12.030479,
          11.917625,
          10.0685,
          12.030479,
          11.855171,
          12.030479,
          10.782508,
          12.030479,
          12.030479,
          11.795632,
          9.309585,
          9.309585,
          10.0685,
          12.343227,
          12.343227,
          12.030479,
          12.343227
         ],
         "legendgroup": "Halcyon smyrnensis (Linnaeus, 1758)",
         "lon": [
          72.717105,
          78.32826,
          78.32826,
          78.32826,
          78.32826,
          78.32826,
          78.32826,
          78.32826,
          78.32826,
          78.32826,
          78.32826,
          76.51793,
          75.29331,
          75.37635,
          72.88536,
          75.29331,
          76.38279,
          73.12062,
          72.88536,
          72.88536,
          75.29331,
          75.29331,
          73.030945,
          75.37635,
          76.21656,
          75.29331,
          75.29331,
          72.26925,
          75.29331,
          76.25226,
          72.88536,
          70.168945,
          75.29331,
          75.29331,
          75.712296,
          70.168945,
          75.06234,
          75.29331,
          76.26224,
          75.35243,
          75.396645,
          75.29331,
          72.26925,
          75.48957,
          76.38279,
          75.29331,
          75.29331,
          75.06234,
          75.06234,
          74.88756,
          72.8842,
          76.26224,
          72.88536,
          75.29331,
          76.248634,
          75.29331,
          75.29331,
          75.29331,
          75.29331,
          75.29331,
          76.38279,
          75.34908,
          76.26224,
          74.986015,
          75.06234,
          75.29331,
          79.82347,
          75.396645,
          75.29331,
          75.91443,
          75.37635,
          69.74778,
          70.19328,
          73.731544,
          75.29331,
          75.37635,
          72.883255,
          74.02229,
          76.26224,
          75.91443,
          75.29331,
          75.37635,
          75.29331,
          75.06234,
          75.442665,
          76.38279,
          75.29331,
          72.26925,
          73.00269,
          76.51793,
          76.26224,
          75.29331,
          75.29331,
          74.866516,
          76.5925,
          75.37635,
          75.29331,
          75.06234,
          79.82347,
          75.20052,
          72.88536,
          76.26224,
          73.13208,
          76.48446,
          75.396645,
          87.04104,
          75.29331,
          75.29331,
          75.396645,
          76.26224,
          75.29331,
          75.37284,
          75.29331,
          75.91443,
          75.29331,
          75.29331,
          75.48957,
          76.38279,
          76.38279,
          76.26224,
          75.06234,
          75.06234,
          75.29331,
          75.06234
         ],
         "marker": {
          "color": "#636efa",
          "symbol": "circle"
         },
         "mode": "markers",
         "name": "Halcyon smyrnensis (Linnaeus, 1758)",
         "showlegend": true,
         "type": "scattergeo"
        },
        {
         "geo": "geo",
         "hovertemplate": "scientificName=Pethia conchonius (Hamilton, 1822)<br>year=2019<br>decimalLatitude=%{lat}<br>decimalLongitude=%{lon}<extra></extra>",
         "lat": [
          12.288017
         ],
         "legendgroup": "Pethia conchonius (Hamilton, 1822)",
         "lon": [
          77.432166
         ],
         "marker": {
          "color": "#EF553B",
          "symbol": "circle"
         },
         "mode": "markers",
         "name": "Pethia conchonius (Hamilton, 1822)",
         "showlegend": true,
         "type": "scattergeo"
        },
        {
         "geo": "geo",
         "hovertemplate": "scientificName=Alcedo atthis (Linnaeus, 1758)<br>year=2019<br>decimalLatitude=%{lat}<br>decimalLongitude=%{lon}<extra></extra>",
         "lat": [
          17.516224,
          17.516224,
          17.516224,
          17.516224,
          17.516224,
          17.516224,
          17.516224,
          17.516224,
          17.516224,
          17.516224,
          17.516224,
          17.516224,
          21.578222,
          15.548713,
          12.605288,
          11.16326,
          12.030479,
          15.010409,
          11.917625,
          11.88032,
          21.578222,
          12.030479,
          14.974076,
          12.803538,
          12.030479,
          12.018979,
          10.057769,
          12.030479,
          12.784107,
          15.61972,
          9.528978,
          12.030479,
          10.057769,
          12.030479,
          21.578222,
          12.605288,
          12.784107,
          12.030479,
          12.784107,
          10.057769,
          11.917625,
          10.0685,
          13.339767,
          10.782508,
          12.784107,
          12.030479,
          12.605288,
          11.127656,
          11.16326,
          11.773511,
          21.578222,
          10.057769,
          11.126527,
          12.030479,
          12.784107,
          10.782508,
          12.030479,
          12.784107,
          12.605288,
          12.030479,
          12.030479,
          12.708288,
          12.030479,
          10.065554,
          11.773511,
          10.057769,
          17.723415,
          12.030479,
          12.475221,
          10.057769,
          12.030479,
          12.030479,
          10.057769,
          10.057769,
          10.0685,
          12.343227,
          12.708288,
          11.917625,
          12.343227,
          10.057769,
          12.030479,
          12.605288,
          10.057769,
          10.0685,
          12.784107,
          12.030479,
          12.790458,
          12.784107,
          10.057769,
          10.0685,
          21.578222,
          12.030479,
          10.057769,
          21.578222,
          12.030479,
          10.0685,
          12.784107,
          21.578222,
          12.030479,
          10.057769,
          12.605288,
          9.139385,
          11.773511,
          12.030479,
          11.795632,
          10.057769,
          10.057769,
          12.030479
         ],
         "legendgroup": "Alcedo atthis (Linnaeus, 1758)",
         "lon": [
          78.32826,
          78.32826,
          78.32826,
          78.32826,
          78.32826,
          78.32826,
          78.32826,
          78.32826,
          78.32826,
          78.32826,
          78.32826,
          78.32826,
          69.74778,
          73.75374,
          74.93233,
          75.80236,
          75.29331,
          74.02229,
          75.396645,
          79.82347,
          69.74778,
          75.29331,
          74.04232,
          80.242584,
          75.29331,
          75.22356,
          76.25108,
          75.29331,
          80.23607,
          73.731544,
          76.459724,
          75.29331,
          76.25108,
          75.29331,
          69.74778,
          74.93233,
          80.23607,
          75.29331,
          80.23607,
          76.25108,
          75.396645,
          76.26224,
          74.70759,
          75.91443,
          80.23607,
          75.29331,
          74.93233,
          75.82985,
          75.80236,
          75.45415,
          69.74778,
          76.25108,
          75.82985,
          75.29331,
          80.23607,
          75.91443,
          75.29331,
          80.23607,
          74.93233,
          75.29331,
          75.29331,
          74.88756,
          75.29331,
          76.2612,
          75.45415,
          76.25108,
          73.13208,
          75.29331,
          74.986015,
          76.25108,
          75.29331,
          75.29331,
          76.25108,
          76.25108,
          76.26224,
          75.06234,
          74.88756,
          75.396645,
          75.06234,
          76.25108,
          75.29331,
          74.93233,
          76.25108,
          76.26224,
          80.23607,
          75.29331,
          80.25289,
          80.23607,
          76.25108,
          76.26224,
          69.74778,
          75.29331,
          76.25108,
          69.74778,
          75.29331,
          76.26224,
          80.23607,
          69.74778,
          75.29331,
          76.25108,
          74.93233,
          76.48446,
          75.45415,
          75.29331,
          75.48957,
          76.25108,
          76.25108,
          75.29331
         ],
         "marker": {
          "color": "#00cc96",
          "symbol": "circle"
         },
         "mode": "markers",
         "name": "Alcedo atthis (Linnaeus, 1758)",
         "showlegend": true,
         "type": "scattergeo"
        },
        {
         "geo": "geo",
         "hovertemplate": "scientificName=Ceryle rudis (Linnaeus, 1758)<br>year=2019<br>decimalLatitude=%{lat}<br>decimalLongitude=%{lon}<extra></extra>",
         "lat": [
          17.516224,
          17.516224,
          17.516224,
          17.516224,
          17.516224,
          17.516224,
          17.516224,
          12.784107,
          22.556664,
          10.591596,
          11.854271,
          12.030479,
          22.556664,
          12.784107,
          12.030479,
          12.030479,
          10.0685,
          12.784107,
          10.0685,
          10.0685,
          12.030479,
          12.030479,
          12.784107,
          12.784107,
          12.784107,
          10.0685,
          22.556664,
          12.784107,
          10.782508,
          12.784107,
          12.030479,
          8.310901,
          22.583574,
          10.057769,
          12.749178,
          12.030479,
          12.803538,
          12.030479,
          11.88032,
          8.783381,
          12.336648,
          12.803538
         ],
         "legendgroup": "Ceryle rudis (Linnaeus, 1758)",
         "lon": [
          78.32826,
          78.32826,
          78.32826,
          78.32826,
          78.32826,
          78.32826,
          78.32826,
          80.23607,
          70.168945,
          75.998116,
          75.37635,
          75.29331,
          70.168945,
          80.23607,
          75.29331,
          75.29331,
          76.26224,
          80.23607,
          76.26224,
          76.26224,
          75.29331,
          75.29331,
          80.23607,
          80.23607,
          80.23607,
          76.26224,
          70.168945,
          80.23607,
          75.91443,
          80.23607,
          75.29331,
          77.07382,
          70.19328,
          76.25108,
          80.25759,
          75.29331,
          80.242584,
          75.29331,
          79.82347,
          78.19408,
          80.03368,
          80.242584
         ],
         "marker": {
          "color": "#ab63fa",
          "symbol": "circle"
         },
         "mode": "markers",
         "name": "Ceryle rudis (Linnaeus, 1758)",
         "showlegend": true,
         "type": "scattergeo"
        },
        {
         "geo": "geo",
         "hovertemplate": "scientificName=Halcyon pileata (Boddaert, 1783)<br>year=2019<br>decimalLatitude=%{lat}<br>decimalLongitude=%{lon}<extra></extra>",
         "lat": [
          19.021551,
          10.022283,
          19.021551
         ],
         "legendgroup": "Halcyon pileata (Boddaert, 1783)",
         "lon": [
          73.00269,
          76.248634,
          73.00269
         ],
         "marker": {
          "color": "#FFA15A",
          "symbol": "circle"
         },
         "mode": "markers",
         "name": "Halcyon pileata (Boddaert, 1783)",
         "showlegend": true,
         "type": "scattergeo"
        },
        {
         "geo": "geo",
         "hovertemplate": "scientificName=Pelargopsis capensis (Linnaeus, 1766)<br>year=2019<br>decimalLatitude=%{lat}<br>decimalLongitude=%{lon}<extra></extra>",
         "lat": [
          11.795632,
          12.343227,
          10.0685,
          10.0685,
          10.0685,
          10.007529,
          10.0685,
          12.030479,
          12.343227,
          11.933059,
          12.343227,
          11.917625,
          11.917625,
          9.748953,
          12.030479,
          10.0685,
          11.917625,
          10.0685,
          10.0685,
          12.030479,
          10.0685
         ],
         "legendgroup": "Pelargopsis capensis (Linnaeus, 1766)",
         "lon": [
          75.48957,
          75.06234,
          76.26224,
          76.26224,
          76.26224,
          76.21656,
          76.26224,
          75.29331,
          75.06234,
          75.34908,
          75.06234,
          75.396645,
          75.396645,
          76.28548,
          75.29331,
          76.26224,
          75.396645,
          76.26224,
          76.26224,
          75.29331,
          76.26224
         ],
         "marker": {
          "color": "#19d3f3",
          "symbol": "circle"
         },
         "mode": "markers",
         "name": "Pelargopsis capensis (Linnaeus, 1766)",
         "showlegend": true,
         "type": "scattergeo"
        },
        {
         "geo": "geo",
         "hovertemplate": "scientificName=Ceyx erithaca (Linnaeus, 1758)<br>year=2019<br>decimalLatitude=%{lat}<br>decimalLongitude=%{lon}<extra></extra>",
         "lat": [
          18.6264
         ],
         "legendgroup": "Ceyx erithaca (Linnaeus, 1758)",
         "lon": [
          72.88536
         ],
         "marker": {
          "color": "#FF6692",
          "symbol": "circle"
         },
         "mode": "markers",
         "name": "Ceyx erithaca (Linnaeus, 1758)",
         "showlegend": true,
         "type": "scattergeo"
        }
       ],
       "frames": [
        {
         "data": [
          {
           "geo": "geo",
           "hovertemplate": "scientificName=Halcyon smyrnensis (Linnaeus, 1758)<br>year=2019<br>decimalLatitude=%{lat}<br>decimalLongitude=%{lon}<extra></extra>",
           "lat": [
            22.584674,
            17.516224,
            17.516224,
            17.516224,
            17.516224,
            17.516224,
            17.516224,
            17.516224,
            17.516224,
            17.516224,
            17.516224,
            9.01827,
            12.030479,
            11.854271,
            18.6264,
            12.030479,
            9.309585,
            17.757025,
            18.6264,
            18.6264,
            12.030479,
            12.030479,
            17.956942,
            11.854271,
            10.007529,
            12.030479,
            12.030479,
            21.571848,
            12.030479,
            10.064858,
            18.6264,
            22.556664,
            12.030479,
            12.030479,
            11.39564,
            22.556664,
            12.343227,
            12.030479,
            10.0685,
            11.86957,
            11.917625,
            12.030479,
            21.571848,
            11.795632,
            9.309585,
            12.030479,
            12.030479,
            12.343227,
            12.343227,
            12.708288,
            18.628881,
            10.0685,
            18.6264,
            12.030479,
            10.022283,
            12.030479,
            12.030479,
            12.030479,
            12.030479,
            12.030479,
            9.309585,
            11.933059,
            10.0685,
            12.475221,
            12.343227,
            12.030479,
            11.88032,
            11.917625,
            12.030479,
            10.782508,
            11.854271,
            21.578222,
            22.583574,
            15.61972,
            12.030479,
            11.854271,
            18.80903,
            15.010409,
            10.0685,
            10.782508,
            12.030479,
            11.854271,
            12.030479,
            12.343227,
            11.794866,
            9.309585,
            12.030479,
            21.571848,
            19.021551,
            9.01827,
            10.0685,
            12.030479,
            12.030479,
            12.756868,
            8.873825,
            11.854271,
            12.030479,
            12.343227,
            11.88032,
            12.010757,
            18.6264,
            10.0685,
            17.723415,
            9.139385,
            11.917625,
            21.45152,
            12.030479,
            12.030479,
            11.917625,
            10.0685,
            12.030479,
            11.855171,
            12.030479,
            10.782508,
            12.030479,
            12.030479,
            11.795632,
            9.309585,
            9.309585,
            10.0685,
            12.343227,
            12.343227,
            12.030479,
            12.343227
           ],
           "legendgroup": "Halcyon smyrnensis (Linnaeus, 1758)",
           "lon": [
            72.717105,
            78.32826,
            78.32826,
            78.32826,
            78.32826,
            78.32826,
            78.32826,
            78.32826,
            78.32826,
            78.32826,
            78.32826,
            76.51793,
            75.29331,
            75.37635,
            72.88536,
            75.29331,
            76.38279,
            73.12062,
            72.88536,
            72.88536,
            75.29331,
            75.29331,
            73.030945,
            75.37635,
            76.21656,
            75.29331,
            75.29331,
            72.26925,
            75.29331,
            76.25226,
            72.88536,
            70.168945,
            75.29331,
            75.29331,
            75.712296,
            70.168945,
            75.06234,
            75.29331,
            76.26224,
            75.35243,
            75.396645,
            75.29331,
            72.26925,
            75.48957,
            76.38279,
            75.29331,
            75.29331,
            75.06234,
            75.06234,
            74.88756,
            72.8842,
            76.26224,
            72.88536,
            75.29331,
            76.248634,
            75.29331,
            75.29331,
            75.29331,
            75.29331,
            75.29331,
            76.38279,
            75.34908,
            76.26224,
            74.986015,
            75.06234,
            75.29331,
            79.82347,
            75.396645,
            75.29331,
            75.91443,
            75.37635,
            69.74778,
            70.19328,
            73.731544,
            75.29331,
            75.37635,
            72.883255,
            74.02229,
            76.26224,
            75.91443,
            75.29331,
            75.37635,
            75.29331,
            75.06234,
            75.442665,
            76.38279,
            75.29331,
            72.26925,
            73.00269,
            76.51793,
            76.26224,
            75.29331,
            75.29331,
            74.866516,
            76.5925,
            75.37635,
            75.29331,
            75.06234,
            79.82347,
            75.20052,
            72.88536,
            76.26224,
            73.13208,
            76.48446,
            75.396645,
            87.04104,
            75.29331,
            75.29331,
            75.396645,
            76.26224,
            75.29331,
            75.37284,
            75.29331,
            75.91443,
            75.29331,
            75.29331,
            75.48957,
            76.38279,
            76.38279,
            76.26224,
            75.06234,
            75.06234,
            75.29331,
            75.06234
           ],
           "marker": {
            "color": "#636efa",
            "symbol": "circle"
           },
           "mode": "markers",
           "name": "Halcyon smyrnensis (Linnaeus, 1758)",
           "showlegend": true,
           "type": "scattergeo"
          },
          {
           "geo": "geo",
           "hovertemplate": "scientificName=Pethia conchonius (Hamilton, 1822)<br>year=2019<br>decimalLatitude=%{lat}<br>decimalLongitude=%{lon}<extra></extra>",
           "lat": [
            12.288017
           ],
           "legendgroup": "Pethia conchonius (Hamilton, 1822)",
           "lon": [
            77.432166
           ],
           "marker": {
            "color": "#EF553B",
            "symbol": "circle"
           },
           "mode": "markers",
           "name": "Pethia conchonius (Hamilton, 1822)",
           "showlegend": true,
           "type": "scattergeo"
          },
          {
           "geo": "geo",
           "hovertemplate": "scientificName=Alcedo atthis (Linnaeus, 1758)<br>year=2019<br>decimalLatitude=%{lat}<br>decimalLongitude=%{lon}<extra></extra>",
           "lat": [
            17.516224,
            17.516224,
            17.516224,
            17.516224,
            17.516224,
            17.516224,
            17.516224,
            17.516224,
            17.516224,
            17.516224,
            17.516224,
            17.516224,
            21.578222,
            15.548713,
            12.605288,
            11.16326,
            12.030479,
            15.010409,
            11.917625,
            11.88032,
            21.578222,
            12.030479,
            14.974076,
            12.803538,
            12.030479,
            12.018979,
            10.057769,
            12.030479,
            12.784107,
            15.61972,
            9.528978,
            12.030479,
            10.057769,
            12.030479,
            21.578222,
            12.605288,
            12.784107,
            12.030479,
            12.784107,
            10.057769,
            11.917625,
            10.0685,
            13.339767,
            10.782508,
            12.784107,
            12.030479,
            12.605288,
            11.127656,
            11.16326,
            11.773511,
            21.578222,
            10.057769,
            11.126527,
            12.030479,
            12.784107,
            10.782508,
            12.030479,
            12.784107,
            12.605288,
            12.030479,
            12.030479,
            12.708288,
            12.030479,
            10.065554,
            11.773511,
            10.057769,
            17.723415,
            12.030479,
            12.475221,
            10.057769,
            12.030479,
            12.030479,
            10.057769,
            10.057769,
            10.0685,
            12.343227,
            12.708288,
            11.917625,
            12.343227,
            10.057769,
            12.030479,
            12.605288,
            10.057769,
            10.0685,
            12.784107,
            12.030479,
            12.790458,
            12.784107,
            10.057769,
            10.0685,
            21.578222,
            12.030479,
            10.057769,
            21.578222,
            12.030479,
            10.0685,
            12.784107,
            21.578222,
            12.030479,
            10.057769,
            12.605288,
            9.139385,
            11.773511,
            12.030479,
            11.795632,
            10.057769,
            10.057769,
            12.030479
           ],
           "legendgroup": "Alcedo atthis (Linnaeus, 1758)",
           "lon": [
            78.32826,
            78.32826,
            78.32826,
            78.32826,
            78.32826,
            78.32826,
            78.32826,
            78.32826,
            78.32826,
            78.32826,
            78.32826,
            78.32826,
            69.74778,
            73.75374,
            74.93233,
            75.80236,
            75.29331,
            74.02229,
            75.396645,
            79.82347,
            69.74778,
            75.29331,
            74.04232,
            80.242584,
            75.29331,
            75.22356,
            76.25108,
            75.29331,
            80.23607,
            73.731544,
            76.459724,
            75.29331,
            76.25108,
            75.29331,
            69.74778,
            74.93233,
            80.23607,
            75.29331,
            80.23607,
            76.25108,
            75.396645,
            76.26224,
            74.70759,
            75.91443,
            80.23607,
            75.29331,
            74.93233,
            75.82985,
            75.80236,
            75.45415,
            69.74778,
            76.25108,
            75.82985,
            75.29331,
            80.23607,
            75.91443,
            75.29331,
            80.23607,
            74.93233,
            75.29331,
            75.29331,
            74.88756,
            75.29331,
            76.2612,
            75.45415,
            76.25108,
            73.13208,
            75.29331,
            74.986015,
            76.25108,
            75.29331,
            75.29331,
            76.25108,
            76.25108,
            76.26224,
            75.06234,
            74.88756,
            75.396645,
            75.06234,
            76.25108,
            75.29331,
            74.93233,
            76.25108,
            76.26224,
            80.23607,
            75.29331,
            80.25289,
            80.23607,
            76.25108,
            76.26224,
            69.74778,
            75.29331,
            76.25108,
            69.74778,
            75.29331,
            76.26224,
            80.23607,
            69.74778,
            75.29331,
            76.25108,
            74.93233,
            76.48446,
            75.45415,
            75.29331,
            75.48957,
            76.25108,
            76.25108,
            75.29331
           ],
           "marker": {
            "color": "#00cc96",
            "symbol": "circle"
           },
           "mode": "markers",
           "name": "Alcedo atthis (Linnaeus, 1758)",
           "showlegend": true,
           "type": "scattergeo"
          },
          {
           "geo": "geo",
           "hovertemplate": "scientificName=Ceryle rudis (Linnaeus, 1758)<br>year=2019<br>decimalLatitude=%{lat}<br>decimalLongitude=%{lon}<extra></extra>",
           "lat": [
            17.516224,
            17.516224,
            17.516224,
            17.516224,
            17.516224,
            17.516224,
            17.516224,
            12.784107,
            22.556664,
            10.591596,
            11.854271,
            12.030479,
            22.556664,
            12.784107,
            12.030479,
            12.030479,
            10.0685,
            12.784107,
            10.0685,
            10.0685,
            12.030479,
            12.030479,
            12.784107,
            12.784107,
            12.784107,
            10.0685,
            22.556664,
            12.784107,
            10.782508,
            12.784107,
            12.030479,
            8.310901,
            22.583574,
            10.057769,
            12.749178,
            12.030479,
            12.803538,
            12.030479,
            11.88032,
            8.783381,
            12.336648,
            12.803538
           ],
           "legendgroup": "Ceryle rudis (Linnaeus, 1758)",
           "lon": [
            78.32826,
            78.32826,
            78.32826,
            78.32826,
            78.32826,
            78.32826,
            78.32826,
            80.23607,
            70.168945,
            75.998116,
            75.37635,
            75.29331,
            70.168945,
            80.23607,
            75.29331,
            75.29331,
            76.26224,
            80.23607,
            76.26224,
            76.26224,
            75.29331,
            75.29331,
            80.23607,
            80.23607,
            80.23607,
            76.26224,
            70.168945,
            80.23607,
            75.91443,
            80.23607,
            75.29331,
            77.07382,
            70.19328,
            76.25108,
            80.25759,
            75.29331,
            80.242584,
            75.29331,
            79.82347,
            78.19408,
            80.03368,
            80.242584
           ],
           "marker": {
            "color": "#ab63fa",
            "symbol": "circle"
           },
           "mode": "markers",
           "name": "Ceryle rudis (Linnaeus, 1758)",
           "showlegend": true,
           "type": "scattergeo"
          },
          {
           "geo": "geo",
           "hovertemplate": "scientificName=Halcyon pileata (Boddaert, 1783)<br>year=2019<br>decimalLatitude=%{lat}<br>decimalLongitude=%{lon}<extra></extra>",
           "lat": [
            19.021551,
            10.022283,
            19.021551
           ],
           "legendgroup": "Halcyon pileata (Boddaert, 1783)",
           "lon": [
            73.00269,
            76.248634,
            73.00269
           ],
           "marker": {
            "color": "#FFA15A",
            "symbol": "circle"
           },
           "mode": "markers",
           "name": "Halcyon pileata (Boddaert, 1783)",
           "showlegend": true,
           "type": "scattergeo"
          },
          {
           "geo": "geo",
           "hovertemplate": "scientificName=Pelargopsis capensis (Linnaeus, 1766)<br>year=2019<br>decimalLatitude=%{lat}<br>decimalLongitude=%{lon}<extra></extra>",
           "lat": [
            11.795632,
            12.343227,
            10.0685,
            10.0685,
            10.0685,
            10.007529,
            10.0685,
            12.030479,
            12.343227,
            11.933059,
            12.343227,
            11.917625,
            11.917625,
            9.748953,
            12.030479,
            10.0685,
            11.917625,
            10.0685,
            10.0685,
            12.030479,
            10.0685
           ],
           "legendgroup": "Pelargopsis capensis (Linnaeus, 1766)",
           "lon": [
            75.48957,
            75.06234,
            76.26224,
            76.26224,
            76.26224,
            76.21656,
            76.26224,
            75.29331,
            75.06234,
            75.34908,
            75.06234,
            75.396645,
            75.396645,
            76.28548,
            75.29331,
            76.26224,
            75.396645,
            76.26224,
            76.26224,
            75.29331,
            76.26224
           ],
           "marker": {
            "color": "#19d3f3",
            "symbol": "circle"
           },
           "mode": "markers",
           "name": "Pelargopsis capensis (Linnaeus, 1766)",
           "showlegend": true,
           "type": "scattergeo"
          },
          {
           "geo": "geo",
           "hovertemplate": "scientificName=Ceyx erithaca (Linnaeus, 1758)<br>year=2019<br>decimalLatitude=%{lat}<br>decimalLongitude=%{lon}<extra></extra>",
           "lat": [
            18.6264
           ],
           "legendgroup": "Ceyx erithaca (Linnaeus, 1758)",
           "lon": [
            72.88536
           ],
           "marker": {
            "color": "#FF6692",
            "symbol": "circle"
           },
           "mode": "markers",
           "name": "Ceyx erithaca (Linnaeus, 1758)",
           "showlegend": true,
           "type": "scattergeo"
          }
         ],
         "name": "2019"
        },
        {
         "data": [
          {
           "geo": "geo",
           "hovertemplate": "scientificName=Halcyon smyrnensis (Linnaeus, 1758)<br>year=2021<br>decimalLatitude=%{lat}<br>decimalLongitude=%{lon}<extra></extra>",
           "lat": [
            14.45503,
            10.029107,
            14.45503
           ],
           "legendgroup": "Halcyon smyrnensis (Linnaeus, 1758)",
           "lon": [
            75.892607,
            76.35898,
            75.892607
           ],
           "marker": {
            "color": "#636efa",
            "symbol": "circle"
           },
           "mode": "markers",
           "name": "Halcyon smyrnensis (Linnaeus, 1758)",
           "showlegend": true,
           "type": "scattergeo"
          },
          {
           "geo": "geo",
           "hovertemplate": "scientificName=Alcedo atthis (Linnaeus, 1758)<br>year=2021<br>decimalLatitude=%{lat}<br>decimalLongitude=%{lon}<extra></extra>",
           "lat": [
            14.351889
           ],
           "legendgroup": "Alcedo atthis (Linnaeus, 1758)",
           "lon": [
            75.73974
           ],
           "marker": {
            "color": "#00cc96",
            "symbol": "circle"
           },
           "mode": "markers",
           "name": "Alcedo atthis (Linnaeus, 1758)",
           "showlegend": true,
           "type": "scattergeo"
          },
          {
           "geo": "geo",
           "hovertemplate": "scientificName=Ceryle rudis (Linnaeus, 1758)<br>year=2021<br>decimalLatitude=%{lat}<br>decimalLongitude=%{lon}<extra></extra>",
           "lat": [
            14.351889,
            10.545077
           ],
           "legendgroup": "Ceryle rudis (Linnaeus, 1758)",
           "lon": [
            75.73974,
            76.14649
           ],
           "marker": {
            "color": "#ab63fa",
            "symbol": "circle"
           },
           "mode": "markers",
           "name": "Ceryle rudis (Linnaeus, 1758)",
           "showlegend": true,
           "type": "scattergeo"
          },
          {
           "geo": "geo",
           "hovertemplate": "scientificName=Pavo cristatus Linnaeus, 1758<br>year=2021<br>decimalLatitude=%{lat}<br>decimalLongitude=%{lon}<extra></extra>",
           "lat": [
            13.467858
           ],
           "legendgroup": "Pavo cristatus Linnaeus, 1758",
           "lon": [
            77.225642
           ],
           "marker": {
            "color": "#B6E880",
            "symbol": "circle"
           },
           "mode": "markers",
           "name": "Pavo cristatus Linnaeus, 1758",
           "showlegend": true,
           "type": "scattergeo"
          },
          {
           "geo": "geo",
           "hovertemplate": "scientificName=Ardeola grayii (Sykes, 1832)<br>year=2021<br>decimalLatitude=%{lat}<br>decimalLongitude=%{lon}<extra></extra>",
           "lat": [
            13.467858
           ],
           "legendgroup": "Ardeola grayii (Sykes, 1832)",
           "lon": [
            77.225642
           ],
           "marker": {
            "color": "#FF97FF",
            "symbol": "circle"
           },
           "mode": "markers",
           "name": "Ardeola grayii (Sykes, 1832)",
           "showlegend": true,
           "type": "scattergeo"
          },
          {
           "geo": "geo",
           "hovertemplate": "scientificName=Vanellus indicus (Boddaert, 1783)<br>year=2021<br>decimalLatitude=%{lat}<br>decimalLongitude=%{lon}<extra></extra>",
           "lat": [
            13.467858
           ],
           "legendgroup": "Vanellus indicus (Boddaert, 1783)",
           "lon": [
            77.225642
           ],
           "marker": {
            "color": "#FECB52",
            "symbol": "circle"
           },
           "mode": "markers",
           "name": "Vanellus indicus (Boddaert, 1783)",
           "showlegend": true,
           "type": "scattergeo"
          },
          {
           "geo": "geo",
           "hovertemplate": "scientificName=Cinnyris asiaticus (Latham, 1790)<br>year=2021<br>decimalLatitude=%{lat}<br>decimalLongitude=%{lon}<extra></extra>",
           "lat": [
            13.467858
           ],
           "legendgroup": "Cinnyris asiaticus (Latham, 1790)",
           "lon": [
            77.225642
           ],
           "marker": {
            "color": "#636efa",
            "symbol": "circle"
           },
           "mode": "markers",
           "name": "Cinnyris asiaticus (Latham, 1790)",
           "showlegend": true,
           "type": "scattergeo"
          },
          {
           "geo": "geo",
           "hovertemplate": "scientificName=Anas poecilorhyncha J.R.Forster, 1781<br>year=2021<br>decimalLatitude=%{lat}<br>decimalLongitude=%{lon}<extra></extra>",
           "lat": [
            13.467858,
            14.351889,
            12.845215,
            12.845215,
            15.139393,
            14.45503
           ],
           "legendgroup": "Anas poecilorhyncha J.R.Forster, 1781",
           "lon": [
            77.225642,
            75.73974,
            77.66017,
            77.66017,
            76.921443,
            75.892607
           ],
           "marker": {
            "color": "#EF553B",
            "symbol": "circle"
           },
           "mode": "markers",
           "name": "Anas poecilorhyncha J.R.Forster, 1781",
           "showlegend": true,
           "type": "scattergeo"
          },
          {
           "geo": "geo",
           "hovertemplate": "scientificName=Merops orientalis Latham, 1802<br>year=2021<br>decimalLatitude=%{lat}<br>decimalLongitude=%{lon}<extra></extra>",
           "lat": [
            13.467858,
            12.791278,
            8.453915
           ],
           "legendgroup": "Merops orientalis Latham, 1802",
           "lon": [
            77.225642,
            77.730378,
            76.973293
           ],
           "marker": {
            "color": "#00cc96",
            "symbol": "circle"
           },
           "mode": "markers",
           "name": "Merops orientalis Latham, 1802",
           "showlegend": true,
           "type": "scattergeo"
          },
          {
           "geo": "geo",
           "hovertemplate": "scientificName=Lanius cristatus Linnaeus, 1758<br>year=2021<br>decimalLatitude=%{lat}<br>decimalLongitude=%{lon}<extra></extra>",
           "lat": [
            13.467858
           ],
           "legendgroup": "Lanius cristatus Linnaeus, 1758",
           "lon": [
            77.225642
           ],
           "marker": {
            "color": "#ab63fa",
            "symbol": "circle"
           },
           "mode": "markers",
           "name": "Lanius cristatus Linnaeus, 1758",
           "showlegend": true,
           "type": "scattergeo"
          },
          {
           "geo": "geo",
           "hovertemplate": "scientificName=Coracias benghalensis (Linnaeus, 1758)<br>year=2021<br>decimalLatitude=%{lat}<br>decimalLongitude=%{lon}<extra></extra>",
           "lat": [
            13.467858,
            15.139393
           ],
           "legendgroup": "Coracias benghalensis (Linnaeus, 1758)",
           "lon": [
            77.225642,
            76.921443
           ],
           "marker": {
            "color": "#FFA15A",
            "symbol": "circle"
           },
           "mode": "markers",
           "name": "Coracias benghalensis (Linnaeus, 1758)",
           "showlegend": true,
           "type": "scattergeo"
          },
          {
           "geo": "geo",
           "hovertemplate": "scientificName=Metopidius indicus (Latham, 1790)<br>year=2021<br>decimalLatitude=%{lat}<br>decimalLongitude=%{lon}<extra></extra>",
           "lat": [
            14.351889
           ],
           "legendgroup": "Metopidius indicus (Latham, 1790)",
           "lon": [
            75.73974
           ],
           "marker": {
            "color": "#19d3f3",
            "symbol": "circle"
           },
           "mode": "markers",
           "name": "Metopidius indicus (Latham, 1790)",
           "showlegend": true,
           "type": "scattergeo"
          },
          {
           "geo": "geo",
           "hovertemplate": "scientificName=Pernis ptilorhynchus (Temminck, 1821)<br>year=2021<br>decimalLatitude=%{lat}<br>decimalLongitude=%{lon}<extra></extra>",
           "lat": [
            14.351889
           ],
           "legendgroup": "Pernis ptilorhynchus (Temminck, 1821)",
           "lon": [
            75.73974
           ],
           "marker": {
            "color": "#FF6692",
            "symbol": "circle"
           },
           "mode": "markers",
           "name": "Pernis ptilorhynchus (Temminck, 1821)",
           "showlegend": true,
           "type": "scattergeo"
          },
          {
           "geo": "geo",
           "hovertemplate": "scientificName=Dendrocygna javanica (Horsfield, 1821)<br>year=2021<br>decimalLatitude=%{lat}<br>decimalLongitude=%{lon}<extra></extra>",
           "lat": [
            14.351889,
            27.278471
           ],
           "legendgroup": "Dendrocygna javanica (Horsfield, 1821)",
           "lon": [
            75.73974,
            94.024
           ],
           "marker": {
            "color": "#B6E880",
            "symbol": "circle"
           },
           "mode": "markers",
           "name": "Dendrocygna javanica (Horsfield, 1821)",
           "showlegend": true,
           "type": "scattergeo"
          },
          {
           "geo": "geo",
           "hovertemplate": "scientificName=Nettapus coromandelianus (Gmelin, 1789)<br>year=2021<br>decimalLatitude=%{lat}<br>decimalLongitude=%{lon}<extra></extra>",
           "lat": [
            14.351889
           ],
           "legendgroup": "Nettapus coromandelianus (Gmelin, 1789)",
           "lon": [
            75.73974
           ],
           "marker": {
            "color": "#FF97FF",
            "symbol": "circle"
           },
           "mode": "markers",
           "name": "Nettapus coromandelianus (Gmelin, 1789)",
           "showlegend": true,
           "type": "scattergeo"
          },
          {
           "geo": "geo",
           "hovertemplate": "scientificName=Tachybaptus ruficollis (Pallas, 1764)<br>year=2021<br>decimalLatitude=%{lat}<br>decimalLongitude=%{lon}<extra></extra>",
           "lat": [
            14.351889,
            15.139393,
            14.45503
           ],
           "legendgroup": "Tachybaptus ruficollis (Pallas, 1764)",
           "lon": [
            75.73974,
            76.921443,
            75.892607
           ],
           "marker": {
            "color": "#FECB52",
            "symbol": "circle"
           },
           "mode": "markers",
           "name": "Tachybaptus ruficollis (Pallas, 1764)",
           "showlegend": true,
           "type": "scattergeo"
          },
          {
           "geo": "geo",
           "hovertemplate": "scientificName=Fulica atra Linnaeus, 1758<br>year=2021<br>decimalLatitude=%{lat}<br>decimalLongitude=%{lon}<extra></extra>",
           "lat": [
            14.351889
           ],
           "legendgroup": "Fulica atra Linnaeus, 1758",
           "lon": [
            75.73974
           ],
           "marker": {
            "color": "#636efa",
            "symbol": "circle"
           },
           "mode": "markers",
           "name": "Fulica atra Linnaeus, 1758",
           "showlegend": true,
           "type": "scattergeo"
          },
          {
           "geo": "geo",
           "hovertemplate": "scientificName=Hydrophasianus chirurgus (Scopoli, 1786)<br>year=2021<br>decimalLatitude=%{lat}<br>decimalLongitude=%{lon}<extra></extra>",
           "lat": [
            14.351889
           ],
           "legendgroup": "Hydrophasianus chirurgus (Scopoli, 1786)",
           "lon": [
            75.73974
           ],
           "marker": {
            "color": "#EF553B",
            "symbol": "circle"
           },
           "mode": "markers",
           "name": "Hydrophasianus chirurgus (Scopoli, 1786)",
           "showlegend": true,
           "type": "scattergeo"
          },
          {
           "geo": "geo",
           "hovertemplate": "scientificName=Sterna aurantia J.E.Gray, 1831<br>year=2021<br>decimalLatitude=%{lat}<br>decimalLongitude=%{lon}<extra></extra>",
           "lat": [
            14.351889
           ],
           "legendgroup": "Sterna aurantia J.E.Gray, 1831",
           "lon": [
            75.73974
           ],
           "marker": {
            "color": "#00cc96",
            "symbol": "circle"
           },
           "mode": "markers",
           "name": "Sterna aurantia J.E.Gray, 1831",
           "showlegend": true,
           "type": "scattergeo"
          },
          {
           "geo": "geo",
           "hovertemplate": "scientificName=Chlidonias hybrida (Pallas, 1811)<br>year=2021<br>decimalLatitude=%{lat}<br>decimalLongitude=%{lon}<extra></extra>",
           "lat": [
            14.351889,
            14.45503
           ],
           "legendgroup": "Chlidonias hybrida (Pallas, 1811)",
           "lon": [
            75.73974,
            75.892607
           ],
           "marker": {
            "color": "#ab63fa",
            "symbol": "circle"
           },
           "mode": "markers",
           "name": "Chlidonias hybrida (Pallas, 1811)",
           "showlegend": true,
           "type": "scattergeo"
          },
          {
           "geo": "geo",
           "hovertemplate": "scientificName=Porphyrio porphyrio (Linnaeus, 1758)<br>year=2021<br>decimalLatitude=%{lat}<br>decimalLongitude=%{lon}<extra></extra>",
           "lat": [
            14.351889,
            27.278471
           ],
           "legendgroup": "Porphyrio porphyrio (Linnaeus, 1758)",
           "lon": [
            75.73974,
            94.024
           ],
           "marker": {
            "color": "#FFA15A",
            "symbol": "circle"
           },
           "mode": "markers",
           "name": "Porphyrio porphyrio (Linnaeus, 1758)",
           "showlegend": true,
           "type": "scattergeo"
          },
          {
           "geo": "geo",
           "hovertemplate": "scientificName=Gallinula chloropus (Linnaeus, 1758)<br>year=2021<br>decimalLatitude=%{lat}<br>decimalLongitude=%{lon}<extra></extra>",
           "lat": [
            14.351889
           ],
           "legendgroup": "Gallinula chloropus (Linnaeus, 1758)",
           "lon": [
            75.73974
           ],
           "marker": {
            "color": "#19d3f3",
            "symbol": "circle"
           },
           "mode": "markers",
           "name": "Gallinula chloropus (Linnaeus, 1758)",
           "showlegend": true,
           "type": "scattergeo"
          },
          {
           "geo": "geo",
           "hovertemplate": "scientificName=Oxalis debilis Kunth<br>year=2021<br>decimalLatitude=%{lat}<br>decimalLongitude=%{lon}<extra></extra>",
           "lat": [
            8.757759
           ],
           "legendgroup": "Oxalis debilis Kunth",
           "lon": [
            77.115794
           ],
           "marker": {
            "color": "#FF6692",
            "symbol": "circle"
           },
           "mode": "markers",
           "name": "Oxalis debilis Kunth",
           "showlegend": true,
           "type": "scattergeo"
          },
          {
           "geo": "geo",
           "hovertemplate": "scientificName=Udara akasa (Horsfield, 1828)<br>year=2021<br>decimalLatitude=%{lat}<br>decimalLongitude=%{lon}<extra></extra>",
           "lat": [
            11.016845
           ],
           "legendgroup": "Udara akasa (Horsfield, 1828)",
           "lon": [
            76.955832
           ],
           "marker": {
            "color": "#B6E880",
            "symbol": "circle"
           },
           "mode": "markers",
           "name": "Udara akasa (Horsfield, 1828)",
           "showlegend": true,
           "type": "scattergeo"
          },
          {
           "geo": "geo",
           "hovertemplate": "scientificName=Psilopogon haemacephalus (P.L.S.Müller, 1776)<br>year=2021<br>decimalLatitude=%{lat}<br>decimalLongitude=%{lon}<extra></extra>",
           "lat": [
            8.713913,
            25.095386,
            12.791278,
            12.310435
           ],
           "legendgroup": "Psilopogon haemacephalus (P.L.S.Müller, 1776)",
           "lon": [
            77.756652,
            94.361652,
            77.730378,
            76.62397
           ],
           "marker": {
            "color": "#FF97FF",
            "symbol": "circle"
           },
           "mode": "markers",
           "name": "Psilopogon haemacephalus (P.L.S.Müller, 1776)",
           "showlegend": true,
           "type": "scattergeo"
          },
          {
           "geo": "geo",
           "hovertemplate": "scientificName=Spialia galba Fabricius, 1793<br>year=2021<br>decimalLatitude=%{lat}<br>decimalLongitude=%{lon}<extra></extra>",
           "lat": [
            25.236,
            25.2347
           ],
           "legendgroup": "Spialia galba Fabricius, 1793",
           "lon": [
            75.8369,
            75.838
           ],
           "marker": {
            "color": "#FECB52",
            "symbol": "circle"
           },
           "mode": "markers",
           "name": "Spialia galba Fabricius, 1793",
           "showlegend": true,
           "type": "scattergeo"
          },
          {
           "geo": "geo",
           "hovertemplate": "scientificName=Pareuchaetes pseudoinsulata Rego Barros, 1956<br>year=2021<br>decimalLatitude=%{lat}<br>decimalLongitude=%{lon}<extra></extra>",
           "lat": [
            12.012714
           ],
           "legendgroup": "Pareuchaetes pseudoinsulata Rego Barros, 1956",
           "lon": [
            76.310815
           ],
           "marker": {
            "color": "#636efa",
            "symbol": "circle"
           },
           "mode": "markers",
           "name": "Pareuchaetes pseudoinsulata Rego Barros, 1956",
           "showlegend": true,
           "type": "scattergeo"
          },
          {
           "geo": "geo",
           "hovertemplate": "scientificName=Uperodon variegatus (Stoliczka, 1872)<br>year=2021<br>decimalLatitude=%{lat}<br>decimalLongitude=%{lon}<extra></extra>",
           "lat": [
            13.4623
           ],
           "legendgroup": "Uperodon variegatus (Stoliczka, 1872)",
           "lon": [
            77.2306
           ],
           "marker": {
            "color": "#EF553B",
            "symbol": "circle"
           },
           "mode": "markers",
           "name": "Uperodon variegatus (Stoliczka, 1872)",
           "showlegend": true,
           "type": "scattergeo"
          },
          {
           "geo": "geo",
           "hovertemplate": "scientificName=Himantopus himantopus (Linnaeus, 1758)<br>year=2021<br>decimalLatitude=%{lat}<br>decimalLongitude=%{lon}<extra></extra>",
           "lat": [
            12.845215,
            14.351889
           ],
           "legendgroup": "Himantopus himantopus (Linnaeus, 1758)",
           "lon": [
            77.66017,
            75.73974
           ],
           "marker": {
            "color": "#00cc96",
            "symbol": "circle"
           },
           "mode": "markers",
           "name": "Himantopus himantopus (Linnaeus, 1758)",
           "showlegend": true,
           "type": "scattergeo"
          },
          {
           "geo": "geo",
           "hovertemplate": "scientificName=Herpestes smithii Gray, 1837<br>year=2021<br>decimalLatitude=%{lat}<br>decimalLongitude=%{lon}<extra></extra>",
           "lat": [
            14.230669
           ],
           "legendgroup": "Herpestes smithii Gray, 1837",
           "lon": [
            77.608798
           ],
           "marker": {
            "color": "#ab63fa",
            "symbol": "circle"
           },
           "mode": "markers",
           "name": "Herpestes smithii Gray, 1837",
           "showlegend": true,
           "type": "scattergeo"
          },
          {
           "geo": "geo",
           "hovertemplate": "scientificName=Francolinus pondicerianus (Gmelin, 1789)<br>year=2021<br>decimalLatitude=%{lat}<br>decimalLongitude=%{lon}<extra></extra>",
           "lat": [
            14.230669
           ],
           "legendgroup": "Francolinus pondicerianus (Gmelin, 1789)",
           "lon": [
            77.608798
           ],
           "marker": {
            "color": "#FFA15A",
            "symbol": "circle"
           },
           "mode": "markers",
           "name": "Francolinus pondicerianus (Gmelin, 1789)",
           "showlegend": true,
           "type": "scattergeo"
          },
          {
           "geo": "geo",
           "hovertemplate": "scientificName=Oriolus oriolus (Linnaeus, 1758)<br>year=2021<br>decimalLatitude=%{lat}<br>decimalLongitude=%{lon}<extra></extra>",
           "lat": [
            15.139393
           ],
           "legendgroup": "Oriolus oriolus (Linnaeus, 1758)",
           "lon": [
            76.921443
           ],
           "marker": {
            "color": "#19d3f3",
            "symbol": "circle"
           },
           "mode": "markers",
           "name": "Oriolus oriolus (Linnaeus, 1758)",
           "showlegend": true,
           "type": "scattergeo"
          },
          {
           "geo": "geo",
           "hovertemplate": "scientificName=Ciconia episcopus (Boddaert, 1783)<br>year=2021<br>decimalLatitude=%{lat}<br>decimalLongitude=%{lon}<extra></extra>",
           "lat": [
            15.139393
           ],
           "legendgroup": "Ciconia episcopus (Boddaert, 1783)",
           "lon": [
            76.921443
           ],
           "marker": {
            "color": "#FF6692",
            "symbol": "circle"
           },
           "mode": "markers",
           "name": "Ciconia episcopus (Boddaert, 1783)",
           "showlegend": true,
           "type": "scattergeo"
          },
          {
           "geo": "geo",
           "hovertemplate": "scientificName=Artocarpus heterophyllus Lam.<br>year=2021<br>decimalLatitude=%{lat}<br>decimalLongitude=%{lon}<extra></extra>",
           "lat": [
            9.851561
           ],
           "legendgroup": "Artocarpus heterophyllus Lam.",
           "lon": [
            76.382912
           ],
           "marker": {
            "color": "#B6E880",
            "symbol": "circle"
           },
           "mode": "markers",
           "name": "Artocarpus heterophyllus Lam.",
           "showlegend": true,
           "type": "scattergeo"
          },
          {
           "geo": "geo",
           "hovertemplate": "scientificName=Euchromia polymena Linnaeus, 1758<br>year=2021<br>decimalLatitude=%{lat}<br>decimalLongitude=%{lon}<extra></extra>",
           "lat": [
            18.40493
           ],
           "legendgroup": "Euchromia polymena Linnaeus, 1758",
           "lon": [
            72.93797
           ],
           "marker": {
            "color": "#FF97FF",
            "symbol": "circle"
           },
           "mode": "markers",
           "name": "Euchromia polymena Linnaeus, 1758",
           "showlegend": true,
           "type": "scattergeo"
          },
          {
           "geo": "geo",
           "hovertemplate": "scientificName=incertae sedis<br>year=2021<br>decimalLatitude=%{lat}<br>decimalLongitude=%{lon}<extra></extra>",
           "lat": [
            9.851561,
            11.731,
            31.326015
           ],
           "legendgroup": "incertae sedis",
           "lon": [
            76.382912,
            78.1781,
            75.576183
           ],
           "marker": {
            "color": "#FECB52",
            "symbol": "circle"
           },
           "mode": "markers",
           "name": "incertae sedis",
           "showlegend": true,
           "type": "scattergeo"
          },
          {
           "geo": "geo",
           "hovertemplate": "scientificName=Brassica oleracea var. botrytis L.<br>year=2021<br>decimalLatitude=%{lat}<br>decimalLongitude=%{lon}<extra></extra>",
           "lat": [
            9.851561
           ],
           "legendgroup": "Brassica oleracea var. botrytis L.",
           "lon": [
            76.382912
           ],
           "marker": {
            "color": "#636efa",
            "symbol": "circle"
           },
           "mode": "markers",
           "name": "Brassica oleracea var. botrytis L.",
           "showlegend": true,
           "type": "scattergeo"
          },
          {
           "geo": "geo",
           "hovertemplate": "scientificName=Ariadne merione Cramer, 1779<br>year=2021<br>decimalLatitude=%{lat}<br>decimalLongitude=%{lon}<extra></extra>",
           "lat": [
            25.1824,
            11.6859
           ],
           "legendgroup": "Ariadne merione Cramer, 1779",
           "lon": [
            75.8292,
            78.1763
           ],
           "marker": {
            "color": "#EF553B",
            "symbol": "circle"
           },
           "mode": "markers",
           "name": "Ariadne merione Cramer, 1779",
           "showlegend": true,
           "type": "scattergeo"
          },
          {
           "geo": "geo",
           "hovertemplate": "scientificName=Mycteria leucocephala (Pennant, 1769)<br>year=2021<br>decimalLatitude=%{lat}<br>decimalLongitude=%{lon}<extra></extra>",
           "lat": [
            15.139393,
            14.45503,
            14.45503,
            14.45503
           ],
           "legendgroup": "Mycteria leucocephala (Pennant, 1769)",
           "lon": [
            76.921443,
            75.892607,
            75.892607,
            75.892607
           ],
           "marker": {
            "color": "#00cc96",
            "symbol": "circle"
           },
           "mode": "markers",
           "name": "Mycteria leucocephala (Pennant, 1769)",
           "showlegend": true,
           "type": "scattergeo"
          },
          {
           "geo": "geo",
           "hovertemplate": "scientificName=Thunbergia alata Bojer ex Sims<br>year=2021<br>decimalLatitude=%{lat}<br>decimalLongitude=%{lon}<extra></extra>",
           "lat": [
            8.757759
           ],
           "legendgroup": "Thunbergia alata Bojer ex Sims",
           "lon": [
            77.115794
           ],
           "marker": {
            "color": "#ab63fa",
            "symbol": "circle"
           },
           "mode": "markers",
           "name": "Thunbergia alata Bojer ex Sims",
           "showlegend": true,
           "type": "scattergeo"
          },
          {
           "geo": "geo",
           "hovertemplate": "scientificName=Aegle marmelos (L.) Corrêa<br>year=2021<br>decimalLatitude=%{lat}<br>decimalLongitude=%{lon}<extra></extra>",
           "lat": [
            9.851561,
            8.487969
           ],
           "legendgroup": "Aegle marmelos (L.) Corrêa",
           "lon": [
            76.382912,
            76.980914
           ],
           "marker": {
            "color": "#FFA15A",
            "symbol": "circle"
           },
           "mode": "markers",
           "name": "Aegle marmelos (L.) Corrêa",
           "showlegend": true,
           "type": "scattergeo"
          },
          {
           "geo": "geo",
           "hovertemplate": "scientificName=Loriculus vernalis (Sparrman, 1787)<br>year=2021<br>decimalLatitude=%{lat}<br>decimalLongitude=%{lon}<extra></extra>",
           "lat": [
            8.757759,
            13.627984
           ],
           "legendgroup": "Loriculus vernalis (Sparrman, 1787)",
           "lon": [
            77.115794,
            74.849197
           ],
           "marker": {
            "color": "#19d3f3",
            "symbol": "circle"
           },
           "mode": "markers",
           "name": "Loriculus vernalis (Sparrman, 1787)",
           "showlegend": true,
           "type": "scattergeo"
          },
          {
           "geo": "geo",
           "hovertemplate": "scientificName=Jatropha integerrima Jacq.<br>year=2021<br>decimalLatitude=%{lat}<br>decimalLongitude=%{lon}<extra></extra>",
           "lat": [
            21.875032
           ],
           "legendgroup": "Jatropha integerrima Jacq.",
           "lon": [
            70.106136
           ],
           "marker": {
            "color": "#FF6692",
            "symbol": "circle"
           },
           "mode": "markers",
           "name": "Jatropha integerrima Jacq.",
           "showlegend": true,
           "type": "scattergeo"
          },
          {
           "geo": "geo",
           "hovertemplate": "scientificName=Argya caudata (Dumont, 1823)<br>year=2021<br>decimalLatitude=%{lat}<br>decimalLongitude=%{lon}<extra></extra>",
           "lat": [
            14.230669
           ],
           "legendgroup": "Argya caudata (Dumont, 1823)",
           "lon": [
            77.608798
           ],
           "marker": {
            "color": "#B6E880",
            "symbol": "circle"
           },
           "mode": "markers",
           "name": "Argya caudata (Dumont, 1823)",
           "showlegend": true,
           "type": "scattergeo"
          },
          {
           "geo": "geo",
           "hovertemplate": "scientificName=Streptopelia decaocto (Frivaldszky, 1838)<br>year=2021<br>decimalLatitude=%{lat}<br>decimalLongitude=%{lon}<extra></extra>",
           "lat": [
            14.230669
           ],
           "legendgroup": "Streptopelia decaocto (Frivaldszky, 1838)",
           "lon": [
            77.608798
           ],
           "marker": {
            "color": "#FF97FF",
            "symbol": "circle"
           },
           "mode": "markers",
           "name": "Streptopelia decaocto (Frivaldszky, 1838)",
           "showlegend": true,
           "type": "scattergeo"
          },
          {
           "geo": "geo",
           "hovertemplate": "scientificName=Pycnonotus cafer (Linnaeus, 1766)<br>year=2021<br>decimalLatitude=%{lat}<br>decimalLongitude=%{lon}<extra></extra>",
           "lat": [
            14.230669
           ],
           "legendgroup": "Pycnonotus cafer (Linnaeus, 1766)",
           "lon": [
            77.608798
           ],
           "marker": {
            "color": "#FECB52",
            "symbol": "circle"
           },
           "mode": "markers",
           "name": "Pycnonotus cafer (Linnaeus, 1766)",
           "showlegend": true,
           "type": "scattergeo"
          },
          {
           "geo": "geo",
           "hovertemplate": "scientificName=Ficus hispida L.fil.<br>year=2021<br>decimalLatitude=%{lat}<br>decimalLongitude=%{lon}<extra></extra>",
           "lat": [
            15.39719
           ],
           "legendgroup": "Ficus hispida L.fil.",
           "lon": [
            74.338219
           ],
           "marker": {
            "color": "#636efa",
            "symbol": "circle"
           },
           "mode": "markers",
           "name": "Ficus hispida L.fil.",
           "showlegend": true,
           "type": "scattergeo"
          },
          {
           "geo": "geo",
           "hovertemplate": "scientificName=Tephrodornis pondicerianus (Gmelin, 1789)<br>year=2021<br>decimalLatitude=%{lat}<br>decimalLongitude=%{lon}<extra></extra>",
           "lat": [
            12.950236
           ],
           "legendgroup": "Tephrodornis pondicerianus (Gmelin, 1789)",
           "lon": [
            74.868774
           ],
           "marker": {
            "color": "#EF553B",
            "symbol": "circle"
           },
           "mode": "markers",
           "name": "Tephrodornis pondicerianus (Gmelin, 1789)",
           "showlegend": true,
           "type": "scattergeo"
          },
          {
           "geo": "geo",
           "hovertemplate": "scientificName=Diplacodes trivialis Rambur, 1842<br>year=2021<br>decimalLatitude=%{lat}<br>decimalLongitude=%{lon}<extra></extra>",
           "lat": [
            9.981636
           ],
           "legendgroup": "Diplacodes trivialis Rambur, 1842",
           "lon": [
            76.299884
           ],
           "marker": {
            "color": "#00cc96",
            "symbol": "circle"
           },
           "mode": "markers",
           "name": "Diplacodes trivialis Rambur, 1842",
           "showlegend": true,
           "type": "scattergeo"
          },
          {
           "geo": "geo",
           "hovertemplate": "scientificName=Allamanda cathartica L.<br>year=2021<br>decimalLatitude=%{lat}<br>decimalLongitude=%{lon}<extra></extra>",
           "lat": [
            9.87727
           ],
           "legendgroup": "Allamanda cathartica L.",
           "lon": [
            76.291302
           ],
           "marker": {
            "color": "#ab63fa",
            "symbol": "circle"
           },
           "mode": "markers",
           "name": "Allamanda cathartica L.",
           "showlegend": true,
           "type": "scattergeo"
          },
          {
           "geo": "geo",
           "hovertemplate": "scientificName=Petunia Juss.<br>year=2021<br>decimalLatitude=%{lat}<br>decimalLongitude=%{lon}<extra></extra>",
           "lat": [
            21.8758
           ],
           "legendgroup": "Petunia Juss.",
           "lon": [
            70.1108
           ],
           "marker": {
            "color": "#FFA15A",
            "symbol": "circle"
           },
           "mode": "markers",
           "name": "Petunia Juss.",
           "showlegend": true,
           "type": "scattergeo"
          },
          {
           "geo": "geo",
           "hovertemplate": "scientificName=Dianthus chinensis L.<br>year=2021<br>decimalLatitude=%{lat}<br>decimalLongitude=%{lon}<extra></extra>",
           "lat": [
            21.8729
           ],
           "legendgroup": "Dianthus chinensis L.",
           "lon": [
            70.1075
           ],
           "marker": {
            "color": "#19d3f3",
            "symbol": "circle"
           },
           "mode": "markers",
           "name": "Dianthus chinensis L.",
           "showlegend": true,
           "type": "scattergeo"
          },
          {
           "geo": "geo",
           "hovertemplate": "scientificName=Merops leschenaulti Vieillot, 1817<br>year=2021<br>decimalLatitude=%{lat}<br>decimalLongitude=%{lon}<extra></extra>",
           "lat": [
            12.950236
           ],
           "legendgroup": "Merops leschenaulti Vieillot, 1817",
           "lon": [
            74.868774
           ],
           "marker": {
            "color": "#FF6692",
            "symbol": "circle"
           },
           "mode": "markers",
           "name": "Merops leschenaulti Vieillot, 1817",
           "showlegend": true,
           "type": "scattergeo"
          },
          {
           "geo": "geo",
           "hovertemplate": "scientificName=Sturnia malabarica (Gmelin, 1789)<br>year=2021<br>decimalLatitude=%{lat}<br>decimalLongitude=%{lon}<extra></extra>",
           "lat": [
            12.950236
           ],
           "legendgroup": "Sturnia malabarica (Gmelin, 1789)",
           "lon": [
            74.868774
           ],
           "marker": {
            "color": "#B6E880",
            "symbol": "circle"
           },
           "mode": "markers",
           "name": "Sturnia malabarica (Gmelin, 1789)",
           "showlegend": true,
           "type": "scattergeo"
          },
          {
           "geo": "geo",
           "hovertemplate": "scientificName=Lanius vittatus Valenciennes, 1826<br>year=2021<br>decimalLatitude=%{lat}<br>decimalLongitude=%{lon}<extra></extra>",
           "lat": [
            12.950236,
            14.818481
           ],
           "legendgroup": "Lanius vittatus Valenciennes, 1826",
           "lon": [
            74.868774,
            74.141613
           ],
           "marker": {
            "color": "#FF97FF",
            "symbol": "circle"
           },
           "mode": "markers",
           "name": "Lanius vittatus Valenciennes, 1826",
           "showlegend": true,
           "type": "scattergeo"
          },
          {
           "geo": "geo",
           "hovertemplate": "scientificName=Pelopidas agna Moore, 1865<br>year=2021<br>decimalLatitude=%{lat}<br>decimalLongitude=%{lon}<extra></extra>",
           "lat": [
            11.746128
           ],
           "legendgroup": "Pelopidas agna Moore, 1865",
           "lon": [
            78.170257
           ],
           "marker": {
            "color": "#FECB52",
            "symbol": "circle"
           },
           "mode": "markers",
           "name": "Pelopidas agna Moore, 1865",
           "showlegend": true,
           "type": "scattergeo"
          },
          {
           "geo": "geo",
           "hovertemplate": "scientificName=Phalanta phalantha Drury, 1773<br>year=2021<br>decimalLatitude=%{lat}<br>decimalLongitude=%{lon}<extra></extra>",
           "lat": [
            11.746128
           ],
           "legendgroup": "Phalanta phalantha Drury, 1773",
           "lon": [
            78.170257
           ],
           "marker": {
            "color": "#636efa",
            "symbol": "circle"
           },
           "mode": "markers",
           "name": "Phalanta phalantha Drury, 1773",
           "showlegend": true,
           "type": "scattergeo"
          },
          {
           "geo": "geo",
           "hovertemplate": "scientificName=Boiga gocool (Gray, 1834)<br>year=2021<br>decimalLatitude=%{lat}<br>decimalLongitude=%{lon}<extra></extra>",
           "lat": [
            25.968244
           ],
           "legendgroup": "Boiga gocool (Gray, 1834)",
           "lon": [
            93.437215
           ],
           "marker": {
            "color": "#EF553B",
            "symbol": "circle"
           },
           "mode": "markers",
           "name": "Boiga gocool (Gray, 1834)",
           "showlegend": true,
           "type": "scattergeo"
          },
          {
           "geo": "geo",
           "hovertemplate": "scientificName=Halpe porus Mabille, 1876<br>year=2021<br>decimalLatitude=%{lat}<br>decimalLongitude=%{lon}<extra></extra>",
           "lat": [
            11.746128
           ],
           "legendgroup": "Halpe porus Mabille, 1876",
           "lon": [
            78.170257
           ],
           "marker": {
            "color": "#00cc96",
            "symbol": "circle"
           },
           "mode": "markers",
           "name": "Halpe porus Mabille, 1876",
           "showlegend": true,
           "type": "scattergeo"
          },
          {
           "geo": "geo",
           "hovertemplate": "scientificName=Hebomoia glaucippe (Linnaeus, 1758)<br>year=2021<br>decimalLatitude=%{lat}<br>decimalLongitude=%{lon}<extra></extra>",
           "lat": [
            11.746128
           ],
           "legendgroup": "Hebomoia glaucippe (Linnaeus, 1758)",
           "lon": [
            78.170257
           ],
           "marker": {
            "color": "#ab63fa",
            "symbol": "circle"
           },
           "mode": "markers",
           "name": "Hebomoia glaucippe (Linnaeus, 1758)",
           "showlegend": true,
           "type": "scattergeo"
          },
          {
           "geo": "geo",
           "hovertemplate": "scientificName=Castalius rosimon (Fabricius, 1775)<br>year=2021<br>decimalLatitude=%{lat}<br>decimalLongitude=%{lon}<extra></extra>",
           "lat": [
            27.13172,
            27.13172
           ],
           "legendgroup": "Castalius rosimon (Fabricius, 1775)",
           "lon": [
            88.279628,
            88.279628
           ],
           "marker": {
            "color": "#FFA15A",
            "symbol": "circle"
           },
           "mode": "markers",
           "name": "Castalius rosimon (Fabricius, 1775)",
           "showlegend": true,
           "type": "scattergeo"
          },
          {
           "geo": "geo",
           "hovertemplate": "scientificName=Amandava amandava (Linnaeus, 1758)<br>year=2021<br>decimalLatitude=%{lat}<br>decimalLongitude=%{lon}<extra></extra>",
           "lat": [
            12.967263
           ],
           "legendgroup": "Amandava amandava (Linnaeus, 1758)",
           "lon": [
            74.847125
           ],
           "marker": {
            "color": "#19d3f3",
            "symbol": "circle"
           },
           "mode": "markers",
           "name": "Amandava amandava (Linnaeus, 1758)",
           "showlegend": true,
           "type": "scattergeo"
          },
          {
           "geo": "geo",
           "hovertemplate": "scientificName=Chaetornis striata (Jerdon, 1841)<br>year=2021<br>decimalLatitude=%{lat}<br>decimalLongitude=%{lon}<extra></extra>",
           "lat": [
            12.967263
           ],
           "legendgroup": "Chaetornis striata (Jerdon, 1841)",
           "lon": [
            74.847125
           ],
           "marker": {
            "color": "#FF6692",
            "symbol": "circle"
           },
           "mode": "markers",
           "name": "Chaetornis striata (Jerdon, 1841)",
           "showlegend": true,
           "type": "scattergeo"
          },
          {
           "geo": "geo",
           "hovertemplate": "scientificName=Passiflora foetida L.<br>year=2021<br>decimalLatitude=%{lat}<br>decimalLongitude=%{lon}<extra></extra>",
           "lat": [
            8.895621
           ],
           "legendgroup": "Passiflora foetida L.",
           "lon": [
            76.639433
           ],
           "marker": {
            "color": "#B6E880",
            "symbol": "circle"
           },
           "mode": "markers",
           "name": "Passiflora foetida L.",
           "showlegend": true,
           "type": "scattergeo"
          },
          {
           "geo": "geo",
           "hovertemplate": "scientificName=Pantala flavescens Fabricius, 1798<br>year=2021<br>decimalLatitude=%{lat}<br>decimalLongitude=%{lon}<extra></extra>",
           "lat": [
            11.323038,
            11.323038,
            11.6859,
            11.686,
            25.2329
           ],
           "legendgroup": "Pantala flavescens Fabricius, 1798",
           "lon": [
            79.243353,
            79.243353,
            78.1761,
            78.1759,
            75.8382
           ],
           "marker": {
            "color": "#FF97FF",
            "symbol": "circle"
           },
           "mode": "markers",
           "name": "Pantala flavescens Fabricius, 1798",
           "showlegend": true,
           "type": "scattergeo"
          },
          {
           "geo": "geo",
           "hovertemplate": "scientificName=Tringa nebularia (Gunnerus, 1767)<br>year=2021<br>decimalLatitude=%{lat}<br>decimalLongitude=%{lon}<extra></extra>",
           "lat": [
            14.45503,
            9.316531
           ],
           "legendgroup": "Tringa nebularia (Gunnerus, 1767)",
           "lon": [
            75.892607,
            76.387739
           ],
           "marker": {
            "color": "#FECB52",
            "symbol": "circle"
           },
           "mode": "markers",
           "name": "Tringa nebularia (Gunnerus, 1767)",
           "showlegend": true,
           "type": "scattergeo"
          },
          {
           "geo": "geo",
           "hovertemplate": "scientificName=Bubulcus ibis (Linnaeus, 1758)<br>year=2021<br>decimalLatitude=%{lat}<br>decimalLongitude=%{lon}<extra></extra>",
           "lat": [
            14.45503
           ],
           "legendgroup": "Bubulcus ibis (Linnaeus, 1758)",
           "lon": [
            75.892607
           ],
           "marker": {
            "color": "#636efa",
            "symbol": "circle"
           },
           "mode": "markers",
           "name": "Bubulcus ibis (Linnaeus, 1758)",
           "showlegend": true,
           "type": "scattergeo"
          },
          {
           "geo": "geo",
           "hovertemplate": "scientificName=Evolvulus alsinoides (L.) L.<br>year=2021<br>decimalLatitude=%{lat}<br>decimalLongitude=%{lon}<extra></extra>",
           "lat": [
            14.2404
           ],
           "legendgroup": "Evolvulus alsinoides (L.) L.",
           "lon": [
            77.6107
           ],
           "marker": {
            "color": "#EF553B",
            "symbol": "circle"
           },
           "mode": "markers",
           "name": "Evolvulus alsinoides (L.) L.",
           "showlegend": true,
           "type": "scattergeo"
          },
          {
           "geo": "geo",
           "hovertemplate": "scientificName=Dianthus L.<br>year=2021<br>decimalLatitude=%{lat}<br>decimalLongitude=%{lon}<extra></extra>",
           "lat": [
            21.8729,
            21.8757
           ],
           "legendgroup": "Dianthus L.",
           "lon": [
            70.1075,
            70.1104
           ],
           "marker": {
            "color": "#00cc96",
            "symbol": "circle"
           },
           "mode": "markers",
           "name": "Dianthus L.",
           "showlegend": true,
           "type": "scattergeo"
          },
          {
           "geo": "geo",
           "hovertemplate": "scientificName=Gongylus gongylodes Linne, 1758<br>year=2021<br>decimalLatitude=%{lat}<br>decimalLongitude=%{lon}<extra></extra>",
           "lat": [
            9.897662
           ],
           "legendgroup": "Gongylus gongylodes Linne, 1758",
           "lon": [
            79.105822
           ],
           "marker": {
            "color": "#ab63fa",
            "symbol": "circle"
           },
           "mode": "markers",
           "name": "Gongylus gongylodes Linne, 1758",
           "showlegend": true,
           "type": "scattergeo"
          },
          {
           "geo": "geo",
           "hovertemplate": "scientificName=Mimosa pudica L.<br>year=2021<br>decimalLatitude=%{lat}<br>decimalLongitude=%{lon}<extra></extra>",
           "lat": [
            9.567524
           ],
           "legendgroup": "Mimosa pudica L.",
           "lon": [
            76.346362
           ],
           "marker": {
            "color": "#FFA15A",
            "symbol": "circle"
           },
           "mode": "markers",
           "name": "Mimosa pudica L.",
           "showlegend": true,
           "type": "scattergeo"
          },
          {
           "geo": "geo",
           "hovertemplate": "scientificName=Prosotas dubiosa (Semper, 1879)<br>year=2021<br>decimalLatitude=%{lat}<br>decimalLongitude=%{lon}<extra></extra>",
           "lat": [
            11.6858
           ],
           "legendgroup": "Prosotas dubiosa (Semper, 1879)",
           "lon": [
            78.1759
           ],
           "marker": {
            "color": "#19d3f3",
            "symbol": "circle"
           },
           "mode": "markers",
           "name": "Prosotas dubiosa (Semper, 1879)",
           "showlegend": true,
           "type": "scattergeo"
          },
          {
           "geo": "geo",
           "hovertemplate": "scientificName=Eurema blanda (Boisduval, 1836)<br>year=2021<br>decimalLatitude=%{lat}<br>decimalLongitude=%{lon}<extra></extra>",
           "lat": [
            11.686,
            11.686,
            11.686,
            11.6859,
            11.6858,
            11.6858,
            11.6861,
            11.6861
           ],
           "legendgroup": "Eurema blanda (Boisduval, 1836)",
           "lon": [
            78.1755,
            78.1755,
            78.1758,
            78.1763,
            78.1758,
            78.1757,
            78.1758,
            78.1758
           ],
           "marker": {
            "color": "#FF6692",
            "symbol": "circle"
           },
           "mode": "markers",
           "name": "Eurema blanda (Boisduval, 1836)",
           "showlegend": true,
           "type": "scattergeo"
          },
          {
           "geo": "geo",
           "hovertemplate": "scientificName=Zizula hylax (Fabricius, 1775)<br>year=2021<br>decimalLatitude=%{lat}<br>decimalLongitude=%{lon}<extra></extra>",
           "lat": [
            11.6859,
            11.410204
           ],
           "legendgroup": "Zizula hylax (Fabricius, 1775)",
           "lon": [
            78.1759,
            76.695032
           ],
           "marker": {
            "color": "#B6E880",
            "symbol": "circle"
           },
           "mode": "markers",
           "name": "Zizula hylax (Fabricius, 1775)",
           "showlegend": true,
           "type": "scattergeo"
          },
          {
           "geo": "geo",
           "hovertemplate": "scientificName=Argemone mexicana L.<br>year=2021<br>decimalLatitude=%{lat}<br>decimalLongitude=%{lon}<extra></extra>",
           "lat": [
            12.971599
           ],
           "legendgroup": "Argemone mexicana L.",
           "lon": [
            77.594563
           ],
           "marker": {
            "color": "#FF97FF",
            "symbol": "circle"
           },
           "mode": "markers",
           "name": "Argemone mexicana L.",
           "showlegend": true,
           "type": "scattergeo"
          },
          {
           "geo": "geo",
           "hovertemplate": "scientificName=Plegadis falcinellus (Linnaeus, 1766)<br>year=2021<br>decimalLatitude=%{lat}<br>decimalLongitude=%{lon}<extra></extra>",
           "lat": [
            14.351889,
            14.45503
           ],
           "legendgroup": "Plegadis falcinellus (Linnaeus, 1766)",
           "lon": [
            75.73974,
            75.892607
           ],
           "marker": {
            "color": "#FECB52",
            "symbol": "circle"
           },
           "mode": "markers",
           "name": "Plegadis falcinellus (Linnaeus, 1766)",
           "showlegend": true,
           "type": "scattergeo"
          },
          {
           "geo": "geo",
           "hovertemplate": "scientificName=Spatula clypeata (Linnaeus, 1758)<br>year=2021<br>decimalLatitude=%{lat}<br>decimalLongitude=%{lon}<extra></extra>",
           "lat": [
            14.351889,
            14.45503
           ],
           "legendgroup": "Spatula clypeata (Linnaeus, 1758)",
           "lon": [
            75.73974,
            75.892607
           ],
           "marker": {
            "color": "#636efa",
            "symbol": "circle"
           },
           "mode": "markers",
           "name": "Spatula clypeata (Linnaeus, 1758)",
           "showlegend": true,
           "type": "scattergeo"
          },
          {
           "geo": "geo",
           "hovertemplate": "scientificName=Spatula querquedula (Linnaeus, 1758)<br>year=2021<br>decimalLatitude=%{lat}<br>decimalLongitude=%{lon}<extra></extra>",
           "lat": [
            14.351889
           ],
           "legendgroup": "Spatula querquedula (Linnaeus, 1758)",
           "lon": [
            75.73974
           ],
           "marker": {
            "color": "#EF553B",
            "symbol": "circle"
           },
           "mode": "markers",
           "name": "Spatula querquedula (Linnaeus, 1758)",
           "showlegend": true,
           "type": "scattergeo"
          },
          {
           "geo": "geo",
           "hovertemplate": "scientificName=Ardea purpurea Linnaeus, 1766<br>year=2021<br>decimalLatitude=%{lat}<br>decimalLongitude=%{lon}<extra></extra>",
           "lat": [
            14.351889,
            10.545077,
            12.310395
           ],
           "legendgroup": "Ardea purpurea Linnaeus, 1766",
           "lon": [
            75.73974,
            76.14649,
            76.630441
           ],
           "marker": {
            "color": "#00cc96",
            "symbol": "circle"
           },
           "mode": "markers",
           "name": "Ardea purpurea Linnaeus, 1766",
           "showlegend": true,
           "type": "scattergeo"
          },
          {
           "geo": "geo",
           "hovertemplate": "scientificName=Asilidae<br>year=2021<br>decimalLatitude=%{lat}<br>decimalLongitude=%{lon}<extra></extra>",
           "lat": [
            25.095386
           ],
           "legendgroup": "Asilidae",
           "lon": [
            94.361652
           ],
           "marker": {
            "color": "#ab63fa",
            "symbol": "circle"
           },
           "mode": "markers",
           "name": "Asilidae",
           "showlegend": true,
           "type": "scattergeo"
          },
          {
           "geo": "geo",
           "hovertemplate": "scientificName=Cardamine L.<br>year=2021<br>decimalLatitude=%{lat}<br>decimalLongitude=%{lon}<extra></extra>",
           "lat": [
            25.095386
           ],
           "legendgroup": "Cardamine L.",
           "lon": [
            94.361652
           ],
           "marker": {
            "color": "#FFA15A",
            "symbol": "circle"
           },
           "mode": "markers",
           "name": "Cardamine L.",
           "showlegend": true,
           "type": "scattergeo"
          },
          {
           "geo": "geo",
           "hovertemplate": "scientificName=Danaus genutia Cramer, 1779<br>year=2021<br>decimalLatitude=%{lat}<br>decimalLongitude=%{lon}<extra></extra>",
           "lat": [
            11.6858,
            11.6858
           ],
           "legendgroup": "Danaus genutia Cramer, 1779",
           "lon": [
            78.1762,
            78.1762
           ],
           "marker": {
            "color": "#19d3f3",
            "symbol": "circle"
           },
           "mode": "markers",
           "name": "Danaus genutia Cramer, 1779",
           "showlegend": true,
           "type": "scattergeo"
          },
          {
           "geo": "geo",
           "hovertemplate": "scientificName=Psydrax umbellata (Wight) Bridson<br>year=2021<br>decimalLatitude=%{lat}<br>decimalLongitude=%{lon}<extra></extra>",
           "lat": [
            15.39719
           ],
           "legendgroup": "Psydrax umbellata (Wight) Bridson",
           "lon": [
            74.338219
           ],
           "marker": {
            "color": "#FF6692",
            "symbol": "circle"
           },
           "mode": "markers",
           "name": "Psydrax umbellata (Wight) Bridson",
           "showlegend": true,
           "type": "scattergeo"
          },
          {
           "geo": "geo",
           "hovertemplate": "scientificName=Heteropoda Latreille, 1804<br>year=2021<br>decimalLatitude=%{lat}<br>decimalLongitude=%{lon}<extra></extra>",
           "lat": [
            10.176443
           ],
           "legendgroup": "Heteropoda Latreille, 1804",
           "lon": [
            76.499683
           ],
           "marker": {
            "color": "#B6E880",
            "symbol": "circle"
           },
           "mode": "markers",
           "name": "Heteropoda Latreille, 1804",
           "showlegend": true,
           "type": "scattergeo"
          },
          {
           "geo": "geo",
           "hovertemplate": "scientificName=Melia azedarach L.<br>year=2021<br>decimalLatitude=%{lat}<br>decimalLongitude=%{lon}<extra></extra>",
           "lat": [
            8.505
           ],
           "legendgroup": "Melia azedarach L.",
           "lon": [
            76.9603
           ],
           "marker": {
            "color": "#FF97FF",
            "symbol": "circle"
           },
           "mode": "markers",
           "name": "Melia azedarach L.",
           "showlegend": true,
           "type": "scattergeo"
          },
          {
           "geo": "geo",
           "hovertemplate": "scientificName=Pitta brachyura (Linnaeus, 1766)<br>year=2021<br>decimalLatitude=%{lat}<br>decimalLongitude=%{lon}<extra></extra>",
           "lat": [
            14.233082
           ],
           "legendgroup": "Pitta brachyura (Linnaeus, 1766)",
           "lon": [
            77.610471
           ],
           "marker": {
            "color": "#FECB52",
            "symbol": "circle"
           },
           "mode": "markers",
           "name": "Pitta brachyura (Linnaeus, 1766)",
           "showlegend": true,
           "type": "scattergeo"
          },
          {
           "geo": "geo",
           "hovertemplate": "scientificName=Lepidagathis cristata Willd.<br>year=2021<br>decimalLatitude=%{lat}<br>decimalLongitude=%{lon}<extra></extra>",
           "lat": [
            14.2331
           ],
           "legendgroup": "Lepidagathis cristata Willd.",
           "lon": [
            77.6116
           ],
           "marker": {
            "color": "#636efa",
            "symbol": "circle"
           },
           "mode": "markers",
           "name": "Lepidagathis cristata Willd.",
           "showlegend": true,
           "type": "scattergeo"
          },
          {
           "geo": "geo",
           "hovertemplate": "scientificName=Duttaphrynus melanostictus (Schneider, 1799)<br>year=2021<br>decimalLatitude=%{lat}<br>decimalLongitude=%{lon}<extra></extra>",
           "lat": [
            14.230669
           ],
           "legendgroup": "Duttaphrynus melanostictus (Schneider, 1799)",
           "lon": [
            77.608798
           ],
           "marker": {
            "color": "#EF553B",
            "symbol": "circle"
           },
           "mode": "markers",
           "name": "Duttaphrynus melanostictus (Schneider, 1799)",
           "showlegend": true,
           "type": "scattergeo"
          },
          {
           "geo": "geo",
           "hovertemplate": "scientificName=Murraya koenigii (L.) Spreng.<br>year=2021<br>decimalLatitude=%{lat}<br>decimalLongitude=%{lon}<extra></extra>",
           "lat": [
            11.025005
           ],
           "legendgroup": "Murraya koenigii (L.) Spreng.",
           "lon": [
            76.118573
           ],
           "marker": {
            "color": "#00cc96",
            "symbol": "circle"
           },
           "mode": "markers",
           "name": "Murraya koenigii (L.) Spreng.",
           "showlegend": true,
           "type": "scattergeo"
          },
          {
           "geo": "geo",
           "hovertemplate": "scientificName=Leucauge decorata (Blackwall, 1864)<br>year=2021<br>decimalLatitude=%{lat}<br>decimalLongitude=%{lon}<extra></extra>",
           "lat": [
            13.087367
           ],
           "legendgroup": "Leucauge decorata (Blackwall, 1864)",
           "lon": [
            77.609935
           ],
           "marker": {
            "color": "#ab63fa",
            "symbol": "circle"
           },
           "mode": "markers",
           "name": "Leucauge decorata (Blackwall, 1864)",
           "showlegend": true,
           "type": "scattergeo"
          },
          {
           "geo": "geo",
           "hovertemplate": "scientificName=Bradinopyga geminata Rambur, 1842<br>year=2021<br>decimalLatitude=%{lat}<br>decimalLongitude=%{lon}<extra></extra>",
           "lat": [
            26.65285
           ],
           "legendgroup": "Bradinopyga geminata Rambur, 1842",
           "lon": [
            92.792559
           ],
           "marker": {
            "color": "#FFA15A",
            "symbol": "circle"
           },
           "mode": "markers",
           "name": "Bradinopyga geminata Rambur, 1842",
           "showlegend": true,
           "type": "scattergeo"
          },
          {
           "geo": "geo",
           "hovertemplate": "scientificName=Hemicircus canente (R.Lesson, 1832)<br>year=2021<br>decimalLatitude=%{lat}<br>decimalLongitude=%{lon}<extra></extra>",
           "lat": [
            13.627984
           ],
           "legendgroup": "Hemicircus canente (R.Lesson, 1832)",
           "lon": [
            74.849197
           ],
           "marker": {
            "color": "#19d3f3",
            "symbol": "circle"
           },
           "mode": "markers",
           "name": "Hemicircus canente (R.Lesson, 1832)",
           "showlegend": true,
           "type": "scattergeo"
          },
          {
           "geo": "geo",
           "hovertemplate": "scientificName=Ceriagrion coromandelianum Fabricius, 1798<br>year=2021<br>decimalLatitude=%{lat}<br>decimalLongitude=%{lon}<extra></extra>",
           "lat": [
            13.0711
           ],
           "legendgroup": "Ceriagrion coromandelianum Fabricius, 1798",
           "lon": [
            77.6524
           ],
           "marker": {
            "color": "#FF6692",
            "symbol": "circle"
           },
           "mode": "markers",
           "name": "Ceriagrion coromandelianum Fabricius, 1798",
           "showlegend": true,
           "type": "scattergeo"
          },
          {
           "geo": "geo",
           "hovertemplate": "scientificName=Aviceda leuphotes (Dumont, 1820)<br>year=2021<br>decimalLatitude=%{lat}<br>decimalLongitude=%{lon}<extra></extra>",
           "lat": [
            13.627984
           ],
           "legendgroup": "Aviceda leuphotes (Dumont, 1820)",
           "lon": [
            74.849197
           ],
           "marker": {
            "color": "#B6E880",
            "symbol": "circle"
           },
           "mode": "markers",
           "name": "Aviceda leuphotes (Dumont, 1820)",
           "showlegend": true,
           "type": "scattergeo"
          },
          {
           "geo": "geo",
           "hovertemplate": "scientificName=Lepidochelys olivacea (Eschscholtz, 1829)<br>year=2021<br>decimalLatitude=%{lat}<br>decimalLongitude=%{lon}<extra></extra>",
           "lat": [
            11.941592
           ],
           "legendgroup": "Lepidochelys olivacea (Eschscholtz, 1829)",
           "lon": [
            79.808313
           ],
           "marker": {
            "color": "#FF97FF",
            "symbol": "circle"
           },
           "mode": "markers",
           "name": "Lepidochelys olivacea (Eschscholtz, 1829)",
           "showlegend": true,
           "type": "scattergeo"
          },
          {
           "geo": "geo",
           "hovertemplate": "scientificName=Pholidota imbricata Hook.<br>year=2021<br>decimalLatitude=%{lat}<br>decimalLongitude=%{lon}<extra></extra>",
           "lat": [
            15.39719
           ],
           "legendgroup": "Pholidota imbricata Hook.",
           "lon": [
            74.338219
           ],
           "marker": {
            "color": "#FECB52",
            "symbol": "circle"
           },
           "mode": "markers",
           "name": "Pholidota imbricata Hook.",
           "showlegend": true,
           "type": "scattergeo"
          },
          {
           "geo": "geo",
           "hovertemplate": "scientificName=Arachnothera magna (Hodgson, 1836)<br>year=2021<br>decimalLatitude=%{lat}<br>decimalLongitude=%{lon}<extra></extra>",
           "lat": [
            27.278471
           ],
           "legendgroup": "Arachnothera magna (Hodgson, 1836)",
           "lon": [
            94.024
           ],
           "marker": {
            "color": "#636efa",
            "symbol": "circle"
           },
           "mode": "markers",
           "name": "Arachnothera magna (Hodgson, 1836)",
           "showlegend": true,
           "type": "scattergeo"
          },
          {
           "geo": "geo",
           "hovertemplate": "scientificName=Lalage melanoptera (Rüppell, 1839)<br>year=2021<br>decimalLatitude=%{lat}<br>decimalLongitude=%{lon}<extra></extra>",
           "lat": [
            12.950236
           ],
           "legendgroup": "Lalage melanoptera (Rüppell, 1839)",
           "lon": [
            74.868774
           ],
           "marker": {
            "color": "#EF553B",
            "symbol": "circle"
           },
           "mode": "markers",
           "name": "Lalage melanoptera (Rüppell, 1839)",
           "showlegend": true,
           "type": "scattergeo"
          },
          {
           "geo": "geo",
           "hovertemplate": "scientificName=Indotyphlops braminus (Daudin, 1803)<br>year=2021<br>decimalLatitude=%{lat}<br>decimalLongitude=%{lon}<extra></extra>",
           "lat": [
            12.269655
           ],
           "legendgroup": "Indotyphlops braminus (Daudin, 1803)",
           "lon": [
            76.627553
           ],
           "marker": {
            "color": "#00cc96",
            "symbol": "circle"
           },
           "mode": "markers",
           "name": "Indotyphlops braminus (Daudin, 1803)",
           "showlegend": true,
           "type": "scattergeo"
          },
          {
           "geo": "geo",
           "hovertemplate": "scientificName=Centropus sinensis (Stephens, 1815)<br>year=2021<br>decimalLatitude=%{lat}<br>decimalLongitude=%{lon}<extra></extra>",
           "lat": [
            12.950236
           ],
           "legendgroup": "Centropus sinensis (Stephens, 1815)",
           "lon": [
            74.868774
           ],
           "marker": {
            "color": "#ab63fa",
            "symbol": "circle"
           },
           "mode": "markers",
           "name": "Centropus sinensis (Stephens, 1815)",
           "showlegend": true,
           "type": "scattergeo"
          },
          {
           "geo": "geo",
           "hovertemplate": "scientificName=Salticidae<br>year=2021<br>decimalLatitude=%{lat}<br>decimalLongitude=%{lon}<extra></extra>",
           "lat": [
            10.023718
           ],
           "legendgroup": "Salticidae",
           "lon": [
            76.291944
           ],
           "marker": {
            "color": "#FFA15A",
            "symbol": "circle"
           },
           "mode": "markers",
           "name": "Salticidae",
           "showlegend": true,
           "type": "scattergeo"
          },
          {
           "geo": "geo",
           "hovertemplate": "scientificName=Hibiscus rosa-sinensis L.<br>year=2021<br>decimalLatitude=%{lat}<br>decimalLongitude=%{lon}<extra></extra>",
           "lat": [
            11.025005
           ],
           "legendgroup": "Hibiscus rosa-sinensis L.",
           "lon": [
            76.118573
           ],
           "marker": {
            "color": "#19d3f3",
            "symbol": "circle"
           },
           "mode": "markers",
           "name": "Hibiscus rosa-sinensis L.",
           "showlegend": true,
           "type": "scattergeo"
          },
          {
           "geo": "geo",
           "hovertemplate": "scientificName=Acridotheres tristis (Linnaeus, 1766)<br>year=2021<br>decimalLatitude=%{lat}<br>decimalLongitude=%{lon}<extra></extra>",
           "lat": [
            10.023718,
            12.310435,
            12.956138
           ],
           "legendgroup": "Acridotheres tristis (Linnaeus, 1766)",
           "lon": [
            76.291944,
            76.62397,
            77.120575
           ],
           "marker": {
            "color": "#FF6692",
            "symbol": "circle"
           },
           "mode": "markers",
           "name": "Acridotheres tristis (Linnaeus, 1766)",
           "showlegend": true,
           "type": "scattergeo"
          },
          {
           "geo": "geo",
           "hovertemplate": "scientificName=Danaus chrysippus (Linnaeus, 1758)<br>year=2021<br>decimalLatitude=%{lat}<br>decimalLongitude=%{lon}<extra></extra>",
           "lat": [
            11.6842,
            11.686,
            11.6841,
            11.6835
           ],
           "legendgroup": "Danaus chrysippus (Linnaeus, 1758)",
           "lon": [
            78.1771,
            78.1756,
            78.1771,
            78.1825
           ],
           "marker": {
            "color": "#B6E880",
            "symbol": "circle"
           },
           "mode": "markers",
           "name": "Danaus chrysippus (Linnaeus, 1758)",
           "showlegend": true,
           "type": "scattergeo"
          },
          {
           "geo": "geo",
           "hovertemplate": "scientificName=Neptis hylas Linnaeus, 1758<br>year=2021<br>decimalLatitude=%{lat}<br>decimalLongitude=%{lon}<extra></extra>",
           "lat": [
            11.6861
           ],
           "legendgroup": "Neptis hylas Linnaeus, 1758",
           "lon": [
            78.1755
           ],
           "marker": {
            "color": "#FF97FF",
            "symbol": "circle"
           },
           "mode": "markers",
           "name": "Neptis hylas Linnaeus, 1758",
           "showlegend": true,
           "type": "scattergeo"
          },
          {
           "geo": "geo",
           "hovertemplate": "scientificName=Spindasis vulcanus (Fabricius, 1775)<br>year=2021<br>decimalLatitude=%{lat}<br>decimalLongitude=%{lon}<extra></extra>",
           "lat": [
            11.7364
           ],
           "legendgroup": "Spindasis vulcanus (Fabricius, 1775)",
           "lon": [
            78.1782
           ],
           "marker": {
            "color": "#FECB52",
            "symbol": "circle"
           },
           "mode": "markers",
           "name": "Spindasis vulcanus (Fabricius, 1775)",
           "showlegend": true,
           "type": "scattergeo"
          },
          {
           "geo": "geo",
           "hovertemplate": "scientificName=Tirumala limniace<br>year=2021<br>decimalLatitude=%{lat}<br>decimalLongitude=%{lon}<extra></extra>",
           "lat": [
            11.686,
            11.6856
           ],
           "legendgroup": "Tirumala limniace",
           "lon": [
            78.1762,
            78.1764
           ],
           "marker": {
            "color": "#636efa",
            "symbol": "circle"
           },
           "mode": "markers",
           "name": "Tirumala limniace",
           "showlegend": true,
           "type": "scattergeo"
          },
          {
           "geo": "geo",
           "hovertemplate": "scientificName=Leptotes plinius (Fabricius, 1793)<br>year=2021<br>decimalLatitude=%{lat}<br>decimalLongitude=%{lon}<extra></extra>",
           "lat": [
            25.2392
           ],
           "legendgroup": "Leptotes plinius (Fabricius, 1793)",
           "lon": [
            75.8354
           ],
           "marker": {
            "color": "#EF553B",
            "symbol": "circle"
           },
           "mode": "markers",
           "name": "Leptotes plinius (Fabricius, 1793)",
           "showlegend": true,
           "type": "scattergeo"
          },
          {
           "geo": "geo",
           "hovertemplate": "scientificName=Brachythemis contaminata Fabricius, 1793<br>year=2021<br>decimalLatitude=%{lat}<br>decimalLongitude=%{lon}<extra></extra>",
           "lat": [
            11.686,
            11.6856
           ],
           "legendgroup": "Brachythemis contaminata Fabricius, 1793",
           "lon": [
            78.1758,
            78.1764
           ],
           "marker": {
            "color": "#00cc96",
            "symbol": "circle"
           },
           "mode": "markers",
           "name": "Brachythemis contaminata Fabricius, 1793",
           "showlegend": true,
           "type": "scattergeo"
          },
          {
           "geo": "geo",
           "hovertemplate": "scientificName=Tholymis tillarga Fabricius, 1798<br>year=2021<br>decimalLatitude=%{lat}<br>decimalLongitude=%{lon}<extra></extra>",
           "lat": [
            11.686
           ],
           "legendgroup": "Tholymis tillarga Fabricius, 1798",
           "lon": [
            78.1762
           ],
           "marker": {
            "color": "#ab63fa",
            "symbol": "circle"
           },
           "mode": "markers",
           "name": "Tholymis tillarga Fabricius, 1798",
           "showlegend": true,
           "type": "scattergeo"
          },
          {
           "geo": "geo",
           "hovertemplate": "scientificName=Orthetrum sabina Drury, 1773<br>year=2021<br>decimalLatitude=%{lat}<br>decimalLongitude=%{lon}<extra></extra>",
           "lat": [
            11.6835,
            13.628364
           ],
           "legendgroup": "Orthetrum sabina Drury, 1773",
           "lon": [
            78.1822,
            74.676043
           ],
           "marker": {
            "color": "#FFA15A",
            "symbol": "circle"
           },
           "mode": "markers",
           "name": "Orthetrum sabina Drury, 1773",
           "showlegend": true,
           "type": "scattergeo"
          },
          {
           "geo": "geo",
           "hovertemplate": "scientificName=Hasora chromus Cramer, 1780<br>year=2021<br>decimalLatitude=%{lat}<br>decimalLongitude=%{lon}<extra></extra>",
           "lat": [
            11.6847
           ],
           "legendgroup": "Hasora chromus Cramer, 1780",
           "lon": [
            78.1752
           ],
           "marker": {
            "color": "#19d3f3",
            "symbol": "circle"
           },
           "mode": "markers",
           "name": "Hasora chromus Cramer, 1780",
           "showlegend": true,
           "type": "scattergeo"
          },
          {
           "geo": "geo",
           "hovertemplate": "scientificName=Pterocarpus marsupium Roxb.<br>year=2021<br>decimalLatitude=%{lat}<br>decimalLongitude=%{lon}<extra></extra>",
           "lat": [
            8.728518
           ],
           "legendgroup": "Pterocarpus marsupium Roxb.",
           "lon": [
            77.046717
           ],
           "marker": {
            "color": "#FF6692",
            "symbol": "circle"
           },
           "mode": "markers",
           "name": "Pterocarpus marsupium Roxb.",
           "showlegend": true,
           "type": "scattergeo"
          },
          {
           "geo": "geo",
           "hovertemplate": "scientificName=Pycnonotus gularis (Gould, 1836)<br>year=2021<br>decimalLatitude=%{lat}<br>decimalLongitude=%{lon}<extra></extra>",
           "lat": [
            13.627984
           ],
           "legendgroup": "Pycnonotus gularis (Gould, 1836)",
           "lon": [
            74.849197
           ],
           "marker": {
            "color": "#B6E880",
            "symbol": "circle"
           },
           "mode": "markers",
           "name": "Pycnonotus gularis (Gould, 1836)",
           "showlegend": true,
           "type": "scattergeo"
          },
          {
           "geo": "geo",
           "hovertemplate": "scientificName=Harpactes fasciatus (Pennant, 1769)<br>year=2021<br>decimalLatitude=%{lat}<br>decimalLongitude=%{lon}<extra></extra>",
           "lat": [
            13.627984
           ],
           "legendgroup": "Harpactes fasciatus (Pennant, 1769)",
           "lon": [
            74.849197
           ],
           "marker": {
            "color": "#FF97FF",
            "symbol": "circle"
           },
           "mode": "markers",
           "name": "Harpactes fasciatus (Pennant, 1769)",
           "showlegend": true,
           "type": "scattergeo"
          },
          {
           "geo": "geo",
           "hovertemplate": "scientificName=Holigarna arnottiana Wall. ex Hook.fil.<br>year=2021<br>decimalLatitude=%{lat}<br>decimalLongitude=%{lon}<extra></extra>",
           "lat": [
            10.276098
           ],
           "legendgroup": "Holigarna arnottiana Wall. ex Hook.fil.",
           "lon": [
            76.171128
           ],
           "marker": {
            "color": "#FECB52",
            "symbol": "circle"
           },
           "mode": "markers",
           "name": "Holigarna arnottiana Wall. ex Hook.fil.",
           "showlegend": true,
           "type": "scattergeo"
          },
          {
           "geo": "geo",
           "hovertemplate": "scientificName=Batrachostomus moniliger Blyth, 1849<br>year=2021<br>decimalLatitude=%{lat}<br>decimalLongitude=%{lon}<extra></extra>",
           "lat": [
            15.3888
           ],
           "legendgroup": "Batrachostomus moniliger Blyth, 1849",
           "lon": [
            74.1256
           ],
           "marker": {
            "color": "#636efa",
            "symbol": "circle"
           },
           "mode": "markers",
           "name": "Batrachostomus moniliger Blyth, 1849",
           "showlegend": true,
           "type": "scattergeo"
          },
          {
           "geo": "geo",
           "hovertemplate": "scientificName=Dendrelaphis tristis (Daudin, 1803)<br>year=2021<br>decimalLatitude=%{lat}<br>decimalLongitude=%{lon}<extra></extra>",
           "lat": [
            15.8117
           ],
           "legendgroup": "Dendrelaphis tristis (Daudin, 1803)",
           "lon": [
            74.0964
           ],
           "marker": {
            "color": "#EF553B",
            "symbol": "circle"
           },
           "mode": "markers",
           "name": "Dendrelaphis tristis (Daudin, 1803)",
           "showlegend": true,
           "type": "scattergeo"
          },
          {
           "geo": "geo",
           "hovertemplate": "scientificName=Monilesaurus rouxii (Duméril & Bibron, 1837)<br>year=2021<br>decimalLatitude=%{lat}<br>decimalLongitude=%{lon}<extra></extra>",
           "lat": [
            15.8119,
            15.8128
           ],
           "legendgroup": "Monilesaurus rouxii (Duméril & Bibron, 1837)",
           "lon": [
            74.095,
            74.0967
           ],
           "marker": {
            "color": "#00cc96",
            "symbol": "circle"
           },
           "mode": "markers",
           "name": "Monilesaurus rouxii (Duméril & Bibron, 1837)",
           "showlegend": true,
           "type": "scattergeo"
          },
          {
           "geo": "geo",
           "hovertemplate": "scientificName=Mirabilis jalapa L.<br>year=2021<br>decimalLatitude=%{lat}<br>decimalLongitude=%{lon}<extra></extra>",
           "lat": [
            10.198501
           ],
           "legendgroup": "Mirabilis jalapa L.",
           "lon": [
            76.260222
           ],
           "marker": {
            "color": "#ab63fa",
            "symbol": "circle"
           },
           "mode": "markers",
           "name": "Mirabilis jalapa L.",
           "showlegend": true,
           "type": "scattergeo"
          },
          {
           "geo": "geo",
           "hovertemplate": "scientificName=Lantana camara L.<br>year=2021<br>decimalLatitude=%{lat}<br>decimalLongitude=%{lon}<extra></extra>",
           "lat": [
            10.198501
           ],
           "legendgroup": "Lantana camara L.",
           "lon": [
            76.260222
           ],
           "marker": {
            "color": "#FFA15A",
            "symbol": "circle"
           },
           "mode": "markers",
           "name": "Lantana camara L.",
           "showlegend": true,
           "type": "scattergeo"
          },
          {
           "geo": "geo",
           "hovertemplate": "scientificName=Jamides celeno (Cramer, 1775)<br>year=2021<br>decimalLatitude=%{lat}<br>decimalLongitude=%{lon}<extra></extra>",
           "lat": [
            9.223338
           ],
           "legendgroup": "Jamides celeno (Cramer, 1775)",
           "lon": [
            76.776932
           ],
           "marker": {
            "color": "#19d3f3",
            "symbol": "circle"
           },
           "mode": "markers",
           "name": "Jamides celeno (Cramer, 1775)",
           "showlegend": true,
           "type": "scattergeo"
          },
          {
           "geo": "geo",
           "hovertemplate": "scientificName=Melanitis leda Linnaeus, 1758<br>year=2021<br>decimalLatitude=%{lat}<br>decimalLongitude=%{lon}<extra></extra>",
           "lat": [
            9.696137
           ],
           "legendgroup": "Melanitis leda Linnaeus, 1758",
           "lon": [
            76.300042
           ],
           "marker": {
            "color": "#FF6692",
            "symbol": "circle"
           },
           "mode": "markers",
           "name": "Melanitis leda Linnaeus, 1758",
           "showlegend": true,
           "type": "scattergeo"
          },
          {
           "geo": "geo",
           "hovertemplate": "scientificName=Ficus exasperata Vahl<br>year=2021<br>decimalLatitude=%{lat}<br>decimalLongitude=%{lon}<extra></extra>",
           "lat": [
            10.264021
           ],
           "legendgroup": "Ficus exasperata Vahl",
           "lon": [
            76.145041
           ],
           "marker": {
            "color": "#B6E880",
            "symbol": "circle"
           },
           "mode": "markers",
           "name": "Ficus exasperata Vahl",
           "showlegend": true,
           "type": "scattergeo"
          },
          {
           "geo": "geo",
           "hovertemplate": "scientificName=Trithemis festiva Rambur, 1842<br>year=2021<br>decimalLatitude=%{lat}<br>decimalLongitude=%{lon}<extra></extra>",
           "lat": [
            12.493361
           ],
           "legendgroup": "Trithemis festiva Rambur, 1842",
           "lon": [
            75.56638
           ],
           "marker": {
            "color": "#FF97FF",
            "symbol": "circle"
           },
           "mode": "markers",
           "name": "Trithemis festiva Rambur, 1842",
           "showlegend": true,
           "type": "scattergeo"
          },
          {
           "geo": "geo",
           "hovertemplate": "scientificName=Libellago lineata Burmeister, 1839<br>year=2021<br>decimalLatitude=%{lat}<br>decimalLongitude=%{lon}<extra></extra>",
           "lat": [
            12.493361
           ],
           "legendgroup": "Libellago lineata Burmeister, 1839",
           "lon": [
            75.56638
           ],
           "marker": {
            "color": "#FECB52",
            "symbol": "circle"
           },
           "mode": "markers",
           "name": "Libellago lineata Burmeister, 1839",
           "showlegend": true,
           "type": "scattergeo"
          },
          {
           "geo": "geo",
           "hovertemplate": "scientificName=Gangara thyrsis Fabricius, 1775<br>year=2021<br>decimalLatitude=%{lat}<br>decimalLongitude=%{lon}<extra></extra>",
           "lat": [
            15.39719
           ],
           "legendgroup": "Gangara thyrsis Fabricius, 1775",
           "lon": [
            74.338219
           ],
           "marker": {
            "color": "#636efa",
            "symbol": "circle"
           },
           "mode": "markers",
           "name": "Gangara thyrsis Fabricius, 1775",
           "showlegend": true,
           "type": "scattergeo"
          },
          {
           "geo": "geo",
           "hovertemplate": "scientificName=Odontomantis Saussure, 1871<br>year=2021<br>decimalLatitude=%{lat}<br>decimalLongitude=%{lon}<extra></extra>",
           "lat": [
            8.830766
           ],
           "legendgroup": "Odontomantis Saussure, 1871",
           "lon": [
            77.01338
           ],
           "marker": {
            "color": "#EF553B",
            "symbol": "circle"
           },
           "mode": "markers",
           "name": "Odontomantis Saussure, 1871",
           "showlegend": true,
           "type": "scattergeo"
          },
          {
           "geo": "geo",
           "hovertemplate": "scientificName=Pseudophilautus wynaadensis (Jerdon, 1853)<br>year=2021<br>decimalLatitude=%{lat}<br>decimalLongitude=%{lon}<extra></extra>",
           "lat": [
            12.8605
           ],
           "legendgroup": "Pseudophilautus wynaadensis (Jerdon, 1853)",
           "lon": [
            74.8568
           ],
           "marker": {
            "color": "#00cc96",
            "symbol": "circle"
           },
           "mode": "markers",
           "name": "Pseudophilautus wynaadensis (Jerdon, 1853)",
           "showlegend": true,
           "type": "scattergeo"
          },
          {
           "geo": "geo",
           "hovertemplate": "scientificName=Thomisus lobosus Tikader, 1965<br>year=2021<br>decimalLatitude=%{lat}<br>decimalLongitude=%{lon}<extra></extra>",
           "lat": [
            9.981636
           ],
           "legendgroup": "Thomisus lobosus Tikader, 1965",
           "lon": [
            76.299884
           ],
           "marker": {
            "color": "#ab63fa",
            "symbol": "circle"
           },
           "mode": "markers",
           "name": "Thomisus lobosus Tikader, 1965",
           "showlegend": true,
           "type": "scattergeo"
          },
          {
           "geo": "geo",
           "hovertemplate": "scientificName=Coronella brachyura (Günther, 1866)<br>year=2021<br>decimalLatitude=%{lat}<br>decimalLongitude=%{lon}<extra></extra>",
           "lat": [
            18.755211
           ],
           "legendgroup": "Coronella brachyura (Günther, 1866)",
           "lon": [
            73.444539
           ],
           "marker": {
            "color": "#FFA15A",
            "symbol": "circle"
           },
           "mode": "markers",
           "name": "Coronella brachyura (Günther, 1866)",
           "showlegend": true,
           "type": "scattergeo"
          },
          {
           "geo": "geo",
           "hovertemplate": "scientificName=Mucuna monosperma Roxb. ex Wight<br>year=2021<br>decimalLatitude=%{lat}<br>decimalLongitude=%{lon}<extra></extra>",
           "lat": [
            15.39719
           ],
           "legendgroup": "Mucuna monosperma Roxb. ex Wight",
           "lon": [
            74.338219
           ],
           "marker": {
            "color": "#19d3f3",
            "symbol": "circle"
           },
           "mode": "markers",
           "name": "Mucuna monosperma Roxb. ex Wight",
           "showlegend": true,
           "type": "scattergeo"
          },
          {
           "geo": "geo",
           "hovertemplate": "scientificName=Chroicocephalus brunnicephalus (Jerdon, 1840)<br>year=2021<br>decimalLatitude=%{lat}<br>decimalLongitude=%{lon}<extra></extra>",
           "lat": [
            9.316531
           ],
           "legendgroup": "Chroicocephalus brunnicephalus (Jerdon, 1840)",
           "lon": [
            76.387739
           ],
           "marker": {
            "color": "#FF6692",
            "symbol": "circle"
           },
           "mode": "markers",
           "name": "Chroicocephalus brunnicephalus (Jerdon, 1840)",
           "showlegend": true,
           "type": "scattergeo"
          },
          {
           "geo": "geo",
           "hovertemplate": "scientificName=Cnemaspis Strauch, 1887<br>year=2021<br>decimalLatitude=%{lat}<br>decimalLongitude=%{lon}<extra></extra>",
           "lat": [
            8.831095
           ],
           "legendgroup": "Cnemaspis Strauch, 1887",
           "lon": [
            77.011975
           ],
           "marker": {
            "color": "#B6E880",
            "symbol": "circle"
           },
           "mode": "markers",
           "name": "Cnemaspis Strauch, 1887",
           "showlegend": true,
           "type": "scattergeo"
          },
          {
           "geo": "geo",
           "hovertemplate": "scientificName=Polyrhachis rastellata (Latreille, 1802)<br>year=2021<br>decimalLatitude=%{lat}<br>decimalLongitude=%{lon}<extra></extra>",
           "lat": [
            14.3534
           ],
           "legendgroup": "Polyrhachis rastellata (Latreille, 1802)",
           "lon": [
            75.7407
           ],
           "marker": {
            "color": "#FF97FF",
            "symbol": "circle"
           },
           "mode": "markers",
           "name": "Polyrhachis rastellata (Latreille, 1802)",
           "showlegend": true,
           "type": "scattergeo"
          },
          {
           "geo": "geo",
           "hovertemplate": "scientificName=Luffa Mill.<br>year=2021<br>decimalLatitude=%{lat}<br>decimalLongitude=%{lon}<extra></extra>",
           "lat": [
            10.198501
           ],
           "legendgroup": "Luffa Mill.",
           "lon": [
            76.260222
           ],
           "marker": {
            "color": "#FECB52",
            "symbol": "circle"
           },
           "mode": "markers",
           "name": "Luffa Mill.",
           "showlegend": true,
           "type": "scattergeo"
          },
          {
           "geo": "geo",
           "hovertemplate": "scientificName=Momordica charantia var. charantia<br>year=2021<br>decimalLatitude=%{lat}<br>decimalLongitude=%{lon}<extra></extra>",
           "lat": [
            10.184735
           ],
           "legendgroup": "Momordica charantia var. charantia",
           "lon": [
            76.242119
           ],
           "marker": {
            "color": "#636efa",
            "symbol": "circle"
           },
           "mode": "markers",
           "name": "Momordica charantia var. charantia",
           "showlegend": true,
           "type": "scattergeo"
          },
          {
           "geo": "geo",
           "hovertemplate": "scientificName=Abelmoschus esculentus (L.) Moench<br>year=2021<br>decimalLatitude=%{lat}<br>decimalLongitude=%{lon}<extra></extra>",
           "lat": [
            10.184735
           ],
           "legendgroup": "Abelmoschus esculentus (L.) Moench",
           "lon": [
            76.242119
           ],
           "marker": {
            "color": "#EF553B",
            "symbol": "circle"
           },
           "mode": "markers",
           "name": "Abelmoschus esculentus (L.) Moench",
           "showlegend": true,
           "type": "scattergeo"
          },
          {
           "geo": "geo",
           "hovertemplate": "scientificName=Sphenomorphus dussumieri (Duméril & Bibron, 1839)<br>year=2021<br>decimalLatitude=%{lat}<br>decimalLongitude=%{lon}<extra></extra>",
           "lat": [
            8.623414
           ],
           "legendgroup": "Sphenomorphus dussumieri (Duméril & Bibron, 1839)",
           "lon": [
            77.135682
           ],
           "marker": {
            "color": "#00cc96",
            "symbol": "circle"
           },
           "mode": "markers",
           "name": "Sphenomorphus dussumieri (Duméril & Bibron, 1839)",
           "showlegend": true,
           "type": "scattergeo"
          },
          {
           "geo": "geo",
           "hovertemplate": "scientificName=Raorchestes anili (Biju & Bossuyt, 2006)<br>year=2021<br>decimalLatitude=%{lat}<br>decimalLongitude=%{lon}<extra></extra>",
           "lat": [
            9.529304
           ],
           "legendgroup": "Raorchestes anili (Biju & Bossuyt, 2006)",
           "lon": [
            76.972947
           ],
           "marker": {
            "color": "#ab63fa",
            "symbol": "circle"
           },
           "mode": "markers",
           "name": "Raorchestes anili (Biju & Bossuyt, 2006)",
           "showlegend": true,
           "type": "scattergeo"
          },
          {
           "geo": "geo",
           "hovertemplate": "scientificName=Lissemys punctata (Bonnaterre, 1789)<br>year=2021<br>decimalLatitude=%{lat}<br>decimalLongitude=%{lon}<extra></extra>",
           "lat": [
            23.052319,
            23.032581,
            23.032581,
            22.987212,
            23.032581,
            23.032581,
            23.032581,
            22.986975,
            22.987084,
            22.987089,
            22.987109,
            22.987084,
            22.987119,
            22.987119,
            22.987084,
            22.987237,
            22.987124,
            22.987064,
            22.987064,
            22.987084
           ],
           "legendgroup": "Lissemys punctata (Bonnaterre, 1789)",
           "lon": [
            72.462521,
            72.44893,
            72.44893,
            72.495331,
            72.44893,
            72.44893,
            72.44893,
            72.494878,
            72.496578,
            72.497045,
            72.49616,
            72.496905,
            72.496058,
            72.496031,
            72.497517,
            72.495248,
            72.496417,
            72.49734,
            72.49734,
            72.497281
           ],
           "marker": {
            "color": "#FFA15A",
            "symbol": "circle"
           },
           "mode": "markers",
           "name": "Lissemys punctata (Bonnaterre, 1789)",
           "showlegend": true,
           "type": "scattergeo"
          },
          {
           "geo": "geo",
           "hovertemplate": "scientificName=Prinia inornata Sykes, 1832<br>year=2021<br>decimalLatitude=%{lat}<br>decimalLongitude=%{lon}<extra></extra>",
           "lat": [
            14.45503
           ],
           "legendgroup": "Prinia inornata Sykes, 1832",
           "lon": [
            75.892607
           ],
           "marker": {
            "color": "#19d3f3",
            "symbol": "circle"
           },
           "mode": "markers",
           "name": "Prinia inornata Sykes, 1832",
           "showlegend": true,
           "type": "scattergeo"
          },
          {
           "geo": "geo",
           "hovertemplate": "scientificName=Actitis hypoleucos (Linnaeus, 1758)<br>year=2021<br>decimalLatitude=%{lat}<br>decimalLongitude=%{lon}<extra></extra>",
           "lat": [
            14.45503
           ],
           "legendgroup": "Actitis hypoleucos (Linnaeus, 1758)",
           "lon": [
            75.892607
           ],
           "marker": {
            "color": "#FF6692",
            "symbol": "circle"
           },
           "mode": "markers",
           "name": "Actitis hypoleucos (Linnaeus, 1758)",
           "showlegend": true,
           "type": "scattergeo"
          },
          {
           "geo": "geo",
           "hovertemplate": "scientificName=Gallinago stenura (Bonaparte, 1831)<br>year=2021<br>decimalLatitude=%{lat}<br>decimalLongitude=%{lon}<extra></extra>",
           "lat": [
            14.45503
           ],
           "legendgroup": "Gallinago stenura (Bonaparte, 1831)",
           "lon": [
            75.892607
           ],
           "marker": {
            "color": "#B6E880",
            "symbol": "circle"
           },
           "mode": "markers",
           "name": "Gallinago stenura (Bonaparte, 1831)",
           "showlegend": true,
           "type": "scattergeo"
          },
          {
           "geo": "geo",
           "hovertemplate": "scientificName=Euploea core Cramer, 1780<br>year=2021<br>decimalLatitude=%{lat}<br>decimalLongitude=%{lon}<extra></extra>",
           "lat": [
            11.6854
           ],
           "legendgroup": "Euploea core Cramer, 1780",
           "lon": [
            78.1765
           ],
           "marker": {
            "color": "#FF97FF",
            "symbol": "circle"
           },
           "mode": "markers",
           "name": "Euploea core Cramer, 1780",
           "showlegend": true,
           "type": "scattergeo"
          },
          {
           "geo": "geo",
           "hovertemplate": "scientificName=Oenanthe pleschanka (Lepechin, 1770)<br>year=2021<br>decimalLatitude=%{lat}<br>decimalLongitude=%{lon}<extra></extra>",
           "lat": [
            12.947402
           ],
           "legendgroup": "Oenanthe pleschanka (Lepechin, 1770)",
           "lon": [
            74.922247
           ],
           "marker": {
            "color": "#FECB52",
            "symbol": "circle"
           },
           "mode": "markers",
           "name": "Oenanthe pleschanka (Lepechin, 1770)",
           "showlegend": true,
           "type": "scattergeo"
          },
          {
           "geo": "geo",
           "hovertemplate": "scientificName=Motacilla flava Linnaeus, 1758<br>year=2021<br>decimalLatitude=%{lat}<br>decimalLongitude=%{lon}<extra></extra>",
           "lat": [
            14.45503
           ],
           "legendgroup": "Motacilla flava Linnaeus, 1758",
           "lon": [
            75.892607
           ],
           "marker": {
            "color": "#636efa",
            "symbol": "circle"
           },
           "mode": "markers",
           "name": "Motacilla flava Linnaeus, 1758",
           "showlegend": true,
           "type": "scattergeo"
          },
          {
           "geo": "geo",
           "hovertemplate": "scientificName=Ardea cinerea Linnaeus, 1758<br>year=2021<br>decimalLatitude=%{lat}<br>decimalLongitude=%{lon}<extra></extra>",
           "lat": [
            14.45503,
            14.45503,
            12.310395
           ],
           "legendgroup": "Ardea cinerea Linnaeus, 1758",
           "lon": [
            75.892607,
            75.892607,
            76.630441
           ],
           "marker": {
            "color": "#EF553B",
            "symbol": "circle"
           },
           "mode": "markers",
           "name": "Ardea cinerea Linnaeus, 1758",
           "showlegend": true,
           "type": "scattergeo"
          },
          {
           "geo": "geo",
           "hovertemplate": "scientificName=Anastomus oscitans (Boddaert, 1783)<br>year=2021<br>decimalLatitude=%{lat}<br>decimalLongitude=%{lon}<extra></extra>",
           "lat": [
            10.545077,
            14.45503
           ],
           "legendgroup": "Anastomus oscitans (Boddaert, 1783)",
           "lon": [
            76.14649,
            75.892607
           ],
           "marker": {
            "color": "#00cc96",
            "symbol": "circle"
           },
           "mode": "markers",
           "name": "Anastomus oscitans (Boddaert, 1783)",
           "showlegend": true,
           "type": "scattergeo"
          },
          {
           "geo": "geo",
           "hovertemplate": "scientificName=Motacilla maderaspatensis Gmelin, 1789<br>year=2021<br>decimalLatitude=%{lat}<br>decimalLongitude=%{lon}<extra></extra>",
           "lat": [
            14.45503
           ],
           "legendgroup": "Motacilla maderaspatensis Gmelin, 1789",
           "lon": [
            75.892607
           ],
           "marker": {
            "color": "#ab63fa",
            "symbol": "circle"
           },
           "mode": "markers",
           "name": "Motacilla maderaspatensis Gmelin, 1789",
           "showlegend": true,
           "type": "scattergeo"
          },
          {
           "geo": "geo",
           "hovertemplate": "scientificName=Glareola lactea Temminck, 1820<br>year=2021<br>decimalLatitude=%{lat}<br>decimalLongitude=%{lon}<extra></extra>",
           "lat": [
            10.545077
           ],
           "legendgroup": "Glareola lactea Temminck, 1820",
           "lon": [
            76.14649
           ],
           "marker": {
            "color": "#FFA15A",
            "symbol": "circle"
           },
           "mode": "markers",
           "name": "Glareola lactea Temminck, 1820",
           "showlegend": true,
           "type": "scattergeo"
          },
          {
           "geo": "geo",
           "hovertemplate": "scientificName=Threskiornis melanocephalus (Latham, 1790)<br>year=2021<br>decimalLatitude=%{lat}<br>decimalLongitude=%{lon}<extra></extra>",
           "lat": [
            10.545077,
            14.45503
           ],
           "legendgroup": "Threskiornis melanocephalus (Latham, 1790)",
           "lon": [
            76.14649,
            75.892607
           ],
           "marker": {
            "color": "#19d3f3",
            "symbol": "circle"
           },
           "mode": "markers",
           "name": "Threskiornis melanocephalus (Latham, 1790)",
           "showlegend": true,
           "type": "scattergeo"
          },
          {
           "geo": "geo",
           "hovertemplate": "scientificName=Cepora nerissa (Fabricius, 1775)<br>year=2021<br>decimalLatitude=%{lat}<br>decimalLongitude=%{lon}<extra></extra>",
           "lat": [
            11.6857
           ],
           "legendgroup": "Cepora nerissa (Fabricius, 1775)",
           "lon": [
            78.1761
           ],
           "marker": {
            "color": "#FF6692",
            "symbol": "circle"
           },
           "mode": "markers",
           "name": "Cepora nerissa (Fabricius, 1775)",
           "showlegend": true,
           "type": "scattergeo"
          },
          {
           "geo": "geo",
           "hovertemplate": "scientificName=Hypolimnas bolina Linnaeus, 1758<br>year=2021<br>decimalLatitude=%{lat}<br>decimalLongitude=%{lon}<extra></extra>",
           "lat": [
            11.684
           ],
           "legendgroup": "Hypolimnas bolina Linnaeus, 1758",
           "lon": [
            78.1771
           ],
           "marker": {
            "color": "#B6E880",
            "symbol": "circle"
           },
           "mode": "markers",
           "name": "Hypolimnas bolina Linnaeus, 1758",
           "showlegend": true,
           "type": "scattergeo"
          },
          {
           "geo": "geo",
           "hovertemplate": "scientificName=Oriolus kundoo Sykes, 1832<br>year=2021<br>decimalLatitude=%{lat}<br>decimalLongitude=%{lon}<extra></extra>",
           "lat": [
            10.029107
           ],
           "legendgroup": "Oriolus kundoo Sykes, 1832",
           "lon": [
            76.35898
           ],
           "marker": {
            "color": "#FF97FF",
            "symbol": "circle"
           },
           "mode": "markers",
           "name": "Oriolus kundoo Sykes, 1832",
           "showlegend": true,
           "type": "scattergeo"
          },
          {
           "geo": "geo",
           "hovertemplate": "scientificName=Dodonaea viscosa (L.) Jacq.<br>year=2021<br>decimalLatitude=%{lat}<br>decimalLongitude=%{lon}<extra></extra>",
           "lat": [
            14.2333
           ],
           "legendgroup": "Dodonaea viscosa (L.) Jacq.",
           "lon": [
            77.6117
           ],
           "marker": {
            "color": "#FECB52",
            "symbol": "circle"
           },
           "mode": "markers",
           "name": "Dodonaea viscosa (L.) Jacq.",
           "showlegend": true,
           "type": "scattergeo"
          },
          {
           "geo": "geo",
           "hovertemplate": "scientificName=Nyctyornis athertoni (Jardine & Selby, 1828)<br>year=2021<br>decimalLatitude=%{lat}<br>decimalLongitude=%{lon}<extra></extra>",
           "lat": [
            11.353002
           ],
           "legendgroup": "Nyctyornis athertoni (Jardine & Selby, 1828)",
           "lon": [
            76.79591
           ],
           "marker": {
            "color": "#636efa",
            "symbol": "circle"
           },
           "mode": "markers",
           "name": "Nyctyornis athertoni (Jardine & Selby, 1828)",
           "showlegend": true,
           "type": "scattergeo"
          },
          {
           "geo": "geo",
           "hovertemplate": "scientificName=Calliandra haematocephala Hassk.<br>year=2021<br>decimalLatitude=%{lat}<br>decimalLongitude=%{lon}<extra></extra>",
           "lat": [
            25.2329
           ],
           "legendgroup": "Calliandra haematocephala Hassk.",
           "lon": [
            75.8347
           ],
           "marker": {
            "color": "#EF553B",
            "symbol": "circle"
           },
           "mode": "markers",
           "name": "Calliandra haematocephala Hassk.",
           "showlegend": true,
           "type": "scattergeo"
          },
          {
           "geo": "geo",
           "hovertemplate": "scientificName=Junonia almana Linnaeus, 1758<br>year=2021<br>decimalLatitude=%{lat}<br>decimalLongitude=%{lon}<extra></extra>",
           "lat": [
            25.2313
           ],
           "legendgroup": "Junonia almana Linnaeus, 1758",
           "lon": [
            75.8405
           ],
           "marker": {
            "color": "#00cc96",
            "symbol": "circle"
           },
           "mode": "markers",
           "name": "Junonia almana Linnaeus, 1758",
           "showlegend": true,
           "type": "scattergeo"
          },
          {
           "geo": "geo",
           "hovertemplate": "scientificName=Rosa L.<br>year=2021<br>decimalLatitude=%{lat}<br>decimalLongitude=%{lon}<extra></extra>",
           "lat": [
            26.943559
           ],
           "legendgroup": "Rosa L.",
           "lon": [
            94.200024
           ],
           "marker": {
            "color": "#ab63fa",
            "symbol": "circle"
           },
           "mode": "markers",
           "name": "Rosa L.",
           "showlegend": true,
           "type": "scattergeo"
          },
          {
           "geo": "geo",
           "hovertemplate": "scientificName=Cuscuta reflexa Roxb.<br>year=2021<br>decimalLatitude=%{lat}<br>decimalLongitude=%{lon}<extra></extra>",
           "lat": [
            25.2329
           ],
           "legendgroup": "Cuscuta reflexa Roxb.",
           "lon": [
            75.8347
           ],
           "marker": {
            "color": "#FFA15A",
            "symbol": "circle"
           },
           "mode": "markers",
           "name": "Cuscuta reflexa Roxb.",
           "showlegend": true,
           "type": "scattergeo"
          },
          {
           "geo": "geo",
           "hovertemplate": "scientificName=Rhacophorus Kuhl & Van Hasselt, 1822<br>year=2021<br>decimalLatitude=%{lat}<br>decimalLongitude=%{lon}<extra></extra>",
           "lat": [
            25.143525
           ],
           "legendgroup": "Rhacophorus Kuhl & Van Hasselt, 1822",
           "lon": [
            94.283342
           ],
           "marker": {
            "color": "#19d3f3",
            "symbol": "circle"
           },
           "mode": "markers",
           "name": "Rhacophorus Kuhl & Van Hasselt, 1822",
           "showlegend": true,
           "type": "scattergeo"
          },
          {
           "geo": "geo",
           "hovertemplate": "scientificName=Nyctemera coleta Cramer, 1781<br>year=2021<br>decimalLatitude=%{lat}<br>decimalLongitude=%{lon}<extra></extra>",
           "lat": [
            8.941641
           ],
           "legendgroup": "Nyctemera coleta Cramer, 1781",
           "lon": [
            76.753858
           ],
           "marker": {
            "color": "#FF6692",
            "symbol": "circle"
           },
           "mode": "markers",
           "name": "Nyctemera coleta Cramer, 1781",
           "showlegend": true,
           "type": "scattergeo"
          },
          {
           "geo": "geo",
           "hovertemplate": "scientificName=Crocothemis Brulle, 1832<br>year=2021<br>decimalLatitude=%{lat}<br>decimalLongitude=%{lon}<extra></extra>",
           "lat": [
            14.147724
           ],
           "legendgroup": "Crocothemis Brulle, 1832",
           "lon": [
            75.112001
           ],
           "marker": {
            "color": "#B6E880",
            "symbol": "circle"
           },
           "mode": "markers",
           "name": "Crocothemis Brulle, 1832",
           "showlegend": true,
           "type": "scattergeo"
          },
          {
           "geo": "geo",
           "hovertemplate": "scientificName=Argiope Audouin, 1826<br>year=2021<br>decimalLatitude=%{lat}<br>decimalLongitude=%{lon}<extra></extra>",
           "lat": [
            13.337876
           ],
           "legendgroup": "Argiope Audouin, 1826",
           "lon": [
            77.117325
           ],
           "marker": {
            "color": "#FF97FF",
            "symbol": "circle"
           },
           "mode": "markers",
           "name": "Argiope Audouin, 1826",
           "showlegend": true,
           "type": "scattergeo"
          },
          {
           "geo": "geo",
           "hovertemplate": "scientificName=Micrixalus gadgili Pillai & Pattabiraman, 1990<br>year=2021<br>decimalLatitude=%{lat}<br>decimalLongitude=%{lon}<extra></extra>",
           "lat": [
            9.587903
           ],
           "legendgroup": "Micrixalus gadgili Pillai & Pattabiraman, 1990",
           "lon": [
            77.180071
           ],
           "marker": {
            "color": "#FECB52",
            "symbol": "circle"
           },
           "mode": "markers",
           "name": "Micrixalus gadgili Pillai & Pattabiraman, 1990",
           "showlegend": true,
           "type": "scattergeo"
          },
          {
           "geo": "geo",
           "hovertemplate": "scientificName=Minervarya keralensis (Dubois, 1981)<br>year=2021<br>decimalLatitude=%{lat}<br>decimalLongitude=%{lon}<extra></extra>",
           "lat": [
            8.623414
           ],
           "legendgroup": "Minervarya keralensis (Dubois, 1981)",
           "lon": [
            77.135682
           ],
           "marker": {
            "color": "#636efa",
            "symbol": "circle"
           },
           "mode": "markers",
           "name": "Minervarya keralensis (Dubois, 1981)",
           "showlegend": true,
           "type": "scattergeo"
          },
          {
           "geo": "geo",
           "hovertemplate": "scientificName=Eryx johnii (Russell, 1801)<br>year=2021<br>decimalLatitude=%{lat}<br>decimalLongitude=%{lon}<extra></extra>",
           "lat": [
            25.2329
           ],
           "legendgroup": "Eryx johnii (Russell, 1801)",
           "lon": [
            75.8399
           ],
           "marker": {
            "color": "#EF553B",
            "symbol": "circle"
           },
           "mode": "markers",
           "name": "Eryx johnii (Russell, 1801)",
           "showlegend": true,
           "type": "scattergeo"
          },
          {
           "geo": "geo",
           "hovertemplate": "scientificName=Pila olea (Reeve, 1856)<br>year=2021<br>decimalLatitude=%{lat}<br>decimalLongitude=%{lon}<extra></extra>",
           "lat": [
            26.4879
           ],
           "legendgroup": "Pila olea (Reeve, 1856)",
           "lon": [
            91.6989
           ],
           "marker": {
            "color": "#00cc96",
            "symbol": "circle"
           },
           "mode": "markers",
           "name": "Pila olea (Reeve, 1856)",
           "showlegend": true,
           "type": "scattergeo"
          },
          {
           "geo": "geo",
           "hovertemplate": "scientificName=Haliastur indus (Boddaert, 1783)<br>year=2021<br>decimalLatitude=%{lat}<br>decimalLongitude=%{lon}<extra></extra>",
           "lat": [
            14.45503
           ],
           "legendgroup": "Haliastur indus (Boddaert, 1783)",
           "lon": [
            75.892607
           ],
           "marker": {
            "color": "#ab63fa",
            "symbol": "circle"
           },
           "mode": "markers",
           "name": "Haliastur indus (Boddaert, 1783)",
           "showlegend": true,
           "type": "scattergeo"
          },
          {
           "geo": "geo",
           "hovertemplate": "scientificName=Oxyopes Latreille, 1806<br>year=2021<br>decimalLatitude=%{lat}<br>decimalLongitude=%{lon}<extra></extra>",
           "lat": [
            8.713913
           ],
           "legendgroup": "Oxyopes Latreille, 1806",
           "lon": [
            77.756652
           ],
           "marker": {
            "color": "#FFA15A",
            "symbol": "circle"
           },
           "mode": "markers",
           "name": "Oxyopes Latreille, 1806",
           "showlegend": true,
           "type": "scattergeo"
          },
          {
           "geo": "geo",
           "hovertemplate": "scientificName=Microcarbo niger (Vieillot, 1817)<br>year=2021<br>decimalLatitude=%{lat}<br>decimalLongitude=%{lon}<extra></extra>",
           "lat": [
            14.45503
           ],
           "legendgroup": "Microcarbo niger (Vieillot, 1817)",
           "lon": [
            75.892607
           ],
           "marker": {
            "color": "#19d3f3",
            "symbol": "circle"
           },
           "mode": "markers",
           "name": "Microcarbo niger (Vieillot, 1817)",
           "showlegend": true,
           "type": "scattergeo"
          },
          {
           "geo": "geo",
           "hovertemplate": "scientificName=Pseudibis papillosa (Temminck, 1824)<br>year=2021<br>decimalLatitude=%{lat}<br>decimalLongitude=%{lon}<extra></extra>",
           "lat": [
            12.310435
           ],
           "legendgroup": "Pseudibis papillosa (Temminck, 1824)",
           "lon": [
            76.62397
           ],
           "marker": {
            "color": "#FF6692",
            "symbol": "circle"
           },
           "mode": "markers",
           "name": "Pseudibis papillosa (Temminck, 1824)",
           "showlegend": true,
           "type": "scattergeo"
          },
          {
           "geo": "geo",
           "hovertemplate": "scientificName=Athene brama (Temminck, 1821)<br>year=2021<br>decimalLatitude=%{lat}<br>decimalLongitude=%{lon}<extra></extra>",
           "lat": [
            12.313448,
            12.310435,
            12.310435
           ],
           "legendgroup": "Athene brama (Temminck, 1821)",
           "lon": [
            76.620213,
            76.62397,
            76.62397
           ],
           "marker": {
            "color": "#B6E880",
            "symbol": "circle"
           },
           "mode": "markers",
           "name": "Athene brama (Temminck, 1821)",
           "showlegend": true,
           "type": "scattergeo"
          },
          {
           "geo": "geo",
           "hovertemplate": "scientificName=Anser indicus (Latham, 1790)<br>year=2021<br>decimalLatitude=%{lat}<br>decimalLongitude=%{lon}<extra></extra>",
           "lat": [
            14.45503
           ],
           "legendgroup": "Anser indicus (Latham, 1790)",
           "lon": [
            75.892607
           ],
           "marker": {
            "color": "#FF97FF",
            "symbol": "circle"
           },
           "mode": "markers",
           "name": "Anser indicus (Latham, 1790)",
           "showlegend": true,
           "type": "scattergeo"
          },
          {
           "geo": "geo",
           "hovertemplate": "scientificName=Ocyceros birostris (Scopoli, 1786)<br>year=2021<br>decimalLatitude=%{lat}<br>decimalLongitude=%{lon}<extra></extra>",
           "lat": [
            12.310435
           ],
           "legendgroup": "Ocyceros birostris (Scopoli, 1786)",
           "lon": [
            76.62397
           ],
           "marker": {
            "color": "#FECB52",
            "symbol": "circle"
           },
           "mode": "markers",
           "name": "Ocyceros birostris (Scopoli, 1786)",
           "showlegend": true,
           "type": "scattergeo"
          },
          {
           "geo": "geo",
           "hovertemplate": "scientificName=Vulpes bengalensis (Shaw, 1800)<br>year=2021<br>decimalLatitude=%{lat}<br>decimalLongitude=%{lon}<extra></extra>",
           "lat": [
            12.310395
           ],
           "legendgroup": "Vulpes bengalensis (Shaw, 1800)",
           "lon": [
            76.630441
           ],
           "marker": {
            "color": "#636efa",
            "symbol": "circle"
           },
           "mode": "markers",
           "name": "Vulpes bengalensis (Shaw, 1800)",
           "showlegend": true,
           "type": "scattergeo"
          },
          {
           "geo": "geo",
           "hovertemplate": "scientificName=Dinopium benghalense (Linnaeus, 1758)<br>year=2021<br>decimalLatitude=%{lat}<br>decimalLongitude=%{lon}<extra></extra>",
           "lat": [
            12.310435
           ],
           "legendgroup": "Dinopium benghalense (Linnaeus, 1758)",
           "lon": [
            76.62397
           ],
           "marker": {
            "color": "#EF553B",
            "symbol": "circle"
           },
           "mode": "markers",
           "name": "Dinopium benghalense (Linnaeus, 1758)",
           "showlegend": true,
           "type": "scattergeo"
          },
          {
           "geo": "geo",
           "hovertemplate": "scientificName=Telamonia dimidiata (Simon, 1899)<br>year=2021<br>decimalLatitude=%{lat}<br>decimalLongitude=%{lon}<extra></extra>",
           "lat": [
            8.941641
           ],
           "legendgroup": "Telamonia dimidiata (Simon, 1899)",
           "lon": [
            76.753858
           ],
           "marker": {
            "color": "#00cc96",
            "symbol": "circle"
           },
           "mode": "markers",
           "name": "Telamonia dimidiata (Simon, 1899)",
           "showlegend": true,
           "type": "scattergeo"
          },
          {
           "geo": "geo",
           "hovertemplate": "scientificName=Pericrocotus cinnamomeus (Linnaeus, 1766)<br>year=2021<br>decimalLatitude=%{lat}<br>decimalLongitude=%{lon}<extra></extra>",
           "lat": [
            12.310435
           ],
           "legendgroup": "Pericrocotus cinnamomeus (Linnaeus, 1766)",
           "lon": [
            76.62397
           ],
           "marker": {
            "color": "#ab63fa",
            "symbol": "circle"
           },
           "mode": "markers",
           "name": "Pericrocotus cinnamomeus (Linnaeus, 1766)",
           "showlegend": true,
           "type": "scattergeo"
          },
          {
           "geo": "geo",
           "hovertemplate": "scientificName=Nilssonia gangetica (Cuvier, 1825)<br>year=2021<br>decimalLatitude=%{lat}<br>decimalLongitude=%{lon}<extra></extra>",
           "lat": [
            22.314715
           ],
           "legendgroup": "Nilssonia gangetica (Cuvier, 1825)",
           "lon": [
            73.19089
           ],
           "marker": {
            "color": "#FFA15A",
            "symbol": "circle"
           },
           "mode": "markers",
           "name": "Nilssonia gangetica (Cuvier, 1825)",
           "showlegend": true,
           "type": "scattergeo"
          },
          {
           "geo": "geo",
           "hovertemplate": "scientificName=Fowlea piscator (Schneider, 1799)<br>year=2021<br>decimalLatitude=%{lat}<br>decimalLongitude=%{lon}<extra></extra>",
           "lat": [
            22.987242
           ],
           "legendgroup": "Fowlea piscator (Schneider, 1799)",
           "lon": [
            72.495173
           ],
           "marker": {
            "color": "#19d3f3",
            "symbol": "circle"
           },
           "mode": "markers",
           "name": "Fowlea piscator (Schneider, 1799)",
           "showlegend": true,
           "type": "scattergeo"
          },
          {
           "geo": "geo",
           "hovertemplate": "scientificName=Crocodylus palustris (Lesson, 1831)<br>year=2021<br>decimalLatitude=%{lat}<br>decimalLongitude=%{lon}<extra></extra>",
           "lat": [
            22.314635,
            22.305668,
            22.305668,
            22.305668,
            22.305668,
            22.305668,
            22.31472,
            22.314635
           ],
           "legendgroup": "Crocodylus palustris (Lesson, 1831)",
           "lon": [
            73.190791,
            73.186209,
            73.186209,
            73.186209,
            73.186209,
            73.186209,
            73.190869,
            73.190791
           ],
           "marker": {
            "color": "#FF6692",
            "symbol": "circle"
           },
           "mode": "markers",
           "name": "Crocodylus palustris (Lesson, 1831)",
           "showlegend": true,
           "type": "scattergeo"
          },
          {
           "geo": "geo",
           "hovertemplate": "scientificName=Anthus rufulus Vieillot, 1818<br>year=2021<br>decimalLatitude=%{lat}<br>decimalLongitude=%{lon}<extra></extra>",
           "lat": [
            12.967263
           ],
           "legendgroup": "Anthus rufulus Vieillot, 1818",
           "lon": [
            74.847125
           ],
           "marker": {
            "color": "#B6E880",
            "symbol": "circle"
           },
           "mode": "markers",
           "name": "Anthus rufulus Vieillot, 1818",
           "showlegend": true,
           "type": "scattergeo"
          },
          {
           "geo": "geo",
           "hovertemplate": "scientificName=Mirafra affinis Blyth, 1845<br>year=2021<br>decimalLatitude=%{lat}<br>decimalLongitude=%{lon}<extra></extra>",
           "lat": [
            12.967263
           ],
           "legendgroup": "Mirafra affinis Blyth, 1845",
           "lon": [
            74.847125
           ],
           "marker": {
            "color": "#FF97FF",
            "symbol": "circle"
           },
           "mode": "markers",
           "name": "Mirafra affinis Blyth, 1845",
           "showlegend": true,
           "type": "scattergeo"
          },
          {
           "geo": "geo",
           "hovertemplate": "scientificName=Cerambycidae<br>year=2021<br>decimalLatitude=%{lat}<br>decimalLongitude=%{lon}<extra></extra>",
           "lat": [
            25.845676
           ],
           "legendgroup": "Cerambycidae",
           "lon": [
            93.437758
           ],
           "marker": {
            "color": "#FECB52",
            "symbol": "circle"
           },
           "mode": "markers",
           "name": "Cerambycidae",
           "showlegend": true,
           "type": "scattergeo"
          },
          {
           "geo": "geo",
           "hovertemplate": "scientificName=Ascalaphidae<br>year=2021<br>decimalLatitude=%{lat}<br>decimalLongitude=%{lon}<extra></extra>",
           "lat": [
            25.845676
           ],
           "legendgroup": "Ascalaphidae",
           "lon": [
            93.437758
           ],
           "marker": {
            "color": "#636efa",
            "symbol": "circle"
           },
           "mode": "markers",
           "name": "Ascalaphidae",
           "showlegend": true,
           "type": "scattergeo"
          },
          {
           "geo": "geo",
           "hovertemplate": "scientificName=Dillenia indica L.<br>year=2021<br>decimalLatitude=%{lat}<br>decimalLongitude=%{lon}<extra></extra>",
           "lat": [
            8.487969
           ],
           "legendgroup": "Dillenia indica L.",
           "lon": [
            76.980914
           ],
           "marker": {
            "color": "#EF553B",
            "symbol": "circle"
           },
           "mode": "markers",
           "name": "Dillenia indica L.",
           "showlegend": true,
           "type": "scattergeo"
          },
          {
           "geo": "geo",
           "hovertemplate": "scientificName=Thyas honesta Hübner, 1806<br>year=2021<br>decimalLatitude=%{lat}<br>decimalLongitude=%{lon}<extra></extra>",
           "lat": [
            25.589701
           ],
           "legendgroup": "Thyas honesta Hübner, 1806",
           "lon": [
            91.87582
           ],
           "marker": {
            "color": "#00cc96",
            "symbol": "circle"
           },
           "mode": "markers",
           "name": "Thyas honesta Hübner, 1806",
           "showlegend": true,
           "type": "scattergeo"
          },
          {
           "geo": "geo",
           "hovertemplate": "scientificName=Leptocentrus Stål, 1866<br>year=2021<br>decimalLatitude=%{lat}<br>decimalLongitude=%{lon}<extra></extra>",
           "lat": [
            21.3153
           ],
           "legendgroup": "Leptocentrus Stål, 1866",
           "lon": [
            72.8777
           ],
           "marker": {
            "color": "#ab63fa",
            "symbol": "circle"
           },
           "mode": "markers",
           "name": "Leptocentrus Stål, 1866",
           "showlegend": true,
           "type": "scattergeo"
          },
          {
           "geo": "geo",
           "hovertemplate": "scientificName=Ficus religiosa L.<br>year=2021<br>decimalLatitude=%{lat}<br>decimalLongitude=%{lon}<extra></extra>",
           "lat": [
            10.7597,
            10.7597
           ],
           "legendgroup": "Ficus religiosa L.",
           "lon": [
            75.9353,
            75.9353
           ],
           "marker": {
            "color": "#FFA15A",
            "symbol": "circle"
           },
           "mode": "markers",
           "name": "Ficus religiosa L.",
           "showlegend": true,
           "type": "scattergeo"
          },
          {
           "geo": "geo",
           "hovertemplate": "scientificName=Melanochelys trijuga (Schweigger, 1812)<br>year=2021<br>decimalLatitude=%{lat}<br>decimalLongitude=%{lon}<extra></extra>",
           "lat": [
            13.136214
           ],
           "legendgroup": "Melanochelys trijuga (Schweigger, 1812)",
           "lon": [
            78.129099
           ],
           "marker": {
            "color": "#19d3f3",
            "symbol": "circle"
           },
           "mode": "markers",
           "name": "Melanochelys trijuga (Schweigger, 1812)",
           "showlegend": true,
           "type": "scattergeo"
          },
          {
           "geo": "geo",
           "hovertemplate": "scientificName=Argiope anasuja Thorell, 1887<br>year=2021<br>decimalLatitude=%{lat}<br>decimalLongitude=%{lon}<extra></extra>",
           "lat": [
            8.688281,
            19.2857
           ],
           "legendgroup": "Argiope anasuja Thorell, 1887",
           "lon": [
            76.759622,
            72.858
           ],
           "marker": {
            "color": "#FF6692",
            "symbol": "circle"
           },
           "mode": "markers",
           "name": "Argiope anasuja Thorell, 1887",
           "showlegend": true,
           "type": "scattergeo"
          },
          {
           "geo": "geo",
           "hovertemplate": "scientificName=Tecoma Juss.<br>year=2021<br>decimalLatitude=%{lat}<br>decimalLongitude=%{lon}<extra></extra>",
           "lat": [
            8.895816
           ],
           "legendgroup": "Tecoma Juss.",
           "lon": [
            76.578146
           ],
           "marker": {
            "color": "#B6E880",
            "symbol": "circle"
           },
           "mode": "markers",
           "name": "Tecoma Juss.",
           "showlegend": true,
           "type": "scattergeo"
          },
          {
           "geo": "geo",
           "hovertemplate": "scientificName=Mucuna bracteata DC.<br>year=2021<br>decimalLatitude=%{lat}<br>decimalLongitude=%{lon}<extra></extra>",
           "lat": [
            23.74563
           ],
           "legendgroup": "Mucuna bracteata DC.",
           "lon": [
            91.337282
           ],
           "marker": {
            "color": "#FF97FF",
            "symbol": "circle"
           },
           "mode": "markers",
           "name": "Mucuna bracteata DC.",
           "showlegend": true,
           "type": "scattergeo"
          },
          {
           "geo": "geo",
           "hovertemplate": "scientificName=Parthenos sylvia (Cramer, 1776)<br>year=2021<br>decimalLatitude=%{lat}<br>decimalLongitude=%{lon}<extra></extra>",
           "lat": [
            10.178824
           ],
           "legendgroup": "Parthenos sylvia (Cramer, 1776)",
           "lon": [
            76.330317
           ],
           "marker": {
            "color": "#FECB52",
            "symbol": "circle"
           },
           "mode": "markers",
           "name": "Parthenos sylvia (Cramer, 1776)",
           "showlegend": true,
           "type": "scattergeo"
          },
          {
           "geo": "geo",
           "hovertemplate": "scientificName=Euthalia aconthea Cramer, 1779<br>year=2021<br>decimalLatitude=%{lat}<br>decimalLongitude=%{lon}<extra></extra>",
           "lat": [
            8.931944,
            8.549304
           ],
           "legendgroup": "Euthalia aconthea Cramer, 1779",
           "lon": [
            76.644159,
            76.977268
           ],
           "marker": {
            "color": "#636efa",
            "symbol": "circle"
           },
           "mode": "markers",
           "name": "Euthalia aconthea Cramer, 1779",
           "showlegend": true,
           "type": "scattergeo"
          },
          {
           "geo": "geo",
           "hovertemplate": "scientificName=Eriovixia Archer, 1951<br>year=2021<br>decimalLatitude=%{lat}<br>decimalLongitude=%{lon}<extra></extra>",
           "lat": [
            19.2891
           ],
           "legendgroup": "Eriovixia Archer, 1951",
           "lon": [
            72.8484
           ],
           "marker": {
            "color": "#EF553B",
            "symbol": "circle"
           },
           "mode": "markers",
           "name": "Eriovixia Archer, 1951",
           "showlegend": true,
           "type": "scattergeo"
          },
          {
           "geo": "geo",
           "hovertemplate": "scientificName=Argyrodes Simon, 1864<br>year=2021<br>decimalLatitude=%{lat}<br>decimalLongitude=%{lon}<extra></extra>",
           "lat": [
            19.2857
           ],
           "legendgroup": "Argyrodes Simon, 1864",
           "lon": [
            72.858
           ],
           "marker": {
            "color": "#00cc96",
            "symbol": "circle"
           },
           "mode": "markers",
           "name": "Argyrodes Simon, 1864",
           "showlegend": true,
           "type": "scattergeo"
          },
          {
           "geo": "geo",
           "hovertemplate": "scientificName=Hersilia savignyi Lucas, 1836<br>year=2021<br>decimalLatitude=%{lat}<br>decimalLongitude=%{lon}<extra></extra>",
           "lat": [
            15.405313
           ],
           "legendgroup": "Hersilia savignyi Lucas, 1836",
           "lon": [
            75.477438
           ],
           "marker": {
            "color": "#ab63fa",
            "symbol": "circle"
           },
           "mode": "markers",
           "name": "Hersilia savignyi Lucas, 1836",
           "showlegend": true,
           "type": "scattergeo"
          },
          {
           "geo": "geo",
           "hovertemplate": "scientificName=Orthetrum glaucum Brauer, 1865<br>year=2021<br>decimalLatitude=%{lat}<br>decimalLongitude=%{lon}<extra></extra>",
           "lat": [
            25.847216
           ],
           "legendgroup": "Orthetrum glaucum Brauer, 1865",
           "lon": [
            92.574291
           ],
           "marker": {
            "color": "#FFA15A",
            "symbol": "circle"
           },
           "mode": "markers",
           "name": "Orthetrum glaucum Brauer, 1865",
           "showlegend": true,
           "type": "scattergeo"
          },
          {
           "geo": "geo",
           "hovertemplate": "scientificName=Athyma perius (Linnaeus, 1758)<br>year=2021<br>decimalLatitude=%{lat}<br>decimalLongitude=%{lon}<extra></extra>",
           "lat": [
            25.847216
           ],
           "legendgroup": "Athyma perius (Linnaeus, 1758)",
           "lon": [
            92.574291
           ],
           "marker": {
            "color": "#19d3f3",
            "symbol": "circle"
           },
           "mode": "markers",
           "name": "Athyma perius (Linnaeus, 1758)",
           "showlegend": true,
           "type": "scattergeo"
          },
          {
           "geo": "geo",
           "hovertemplate": "scientificName=Acraea violae Fabricius, 1775<br>year=2021<br>decimalLatitude=%{lat}<br>decimalLongitude=%{lon}<extra></extra>",
           "lat": [
            19.1637
           ],
           "legendgroup": "Acraea violae Fabricius, 1775",
           "lon": [
            72.8831
           ],
           "marker": {
            "color": "#FF6692",
            "symbol": "circle"
           },
           "mode": "markers",
           "name": "Acraea violae Fabricius, 1775",
           "showlegend": true,
           "type": "scattergeo"
          },
          {
           "geo": "geo",
           "hovertemplate": "scientificName=Copsychus saularis (Linnaeus, 1758)<br>year=2021<br>decimalLatitude=%{lat}<br>decimalLongitude=%{lon}<extra></extra>",
           "lat": [
            12.956138
           ],
           "legendgroup": "Copsychus saularis (Linnaeus, 1758)",
           "lon": [
            77.120575
           ],
           "marker": {
            "color": "#B6E880",
            "symbol": "circle"
           },
           "mode": "markers",
           "name": "Copsychus saularis (Linnaeus, 1758)",
           "showlegend": true,
           "type": "scattergeo"
          },
          {
           "geo": "geo",
           "hovertemplate": "scientificName=Eranthemum roseum (Vahl) R.Br.<br>year=2021<br>decimalLatitude=%{lat}<br>decimalLongitude=%{lon}<extra></extra>",
           "lat": [
            15.8119
           ],
           "legendgroup": "Eranthemum roseum (Vahl) R.Br.",
           "lon": [
            74.095
           ],
           "marker": {
            "color": "#FF97FF",
            "symbol": "circle"
           },
           "mode": "markers",
           "name": "Eranthemum roseum (Vahl) R.Br.",
           "showlegend": true,
           "type": "scattergeo"
          },
          {
           "geo": "geo",
           "hovertemplate": "scientificName=Lycodon travancoricus (Beddome, 1870)<br>year=2021<br>decimalLatitude=%{lat}<br>decimalLongitude=%{lon}<extra></extra>",
           "lat": [
            15.8128
           ],
           "legendgroup": "Lycodon travancoricus (Beddome, 1870)",
           "lon": [
            74.0967
           ],
           "marker": {
            "color": "#FECB52",
            "symbol": "circle"
           },
           "mode": "markers",
           "name": "Lycodon travancoricus (Beddome, 1870)",
           "showlegend": true,
           "type": "scattergeo"
          }
         ],
         "name": "2021"
        }
       ],
       "layout": {
        "geo": {
         "center": {},
         "domain": {
          "x": [
           0,
           1
          ],
          "y": [
           0,
           1
          ]
         },
         "projection": {
          "type": "orthographic"
         }
        },
        "legend": {
         "title": {
          "text": "scientificName"
         },
         "tracegroupgap": 0
        },
        "margin": {
         "t": 60
        },
        "sliders": [
         {
          "active": 0,
          "currentvalue": {
           "prefix": "year="
          },
          "len": 0.9,
          "pad": {
           "b": 10,
           "t": 60
          },
          "steps": [
           {
            "args": [
             [
              "2019"
             ],
             {
              "frame": {
               "duration": 0,
               "redraw": true
              },
              "fromcurrent": true,
              "mode": "immediate",
              "transition": {
               "duration": 0,
               "easing": "linear"
              }
             }
            ],
            "label": "2019",
            "method": "animate"
           },
           {
            "args": [
             [
              "2021"
             ],
             {
              "frame": {
               "duration": 0,
               "redraw": true
              },
              "fromcurrent": true,
              "mode": "immediate",
              "transition": {
               "duration": 0,
               "easing": "linear"
              }
             }
            ],
            "label": "2021",
            "method": "animate"
           }
          ],
          "x": 0.1,
          "xanchor": "left",
          "y": 0,
          "yanchor": "top"
         }
        ],
        "template": {
         "data": {
          "bar": [
           {
            "error_x": {
             "color": "#2a3f5f"
            },
            "error_y": {
             "color": "#2a3f5f"
            },
            "marker": {
             "line": {
              "color": "#E5ECF6",
              "width": 0.5
             },
             "pattern": {
              "fillmode": "overlay",
              "size": 10,
              "solidity": 0.2
             }
            },
            "type": "bar"
           }
          ],
          "barpolar": [
           {
            "marker": {
             "line": {
              "color": "#E5ECF6",
              "width": 0.5
             },
             "pattern": {
              "fillmode": "overlay",
              "size": 10,
              "solidity": 0.2
             }
            },
            "type": "barpolar"
           }
          ],
          "carpet": [
           {
            "aaxis": {
             "endlinecolor": "#2a3f5f",
             "gridcolor": "white",
             "linecolor": "white",
             "minorgridcolor": "white",
             "startlinecolor": "#2a3f5f"
            },
            "baxis": {
             "endlinecolor": "#2a3f5f",
             "gridcolor": "white",
             "linecolor": "white",
             "minorgridcolor": "white",
             "startlinecolor": "#2a3f5f"
            },
            "type": "carpet"
           }
          ],
          "choropleth": [
           {
            "colorbar": {
             "outlinewidth": 0,
             "ticks": ""
            },
            "type": "choropleth"
           }
          ],
          "contour": [
           {
            "colorbar": {
             "outlinewidth": 0,
             "ticks": ""
            },
            "colorscale": [
             [
              0,
              "#0d0887"
             ],
             [
              0.1111111111111111,
              "#46039f"
             ],
             [
              0.2222222222222222,
              "#7201a8"
             ],
             [
              0.3333333333333333,
              "#9c179e"
             ],
             [
              0.4444444444444444,
              "#bd3786"
             ],
             [
              0.5555555555555556,
              "#d8576b"
             ],
             [
              0.6666666666666666,
              "#ed7953"
             ],
             [
              0.7777777777777778,
              "#fb9f3a"
             ],
             [
              0.8888888888888888,
              "#fdca26"
             ],
             [
              1,
              "#f0f921"
             ]
            ],
            "type": "contour"
           }
          ],
          "contourcarpet": [
           {
            "colorbar": {
             "outlinewidth": 0,
             "ticks": ""
            },
            "type": "contourcarpet"
           }
          ],
          "heatmap": [
           {
            "colorbar": {
             "outlinewidth": 0,
             "ticks": ""
            },
            "colorscale": [
             [
              0,
              "#0d0887"
             ],
             [
              0.1111111111111111,
              "#46039f"
             ],
             [
              0.2222222222222222,
              "#7201a8"
             ],
             [
              0.3333333333333333,
              "#9c179e"
             ],
             [
              0.4444444444444444,
              "#bd3786"
             ],
             [
              0.5555555555555556,
              "#d8576b"
             ],
             [
              0.6666666666666666,
              "#ed7953"
             ],
             [
              0.7777777777777778,
              "#fb9f3a"
             ],
             [
              0.8888888888888888,
              "#fdca26"
             ],
             [
              1,
              "#f0f921"
             ]
            ],
            "type": "heatmap"
           }
          ],
          "heatmapgl": [
           {
            "colorbar": {
             "outlinewidth": 0,
             "ticks": ""
            },
            "colorscale": [
             [
              0,
              "#0d0887"
             ],
             [
              0.1111111111111111,
              "#46039f"
             ],
             [
              0.2222222222222222,
              "#7201a8"
             ],
             [
              0.3333333333333333,
              "#9c179e"
             ],
             [
              0.4444444444444444,
              "#bd3786"
             ],
             [
              0.5555555555555556,
              "#d8576b"
             ],
             [
              0.6666666666666666,
              "#ed7953"
             ],
             [
              0.7777777777777778,
              "#fb9f3a"
             ],
             [
              0.8888888888888888,
              "#fdca26"
             ],
             [
              1,
              "#f0f921"
             ]
            ],
            "type": "heatmapgl"
           }
          ],
          "histogram": [
           {
            "marker": {
             "pattern": {
              "fillmode": "overlay",
              "size": 10,
              "solidity": 0.2
             }
            },
            "type": "histogram"
           }
          ],
          "histogram2d": [
           {
            "colorbar": {
             "outlinewidth": 0,
             "ticks": ""
            },
            "colorscale": [
             [
              0,
              "#0d0887"
             ],
             [
              0.1111111111111111,
              "#46039f"
             ],
             [
              0.2222222222222222,
              "#7201a8"
             ],
             [
              0.3333333333333333,
              "#9c179e"
             ],
             [
              0.4444444444444444,
              "#bd3786"
             ],
             [
              0.5555555555555556,
              "#d8576b"
             ],
             [
              0.6666666666666666,
              "#ed7953"
             ],
             [
              0.7777777777777778,
              "#fb9f3a"
             ],
             [
              0.8888888888888888,
              "#fdca26"
             ],
             [
              1,
              "#f0f921"
             ]
            ],
            "type": "histogram2d"
           }
          ],
          "histogram2dcontour": [
           {
            "colorbar": {
             "outlinewidth": 0,
             "ticks": ""
            },
            "colorscale": [
             [
              0,
              "#0d0887"
             ],
             [
              0.1111111111111111,
              "#46039f"
             ],
             [
              0.2222222222222222,
              "#7201a8"
             ],
             [
              0.3333333333333333,
              "#9c179e"
             ],
             [
              0.4444444444444444,
              "#bd3786"
             ],
             [
              0.5555555555555556,
              "#d8576b"
             ],
             [
              0.6666666666666666,
              "#ed7953"
             ],
             [
              0.7777777777777778,
              "#fb9f3a"
             ],
             [
              0.8888888888888888,
              "#fdca26"
             ],
             [
              1,
              "#f0f921"
             ]
            ],
            "type": "histogram2dcontour"
           }
          ],
          "mesh3d": [
           {
            "colorbar": {
             "outlinewidth": 0,
             "ticks": ""
            },
            "type": "mesh3d"
           }
          ],
          "parcoords": [
           {
            "line": {
             "colorbar": {
              "outlinewidth": 0,
              "ticks": ""
             }
            },
            "type": "parcoords"
           }
          ],
          "pie": [
           {
            "automargin": true,
            "type": "pie"
           }
          ],
          "scatter": [
           {
            "fillpattern": {
             "fillmode": "overlay",
             "size": 10,
             "solidity": 0.2
            },
            "type": "scatter"
           }
          ],
          "scatter3d": [
           {
            "line": {
             "colorbar": {
              "outlinewidth": 0,
              "ticks": ""
             }
            },
            "marker": {
             "colorbar": {
              "outlinewidth": 0,
              "ticks": ""
             }
            },
            "type": "scatter3d"
           }
          ],
          "scattercarpet": [
           {
            "marker": {
             "colorbar": {
              "outlinewidth": 0,
              "ticks": ""
             }
            },
            "type": "scattercarpet"
           }
          ],
          "scattergeo": [
           {
            "marker": {
             "colorbar": {
              "outlinewidth": 0,
              "ticks": ""
             }
            },
            "type": "scattergeo"
           }
          ],
          "scattergl": [
           {
            "marker": {
             "colorbar": {
              "outlinewidth": 0,
              "ticks": ""
             }
            },
            "type": "scattergl"
           }
          ],
          "scattermapbox": [
           {
            "marker": {
             "colorbar": {
              "outlinewidth": 0,
              "ticks": ""
             }
            },
            "type": "scattermapbox"
           }
          ],
          "scatterpolar": [
           {
            "marker": {
             "colorbar": {
              "outlinewidth": 0,
              "ticks": ""
             }
            },
            "type": "scatterpolar"
           }
          ],
          "scatterpolargl": [
           {
            "marker": {
             "colorbar": {
              "outlinewidth": 0,
              "ticks": ""
             }
            },
            "type": "scatterpolargl"
           }
          ],
          "scatterternary": [
           {
            "marker": {
             "colorbar": {
              "outlinewidth": 0,
              "ticks": ""
             }
            },
            "type": "scatterternary"
           }
          ],
          "surface": [
           {
            "colorbar": {
             "outlinewidth": 0,
             "ticks": ""
            },
            "colorscale": [
             [
              0,
              "#0d0887"
             ],
             [
              0.1111111111111111,
              "#46039f"
             ],
             [
              0.2222222222222222,
              "#7201a8"
             ],
             [
              0.3333333333333333,
              "#9c179e"
             ],
             [
              0.4444444444444444,
              "#bd3786"
             ],
             [
              0.5555555555555556,
              "#d8576b"
             ],
             [
              0.6666666666666666,
              "#ed7953"
             ],
             [
              0.7777777777777778,
              "#fb9f3a"
             ],
             [
              0.8888888888888888,
              "#fdca26"
             ],
             [
              1,
              "#f0f921"
             ]
            ],
            "type": "surface"
           }
          ],
          "table": [
           {
            "cells": {
             "fill": {
              "color": "#EBF0F8"
             },
             "line": {
              "color": "white"
             }
            },
            "header": {
             "fill": {
              "color": "#C8D4E3"
             },
             "line": {
              "color": "white"
             }
            },
            "type": "table"
           }
          ]
         },
         "layout": {
          "annotationdefaults": {
           "arrowcolor": "#2a3f5f",
           "arrowhead": 0,
           "arrowwidth": 1
          },
          "autotypenumbers": "strict",
          "coloraxis": {
           "colorbar": {
            "outlinewidth": 0,
            "ticks": ""
           }
          },
          "colorscale": {
           "diverging": [
            [
             0,
             "#8e0152"
            ],
            [
             0.1,
             "#c51b7d"
            ],
            [
             0.2,
             "#de77ae"
            ],
            [
             0.3,
             "#f1b6da"
            ],
            [
             0.4,
             "#fde0ef"
            ],
            [
             0.5,
             "#f7f7f7"
            ],
            [
             0.6,
             "#e6f5d0"
            ],
            [
             0.7,
             "#b8e186"
            ],
            [
             0.8,
             "#7fbc41"
            ],
            [
             0.9,
             "#4d9221"
            ],
            [
             1,
             "#276419"
            ]
           ],
           "sequential": [
            [
             0,
             "#0d0887"
            ],
            [
             0.1111111111111111,
             "#46039f"
            ],
            [
             0.2222222222222222,
             "#7201a8"
            ],
            [
             0.3333333333333333,
             "#9c179e"
            ],
            [
             0.4444444444444444,
             "#bd3786"
            ],
            [
             0.5555555555555556,
             "#d8576b"
            ],
            [
             0.6666666666666666,
             "#ed7953"
            ],
            [
             0.7777777777777778,
             "#fb9f3a"
            ],
            [
             0.8888888888888888,
             "#fdca26"
            ],
            [
             1,
             "#f0f921"
            ]
           ],
           "sequentialminus": [
            [
             0,
             "#0d0887"
            ],
            [
             0.1111111111111111,
             "#46039f"
            ],
            [
             0.2222222222222222,
             "#7201a8"
            ],
            [
             0.3333333333333333,
             "#9c179e"
            ],
            [
             0.4444444444444444,
             "#bd3786"
            ],
            [
             0.5555555555555556,
             "#d8576b"
            ],
            [
             0.6666666666666666,
             "#ed7953"
            ],
            [
             0.7777777777777778,
             "#fb9f3a"
            ],
            [
             0.8888888888888888,
             "#fdca26"
            ],
            [
             1,
             "#f0f921"
            ]
           ]
          },
          "colorway": [
           "#636efa",
           "#EF553B",
           "#00cc96",
           "#ab63fa",
           "#FFA15A",
           "#19d3f3",
           "#FF6692",
           "#B6E880",
           "#FF97FF",
           "#FECB52"
          ],
          "font": {
           "color": "#2a3f5f"
          },
          "geo": {
           "bgcolor": "white",
           "lakecolor": "white",
           "landcolor": "#E5ECF6",
           "showlakes": true,
           "showland": true,
           "subunitcolor": "white"
          },
          "hoverlabel": {
           "align": "left"
          },
          "hovermode": "closest",
          "mapbox": {
           "style": "light"
          },
          "paper_bgcolor": "white",
          "plot_bgcolor": "#E5ECF6",
          "polar": {
           "angularaxis": {
            "gridcolor": "white",
            "linecolor": "white",
            "ticks": ""
           },
           "bgcolor": "#E5ECF6",
           "radialaxis": {
            "gridcolor": "white",
            "linecolor": "white",
            "ticks": ""
           }
          },
          "scene": {
           "xaxis": {
            "backgroundcolor": "#E5ECF6",
            "gridcolor": "white",
            "gridwidth": 2,
            "linecolor": "white",
            "showbackground": true,
            "ticks": "",
            "zerolinecolor": "white"
           },
           "yaxis": {
            "backgroundcolor": "#E5ECF6",
            "gridcolor": "white",
            "gridwidth": 2,
            "linecolor": "white",
            "showbackground": true,
            "ticks": "",
            "zerolinecolor": "white"
           },
           "zaxis": {
            "backgroundcolor": "#E5ECF6",
            "gridcolor": "white",
            "gridwidth": 2,
            "linecolor": "white",
            "showbackground": true,
            "ticks": "",
            "zerolinecolor": "white"
           }
          },
          "shapedefaults": {
           "line": {
            "color": "#2a3f5f"
           }
          },
          "ternary": {
           "aaxis": {
            "gridcolor": "white",
            "linecolor": "white",
            "ticks": ""
           },
           "baxis": {
            "gridcolor": "white",
            "linecolor": "white",
            "ticks": ""
           },
           "bgcolor": "#E5ECF6",
           "caxis": {
            "gridcolor": "white",
            "linecolor": "white",
            "ticks": ""
           }
          },
          "title": {
           "x": 0.05
          },
          "xaxis": {
           "automargin": true,
           "gridcolor": "white",
           "linecolor": "white",
           "ticks": "",
           "title": {
            "standoff": 15
           },
           "zerolinecolor": "white",
           "zerolinewidth": 2
          },
          "yaxis": {
           "automargin": true,
           "gridcolor": "white",
           "linecolor": "white",
           "ticks": "",
           "title": {
            "standoff": 15
           },
           "zerolinecolor": "white",
           "zerolinewidth": 2
          }
         }
        },
        "title": {
         "text": "World map",
         "x": 0.5
        },
        "updatemenus": [
         {
          "buttons": [
           {
            "args": [
             null,
             {
              "frame": {
               "duration": 500,
               "redraw": true
              },
              "fromcurrent": true,
              "mode": "immediate",
              "transition": {
               "duration": 500,
               "easing": "linear"
              }
             }
            ],
            "label": "&#9654;",
            "method": "animate"
           },
           {
            "args": [
             [
              null
             ],
             {
              "frame": {
               "duration": 0,
               "redraw": true
              },
              "fromcurrent": true,
              "mode": "immediate",
              "transition": {
               "duration": 0,
               "easing": "linear"
              }
             }
            ],
            "label": "&#9724;",
            "method": "animate"
           }
          ],
          "direction": "left",
          "pad": {
           "r": 10,
           "t": 70
          },
          "showactive": false,
          "type": "buttons",
          "x": 0.1,
          "xanchor": "right",
          "y": 0,
          "yanchor": "top"
         }
        ]
       }
      },
      "text/html": [
       "<div>                            <div id=\"6fcb6e5a-84f5-44be-b146-d349e3b0cab3\" class=\"plotly-graph-div\" style=\"height:525px; width:100%;\"></div>            <script type=\"text/javascript\">                require([\"plotly\"], function(Plotly) {                    window.PLOTLYENV=window.PLOTLYENV || {};                                    if (document.getElementById(\"6fcb6e5a-84f5-44be-b146-d349e3b0cab3\")) {                    Plotly.newPlot(                        \"6fcb6e5a-84f5-44be-b146-d349e3b0cab3\",                        [{\"geo\":\"geo\",\"hovertemplate\":\"scientificName=Halcyon smyrnensis (Linnaeus, 1758)<br>year=2019<br>decimalLatitude=%{lat}<br>decimalLongitude=%{lon}<extra></extra>\",\"lat\":[22.584674,17.516224,17.516224,17.516224,17.516224,17.516224,17.516224,17.516224,17.516224,17.516224,17.516224,9.01827,12.030479,11.854271,18.6264,12.030479,9.309585,17.757025,18.6264,18.6264,12.030479,12.030479,17.956942,11.854271,10.007529,12.030479,12.030479,21.571848,12.030479,10.064858,18.6264,22.556664,12.030479,12.030479,11.39564,22.556664,12.343227,12.030479,10.0685,11.86957,11.917625,12.030479,21.571848,11.795632,9.309585,12.030479,12.030479,12.343227,12.343227,12.708288,18.628881,10.0685,18.6264,12.030479,10.022283,12.030479,12.030479,12.030479,12.030479,12.030479,9.309585,11.933059,10.0685,12.475221,12.343227,12.030479,11.88032,11.917625,12.030479,10.782508,11.854271,21.578222,22.583574,15.61972,12.030479,11.854271,18.80903,15.010409,10.0685,10.782508,12.030479,11.854271,12.030479,12.343227,11.794866,9.309585,12.030479,21.571848,19.021551,9.01827,10.0685,12.030479,12.030479,12.756868,8.873825,11.854271,12.030479,12.343227,11.88032,12.010757,18.6264,10.0685,17.723415,9.139385,11.917625,21.45152,12.030479,12.030479,11.917625,10.0685,12.030479,11.855171,12.030479,10.782508,12.030479,12.030479,11.795632,9.309585,9.309585,10.0685,12.343227,12.343227,12.030479,12.343227],\"legendgroup\":\"Halcyon smyrnensis (Linnaeus, 1758)\",\"lon\":[72.717105,78.32826,78.32826,78.32826,78.32826,78.32826,78.32826,78.32826,78.32826,78.32826,78.32826,76.51793,75.29331,75.37635,72.88536,75.29331,76.38279,73.12062,72.88536,72.88536,75.29331,75.29331,73.030945,75.37635,76.21656,75.29331,75.29331,72.26925,75.29331,76.25226,72.88536,70.168945,75.29331,75.29331,75.712296,70.168945,75.06234,75.29331,76.26224,75.35243,75.396645,75.29331,72.26925,75.48957,76.38279,75.29331,75.29331,75.06234,75.06234,74.88756,72.8842,76.26224,72.88536,75.29331,76.248634,75.29331,75.29331,75.29331,75.29331,75.29331,76.38279,75.34908,76.26224,74.986015,75.06234,75.29331,79.82347,75.396645,75.29331,75.91443,75.37635,69.74778,70.19328,73.731544,75.29331,75.37635,72.883255,74.02229,76.26224,75.91443,75.29331,75.37635,75.29331,75.06234,75.442665,76.38279,75.29331,72.26925,73.00269,76.51793,76.26224,75.29331,75.29331,74.866516,76.5925,75.37635,75.29331,75.06234,79.82347,75.20052,72.88536,76.26224,73.13208,76.48446,75.396645,87.04104,75.29331,75.29331,75.396645,76.26224,75.29331,75.37284,75.29331,75.91443,75.29331,75.29331,75.48957,76.38279,76.38279,76.26224,75.06234,75.06234,75.29331,75.06234],\"marker\":{\"color\":\"#636efa\",\"symbol\":\"circle\"},\"mode\":\"markers\",\"name\":\"Halcyon smyrnensis (Linnaeus, 1758)\",\"showlegend\":true,\"type\":\"scattergeo\"},{\"geo\":\"geo\",\"hovertemplate\":\"scientificName=Pethia conchonius (Hamilton, 1822)<br>year=2019<br>decimalLatitude=%{lat}<br>decimalLongitude=%{lon}<extra></extra>\",\"lat\":[12.288017],\"legendgroup\":\"Pethia conchonius (Hamilton, 1822)\",\"lon\":[77.432166],\"marker\":{\"color\":\"#EF553B\",\"symbol\":\"circle\"},\"mode\":\"markers\",\"name\":\"Pethia conchonius (Hamilton, 1822)\",\"showlegend\":true,\"type\":\"scattergeo\"},{\"geo\":\"geo\",\"hovertemplate\":\"scientificName=Alcedo atthis (Linnaeus, 1758)<br>year=2019<br>decimalLatitude=%{lat}<br>decimalLongitude=%{lon}<extra></extra>\",\"lat\":[17.516224,17.516224,17.516224,17.516224,17.516224,17.516224,17.516224,17.516224,17.516224,17.516224,17.516224,17.516224,21.578222,15.548713,12.605288,11.16326,12.030479,15.010409,11.917625,11.88032,21.578222,12.030479,14.974076,12.803538,12.030479,12.018979,10.057769,12.030479,12.784107,15.61972,9.528978,12.030479,10.057769,12.030479,21.578222,12.605288,12.784107,12.030479,12.784107,10.057769,11.917625,10.0685,13.339767,10.782508,12.784107,12.030479,12.605288,11.127656,11.16326,11.773511,21.578222,10.057769,11.126527,12.030479,12.784107,10.782508,12.030479,12.784107,12.605288,12.030479,12.030479,12.708288,12.030479,10.065554,11.773511,10.057769,17.723415,12.030479,12.475221,10.057769,12.030479,12.030479,10.057769,10.057769,10.0685,12.343227,12.708288,11.917625,12.343227,10.057769,12.030479,12.605288,10.057769,10.0685,12.784107,12.030479,12.790458,12.784107,10.057769,10.0685,21.578222,12.030479,10.057769,21.578222,12.030479,10.0685,12.784107,21.578222,12.030479,10.057769,12.605288,9.139385,11.773511,12.030479,11.795632,10.057769,10.057769,12.030479],\"legendgroup\":\"Alcedo atthis (Linnaeus, 1758)\",\"lon\":[78.32826,78.32826,78.32826,78.32826,78.32826,78.32826,78.32826,78.32826,78.32826,78.32826,78.32826,78.32826,69.74778,73.75374,74.93233,75.80236,75.29331,74.02229,75.396645,79.82347,69.74778,75.29331,74.04232,80.242584,75.29331,75.22356,76.25108,75.29331,80.23607,73.731544,76.459724,75.29331,76.25108,75.29331,69.74778,74.93233,80.23607,75.29331,80.23607,76.25108,75.396645,76.26224,74.70759,75.91443,80.23607,75.29331,74.93233,75.82985,75.80236,75.45415,69.74778,76.25108,75.82985,75.29331,80.23607,75.91443,75.29331,80.23607,74.93233,75.29331,75.29331,74.88756,75.29331,76.2612,75.45415,76.25108,73.13208,75.29331,74.986015,76.25108,75.29331,75.29331,76.25108,76.25108,76.26224,75.06234,74.88756,75.396645,75.06234,76.25108,75.29331,74.93233,76.25108,76.26224,80.23607,75.29331,80.25289,80.23607,76.25108,76.26224,69.74778,75.29331,76.25108,69.74778,75.29331,76.26224,80.23607,69.74778,75.29331,76.25108,74.93233,76.48446,75.45415,75.29331,75.48957,76.25108,76.25108,75.29331],\"marker\":{\"color\":\"#00cc96\",\"symbol\":\"circle\"},\"mode\":\"markers\",\"name\":\"Alcedo atthis (Linnaeus, 1758)\",\"showlegend\":true,\"type\":\"scattergeo\"},{\"geo\":\"geo\",\"hovertemplate\":\"scientificName=Ceryle rudis (Linnaeus, 1758)<br>year=2019<br>decimalLatitude=%{lat}<br>decimalLongitude=%{lon}<extra></extra>\",\"lat\":[17.516224,17.516224,17.516224,17.516224,17.516224,17.516224,17.516224,12.784107,22.556664,10.591596,11.854271,12.030479,22.556664,12.784107,12.030479,12.030479,10.0685,12.784107,10.0685,10.0685,12.030479,12.030479,12.784107,12.784107,12.784107,10.0685,22.556664,12.784107,10.782508,12.784107,12.030479,8.310901,22.583574,10.057769,12.749178,12.030479,12.803538,12.030479,11.88032,8.783381,12.336648,12.803538],\"legendgroup\":\"Ceryle rudis (Linnaeus, 1758)\",\"lon\":[78.32826,78.32826,78.32826,78.32826,78.32826,78.32826,78.32826,80.23607,70.168945,75.998116,75.37635,75.29331,70.168945,80.23607,75.29331,75.29331,76.26224,80.23607,76.26224,76.26224,75.29331,75.29331,80.23607,80.23607,80.23607,76.26224,70.168945,80.23607,75.91443,80.23607,75.29331,77.07382,70.19328,76.25108,80.25759,75.29331,80.242584,75.29331,79.82347,78.19408,80.03368,80.242584],\"marker\":{\"color\":\"#ab63fa\",\"symbol\":\"circle\"},\"mode\":\"markers\",\"name\":\"Ceryle rudis (Linnaeus, 1758)\",\"showlegend\":true,\"type\":\"scattergeo\"},{\"geo\":\"geo\",\"hovertemplate\":\"scientificName=Halcyon pileata (Boddaert, 1783)<br>year=2019<br>decimalLatitude=%{lat}<br>decimalLongitude=%{lon}<extra></extra>\",\"lat\":[19.021551,10.022283,19.021551],\"legendgroup\":\"Halcyon pileata (Boddaert, 1783)\",\"lon\":[73.00269,76.248634,73.00269],\"marker\":{\"color\":\"#FFA15A\",\"symbol\":\"circle\"},\"mode\":\"markers\",\"name\":\"Halcyon pileata (Boddaert, 1783)\",\"showlegend\":true,\"type\":\"scattergeo\"},{\"geo\":\"geo\",\"hovertemplate\":\"scientificName=Pelargopsis capensis (Linnaeus, 1766)<br>year=2019<br>decimalLatitude=%{lat}<br>decimalLongitude=%{lon}<extra></extra>\",\"lat\":[11.795632,12.343227,10.0685,10.0685,10.0685,10.007529,10.0685,12.030479,12.343227,11.933059,12.343227,11.917625,11.917625,9.748953,12.030479,10.0685,11.917625,10.0685,10.0685,12.030479,10.0685],\"legendgroup\":\"Pelargopsis capensis (Linnaeus, 1766)\",\"lon\":[75.48957,75.06234,76.26224,76.26224,76.26224,76.21656,76.26224,75.29331,75.06234,75.34908,75.06234,75.396645,75.396645,76.28548,75.29331,76.26224,75.396645,76.26224,76.26224,75.29331,76.26224],\"marker\":{\"color\":\"#19d3f3\",\"symbol\":\"circle\"},\"mode\":\"markers\",\"name\":\"Pelargopsis capensis (Linnaeus, 1766)\",\"showlegend\":true,\"type\":\"scattergeo\"},{\"geo\":\"geo\",\"hovertemplate\":\"scientificName=Ceyx erithaca (Linnaeus, 1758)<br>year=2019<br>decimalLatitude=%{lat}<br>decimalLongitude=%{lon}<extra></extra>\",\"lat\":[18.6264],\"legendgroup\":\"Ceyx erithaca (Linnaeus, 1758)\",\"lon\":[72.88536],\"marker\":{\"color\":\"#FF6692\",\"symbol\":\"circle\"},\"mode\":\"markers\",\"name\":\"Ceyx erithaca (Linnaeus, 1758)\",\"showlegend\":true,\"type\":\"scattergeo\"}],                        {\"template\":{\"data\":{\"histogram2dcontour\":[{\"type\":\"histogram2dcontour\",\"colorbar\":{\"outlinewidth\":0,\"ticks\":\"\"},\"colorscale\":[[0.0,\"#0d0887\"],[0.1111111111111111,\"#46039f\"],[0.2222222222222222,\"#7201a8\"],[0.3333333333333333,\"#9c179e\"],[0.4444444444444444,\"#bd3786\"],[0.5555555555555556,\"#d8576b\"],[0.6666666666666666,\"#ed7953\"],[0.7777777777777778,\"#fb9f3a\"],[0.8888888888888888,\"#fdca26\"],[1.0,\"#f0f921\"]]}],\"choropleth\":[{\"type\":\"choropleth\",\"colorbar\":{\"outlinewidth\":0,\"ticks\":\"\"}}],\"histogram2d\":[{\"type\":\"histogram2d\",\"colorbar\":{\"outlinewidth\":0,\"ticks\":\"\"},\"colorscale\":[[0.0,\"#0d0887\"],[0.1111111111111111,\"#46039f\"],[0.2222222222222222,\"#7201a8\"],[0.3333333333333333,\"#9c179e\"],[0.4444444444444444,\"#bd3786\"],[0.5555555555555556,\"#d8576b\"],[0.6666666666666666,\"#ed7953\"],[0.7777777777777778,\"#fb9f3a\"],[0.8888888888888888,\"#fdca26\"],[1.0,\"#f0f921\"]]}],\"heatmap\":[{\"type\":\"heatmap\",\"colorbar\":{\"outlinewidth\":0,\"ticks\":\"\"},\"colorscale\":[[0.0,\"#0d0887\"],[0.1111111111111111,\"#46039f\"],[0.2222222222222222,\"#7201a8\"],[0.3333333333333333,\"#9c179e\"],[0.4444444444444444,\"#bd3786\"],[0.5555555555555556,\"#d8576b\"],[0.6666666666666666,\"#ed7953\"],[0.7777777777777778,\"#fb9f3a\"],[0.8888888888888888,\"#fdca26\"],[1.0,\"#f0f921\"]]}],\"heatmapgl\":[{\"type\":\"heatmapgl\",\"colorbar\":{\"outlinewidth\":0,\"ticks\":\"\"},\"colorscale\":[[0.0,\"#0d0887\"],[0.1111111111111111,\"#46039f\"],[0.2222222222222222,\"#7201a8\"],[0.3333333333333333,\"#9c179e\"],[0.4444444444444444,\"#bd3786\"],[0.5555555555555556,\"#d8576b\"],[0.6666666666666666,\"#ed7953\"],[0.7777777777777778,\"#fb9f3a\"],[0.8888888888888888,\"#fdca26\"],[1.0,\"#f0f921\"]]}],\"contourcarpet\":[{\"type\":\"contourcarpet\",\"colorbar\":{\"outlinewidth\":0,\"ticks\":\"\"}}],\"contour\":[{\"type\":\"contour\",\"colorbar\":{\"outlinewidth\":0,\"ticks\":\"\"},\"colorscale\":[[0.0,\"#0d0887\"],[0.1111111111111111,\"#46039f\"],[0.2222222222222222,\"#7201a8\"],[0.3333333333333333,\"#9c179e\"],[0.4444444444444444,\"#bd3786\"],[0.5555555555555556,\"#d8576b\"],[0.6666666666666666,\"#ed7953\"],[0.7777777777777778,\"#fb9f3a\"],[0.8888888888888888,\"#fdca26\"],[1.0,\"#f0f921\"]]}],\"surface\":[{\"type\":\"surface\",\"colorbar\":{\"outlinewidth\":0,\"ticks\":\"\"},\"colorscale\":[[0.0,\"#0d0887\"],[0.1111111111111111,\"#46039f\"],[0.2222222222222222,\"#7201a8\"],[0.3333333333333333,\"#9c179e\"],[0.4444444444444444,\"#bd3786\"],[0.5555555555555556,\"#d8576b\"],[0.6666666666666666,\"#ed7953\"],[0.7777777777777778,\"#fb9f3a\"],[0.8888888888888888,\"#fdca26\"],[1.0,\"#f0f921\"]]}],\"mesh3d\":[{\"type\":\"mesh3d\",\"colorbar\":{\"outlinewidth\":0,\"ticks\":\"\"}}],\"scatter\":[{\"fillpattern\":{\"fillmode\":\"overlay\",\"size\":10,\"solidity\":0.2},\"type\":\"scatter\"}],\"parcoords\":[{\"type\":\"parcoords\",\"line\":{\"colorbar\":{\"outlinewidth\":0,\"ticks\":\"\"}}}],\"scatterpolargl\":[{\"type\":\"scatterpolargl\",\"marker\":{\"colorbar\":{\"outlinewidth\":0,\"ticks\":\"\"}}}],\"bar\":[{\"error_x\":{\"color\":\"#2a3f5f\"},\"error_y\":{\"color\":\"#2a3f5f\"},\"marker\":{\"line\":{\"color\":\"#E5ECF6\",\"width\":0.5},\"pattern\":{\"fillmode\":\"overlay\",\"size\":10,\"solidity\":0.2}},\"type\":\"bar\"}],\"scattergeo\":[{\"type\":\"scattergeo\",\"marker\":{\"colorbar\":{\"outlinewidth\":0,\"ticks\":\"\"}}}],\"scatterpolar\":[{\"type\":\"scatterpolar\",\"marker\":{\"colorbar\":{\"outlinewidth\":0,\"ticks\":\"\"}}}],\"histogram\":[{\"marker\":{\"pattern\":{\"fillmode\":\"overlay\",\"size\":10,\"solidity\":0.2}},\"type\":\"histogram\"}],\"scattergl\":[{\"type\":\"scattergl\",\"marker\":{\"colorbar\":{\"outlinewidth\":0,\"ticks\":\"\"}}}],\"scatter3d\":[{\"type\":\"scatter3d\",\"line\":{\"colorbar\":{\"outlinewidth\":0,\"ticks\":\"\"}},\"marker\":{\"colorbar\":{\"outlinewidth\":0,\"ticks\":\"\"}}}],\"scattermapbox\":[{\"type\":\"scattermapbox\",\"marker\":{\"colorbar\":{\"outlinewidth\":0,\"ticks\":\"\"}}}],\"scatterternary\":[{\"type\":\"scatterternary\",\"marker\":{\"colorbar\":{\"outlinewidth\":0,\"ticks\":\"\"}}}],\"scattercarpet\":[{\"type\":\"scattercarpet\",\"marker\":{\"colorbar\":{\"outlinewidth\":0,\"ticks\":\"\"}}}],\"carpet\":[{\"aaxis\":{\"endlinecolor\":\"#2a3f5f\",\"gridcolor\":\"white\",\"linecolor\":\"white\",\"minorgridcolor\":\"white\",\"startlinecolor\":\"#2a3f5f\"},\"baxis\":{\"endlinecolor\":\"#2a3f5f\",\"gridcolor\":\"white\",\"linecolor\":\"white\",\"minorgridcolor\":\"white\",\"startlinecolor\":\"#2a3f5f\"},\"type\":\"carpet\"}],\"table\":[{\"cells\":{\"fill\":{\"color\":\"#EBF0F8\"},\"line\":{\"color\":\"white\"}},\"header\":{\"fill\":{\"color\":\"#C8D4E3\"},\"line\":{\"color\":\"white\"}},\"type\":\"table\"}],\"barpolar\":[{\"marker\":{\"line\":{\"color\":\"#E5ECF6\",\"width\":0.5},\"pattern\":{\"fillmode\":\"overlay\",\"size\":10,\"solidity\":0.2}},\"type\":\"barpolar\"}],\"pie\":[{\"automargin\":true,\"type\":\"pie\"}]},\"layout\":{\"autotypenumbers\":\"strict\",\"colorway\":[\"#636efa\",\"#EF553B\",\"#00cc96\",\"#ab63fa\",\"#FFA15A\",\"#19d3f3\",\"#FF6692\",\"#B6E880\",\"#FF97FF\",\"#FECB52\"],\"font\":{\"color\":\"#2a3f5f\"},\"hovermode\":\"closest\",\"hoverlabel\":{\"align\":\"left\"},\"paper_bgcolor\":\"white\",\"plot_bgcolor\":\"#E5ECF6\",\"polar\":{\"bgcolor\":\"#E5ECF6\",\"angularaxis\":{\"gridcolor\":\"white\",\"linecolor\":\"white\",\"ticks\":\"\"},\"radialaxis\":{\"gridcolor\":\"white\",\"linecolor\":\"white\",\"ticks\":\"\"}},\"ternary\":{\"bgcolor\":\"#E5ECF6\",\"aaxis\":{\"gridcolor\":\"white\",\"linecolor\":\"white\",\"ticks\":\"\"},\"baxis\":{\"gridcolor\":\"white\",\"linecolor\":\"white\",\"ticks\":\"\"},\"caxis\":{\"gridcolor\":\"white\",\"linecolor\":\"white\",\"ticks\":\"\"}},\"coloraxis\":{\"colorbar\":{\"outlinewidth\":0,\"ticks\":\"\"}},\"colorscale\":{\"sequential\":[[0.0,\"#0d0887\"],[0.1111111111111111,\"#46039f\"],[0.2222222222222222,\"#7201a8\"],[0.3333333333333333,\"#9c179e\"],[0.4444444444444444,\"#bd3786\"],[0.5555555555555556,\"#d8576b\"],[0.6666666666666666,\"#ed7953\"],[0.7777777777777778,\"#fb9f3a\"],[0.8888888888888888,\"#fdca26\"],[1.0,\"#f0f921\"]],\"sequentialminus\":[[0.0,\"#0d0887\"],[0.1111111111111111,\"#46039f\"],[0.2222222222222222,\"#7201a8\"],[0.3333333333333333,\"#9c179e\"],[0.4444444444444444,\"#bd3786\"],[0.5555555555555556,\"#d8576b\"],[0.6666666666666666,\"#ed7953\"],[0.7777777777777778,\"#fb9f3a\"],[0.8888888888888888,\"#fdca26\"],[1.0,\"#f0f921\"]],\"diverging\":[[0,\"#8e0152\"],[0.1,\"#c51b7d\"],[0.2,\"#de77ae\"],[0.3,\"#f1b6da\"],[0.4,\"#fde0ef\"],[0.5,\"#f7f7f7\"],[0.6,\"#e6f5d0\"],[0.7,\"#b8e186\"],[0.8,\"#7fbc41\"],[0.9,\"#4d9221\"],[1,\"#276419\"]]},\"xaxis\":{\"gridcolor\":\"white\",\"linecolor\":\"white\",\"ticks\":\"\",\"title\":{\"standoff\":15},\"zerolinecolor\":\"white\",\"automargin\":true,\"zerolinewidth\":2},\"yaxis\":{\"gridcolor\":\"white\",\"linecolor\":\"white\",\"ticks\":\"\",\"title\":{\"standoff\":15},\"zerolinecolor\":\"white\",\"automargin\":true,\"zerolinewidth\":2},\"scene\":{\"xaxis\":{\"backgroundcolor\":\"#E5ECF6\",\"gridcolor\":\"white\",\"linecolor\":\"white\",\"showbackground\":true,\"ticks\":\"\",\"zerolinecolor\":\"white\",\"gridwidth\":2},\"yaxis\":{\"backgroundcolor\":\"#E5ECF6\",\"gridcolor\":\"white\",\"linecolor\":\"white\",\"showbackground\":true,\"ticks\":\"\",\"zerolinecolor\":\"white\",\"gridwidth\":2},\"zaxis\":{\"backgroundcolor\":\"#E5ECF6\",\"gridcolor\":\"white\",\"linecolor\":\"white\",\"showbackground\":true,\"ticks\":\"\",\"zerolinecolor\":\"white\",\"gridwidth\":2}},\"shapedefaults\":{\"line\":{\"color\":\"#2a3f5f\"}},\"annotationdefaults\":{\"arrowcolor\":\"#2a3f5f\",\"arrowhead\":0,\"arrowwidth\":1},\"geo\":{\"bgcolor\":\"white\",\"landcolor\":\"#E5ECF6\",\"subunitcolor\":\"white\",\"showland\":true,\"showlakes\":true,\"lakecolor\":\"white\"},\"title\":{\"x\":0.05},\"mapbox\":{\"style\":\"light\"}}},\"geo\":{\"domain\":{\"x\":[0.0,1.0],\"y\":[0.0,1.0]},\"projection\":{\"type\":\"orthographic\"},\"center\":{}},\"legend\":{\"title\":{\"text\":\"scientificName\"},\"tracegroupgap\":0},\"margin\":{\"t\":60},\"updatemenus\":[{\"buttons\":[{\"args\":[null,{\"frame\":{\"duration\":500,\"redraw\":true},\"mode\":\"immediate\",\"fromcurrent\":true,\"transition\":{\"duration\":500,\"easing\":\"linear\"}}],\"label\":\"&#9654;\",\"method\":\"animate\"},{\"args\":[[null],{\"frame\":{\"duration\":0,\"redraw\":true},\"mode\":\"immediate\",\"fromcurrent\":true,\"transition\":{\"duration\":0,\"easing\":\"linear\"}}],\"label\":\"&#9724;\",\"method\":\"animate\"}],\"direction\":\"left\",\"pad\":{\"r\":10,\"t\":70},\"showactive\":false,\"type\":\"buttons\",\"x\":0.1,\"xanchor\":\"right\",\"y\":0,\"yanchor\":\"top\"}],\"sliders\":[{\"active\":0,\"currentvalue\":{\"prefix\":\"year=\"},\"len\":0.9,\"pad\":{\"b\":10,\"t\":60},\"steps\":[{\"args\":[[\"2019\"],{\"frame\":{\"duration\":0,\"redraw\":true},\"mode\":\"immediate\",\"fromcurrent\":true,\"transition\":{\"duration\":0,\"easing\":\"linear\"}}],\"label\":\"2019\",\"method\":\"animate\"},{\"args\":[[\"2021\"],{\"frame\":{\"duration\":0,\"redraw\":true},\"mode\":\"immediate\",\"fromcurrent\":true,\"transition\":{\"duration\":0,\"easing\":\"linear\"}}],\"label\":\"2021\",\"method\":\"animate\"}],\"x\":0.1,\"xanchor\":\"left\",\"y\":0,\"yanchor\":\"top\"}],\"title\":{\"text\":\"World map\",\"x\":0.5}},                        {\"responsive\": true}                    ).then(function(){\n",
       "                            Plotly.addFrames('6fcb6e5a-84f5-44be-b146-d349e3b0cab3', [{\"data\":[{\"geo\":\"geo\",\"hovertemplate\":\"scientificName=Halcyon smyrnensis (Linnaeus, 1758)<br>year=2019<br>decimalLatitude=%{lat}<br>decimalLongitude=%{lon}<extra></extra>\",\"lat\":[22.584674,17.516224,17.516224,17.516224,17.516224,17.516224,17.516224,17.516224,17.516224,17.516224,17.516224,9.01827,12.030479,11.854271,18.6264,12.030479,9.309585,17.757025,18.6264,18.6264,12.030479,12.030479,17.956942,11.854271,10.007529,12.030479,12.030479,21.571848,12.030479,10.064858,18.6264,22.556664,12.030479,12.030479,11.39564,22.556664,12.343227,12.030479,10.0685,11.86957,11.917625,12.030479,21.571848,11.795632,9.309585,12.030479,12.030479,12.343227,12.343227,12.708288,18.628881,10.0685,18.6264,12.030479,10.022283,12.030479,12.030479,12.030479,12.030479,12.030479,9.309585,11.933059,10.0685,12.475221,12.343227,12.030479,11.88032,11.917625,12.030479,10.782508,11.854271,21.578222,22.583574,15.61972,12.030479,11.854271,18.80903,15.010409,10.0685,10.782508,12.030479,11.854271,12.030479,12.343227,11.794866,9.309585,12.030479,21.571848,19.021551,9.01827,10.0685,12.030479,12.030479,12.756868,8.873825,11.854271,12.030479,12.343227,11.88032,12.010757,18.6264,10.0685,17.723415,9.139385,11.917625,21.45152,12.030479,12.030479,11.917625,10.0685,12.030479,11.855171,12.030479,10.782508,12.030479,12.030479,11.795632,9.309585,9.309585,10.0685,12.343227,12.343227,12.030479,12.343227],\"legendgroup\":\"Halcyon smyrnensis (Linnaeus, 1758)\",\"lon\":[72.717105,78.32826,78.32826,78.32826,78.32826,78.32826,78.32826,78.32826,78.32826,78.32826,78.32826,76.51793,75.29331,75.37635,72.88536,75.29331,76.38279,73.12062,72.88536,72.88536,75.29331,75.29331,73.030945,75.37635,76.21656,75.29331,75.29331,72.26925,75.29331,76.25226,72.88536,70.168945,75.29331,75.29331,75.712296,70.168945,75.06234,75.29331,76.26224,75.35243,75.396645,75.29331,72.26925,75.48957,76.38279,75.29331,75.29331,75.06234,75.06234,74.88756,72.8842,76.26224,72.88536,75.29331,76.248634,75.29331,75.29331,75.29331,75.29331,75.29331,76.38279,75.34908,76.26224,74.986015,75.06234,75.29331,79.82347,75.396645,75.29331,75.91443,75.37635,69.74778,70.19328,73.731544,75.29331,75.37635,72.883255,74.02229,76.26224,75.91443,75.29331,75.37635,75.29331,75.06234,75.442665,76.38279,75.29331,72.26925,73.00269,76.51793,76.26224,75.29331,75.29331,74.866516,76.5925,75.37635,75.29331,75.06234,79.82347,75.20052,72.88536,76.26224,73.13208,76.48446,75.396645,87.04104,75.29331,75.29331,75.396645,76.26224,75.29331,75.37284,75.29331,75.91443,75.29331,75.29331,75.48957,76.38279,76.38279,76.26224,75.06234,75.06234,75.29331,75.06234],\"marker\":{\"color\":\"#636efa\",\"symbol\":\"circle\"},\"mode\":\"markers\",\"name\":\"Halcyon smyrnensis (Linnaeus, 1758)\",\"showlegend\":true,\"type\":\"scattergeo\"},{\"geo\":\"geo\",\"hovertemplate\":\"scientificName=Pethia conchonius (Hamilton, 1822)<br>year=2019<br>decimalLatitude=%{lat}<br>decimalLongitude=%{lon}<extra></extra>\",\"lat\":[12.288017],\"legendgroup\":\"Pethia conchonius (Hamilton, 1822)\",\"lon\":[77.432166],\"marker\":{\"color\":\"#EF553B\",\"symbol\":\"circle\"},\"mode\":\"markers\",\"name\":\"Pethia conchonius (Hamilton, 1822)\",\"showlegend\":true,\"type\":\"scattergeo\"},{\"geo\":\"geo\",\"hovertemplate\":\"scientificName=Alcedo atthis (Linnaeus, 1758)<br>year=2019<br>decimalLatitude=%{lat}<br>decimalLongitude=%{lon}<extra></extra>\",\"lat\":[17.516224,17.516224,17.516224,17.516224,17.516224,17.516224,17.516224,17.516224,17.516224,17.516224,17.516224,17.516224,21.578222,15.548713,12.605288,11.16326,12.030479,15.010409,11.917625,11.88032,21.578222,12.030479,14.974076,12.803538,12.030479,12.018979,10.057769,12.030479,12.784107,15.61972,9.528978,12.030479,10.057769,12.030479,21.578222,12.605288,12.784107,12.030479,12.784107,10.057769,11.917625,10.0685,13.339767,10.782508,12.784107,12.030479,12.605288,11.127656,11.16326,11.773511,21.578222,10.057769,11.126527,12.030479,12.784107,10.782508,12.030479,12.784107,12.605288,12.030479,12.030479,12.708288,12.030479,10.065554,11.773511,10.057769,17.723415,12.030479,12.475221,10.057769,12.030479,12.030479,10.057769,10.057769,10.0685,12.343227,12.708288,11.917625,12.343227,10.057769,12.030479,12.605288,10.057769,10.0685,12.784107,12.030479,12.790458,12.784107,10.057769,10.0685,21.578222,12.030479,10.057769,21.578222,12.030479,10.0685,12.784107,21.578222,12.030479,10.057769,12.605288,9.139385,11.773511,12.030479,11.795632,10.057769,10.057769,12.030479],\"legendgroup\":\"Alcedo atthis (Linnaeus, 1758)\",\"lon\":[78.32826,78.32826,78.32826,78.32826,78.32826,78.32826,78.32826,78.32826,78.32826,78.32826,78.32826,78.32826,69.74778,73.75374,74.93233,75.80236,75.29331,74.02229,75.396645,79.82347,69.74778,75.29331,74.04232,80.242584,75.29331,75.22356,76.25108,75.29331,80.23607,73.731544,76.459724,75.29331,76.25108,75.29331,69.74778,74.93233,80.23607,75.29331,80.23607,76.25108,75.396645,76.26224,74.70759,75.91443,80.23607,75.29331,74.93233,75.82985,75.80236,75.45415,69.74778,76.25108,75.82985,75.29331,80.23607,75.91443,75.29331,80.23607,74.93233,75.29331,75.29331,74.88756,75.29331,76.2612,75.45415,76.25108,73.13208,75.29331,74.986015,76.25108,75.29331,75.29331,76.25108,76.25108,76.26224,75.06234,74.88756,75.396645,75.06234,76.25108,75.29331,74.93233,76.25108,76.26224,80.23607,75.29331,80.25289,80.23607,76.25108,76.26224,69.74778,75.29331,76.25108,69.74778,75.29331,76.26224,80.23607,69.74778,75.29331,76.25108,74.93233,76.48446,75.45415,75.29331,75.48957,76.25108,76.25108,75.29331],\"marker\":{\"color\":\"#00cc96\",\"symbol\":\"circle\"},\"mode\":\"markers\",\"name\":\"Alcedo atthis (Linnaeus, 1758)\",\"showlegend\":true,\"type\":\"scattergeo\"},{\"geo\":\"geo\",\"hovertemplate\":\"scientificName=Ceryle rudis (Linnaeus, 1758)<br>year=2019<br>decimalLatitude=%{lat}<br>decimalLongitude=%{lon}<extra></extra>\",\"lat\":[17.516224,17.516224,17.516224,17.516224,17.516224,17.516224,17.516224,12.784107,22.556664,10.591596,11.854271,12.030479,22.556664,12.784107,12.030479,12.030479,10.0685,12.784107,10.0685,10.0685,12.030479,12.030479,12.784107,12.784107,12.784107,10.0685,22.556664,12.784107,10.782508,12.784107,12.030479,8.310901,22.583574,10.057769,12.749178,12.030479,12.803538,12.030479,11.88032,8.783381,12.336648,12.803538],\"legendgroup\":\"Ceryle rudis (Linnaeus, 1758)\",\"lon\":[78.32826,78.32826,78.32826,78.32826,78.32826,78.32826,78.32826,80.23607,70.168945,75.998116,75.37635,75.29331,70.168945,80.23607,75.29331,75.29331,76.26224,80.23607,76.26224,76.26224,75.29331,75.29331,80.23607,80.23607,80.23607,76.26224,70.168945,80.23607,75.91443,80.23607,75.29331,77.07382,70.19328,76.25108,80.25759,75.29331,80.242584,75.29331,79.82347,78.19408,80.03368,80.242584],\"marker\":{\"color\":\"#ab63fa\",\"symbol\":\"circle\"},\"mode\":\"markers\",\"name\":\"Ceryle rudis (Linnaeus, 1758)\",\"showlegend\":true,\"type\":\"scattergeo\"},{\"geo\":\"geo\",\"hovertemplate\":\"scientificName=Halcyon pileata (Boddaert, 1783)<br>year=2019<br>decimalLatitude=%{lat}<br>decimalLongitude=%{lon}<extra></extra>\",\"lat\":[19.021551,10.022283,19.021551],\"legendgroup\":\"Halcyon pileata (Boddaert, 1783)\",\"lon\":[73.00269,76.248634,73.00269],\"marker\":{\"color\":\"#FFA15A\",\"symbol\":\"circle\"},\"mode\":\"markers\",\"name\":\"Halcyon pileata (Boddaert, 1783)\",\"showlegend\":true,\"type\":\"scattergeo\"},{\"geo\":\"geo\",\"hovertemplate\":\"scientificName=Pelargopsis capensis (Linnaeus, 1766)<br>year=2019<br>decimalLatitude=%{lat}<br>decimalLongitude=%{lon}<extra></extra>\",\"lat\":[11.795632,12.343227,10.0685,10.0685,10.0685,10.007529,10.0685,12.030479,12.343227,11.933059,12.343227,11.917625,11.917625,9.748953,12.030479,10.0685,11.917625,10.0685,10.0685,12.030479,10.0685],\"legendgroup\":\"Pelargopsis capensis (Linnaeus, 1766)\",\"lon\":[75.48957,75.06234,76.26224,76.26224,76.26224,76.21656,76.26224,75.29331,75.06234,75.34908,75.06234,75.396645,75.396645,76.28548,75.29331,76.26224,75.396645,76.26224,76.26224,75.29331,76.26224],\"marker\":{\"color\":\"#19d3f3\",\"symbol\":\"circle\"},\"mode\":\"markers\",\"name\":\"Pelargopsis capensis (Linnaeus, 1766)\",\"showlegend\":true,\"type\":\"scattergeo\"},{\"geo\":\"geo\",\"hovertemplate\":\"scientificName=Ceyx erithaca (Linnaeus, 1758)<br>year=2019<br>decimalLatitude=%{lat}<br>decimalLongitude=%{lon}<extra></extra>\",\"lat\":[18.6264],\"legendgroup\":\"Ceyx erithaca (Linnaeus, 1758)\",\"lon\":[72.88536],\"marker\":{\"color\":\"#FF6692\",\"symbol\":\"circle\"},\"mode\":\"markers\",\"name\":\"Ceyx erithaca (Linnaeus, 1758)\",\"showlegend\":true,\"type\":\"scattergeo\"}],\"name\":\"2019\"},{\"data\":[{\"geo\":\"geo\",\"hovertemplate\":\"scientificName=Halcyon smyrnensis (Linnaeus, 1758)<br>year=2021<br>decimalLatitude=%{lat}<br>decimalLongitude=%{lon}<extra></extra>\",\"lat\":[14.45503,10.029107,14.45503],\"legendgroup\":\"Halcyon smyrnensis (Linnaeus, 1758)\",\"lon\":[75.892607,76.35898,75.892607],\"marker\":{\"color\":\"#636efa\",\"symbol\":\"circle\"},\"mode\":\"markers\",\"name\":\"Halcyon smyrnensis (Linnaeus, 1758)\",\"showlegend\":true,\"type\":\"scattergeo\"},{\"geo\":\"geo\",\"hovertemplate\":\"scientificName=Alcedo atthis (Linnaeus, 1758)<br>year=2021<br>decimalLatitude=%{lat}<br>decimalLongitude=%{lon}<extra></extra>\",\"lat\":[14.351889],\"legendgroup\":\"Alcedo atthis (Linnaeus, 1758)\",\"lon\":[75.73974],\"marker\":{\"color\":\"#00cc96\",\"symbol\":\"circle\"},\"mode\":\"markers\",\"name\":\"Alcedo atthis (Linnaeus, 1758)\",\"showlegend\":true,\"type\":\"scattergeo\"},{\"geo\":\"geo\",\"hovertemplate\":\"scientificName=Ceryle rudis (Linnaeus, 1758)<br>year=2021<br>decimalLatitude=%{lat}<br>decimalLongitude=%{lon}<extra></extra>\",\"lat\":[14.351889,10.545077],\"legendgroup\":\"Ceryle rudis (Linnaeus, 1758)\",\"lon\":[75.73974,76.14649],\"marker\":{\"color\":\"#ab63fa\",\"symbol\":\"circle\"},\"mode\":\"markers\",\"name\":\"Ceryle rudis (Linnaeus, 1758)\",\"showlegend\":true,\"type\":\"scattergeo\"},{\"geo\":\"geo\",\"hovertemplate\":\"scientificName=Pavo cristatus Linnaeus, 1758<br>year=2021<br>decimalLatitude=%{lat}<br>decimalLongitude=%{lon}<extra></extra>\",\"lat\":[13.467858],\"legendgroup\":\"Pavo cristatus Linnaeus, 1758\",\"lon\":[77.225642],\"marker\":{\"color\":\"#B6E880\",\"symbol\":\"circle\"},\"mode\":\"markers\",\"name\":\"Pavo cristatus Linnaeus, 1758\",\"showlegend\":true,\"type\":\"scattergeo\"},{\"geo\":\"geo\",\"hovertemplate\":\"scientificName=Ardeola grayii (Sykes, 1832)<br>year=2021<br>decimalLatitude=%{lat}<br>decimalLongitude=%{lon}<extra></extra>\",\"lat\":[13.467858],\"legendgroup\":\"Ardeola grayii (Sykes, 1832)\",\"lon\":[77.225642],\"marker\":{\"color\":\"#FF97FF\",\"symbol\":\"circle\"},\"mode\":\"markers\",\"name\":\"Ardeola grayii (Sykes, 1832)\",\"showlegend\":true,\"type\":\"scattergeo\"},{\"geo\":\"geo\",\"hovertemplate\":\"scientificName=Vanellus indicus (Boddaert, 1783)<br>year=2021<br>decimalLatitude=%{lat}<br>decimalLongitude=%{lon}<extra></extra>\",\"lat\":[13.467858],\"legendgroup\":\"Vanellus indicus (Boddaert, 1783)\",\"lon\":[77.225642],\"marker\":{\"color\":\"#FECB52\",\"symbol\":\"circle\"},\"mode\":\"markers\",\"name\":\"Vanellus indicus (Boddaert, 1783)\",\"showlegend\":true,\"type\":\"scattergeo\"},{\"geo\":\"geo\",\"hovertemplate\":\"scientificName=Cinnyris asiaticus (Latham, 1790)<br>year=2021<br>decimalLatitude=%{lat}<br>decimalLongitude=%{lon}<extra></extra>\",\"lat\":[13.467858],\"legendgroup\":\"Cinnyris asiaticus (Latham, 1790)\",\"lon\":[77.225642],\"marker\":{\"color\":\"#636efa\",\"symbol\":\"circle\"},\"mode\":\"markers\",\"name\":\"Cinnyris asiaticus (Latham, 1790)\",\"showlegend\":true,\"type\":\"scattergeo\"},{\"geo\":\"geo\",\"hovertemplate\":\"scientificName=Anas poecilorhyncha J.R.Forster, 1781<br>year=2021<br>decimalLatitude=%{lat}<br>decimalLongitude=%{lon}<extra></extra>\",\"lat\":[13.467858,14.351889,12.845215,12.845215,15.139393,14.45503],\"legendgroup\":\"Anas poecilorhyncha J.R.Forster, 1781\",\"lon\":[77.225642,75.73974,77.66017,77.66017,76.921443,75.892607],\"marker\":{\"color\":\"#EF553B\",\"symbol\":\"circle\"},\"mode\":\"markers\",\"name\":\"Anas poecilorhyncha J.R.Forster, 1781\",\"showlegend\":true,\"type\":\"scattergeo\"},{\"geo\":\"geo\",\"hovertemplate\":\"scientificName=Merops orientalis Latham, 1802<br>year=2021<br>decimalLatitude=%{lat}<br>decimalLongitude=%{lon}<extra></extra>\",\"lat\":[13.467858,12.791278,8.453915],\"legendgroup\":\"Merops orientalis Latham, 1802\",\"lon\":[77.225642,77.730378,76.973293],\"marker\":{\"color\":\"#00cc96\",\"symbol\":\"circle\"},\"mode\":\"markers\",\"name\":\"Merops orientalis Latham, 1802\",\"showlegend\":true,\"type\":\"scattergeo\"},{\"geo\":\"geo\",\"hovertemplate\":\"scientificName=Lanius cristatus Linnaeus, 1758<br>year=2021<br>decimalLatitude=%{lat}<br>decimalLongitude=%{lon}<extra></extra>\",\"lat\":[13.467858],\"legendgroup\":\"Lanius cristatus Linnaeus, 1758\",\"lon\":[77.225642],\"marker\":{\"color\":\"#ab63fa\",\"symbol\":\"circle\"},\"mode\":\"markers\",\"name\":\"Lanius cristatus Linnaeus, 1758\",\"showlegend\":true,\"type\":\"scattergeo\"},{\"geo\":\"geo\",\"hovertemplate\":\"scientificName=Coracias benghalensis (Linnaeus, 1758)<br>year=2021<br>decimalLatitude=%{lat}<br>decimalLongitude=%{lon}<extra></extra>\",\"lat\":[13.467858,15.139393],\"legendgroup\":\"Coracias benghalensis (Linnaeus, 1758)\",\"lon\":[77.225642,76.921443],\"marker\":{\"color\":\"#FFA15A\",\"symbol\":\"circle\"},\"mode\":\"markers\",\"name\":\"Coracias benghalensis (Linnaeus, 1758)\",\"showlegend\":true,\"type\":\"scattergeo\"},{\"geo\":\"geo\",\"hovertemplate\":\"scientificName=Metopidius indicus (Latham, 1790)<br>year=2021<br>decimalLatitude=%{lat}<br>decimalLongitude=%{lon}<extra></extra>\",\"lat\":[14.351889],\"legendgroup\":\"Metopidius indicus (Latham, 1790)\",\"lon\":[75.73974],\"marker\":{\"color\":\"#19d3f3\",\"symbol\":\"circle\"},\"mode\":\"markers\",\"name\":\"Metopidius indicus (Latham, 1790)\",\"showlegend\":true,\"type\":\"scattergeo\"},{\"geo\":\"geo\",\"hovertemplate\":\"scientificName=Pernis ptilorhynchus (Temminck, 1821)<br>year=2021<br>decimalLatitude=%{lat}<br>decimalLongitude=%{lon}<extra></extra>\",\"lat\":[14.351889],\"legendgroup\":\"Pernis ptilorhynchus (Temminck, 1821)\",\"lon\":[75.73974],\"marker\":{\"color\":\"#FF6692\",\"symbol\":\"circle\"},\"mode\":\"markers\",\"name\":\"Pernis ptilorhynchus (Temminck, 1821)\",\"showlegend\":true,\"type\":\"scattergeo\"},{\"geo\":\"geo\",\"hovertemplate\":\"scientificName=Dendrocygna javanica (Horsfield, 1821)<br>year=2021<br>decimalLatitude=%{lat}<br>decimalLongitude=%{lon}<extra></extra>\",\"lat\":[14.351889,27.278471],\"legendgroup\":\"Dendrocygna javanica (Horsfield, 1821)\",\"lon\":[75.73974,94.024],\"marker\":{\"color\":\"#B6E880\",\"symbol\":\"circle\"},\"mode\":\"markers\",\"name\":\"Dendrocygna javanica (Horsfield, 1821)\",\"showlegend\":true,\"type\":\"scattergeo\"},{\"geo\":\"geo\",\"hovertemplate\":\"scientificName=Nettapus coromandelianus (Gmelin, 1789)<br>year=2021<br>decimalLatitude=%{lat}<br>decimalLongitude=%{lon}<extra></extra>\",\"lat\":[14.351889],\"legendgroup\":\"Nettapus coromandelianus (Gmelin, 1789)\",\"lon\":[75.73974],\"marker\":{\"color\":\"#FF97FF\",\"symbol\":\"circle\"},\"mode\":\"markers\",\"name\":\"Nettapus coromandelianus (Gmelin, 1789)\",\"showlegend\":true,\"type\":\"scattergeo\"},{\"geo\":\"geo\",\"hovertemplate\":\"scientificName=Tachybaptus ruficollis (Pallas, 1764)<br>year=2021<br>decimalLatitude=%{lat}<br>decimalLongitude=%{lon}<extra></extra>\",\"lat\":[14.351889,15.139393,14.45503],\"legendgroup\":\"Tachybaptus ruficollis (Pallas, 1764)\",\"lon\":[75.73974,76.921443,75.892607],\"marker\":{\"color\":\"#FECB52\",\"symbol\":\"circle\"},\"mode\":\"markers\",\"name\":\"Tachybaptus ruficollis (Pallas, 1764)\",\"showlegend\":true,\"type\":\"scattergeo\"},{\"geo\":\"geo\",\"hovertemplate\":\"scientificName=Fulica atra Linnaeus, 1758<br>year=2021<br>decimalLatitude=%{lat}<br>decimalLongitude=%{lon}<extra></extra>\",\"lat\":[14.351889],\"legendgroup\":\"Fulica atra Linnaeus, 1758\",\"lon\":[75.73974],\"marker\":{\"color\":\"#636efa\",\"symbol\":\"circle\"},\"mode\":\"markers\",\"name\":\"Fulica atra Linnaeus, 1758\",\"showlegend\":true,\"type\":\"scattergeo\"},{\"geo\":\"geo\",\"hovertemplate\":\"scientificName=Hydrophasianus chirurgus (Scopoli, 1786)<br>year=2021<br>decimalLatitude=%{lat}<br>decimalLongitude=%{lon}<extra></extra>\",\"lat\":[14.351889],\"legendgroup\":\"Hydrophasianus chirurgus (Scopoli, 1786)\",\"lon\":[75.73974],\"marker\":{\"color\":\"#EF553B\",\"symbol\":\"circle\"},\"mode\":\"markers\",\"name\":\"Hydrophasianus chirurgus (Scopoli, 1786)\",\"showlegend\":true,\"type\":\"scattergeo\"},{\"geo\":\"geo\",\"hovertemplate\":\"scientificName=Sterna aurantia J.E.Gray, 1831<br>year=2021<br>decimalLatitude=%{lat}<br>decimalLongitude=%{lon}<extra></extra>\",\"lat\":[14.351889],\"legendgroup\":\"Sterna aurantia J.E.Gray, 1831\",\"lon\":[75.73974],\"marker\":{\"color\":\"#00cc96\",\"symbol\":\"circle\"},\"mode\":\"markers\",\"name\":\"Sterna aurantia J.E.Gray, 1831\",\"showlegend\":true,\"type\":\"scattergeo\"},{\"geo\":\"geo\",\"hovertemplate\":\"scientificName=Chlidonias hybrida (Pallas, 1811)<br>year=2021<br>decimalLatitude=%{lat}<br>decimalLongitude=%{lon}<extra></extra>\",\"lat\":[14.351889,14.45503],\"legendgroup\":\"Chlidonias hybrida (Pallas, 1811)\",\"lon\":[75.73974,75.892607],\"marker\":{\"color\":\"#ab63fa\",\"symbol\":\"circle\"},\"mode\":\"markers\",\"name\":\"Chlidonias hybrida (Pallas, 1811)\",\"showlegend\":true,\"type\":\"scattergeo\"},{\"geo\":\"geo\",\"hovertemplate\":\"scientificName=Porphyrio porphyrio (Linnaeus, 1758)<br>year=2021<br>decimalLatitude=%{lat}<br>decimalLongitude=%{lon}<extra></extra>\",\"lat\":[14.351889,27.278471],\"legendgroup\":\"Porphyrio porphyrio (Linnaeus, 1758)\",\"lon\":[75.73974,94.024],\"marker\":{\"color\":\"#FFA15A\",\"symbol\":\"circle\"},\"mode\":\"markers\",\"name\":\"Porphyrio porphyrio (Linnaeus, 1758)\",\"showlegend\":true,\"type\":\"scattergeo\"},{\"geo\":\"geo\",\"hovertemplate\":\"scientificName=Gallinula chloropus (Linnaeus, 1758)<br>year=2021<br>decimalLatitude=%{lat}<br>decimalLongitude=%{lon}<extra></extra>\",\"lat\":[14.351889],\"legendgroup\":\"Gallinula chloropus (Linnaeus, 1758)\",\"lon\":[75.73974],\"marker\":{\"color\":\"#19d3f3\",\"symbol\":\"circle\"},\"mode\":\"markers\",\"name\":\"Gallinula chloropus (Linnaeus, 1758)\",\"showlegend\":true,\"type\":\"scattergeo\"},{\"geo\":\"geo\",\"hovertemplate\":\"scientificName=Oxalis debilis Kunth<br>year=2021<br>decimalLatitude=%{lat}<br>decimalLongitude=%{lon}<extra></extra>\",\"lat\":[8.757759],\"legendgroup\":\"Oxalis debilis Kunth\",\"lon\":[77.115794],\"marker\":{\"color\":\"#FF6692\",\"symbol\":\"circle\"},\"mode\":\"markers\",\"name\":\"Oxalis debilis Kunth\",\"showlegend\":true,\"type\":\"scattergeo\"},{\"geo\":\"geo\",\"hovertemplate\":\"scientificName=Udara akasa (Horsfield, 1828)<br>year=2021<br>decimalLatitude=%{lat}<br>decimalLongitude=%{lon}<extra></extra>\",\"lat\":[11.016845],\"legendgroup\":\"Udara akasa (Horsfield, 1828)\",\"lon\":[76.955832],\"marker\":{\"color\":\"#B6E880\",\"symbol\":\"circle\"},\"mode\":\"markers\",\"name\":\"Udara akasa (Horsfield, 1828)\",\"showlegend\":true,\"type\":\"scattergeo\"},{\"geo\":\"geo\",\"hovertemplate\":\"scientificName=Psilopogon haemacephalus (P.L.S.M\\u00fcller, 1776)<br>year=2021<br>decimalLatitude=%{lat}<br>decimalLongitude=%{lon}<extra></extra>\",\"lat\":[8.713913,25.095386,12.791278,12.310435],\"legendgroup\":\"Psilopogon haemacephalus (P.L.S.M\\u00fcller, 1776)\",\"lon\":[77.756652,94.361652,77.730378,76.62397],\"marker\":{\"color\":\"#FF97FF\",\"symbol\":\"circle\"},\"mode\":\"markers\",\"name\":\"Psilopogon haemacephalus (P.L.S.M\\u00fcller, 1776)\",\"showlegend\":true,\"type\":\"scattergeo\"},{\"geo\":\"geo\",\"hovertemplate\":\"scientificName=Spialia galba Fabricius, 1793<br>year=2021<br>decimalLatitude=%{lat}<br>decimalLongitude=%{lon}<extra></extra>\",\"lat\":[25.236,25.2347],\"legendgroup\":\"Spialia galba Fabricius, 1793\",\"lon\":[75.8369,75.838],\"marker\":{\"color\":\"#FECB52\",\"symbol\":\"circle\"},\"mode\":\"markers\",\"name\":\"Spialia galba Fabricius, 1793\",\"showlegend\":true,\"type\":\"scattergeo\"},{\"geo\":\"geo\",\"hovertemplate\":\"scientificName=Pareuchaetes pseudoinsulata Rego Barros, 1956<br>year=2021<br>decimalLatitude=%{lat}<br>decimalLongitude=%{lon}<extra></extra>\",\"lat\":[12.012714],\"legendgroup\":\"Pareuchaetes pseudoinsulata Rego Barros, 1956\",\"lon\":[76.310815],\"marker\":{\"color\":\"#636efa\",\"symbol\":\"circle\"},\"mode\":\"markers\",\"name\":\"Pareuchaetes pseudoinsulata Rego Barros, 1956\",\"showlegend\":true,\"type\":\"scattergeo\"},{\"geo\":\"geo\",\"hovertemplate\":\"scientificName=Uperodon variegatus (Stoliczka, 1872)<br>year=2021<br>decimalLatitude=%{lat}<br>decimalLongitude=%{lon}<extra></extra>\",\"lat\":[13.4623],\"legendgroup\":\"Uperodon variegatus (Stoliczka, 1872)\",\"lon\":[77.2306],\"marker\":{\"color\":\"#EF553B\",\"symbol\":\"circle\"},\"mode\":\"markers\",\"name\":\"Uperodon variegatus (Stoliczka, 1872)\",\"showlegend\":true,\"type\":\"scattergeo\"},{\"geo\":\"geo\",\"hovertemplate\":\"scientificName=Himantopus himantopus (Linnaeus, 1758)<br>year=2021<br>decimalLatitude=%{lat}<br>decimalLongitude=%{lon}<extra></extra>\",\"lat\":[12.845215,14.351889],\"legendgroup\":\"Himantopus himantopus (Linnaeus, 1758)\",\"lon\":[77.66017,75.73974],\"marker\":{\"color\":\"#00cc96\",\"symbol\":\"circle\"},\"mode\":\"markers\",\"name\":\"Himantopus himantopus (Linnaeus, 1758)\",\"showlegend\":true,\"type\":\"scattergeo\"},{\"geo\":\"geo\",\"hovertemplate\":\"scientificName=Herpestes smithii Gray, 1837<br>year=2021<br>decimalLatitude=%{lat}<br>decimalLongitude=%{lon}<extra></extra>\",\"lat\":[14.230669],\"legendgroup\":\"Herpestes smithii Gray, 1837\",\"lon\":[77.608798],\"marker\":{\"color\":\"#ab63fa\",\"symbol\":\"circle\"},\"mode\":\"markers\",\"name\":\"Herpestes smithii Gray, 1837\",\"showlegend\":true,\"type\":\"scattergeo\"},{\"geo\":\"geo\",\"hovertemplate\":\"scientificName=Francolinus pondicerianus (Gmelin, 1789)<br>year=2021<br>decimalLatitude=%{lat}<br>decimalLongitude=%{lon}<extra></extra>\",\"lat\":[14.230669],\"legendgroup\":\"Francolinus pondicerianus (Gmelin, 1789)\",\"lon\":[77.608798],\"marker\":{\"color\":\"#FFA15A\",\"symbol\":\"circle\"},\"mode\":\"markers\",\"name\":\"Francolinus pondicerianus (Gmelin, 1789)\",\"showlegend\":true,\"type\":\"scattergeo\"},{\"geo\":\"geo\",\"hovertemplate\":\"scientificName=Oriolus oriolus (Linnaeus, 1758)<br>year=2021<br>decimalLatitude=%{lat}<br>decimalLongitude=%{lon}<extra></extra>\",\"lat\":[15.139393],\"legendgroup\":\"Oriolus oriolus (Linnaeus, 1758)\",\"lon\":[76.921443],\"marker\":{\"color\":\"#19d3f3\",\"symbol\":\"circle\"},\"mode\":\"markers\",\"name\":\"Oriolus oriolus (Linnaeus, 1758)\",\"showlegend\":true,\"type\":\"scattergeo\"},{\"geo\":\"geo\",\"hovertemplate\":\"scientificName=Ciconia episcopus (Boddaert, 1783)<br>year=2021<br>decimalLatitude=%{lat}<br>decimalLongitude=%{lon}<extra></extra>\",\"lat\":[15.139393],\"legendgroup\":\"Ciconia episcopus (Boddaert, 1783)\",\"lon\":[76.921443],\"marker\":{\"color\":\"#FF6692\",\"symbol\":\"circle\"},\"mode\":\"markers\",\"name\":\"Ciconia episcopus (Boddaert, 1783)\",\"showlegend\":true,\"type\":\"scattergeo\"},{\"geo\":\"geo\",\"hovertemplate\":\"scientificName=Artocarpus heterophyllus Lam.<br>year=2021<br>decimalLatitude=%{lat}<br>decimalLongitude=%{lon}<extra></extra>\",\"lat\":[9.851561],\"legendgroup\":\"Artocarpus heterophyllus Lam.\",\"lon\":[76.382912],\"marker\":{\"color\":\"#B6E880\",\"symbol\":\"circle\"},\"mode\":\"markers\",\"name\":\"Artocarpus heterophyllus Lam.\",\"showlegend\":true,\"type\":\"scattergeo\"},{\"geo\":\"geo\",\"hovertemplate\":\"scientificName=Euchromia polymena Linnaeus, 1758<br>year=2021<br>decimalLatitude=%{lat}<br>decimalLongitude=%{lon}<extra></extra>\",\"lat\":[18.40493],\"legendgroup\":\"Euchromia polymena Linnaeus, 1758\",\"lon\":[72.93797],\"marker\":{\"color\":\"#FF97FF\",\"symbol\":\"circle\"},\"mode\":\"markers\",\"name\":\"Euchromia polymena Linnaeus, 1758\",\"showlegend\":true,\"type\":\"scattergeo\"},{\"geo\":\"geo\",\"hovertemplate\":\"scientificName=incertae sedis<br>year=2021<br>decimalLatitude=%{lat}<br>decimalLongitude=%{lon}<extra></extra>\",\"lat\":[9.851561,11.731,31.326015],\"legendgroup\":\"incertae sedis\",\"lon\":[76.382912,78.1781,75.576183],\"marker\":{\"color\":\"#FECB52\",\"symbol\":\"circle\"},\"mode\":\"markers\",\"name\":\"incertae sedis\",\"showlegend\":true,\"type\":\"scattergeo\"},{\"geo\":\"geo\",\"hovertemplate\":\"scientificName=Brassica oleracea var. botrytis L.<br>year=2021<br>decimalLatitude=%{lat}<br>decimalLongitude=%{lon}<extra></extra>\",\"lat\":[9.851561],\"legendgroup\":\"Brassica oleracea var. botrytis L.\",\"lon\":[76.382912],\"marker\":{\"color\":\"#636efa\",\"symbol\":\"circle\"},\"mode\":\"markers\",\"name\":\"Brassica oleracea var. botrytis L.\",\"showlegend\":true,\"type\":\"scattergeo\"},{\"geo\":\"geo\",\"hovertemplate\":\"scientificName=Ariadne merione Cramer, 1779<br>year=2021<br>decimalLatitude=%{lat}<br>decimalLongitude=%{lon}<extra></extra>\",\"lat\":[25.1824,11.6859],\"legendgroup\":\"Ariadne merione Cramer, 1779\",\"lon\":[75.8292,78.1763],\"marker\":{\"color\":\"#EF553B\",\"symbol\":\"circle\"},\"mode\":\"markers\",\"name\":\"Ariadne merione Cramer, 1779\",\"showlegend\":true,\"type\":\"scattergeo\"},{\"geo\":\"geo\",\"hovertemplate\":\"scientificName=Mycteria leucocephala (Pennant, 1769)<br>year=2021<br>decimalLatitude=%{lat}<br>decimalLongitude=%{lon}<extra></extra>\",\"lat\":[15.139393,14.45503,14.45503,14.45503],\"legendgroup\":\"Mycteria leucocephala (Pennant, 1769)\",\"lon\":[76.921443,75.892607,75.892607,75.892607],\"marker\":{\"color\":\"#00cc96\",\"symbol\":\"circle\"},\"mode\":\"markers\",\"name\":\"Mycteria leucocephala (Pennant, 1769)\",\"showlegend\":true,\"type\":\"scattergeo\"},{\"geo\":\"geo\",\"hovertemplate\":\"scientificName=Thunbergia alata Bojer ex Sims<br>year=2021<br>decimalLatitude=%{lat}<br>decimalLongitude=%{lon}<extra></extra>\",\"lat\":[8.757759],\"legendgroup\":\"Thunbergia alata Bojer ex Sims\",\"lon\":[77.115794],\"marker\":{\"color\":\"#ab63fa\",\"symbol\":\"circle\"},\"mode\":\"markers\",\"name\":\"Thunbergia alata Bojer ex Sims\",\"showlegend\":true,\"type\":\"scattergeo\"},{\"geo\":\"geo\",\"hovertemplate\":\"scientificName=Aegle marmelos (L.) Corr\\u00eaa<br>year=2021<br>decimalLatitude=%{lat}<br>decimalLongitude=%{lon}<extra></extra>\",\"lat\":[9.851561,8.487969],\"legendgroup\":\"Aegle marmelos (L.) Corr\\u00eaa\",\"lon\":[76.382912,76.980914],\"marker\":{\"color\":\"#FFA15A\",\"symbol\":\"circle\"},\"mode\":\"markers\",\"name\":\"Aegle marmelos (L.) Corr\\u00eaa\",\"showlegend\":true,\"type\":\"scattergeo\"},{\"geo\":\"geo\",\"hovertemplate\":\"scientificName=Loriculus vernalis (Sparrman, 1787)<br>year=2021<br>decimalLatitude=%{lat}<br>decimalLongitude=%{lon}<extra></extra>\",\"lat\":[8.757759,13.627984],\"legendgroup\":\"Loriculus vernalis (Sparrman, 1787)\",\"lon\":[77.115794,74.849197],\"marker\":{\"color\":\"#19d3f3\",\"symbol\":\"circle\"},\"mode\":\"markers\",\"name\":\"Loriculus vernalis (Sparrman, 1787)\",\"showlegend\":true,\"type\":\"scattergeo\"},{\"geo\":\"geo\",\"hovertemplate\":\"scientificName=Jatropha integerrima Jacq.<br>year=2021<br>decimalLatitude=%{lat}<br>decimalLongitude=%{lon}<extra></extra>\",\"lat\":[21.875032],\"legendgroup\":\"Jatropha integerrima Jacq.\",\"lon\":[70.106136],\"marker\":{\"color\":\"#FF6692\",\"symbol\":\"circle\"},\"mode\":\"markers\",\"name\":\"Jatropha integerrima Jacq.\",\"showlegend\":true,\"type\":\"scattergeo\"},{\"geo\":\"geo\",\"hovertemplate\":\"scientificName=Argya caudata (Dumont, 1823)<br>year=2021<br>decimalLatitude=%{lat}<br>decimalLongitude=%{lon}<extra></extra>\",\"lat\":[14.230669],\"legendgroup\":\"Argya caudata (Dumont, 1823)\",\"lon\":[77.608798],\"marker\":{\"color\":\"#B6E880\",\"symbol\":\"circle\"},\"mode\":\"markers\",\"name\":\"Argya caudata (Dumont, 1823)\",\"showlegend\":true,\"type\":\"scattergeo\"},{\"geo\":\"geo\",\"hovertemplate\":\"scientificName=Streptopelia decaocto (Frivaldszky, 1838)<br>year=2021<br>decimalLatitude=%{lat}<br>decimalLongitude=%{lon}<extra></extra>\",\"lat\":[14.230669],\"legendgroup\":\"Streptopelia decaocto (Frivaldszky, 1838)\",\"lon\":[77.608798],\"marker\":{\"color\":\"#FF97FF\",\"symbol\":\"circle\"},\"mode\":\"markers\",\"name\":\"Streptopelia decaocto (Frivaldszky, 1838)\",\"showlegend\":true,\"type\":\"scattergeo\"},{\"geo\":\"geo\",\"hovertemplate\":\"scientificName=Pycnonotus cafer (Linnaeus, 1766)<br>year=2021<br>decimalLatitude=%{lat}<br>decimalLongitude=%{lon}<extra></extra>\",\"lat\":[14.230669],\"legendgroup\":\"Pycnonotus cafer (Linnaeus, 1766)\",\"lon\":[77.608798],\"marker\":{\"color\":\"#FECB52\",\"symbol\":\"circle\"},\"mode\":\"markers\",\"name\":\"Pycnonotus cafer (Linnaeus, 1766)\",\"showlegend\":true,\"type\":\"scattergeo\"},{\"geo\":\"geo\",\"hovertemplate\":\"scientificName=Ficus hispida L.fil.<br>year=2021<br>decimalLatitude=%{lat}<br>decimalLongitude=%{lon}<extra></extra>\",\"lat\":[15.39719],\"legendgroup\":\"Ficus hispida L.fil.\",\"lon\":[74.338219],\"marker\":{\"color\":\"#636efa\",\"symbol\":\"circle\"},\"mode\":\"markers\",\"name\":\"Ficus hispida L.fil.\",\"showlegend\":true,\"type\":\"scattergeo\"},{\"geo\":\"geo\",\"hovertemplate\":\"scientificName=Tephrodornis pondicerianus (Gmelin, 1789)<br>year=2021<br>decimalLatitude=%{lat}<br>decimalLongitude=%{lon}<extra></extra>\",\"lat\":[12.950236],\"legendgroup\":\"Tephrodornis pondicerianus (Gmelin, 1789)\",\"lon\":[74.868774],\"marker\":{\"color\":\"#EF553B\",\"symbol\":\"circle\"},\"mode\":\"markers\",\"name\":\"Tephrodornis pondicerianus (Gmelin, 1789)\",\"showlegend\":true,\"type\":\"scattergeo\"},{\"geo\":\"geo\",\"hovertemplate\":\"scientificName=Diplacodes trivialis Rambur, 1842<br>year=2021<br>decimalLatitude=%{lat}<br>decimalLongitude=%{lon}<extra></extra>\",\"lat\":[9.981636],\"legendgroup\":\"Diplacodes trivialis Rambur, 1842\",\"lon\":[76.299884],\"marker\":{\"color\":\"#00cc96\",\"symbol\":\"circle\"},\"mode\":\"markers\",\"name\":\"Diplacodes trivialis Rambur, 1842\",\"showlegend\":true,\"type\":\"scattergeo\"},{\"geo\":\"geo\",\"hovertemplate\":\"scientificName=Allamanda cathartica L.<br>year=2021<br>decimalLatitude=%{lat}<br>decimalLongitude=%{lon}<extra></extra>\",\"lat\":[9.87727],\"legendgroup\":\"Allamanda cathartica L.\",\"lon\":[76.291302],\"marker\":{\"color\":\"#ab63fa\",\"symbol\":\"circle\"},\"mode\":\"markers\",\"name\":\"Allamanda cathartica L.\",\"showlegend\":true,\"type\":\"scattergeo\"},{\"geo\":\"geo\",\"hovertemplate\":\"scientificName=Petunia Juss.<br>year=2021<br>decimalLatitude=%{lat}<br>decimalLongitude=%{lon}<extra></extra>\",\"lat\":[21.8758],\"legendgroup\":\"Petunia Juss.\",\"lon\":[70.1108],\"marker\":{\"color\":\"#FFA15A\",\"symbol\":\"circle\"},\"mode\":\"markers\",\"name\":\"Petunia Juss.\",\"showlegend\":true,\"type\":\"scattergeo\"},{\"geo\":\"geo\",\"hovertemplate\":\"scientificName=Dianthus chinensis L.<br>year=2021<br>decimalLatitude=%{lat}<br>decimalLongitude=%{lon}<extra></extra>\",\"lat\":[21.8729],\"legendgroup\":\"Dianthus chinensis L.\",\"lon\":[70.1075],\"marker\":{\"color\":\"#19d3f3\",\"symbol\":\"circle\"},\"mode\":\"markers\",\"name\":\"Dianthus chinensis L.\",\"showlegend\":true,\"type\":\"scattergeo\"},{\"geo\":\"geo\",\"hovertemplate\":\"scientificName=Merops leschenaulti Vieillot, 1817<br>year=2021<br>decimalLatitude=%{lat}<br>decimalLongitude=%{lon}<extra></extra>\",\"lat\":[12.950236],\"legendgroup\":\"Merops leschenaulti Vieillot, 1817\",\"lon\":[74.868774],\"marker\":{\"color\":\"#FF6692\",\"symbol\":\"circle\"},\"mode\":\"markers\",\"name\":\"Merops leschenaulti Vieillot, 1817\",\"showlegend\":true,\"type\":\"scattergeo\"},{\"geo\":\"geo\",\"hovertemplate\":\"scientificName=Sturnia malabarica (Gmelin, 1789)<br>year=2021<br>decimalLatitude=%{lat}<br>decimalLongitude=%{lon}<extra></extra>\",\"lat\":[12.950236],\"legendgroup\":\"Sturnia malabarica (Gmelin, 1789)\",\"lon\":[74.868774],\"marker\":{\"color\":\"#B6E880\",\"symbol\":\"circle\"},\"mode\":\"markers\",\"name\":\"Sturnia malabarica (Gmelin, 1789)\",\"showlegend\":true,\"type\":\"scattergeo\"},{\"geo\":\"geo\",\"hovertemplate\":\"scientificName=Lanius vittatus Valenciennes, 1826<br>year=2021<br>decimalLatitude=%{lat}<br>decimalLongitude=%{lon}<extra></extra>\",\"lat\":[12.950236,14.818481],\"legendgroup\":\"Lanius vittatus Valenciennes, 1826\",\"lon\":[74.868774,74.141613],\"marker\":{\"color\":\"#FF97FF\",\"symbol\":\"circle\"},\"mode\":\"markers\",\"name\":\"Lanius vittatus Valenciennes, 1826\",\"showlegend\":true,\"type\":\"scattergeo\"},{\"geo\":\"geo\",\"hovertemplate\":\"scientificName=Pelopidas agna Moore, 1865<br>year=2021<br>decimalLatitude=%{lat}<br>decimalLongitude=%{lon}<extra></extra>\",\"lat\":[11.746128],\"legendgroup\":\"Pelopidas agna Moore, 1865\",\"lon\":[78.170257],\"marker\":{\"color\":\"#FECB52\",\"symbol\":\"circle\"},\"mode\":\"markers\",\"name\":\"Pelopidas agna Moore, 1865\",\"showlegend\":true,\"type\":\"scattergeo\"},{\"geo\":\"geo\",\"hovertemplate\":\"scientificName=Phalanta phalantha Drury, 1773<br>year=2021<br>decimalLatitude=%{lat}<br>decimalLongitude=%{lon}<extra></extra>\",\"lat\":[11.746128],\"legendgroup\":\"Phalanta phalantha Drury, 1773\",\"lon\":[78.170257],\"marker\":{\"color\":\"#636efa\",\"symbol\":\"circle\"},\"mode\":\"markers\",\"name\":\"Phalanta phalantha Drury, 1773\",\"showlegend\":true,\"type\":\"scattergeo\"},{\"geo\":\"geo\",\"hovertemplate\":\"scientificName=Boiga gocool (Gray, 1834)<br>year=2021<br>decimalLatitude=%{lat}<br>decimalLongitude=%{lon}<extra></extra>\",\"lat\":[25.968244],\"legendgroup\":\"Boiga gocool (Gray, 1834)\",\"lon\":[93.437215],\"marker\":{\"color\":\"#EF553B\",\"symbol\":\"circle\"},\"mode\":\"markers\",\"name\":\"Boiga gocool (Gray, 1834)\",\"showlegend\":true,\"type\":\"scattergeo\"},{\"geo\":\"geo\",\"hovertemplate\":\"scientificName=Halpe porus Mabille, 1876<br>year=2021<br>decimalLatitude=%{lat}<br>decimalLongitude=%{lon}<extra></extra>\",\"lat\":[11.746128],\"legendgroup\":\"Halpe porus Mabille, 1876\",\"lon\":[78.170257],\"marker\":{\"color\":\"#00cc96\",\"symbol\":\"circle\"},\"mode\":\"markers\",\"name\":\"Halpe porus Mabille, 1876\",\"showlegend\":true,\"type\":\"scattergeo\"},{\"geo\":\"geo\",\"hovertemplate\":\"scientificName=Hebomoia glaucippe (Linnaeus, 1758)<br>year=2021<br>decimalLatitude=%{lat}<br>decimalLongitude=%{lon}<extra></extra>\",\"lat\":[11.746128],\"legendgroup\":\"Hebomoia glaucippe (Linnaeus, 1758)\",\"lon\":[78.170257],\"marker\":{\"color\":\"#ab63fa\",\"symbol\":\"circle\"},\"mode\":\"markers\",\"name\":\"Hebomoia glaucippe (Linnaeus, 1758)\",\"showlegend\":true,\"type\":\"scattergeo\"},{\"geo\":\"geo\",\"hovertemplate\":\"scientificName=Castalius rosimon (Fabricius, 1775)<br>year=2021<br>decimalLatitude=%{lat}<br>decimalLongitude=%{lon}<extra></extra>\",\"lat\":[27.13172,27.13172],\"legendgroup\":\"Castalius rosimon (Fabricius, 1775)\",\"lon\":[88.279628,88.279628],\"marker\":{\"color\":\"#FFA15A\",\"symbol\":\"circle\"},\"mode\":\"markers\",\"name\":\"Castalius rosimon (Fabricius, 1775)\",\"showlegend\":true,\"type\":\"scattergeo\"},{\"geo\":\"geo\",\"hovertemplate\":\"scientificName=Amandava amandava (Linnaeus, 1758)<br>year=2021<br>decimalLatitude=%{lat}<br>decimalLongitude=%{lon}<extra></extra>\",\"lat\":[12.967263],\"legendgroup\":\"Amandava amandava (Linnaeus, 1758)\",\"lon\":[74.847125],\"marker\":{\"color\":\"#19d3f3\",\"symbol\":\"circle\"},\"mode\":\"markers\",\"name\":\"Amandava amandava (Linnaeus, 1758)\",\"showlegend\":true,\"type\":\"scattergeo\"},{\"geo\":\"geo\",\"hovertemplate\":\"scientificName=Chaetornis striata (Jerdon, 1841)<br>year=2021<br>decimalLatitude=%{lat}<br>decimalLongitude=%{lon}<extra></extra>\",\"lat\":[12.967263],\"legendgroup\":\"Chaetornis striata (Jerdon, 1841)\",\"lon\":[74.847125],\"marker\":{\"color\":\"#FF6692\",\"symbol\":\"circle\"},\"mode\":\"markers\",\"name\":\"Chaetornis striata (Jerdon, 1841)\",\"showlegend\":true,\"type\":\"scattergeo\"},{\"geo\":\"geo\",\"hovertemplate\":\"scientificName=Passiflora foetida L.<br>year=2021<br>decimalLatitude=%{lat}<br>decimalLongitude=%{lon}<extra></extra>\",\"lat\":[8.895621],\"legendgroup\":\"Passiflora foetida L.\",\"lon\":[76.639433],\"marker\":{\"color\":\"#B6E880\",\"symbol\":\"circle\"},\"mode\":\"markers\",\"name\":\"Passiflora foetida L.\",\"showlegend\":true,\"type\":\"scattergeo\"},{\"geo\":\"geo\",\"hovertemplate\":\"scientificName=Pantala flavescens Fabricius, 1798<br>year=2021<br>decimalLatitude=%{lat}<br>decimalLongitude=%{lon}<extra></extra>\",\"lat\":[11.323038,11.323038,11.6859,11.686,25.2329],\"legendgroup\":\"Pantala flavescens Fabricius, 1798\",\"lon\":[79.243353,79.243353,78.1761,78.1759,75.8382],\"marker\":{\"color\":\"#FF97FF\",\"symbol\":\"circle\"},\"mode\":\"markers\",\"name\":\"Pantala flavescens Fabricius, 1798\",\"showlegend\":true,\"type\":\"scattergeo\"},{\"geo\":\"geo\",\"hovertemplate\":\"scientificName=Tringa nebularia (Gunnerus, 1767)<br>year=2021<br>decimalLatitude=%{lat}<br>decimalLongitude=%{lon}<extra></extra>\",\"lat\":[14.45503,9.316531],\"legendgroup\":\"Tringa nebularia (Gunnerus, 1767)\",\"lon\":[75.892607,76.387739],\"marker\":{\"color\":\"#FECB52\",\"symbol\":\"circle\"},\"mode\":\"markers\",\"name\":\"Tringa nebularia (Gunnerus, 1767)\",\"showlegend\":true,\"type\":\"scattergeo\"},{\"geo\":\"geo\",\"hovertemplate\":\"scientificName=Bubulcus ibis (Linnaeus, 1758)<br>year=2021<br>decimalLatitude=%{lat}<br>decimalLongitude=%{lon}<extra></extra>\",\"lat\":[14.45503],\"legendgroup\":\"Bubulcus ibis (Linnaeus, 1758)\",\"lon\":[75.892607],\"marker\":{\"color\":\"#636efa\",\"symbol\":\"circle\"},\"mode\":\"markers\",\"name\":\"Bubulcus ibis (Linnaeus, 1758)\",\"showlegend\":true,\"type\":\"scattergeo\"},{\"geo\":\"geo\",\"hovertemplate\":\"scientificName=Evolvulus alsinoides (L.) L.<br>year=2021<br>decimalLatitude=%{lat}<br>decimalLongitude=%{lon}<extra></extra>\",\"lat\":[14.2404],\"legendgroup\":\"Evolvulus alsinoides (L.) L.\",\"lon\":[77.6107],\"marker\":{\"color\":\"#EF553B\",\"symbol\":\"circle\"},\"mode\":\"markers\",\"name\":\"Evolvulus alsinoides (L.) L.\",\"showlegend\":true,\"type\":\"scattergeo\"},{\"geo\":\"geo\",\"hovertemplate\":\"scientificName=Dianthus L.<br>year=2021<br>decimalLatitude=%{lat}<br>decimalLongitude=%{lon}<extra></extra>\",\"lat\":[21.8729,21.8757],\"legendgroup\":\"Dianthus L.\",\"lon\":[70.1075,70.1104],\"marker\":{\"color\":\"#00cc96\",\"symbol\":\"circle\"},\"mode\":\"markers\",\"name\":\"Dianthus L.\",\"showlegend\":true,\"type\":\"scattergeo\"},{\"geo\":\"geo\",\"hovertemplate\":\"scientificName=Gongylus gongylodes Linne, 1758<br>year=2021<br>decimalLatitude=%{lat}<br>decimalLongitude=%{lon}<extra></extra>\",\"lat\":[9.897662],\"legendgroup\":\"Gongylus gongylodes Linne, 1758\",\"lon\":[79.105822],\"marker\":{\"color\":\"#ab63fa\",\"symbol\":\"circle\"},\"mode\":\"markers\",\"name\":\"Gongylus gongylodes Linne, 1758\",\"showlegend\":true,\"type\":\"scattergeo\"},{\"geo\":\"geo\",\"hovertemplate\":\"scientificName=Mimosa pudica L.<br>year=2021<br>decimalLatitude=%{lat}<br>decimalLongitude=%{lon}<extra></extra>\",\"lat\":[9.567524],\"legendgroup\":\"Mimosa pudica L.\",\"lon\":[76.346362],\"marker\":{\"color\":\"#FFA15A\",\"symbol\":\"circle\"},\"mode\":\"markers\",\"name\":\"Mimosa pudica L.\",\"showlegend\":true,\"type\":\"scattergeo\"},{\"geo\":\"geo\",\"hovertemplate\":\"scientificName=Prosotas dubiosa (Semper, 1879)<br>year=2021<br>decimalLatitude=%{lat}<br>decimalLongitude=%{lon}<extra></extra>\",\"lat\":[11.6858],\"legendgroup\":\"Prosotas dubiosa (Semper, 1879)\",\"lon\":[78.1759],\"marker\":{\"color\":\"#19d3f3\",\"symbol\":\"circle\"},\"mode\":\"markers\",\"name\":\"Prosotas dubiosa (Semper, 1879)\",\"showlegend\":true,\"type\":\"scattergeo\"},{\"geo\":\"geo\",\"hovertemplate\":\"scientificName=Eurema blanda (Boisduval, 1836)<br>year=2021<br>decimalLatitude=%{lat}<br>decimalLongitude=%{lon}<extra></extra>\",\"lat\":[11.686,11.686,11.686,11.6859,11.6858,11.6858,11.6861,11.6861],\"legendgroup\":\"Eurema blanda (Boisduval, 1836)\",\"lon\":[78.1755,78.1755,78.1758,78.1763,78.1758,78.1757,78.1758,78.1758],\"marker\":{\"color\":\"#FF6692\",\"symbol\":\"circle\"},\"mode\":\"markers\",\"name\":\"Eurema blanda (Boisduval, 1836)\",\"showlegend\":true,\"type\":\"scattergeo\"},{\"geo\":\"geo\",\"hovertemplate\":\"scientificName=Zizula hylax (Fabricius, 1775)<br>year=2021<br>decimalLatitude=%{lat}<br>decimalLongitude=%{lon}<extra></extra>\",\"lat\":[11.6859,11.410204],\"legendgroup\":\"Zizula hylax (Fabricius, 1775)\",\"lon\":[78.1759,76.695032],\"marker\":{\"color\":\"#B6E880\",\"symbol\":\"circle\"},\"mode\":\"markers\",\"name\":\"Zizula hylax (Fabricius, 1775)\",\"showlegend\":true,\"type\":\"scattergeo\"},{\"geo\":\"geo\",\"hovertemplate\":\"scientificName=Argemone mexicana L.<br>year=2021<br>decimalLatitude=%{lat}<br>decimalLongitude=%{lon}<extra></extra>\",\"lat\":[12.971599],\"legendgroup\":\"Argemone mexicana L.\",\"lon\":[77.594563],\"marker\":{\"color\":\"#FF97FF\",\"symbol\":\"circle\"},\"mode\":\"markers\",\"name\":\"Argemone mexicana L.\",\"showlegend\":true,\"type\":\"scattergeo\"},{\"geo\":\"geo\",\"hovertemplate\":\"scientificName=Plegadis falcinellus (Linnaeus, 1766)<br>year=2021<br>decimalLatitude=%{lat}<br>decimalLongitude=%{lon}<extra></extra>\",\"lat\":[14.351889,14.45503],\"legendgroup\":\"Plegadis falcinellus (Linnaeus, 1766)\",\"lon\":[75.73974,75.892607],\"marker\":{\"color\":\"#FECB52\",\"symbol\":\"circle\"},\"mode\":\"markers\",\"name\":\"Plegadis falcinellus (Linnaeus, 1766)\",\"showlegend\":true,\"type\":\"scattergeo\"},{\"geo\":\"geo\",\"hovertemplate\":\"scientificName=Spatula clypeata (Linnaeus, 1758)<br>year=2021<br>decimalLatitude=%{lat}<br>decimalLongitude=%{lon}<extra></extra>\",\"lat\":[14.351889,14.45503],\"legendgroup\":\"Spatula clypeata (Linnaeus, 1758)\",\"lon\":[75.73974,75.892607],\"marker\":{\"color\":\"#636efa\",\"symbol\":\"circle\"},\"mode\":\"markers\",\"name\":\"Spatula clypeata (Linnaeus, 1758)\",\"showlegend\":true,\"type\":\"scattergeo\"},{\"geo\":\"geo\",\"hovertemplate\":\"scientificName=Spatula querquedula (Linnaeus, 1758)<br>year=2021<br>decimalLatitude=%{lat}<br>decimalLongitude=%{lon}<extra></extra>\",\"lat\":[14.351889],\"legendgroup\":\"Spatula querquedula (Linnaeus, 1758)\",\"lon\":[75.73974],\"marker\":{\"color\":\"#EF553B\",\"symbol\":\"circle\"},\"mode\":\"markers\",\"name\":\"Spatula querquedula (Linnaeus, 1758)\",\"showlegend\":true,\"type\":\"scattergeo\"},{\"geo\":\"geo\",\"hovertemplate\":\"scientificName=Ardea purpurea Linnaeus, 1766<br>year=2021<br>decimalLatitude=%{lat}<br>decimalLongitude=%{lon}<extra></extra>\",\"lat\":[14.351889,10.545077,12.310395],\"legendgroup\":\"Ardea purpurea Linnaeus, 1766\",\"lon\":[75.73974,76.14649,76.630441],\"marker\":{\"color\":\"#00cc96\",\"symbol\":\"circle\"},\"mode\":\"markers\",\"name\":\"Ardea purpurea Linnaeus, 1766\",\"showlegend\":true,\"type\":\"scattergeo\"},{\"geo\":\"geo\",\"hovertemplate\":\"scientificName=Asilidae<br>year=2021<br>decimalLatitude=%{lat}<br>decimalLongitude=%{lon}<extra></extra>\",\"lat\":[25.095386],\"legendgroup\":\"Asilidae\",\"lon\":[94.361652],\"marker\":{\"color\":\"#ab63fa\",\"symbol\":\"circle\"},\"mode\":\"markers\",\"name\":\"Asilidae\",\"showlegend\":true,\"type\":\"scattergeo\"},{\"geo\":\"geo\",\"hovertemplate\":\"scientificName=Cardamine L.<br>year=2021<br>decimalLatitude=%{lat}<br>decimalLongitude=%{lon}<extra></extra>\",\"lat\":[25.095386],\"legendgroup\":\"Cardamine L.\",\"lon\":[94.361652],\"marker\":{\"color\":\"#FFA15A\",\"symbol\":\"circle\"},\"mode\":\"markers\",\"name\":\"Cardamine L.\",\"showlegend\":true,\"type\":\"scattergeo\"},{\"geo\":\"geo\",\"hovertemplate\":\"scientificName=Danaus genutia Cramer, 1779<br>year=2021<br>decimalLatitude=%{lat}<br>decimalLongitude=%{lon}<extra></extra>\",\"lat\":[11.6858,11.6858],\"legendgroup\":\"Danaus genutia Cramer, 1779\",\"lon\":[78.1762,78.1762],\"marker\":{\"color\":\"#19d3f3\",\"symbol\":\"circle\"},\"mode\":\"markers\",\"name\":\"Danaus genutia Cramer, 1779\",\"showlegend\":true,\"type\":\"scattergeo\"},{\"geo\":\"geo\",\"hovertemplate\":\"scientificName=Psydrax umbellata (Wight) Bridson<br>year=2021<br>decimalLatitude=%{lat}<br>decimalLongitude=%{lon}<extra></extra>\",\"lat\":[15.39719],\"legendgroup\":\"Psydrax umbellata (Wight) Bridson\",\"lon\":[74.338219],\"marker\":{\"color\":\"#FF6692\",\"symbol\":\"circle\"},\"mode\":\"markers\",\"name\":\"Psydrax umbellata (Wight) Bridson\",\"showlegend\":true,\"type\":\"scattergeo\"},{\"geo\":\"geo\",\"hovertemplate\":\"scientificName=Heteropoda Latreille, 1804<br>year=2021<br>decimalLatitude=%{lat}<br>decimalLongitude=%{lon}<extra></extra>\",\"lat\":[10.176443],\"legendgroup\":\"Heteropoda Latreille, 1804\",\"lon\":[76.499683],\"marker\":{\"color\":\"#B6E880\",\"symbol\":\"circle\"},\"mode\":\"markers\",\"name\":\"Heteropoda Latreille, 1804\",\"showlegend\":true,\"type\":\"scattergeo\"},{\"geo\":\"geo\",\"hovertemplate\":\"scientificName=Melia azedarach L.<br>year=2021<br>decimalLatitude=%{lat}<br>decimalLongitude=%{lon}<extra></extra>\",\"lat\":[8.505],\"legendgroup\":\"Melia azedarach L.\",\"lon\":[76.9603],\"marker\":{\"color\":\"#FF97FF\",\"symbol\":\"circle\"},\"mode\":\"markers\",\"name\":\"Melia azedarach L.\",\"showlegend\":true,\"type\":\"scattergeo\"},{\"geo\":\"geo\",\"hovertemplate\":\"scientificName=Pitta brachyura (Linnaeus, 1766)<br>year=2021<br>decimalLatitude=%{lat}<br>decimalLongitude=%{lon}<extra></extra>\",\"lat\":[14.233082],\"legendgroup\":\"Pitta brachyura (Linnaeus, 1766)\",\"lon\":[77.610471],\"marker\":{\"color\":\"#FECB52\",\"symbol\":\"circle\"},\"mode\":\"markers\",\"name\":\"Pitta brachyura (Linnaeus, 1766)\",\"showlegend\":true,\"type\":\"scattergeo\"},{\"geo\":\"geo\",\"hovertemplate\":\"scientificName=Lepidagathis cristata Willd.<br>year=2021<br>decimalLatitude=%{lat}<br>decimalLongitude=%{lon}<extra></extra>\",\"lat\":[14.2331],\"legendgroup\":\"Lepidagathis cristata Willd.\",\"lon\":[77.6116],\"marker\":{\"color\":\"#636efa\",\"symbol\":\"circle\"},\"mode\":\"markers\",\"name\":\"Lepidagathis cristata Willd.\",\"showlegend\":true,\"type\":\"scattergeo\"},{\"geo\":\"geo\",\"hovertemplate\":\"scientificName=Duttaphrynus melanostictus (Schneider, 1799)<br>year=2021<br>decimalLatitude=%{lat}<br>decimalLongitude=%{lon}<extra></extra>\",\"lat\":[14.230669],\"legendgroup\":\"Duttaphrynus melanostictus (Schneider, 1799)\",\"lon\":[77.608798],\"marker\":{\"color\":\"#EF553B\",\"symbol\":\"circle\"},\"mode\":\"markers\",\"name\":\"Duttaphrynus melanostictus (Schneider, 1799)\",\"showlegend\":true,\"type\":\"scattergeo\"},{\"geo\":\"geo\",\"hovertemplate\":\"scientificName=Murraya koenigii (L.) Spreng.<br>year=2021<br>decimalLatitude=%{lat}<br>decimalLongitude=%{lon}<extra></extra>\",\"lat\":[11.025005],\"legendgroup\":\"Murraya koenigii (L.) Spreng.\",\"lon\":[76.118573],\"marker\":{\"color\":\"#00cc96\",\"symbol\":\"circle\"},\"mode\":\"markers\",\"name\":\"Murraya koenigii (L.) Spreng.\",\"showlegend\":true,\"type\":\"scattergeo\"},{\"geo\":\"geo\",\"hovertemplate\":\"scientificName=Leucauge decorata (Blackwall, 1864)<br>year=2021<br>decimalLatitude=%{lat}<br>decimalLongitude=%{lon}<extra></extra>\",\"lat\":[13.087367],\"legendgroup\":\"Leucauge decorata (Blackwall, 1864)\",\"lon\":[77.609935],\"marker\":{\"color\":\"#ab63fa\",\"symbol\":\"circle\"},\"mode\":\"markers\",\"name\":\"Leucauge decorata (Blackwall, 1864)\",\"showlegend\":true,\"type\":\"scattergeo\"},{\"geo\":\"geo\",\"hovertemplate\":\"scientificName=Bradinopyga geminata Rambur, 1842<br>year=2021<br>decimalLatitude=%{lat}<br>decimalLongitude=%{lon}<extra></extra>\",\"lat\":[26.65285],\"legendgroup\":\"Bradinopyga geminata Rambur, 1842\",\"lon\":[92.792559],\"marker\":{\"color\":\"#FFA15A\",\"symbol\":\"circle\"},\"mode\":\"markers\",\"name\":\"Bradinopyga geminata Rambur, 1842\",\"showlegend\":true,\"type\":\"scattergeo\"},{\"geo\":\"geo\",\"hovertemplate\":\"scientificName=Hemicircus canente (R.Lesson, 1832)<br>year=2021<br>decimalLatitude=%{lat}<br>decimalLongitude=%{lon}<extra></extra>\",\"lat\":[13.627984],\"legendgroup\":\"Hemicircus canente (R.Lesson, 1832)\",\"lon\":[74.849197],\"marker\":{\"color\":\"#19d3f3\",\"symbol\":\"circle\"},\"mode\":\"markers\",\"name\":\"Hemicircus canente (R.Lesson, 1832)\",\"showlegend\":true,\"type\":\"scattergeo\"},{\"geo\":\"geo\",\"hovertemplate\":\"scientificName=Ceriagrion coromandelianum Fabricius, 1798<br>year=2021<br>decimalLatitude=%{lat}<br>decimalLongitude=%{lon}<extra></extra>\",\"lat\":[13.0711],\"legendgroup\":\"Ceriagrion coromandelianum Fabricius, 1798\",\"lon\":[77.6524],\"marker\":{\"color\":\"#FF6692\",\"symbol\":\"circle\"},\"mode\":\"markers\",\"name\":\"Ceriagrion coromandelianum Fabricius, 1798\",\"showlegend\":true,\"type\":\"scattergeo\"},{\"geo\":\"geo\",\"hovertemplate\":\"scientificName=Aviceda leuphotes (Dumont, 1820)<br>year=2021<br>decimalLatitude=%{lat}<br>decimalLongitude=%{lon}<extra></extra>\",\"lat\":[13.627984],\"legendgroup\":\"Aviceda leuphotes (Dumont, 1820)\",\"lon\":[74.849197],\"marker\":{\"color\":\"#B6E880\",\"symbol\":\"circle\"},\"mode\":\"markers\",\"name\":\"Aviceda leuphotes (Dumont, 1820)\",\"showlegend\":true,\"type\":\"scattergeo\"},{\"geo\":\"geo\",\"hovertemplate\":\"scientificName=Lepidochelys olivacea (Eschscholtz, 1829)<br>year=2021<br>decimalLatitude=%{lat}<br>decimalLongitude=%{lon}<extra></extra>\",\"lat\":[11.941592],\"legendgroup\":\"Lepidochelys olivacea (Eschscholtz, 1829)\",\"lon\":[79.808313],\"marker\":{\"color\":\"#FF97FF\",\"symbol\":\"circle\"},\"mode\":\"markers\",\"name\":\"Lepidochelys olivacea (Eschscholtz, 1829)\",\"showlegend\":true,\"type\":\"scattergeo\"},{\"geo\":\"geo\",\"hovertemplate\":\"scientificName=Pholidota imbricata Hook.<br>year=2021<br>decimalLatitude=%{lat}<br>decimalLongitude=%{lon}<extra></extra>\",\"lat\":[15.39719],\"legendgroup\":\"Pholidota imbricata Hook.\",\"lon\":[74.338219],\"marker\":{\"color\":\"#FECB52\",\"symbol\":\"circle\"},\"mode\":\"markers\",\"name\":\"Pholidota imbricata Hook.\",\"showlegend\":true,\"type\":\"scattergeo\"},{\"geo\":\"geo\",\"hovertemplate\":\"scientificName=Arachnothera magna (Hodgson, 1836)<br>year=2021<br>decimalLatitude=%{lat}<br>decimalLongitude=%{lon}<extra></extra>\",\"lat\":[27.278471],\"legendgroup\":\"Arachnothera magna (Hodgson, 1836)\",\"lon\":[94.024],\"marker\":{\"color\":\"#636efa\",\"symbol\":\"circle\"},\"mode\":\"markers\",\"name\":\"Arachnothera magna (Hodgson, 1836)\",\"showlegend\":true,\"type\":\"scattergeo\"},{\"geo\":\"geo\",\"hovertemplate\":\"scientificName=Lalage melanoptera (R\\u00fcppell, 1839)<br>year=2021<br>decimalLatitude=%{lat}<br>decimalLongitude=%{lon}<extra></extra>\",\"lat\":[12.950236],\"legendgroup\":\"Lalage melanoptera (R\\u00fcppell, 1839)\",\"lon\":[74.868774],\"marker\":{\"color\":\"#EF553B\",\"symbol\":\"circle\"},\"mode\":\"markers\",\"name\":\"Lalage melanoptera (R\\u00fcppell, 1839)\",\"showlegend\":true,\"type\":\"scattergeo\"},{\"geo\":\"geo\",\"hovertemplate\":\"scientificName=Indotyphlops braminus (Daudin, 1803)<br>year=2021<br>decimalLatitude=%{lat}<br>decimalLongitude=%{lon}<extra></extra>\",\"lat\":[12.269655],\"legendgroup\":\"Indotyphlops braminus (Daudin, 1803)\",\"lon\":[76.627553],\"marker\":{\"color\":\"#00cc96\",\"symbol\":\"circle\"},\"mode\":\"markers\",\"name\":\"Indotyphlops braminus (Daudin, 1803)\",\"showlegend\":true,\"type\":\"scattergeo\"},{\"geo\":\"geo\",\"hovertemplate\":\"scientificName=Centropus sinensis (Stephens, 1815)<br>year=2021<br>decimalLatitude=%{lat}<br>decimalLongitude=%{lon}<extra></extra>\",\"lat\":[12.950236],\"legendgroup\":\"Centropus sinensis (Stephens, 1815)\",\"lon\":[74.868774],\"marker\":{\"color\":\"#ab63fa\",\"symbol\":\"circle\"},\"mode\":\"markers\",\"name\":\"Centropus sinensis (Stephens, 1815)\",\"showlegend\":true,\"type\":\"scattergeo\"},{\"geo\":\"geo\",\"hovertemplate\":\"scientificName=Salticidae<br>year=2021<br>decimalLatitude=%{lat}<br>decimalLongitude=%{lon}<extra></extra>\",\"lat\":[10.023718],\"legendgroup\":\"Salticidae\",\"lon\":[76.291944],\"marker\":{\"color\":\"#FFA15A\",\"symbol\":\"circle\"},\"mode\":\"markers\",\"name\":\"Salticidae\",\"showlegend\":true,\"type\":\"scattergeo\"},{\"geo\":\"geo\",\"hovertemplate\":\"scientificName=Hibiscus rosa-sinensis L.<br>year=2021<br>decimalLatitude=%{lat}<br>decimalLongitude=%{lon}<extra></extra>\",\"lat\":[11.025005],\"legendgroup\":\"Hibiscus rosa-sinensis L.\",\"lon\":[76.118573],\"marker\":{\"color\":\"#19d3f3\",\"symbol\":\"circle\"},\"mode\":\"markers\",\"name\":\"Hibiscus rosa-sinensis L.\",\"showlegend\":true,\"type\":\"scattergeo\"},{\"geo\":\"geo\",\"hovertemplate\":\"scientificName=Acridotheres tristis (Linnaeus, 1766)<br>year=2021<br>decimalLatitude=%{lat}<br>decimalLongitude=%{lon}<extra></extra>\",\"lat\":[10.023718,12.310435,12.956138],\"legendgroup\":\"Acridotheres tristis (Linnaeus, 1766)\",\"lon\":[76.291944,76.62397,77.120575],\"marker\":{\"color\":\"#FF6692\",\"symbol\":\"circle\"},\"mode\":\"markers\",\"name\":\"Acridotheres tristis (Linnaeus, 1766)\",\"showlegend\":true,\"type\":\"scattergeo\"},{\"geo\":\"geo\",\"hovertemplate\":\"scientificName=Danaus chrysippus (Linnaeus, 1758)<br>year=2021<br>decimalLatitude=%{lat}<br>decimalLongitude=%{lon}<extra></extra>\",\"lat\":[11.6842,11.686,11.6841,11.6835],\"legendgroup\":\"Danaus chrysippus (Linnaeus, 1758)\",\"lon\":[78.1771,78.1756,78.1771,78.1825],\"marker\":{\"color\":\"#B6E880\",\"symbol\":\"circle\"},\"mode\":\"markers\",\"name\":\"Danaus chrysippus (Linnaeus, 1758)\",\"showlegend\":true,\"type\":\"scattergeo\"},{\"geo\":\"geo\",\"hovertemplate\":\"scientificName=Neptis hylas Linnaeus, 1758<br>year=2021<br>decimalLatitude=%{lat}<br>decimalLongitude=%{lon}<extra></extra>\",\"lat\":[11.6861],\"legendgroup\":\"Neptis hylas Linnaeus, 1758\",\"lon\":[78.1755],\"marker\":{\"color\":\"#FF97FF\",\"symbol\":\"circle\"},\"mode\":\"markers\",\"name\":\"Neptis hylas Linnaeus, 1758\",\"showlegend\":true,\"type\":\"scattergeo\"},{\"geo\":\"geo\",\"hovertemplate\":\"scientificName=Spindasis vulcanus (Fabricius, 1775)<br>year=2021<br>decimalLatitude=%{lat}<br>decimalLongitude=%{lon}<extra></extra>\",\"lat\":[11.7364],\"legendgroup\":\"Spindasis vulcanus (Fabricius, 1775)\",\"lon\":[78.1782],\"marker\":{\"color\":\"#FECB52\",\"symbol\":\"circle\"},\"mode\":\"markers\",\"name\":\"Spindasis vulcanus (Fabricius, 1775)\",\"showlegend\":true,\"type\":\"scattergeo\"},{\"geo\":\"geo\",\"hovertemplate\":\"scientificName=Tirumala limniace<br>year=2021<br>decimalLatitude=%{lat}<br>decimalLongitude=%{lon}<extra></extra>\",\"lat\":[11.686,11.6856],\"legendgroup\":\"Tirumala limniace\",\"lon\":[78.1762,78.1764],\"marker\":{\"color\":\"#636efa\",\"symbol\":\"circle\"},\"mode\":\"markers\",\"name\":\"Tirumala limniace\",\"showlegend\":true,\"type\":\"scattergeo\"},{\"geo\":\"geo\",\"hovertemplate\":\"scientificName=Leptotes plinius (Fabricius, 1793)<br>year=2021<br>decimalLatitude=%{lat}<br>decimalLongitude=%{lon}<extra></extra>\",\"lat\":[25.2392],\"legendgroup\":\"Leptotes plinius (Fabricius, 1793)\",\"lon\":[75.8354],\"marker\":{\"color\":\"#EF553B\",\"symbol\":\"circle\"},\"mode\":\"markers\",\"name\":\"Leptotes plinius (Fabricius, 1793)\",\"showlegend\":true,\"type\":\"scattergeo\"},{\"geo\":\"geo\",\"hovertemplate\":\"scientificName=Brachythemis contaminata Fabricius, 1793<br>year=2021<br>decimalLatitude=%{lat}<br>decimalLongitude=%{lon}<extra></extra>\",\"lat\":[11.686,11.6856],\"legendgroup\":\"Brachythemis contaminata Fabricius, 1793\",\"lon\":[78.1758,78.1764],\"marker\":{\"color\":\"#00cc96\",\"symbol\":\"circle\"},\"mode\":\"markers\",\"name\":\"Brachythemis contaminata Fabricius, 1793\",\"showlegend\":true,\"type\":\"scattergeo\"},{\"geo\":\"geo\",\"hovertemplate\":\"scientificName=Tholymis tillarga Fabricius, 1798<br>year=2021<br>decimalLatitude=%{lat}<br>decimalLongitude=%{lon}<extra></extra>\",\"lat\":[11.686],\"legendgroup\":\"Tholymis tillarga Fabricius, 1798\",\"lon\":[78.1762],\"marker\":{\"color\":\"#ab63fa\",\"symbol\":\"circle\"},\"mode\":\"markers\",\"name\":\"Tholymis tillarga Fabricius, 1798\",\"showlegend\":true,\"type\":\"scattergeo\"},{\"geo\":\"geo\",\"hovertemplate\":\"scientificName=Orthetrum sabina Drury, 1773<br>year=2021<br>decimalLatitude=%{lat}<br>decimalLongitude=%{lon}<extra></extra>\",\"lat\":[11.6835,13.628364],\"legendgroup\":\"Orthetrum sabina Drury, 1773\",\"lon\":[78.1822,74.676043],\"marker\":{\"color\":\"#FFA15A\",\"symbol\":\"circle\"},\"mode\":\"markers\",\"name\":\"Orthetrum sabina Drury, 1773\",\"showlegend\":true,\"type\":\"scattergeo\"},{\"geo\":\"geo\",\"hovertemplate\":\"scientificName=Hasora chromus Cramer, 1780<br>year=2021<br>decimalLatitude=%{lat}<br>decimalLongitude=%{lon}<extra></extra>\",\"lat\":[11.6847],\"legendgroup\":\"Hasora chromus Cramer, 1780\",\"lon\":[78.1752],\"marker\":{\"color\":\"#19d3f3\",\"symbol\":\"circle\"},\"mode\":\"markers\",\"name\":\"Hasora chromus Cramer, 1780\",\"showlegend\":true,\"type\":\"scattergeo\"},{\"geo\":\"geo\",\"hovertemplate\":\"scientificName=Pterocarpus marsupium Roxb.<br>year=2021<br>decimalLatitude=%{lat}<br>decimalLongitude=%{lon}<extra></extra>\",\"lat\":[8.728518],\"legendgroup\":\"Pterocarpus marsupium Roxb.\",\"lon\":[77.046717],\"marker\":{\"color\":\"#FF6692\",\"symbol\":\"circle\"},\"mode\":\"markers\",\"name\":\"Pterocarpus marsupium Roxb.\",\"showlegend\":true,\"type\":\"scattergeo\"},{\"geo\":\"geo\",\"hovertemplate\":\"scientificName=Pycnonotus gularis (Gould, 1836)<br>year=2021<br>decimalLatitude=%{lat}<br>decimalLongitude=%{lon}<extra></extra>\",\"lat\":[13.627984],\"legendgroup\":\"Pycnonotus gularis (Gould, 1836)\",\"lon\":[74.849197],\"marker\":{\"color\":\"#B6E880\",\"symbol\":\"circle\"},\"mode\":\"markers\",\"name\":\"Pycnonotus gularis (Gould, 1836)\",\"showlegend\":true,\"type\":\"scattergeo\"},{\"geo\":\"geo\",\"hovertemplate\":\"scientificName=Harpactes fasciatus (Pennant, 1769)<br>year=2021<br>decimalLatitude=%{lat}<br>decimalLongitude=%{lon}<extra></extra>\",\"lat\":[13.627984],\"legendgroup\":\"Harpactes fasciatus (Pennant, 1769)\",\"lon\":[74.849197],\"marker\":{\"color\":\"#FF97FF\",\"symbol\":\"circle\"},\"mode\":\"markers\",\"name\":\"Harpactes fasciatus (Pennant, 1769)\",\"showlegend\":true,\"type\":\"scattergeo\"},{\"geo\":\"geo\",\"hovertemplate\":\"scientificName=Holigarna arnottiana Wall. ex Hook.fil.<br>year=2021<br>decimalLatitude=%{lat}<br>decimalLongitude=%{lon}<extra></extra>\",\"lat\":[10.276098],\"legendgroup\":\"Holigarna arnottiana Wall. ex Hook.fil.\",\"lon\":[76.171128],\"marker\":{\"color\":\"#FECB52\",\"symbol\":\"circle\"},\"mode\":\"markers\",\"name\":\"Holigarna arnottiana Wall. ex Hook.fil.\",\"showlegend\":true,\"type\":\"scattergeo\"},{\"geo\":\"geo\",\"hovertemplate\":\"scientificName=Batrachostomus moniliger Blyth, 1849<br>year=2021<br>decimalLatitude=%{lat}<br>decimalLongitude=%{lon}<extra></extra>\",\"lat\":[15.3888],\"legendgroup\":\"Batrachostomus moniliger Blyth, 1849\",\"lon\":[74.1256],\"marker\":{\"color\":\"#636efa\",\"symbol\":\"circle\"},\"mode\":\"markers\",\"name\":\"Batrachostomus moniliger Blyth, 1849\",\"showlegend\":true,\"type\":\"scattergeo\"},{\"geo\":\"geo\",\"hovertemplate\":\"scientificName=Dendrelaphis tristis (Daudin, 1803)<br>year=2021<br>decimalLatitude=%{lat}<br>decimalLongitude=%{lon}<extra></extra>\",\"lat\":[15.8117],\"legendgroup\":\"Dendrelaphis tristis (Daudin, 1803)\",\"lon\":[74.0964],\"marker\":{\"color\":\"#EF553B\",\"symbol\":\"circle\"},\"mode\":\"markers\",\"name\":\"Dendrelaphis tristis (Daudin, 1803)\",\"showlegend\":true,\"type\":\"scattergeo\"},{\"geo\":\"geo\",\"hovertemplate\":\"scientificName=Monilesaurus rouxii (Dum\\u00e9ril & Bibron, 1837)<br>year=2021<br>decimalLatitude=%{lat}<br>decimalLongitude=%{lon}<extra></extra>\",\"lat\":[15.8119,15.8128],\"legendgroup\":\"Monilesaurus rouxii (Dum\\u00e9ril & Bibron, 1837)\",\"lon\":[74.095,74.0967],\"marker\":{\"color\":\"#00cc96\",\"symbol\":\"circle\"},\"mode\":\"markers\",\"name\":\"Monilesaurus rouxii (Dum\\u00e9ril & Bibron, 1837)\",\"showlegend\":true,\"type\":\"scattergeo\"},{\"geo\":\"geo\",\"hovertemplate\":\"scientificName=Mirabilis jalapa L.<br>year=2021<br>decimalLatitude=%{lat}<br>decimalLongitude=%{lon}<extra></extra>\",\"lat\":[10.198501],\"legendgroup\":\"Mirabilis jalapa L.\",\"lon\":[76.260222],\"marker\":{\"color\":\"#ab63fa\",\"symbol\":\"circle\"},\"mode\":\"markers\",\"name\":\"Mirabilis jalapa L.\",\"showlegend\":true,\"type\":\"scattergeo\"},{\"geo\":\"geo\",\"hovertemplate\":\"scientificName=Lantana camara L.<br>year=2021<br>decimalLatitude=%{lat}<br>decimalLongitude=%{lon}<extra></extra>\",\"lat\":[10.198501],\"legendgroup\":\"Lantana camara L.\",\"lon\":[76.260222],\"marker\":{\"color\":\"#FFA15A\",\"symbol\":\"circle\"},\"mode\":\"markers\",\"name\":\"Lantana camara L.\",\"showlegend\":true,\"type\":\"scattergeo\"},{\"geo\":\"geo\",\"hovertemplate\":\"scientificName=Jamides celeno (Cramer, 1775)<br>year=2021<br>decimalLatitude=%{lat}<br>decimalLongitude=%{lon}<extra></extra>\",\"lat\":[9.223338],\"legendgroup\":\"Jamides celeno (Cramer, 1775)\",\"lon\":[76.776932],\"marker\":{\"color\":\"#19d3f3\",\"symbol\":\"circle\"},\"mode\":\"markers\",\"name\":\"Jamides celeno (Cramer, 1775)\",\"showlegend\":true,\"type\":\"scattergeo\"},{\"geo\":\"geo\",\"hovertemplate\":\"scientificName=Melanitis leda Linnaeus, 1758<br>year=2021<br>decimalLatitude=%{lat}<br>decimalLongitude=%{lon}<extra></extra>\",\"lat\":[9.696137],\"legendgroup\":\"Melanitis leda Linnaeus, 1758\",\"lon\":[76.300042],\"marker\":{\"color\":\"#FF6692\",\"symbol\":\"circle\"},\"mode\":\"markers\",\"name\":\"Melanitis leda Linnaeus, 1758\",\"showlegend\":true,\"type\":\"scattergeo\"},{\"geo\":\"geo\",\"hovertemplate\":\"scientificName=Ficus exasperata Vahl<br>year=2021<br>decimalLatitude=%{lat}<br>decimalLongitude=%{lon}<extra></extra>\",\"lat\":[10.264021],\"legendgroup\":\"Ficus exasperata Vahl\",\"lon\":[76.145041],\"marker\":{\"color\":\"#B6E880\",\"symbol\":\"circle\"},\"mode\":\"markers\",\"name\":\"Ficus exasperata Vahl\",\"showlegend\":true,\"type\":\"scattergeo\"},{\"geo\":\"geo\",\"hovertemplate\":\"scientificName=Trithemis festiva Rambur, 1842<br>year=2021<br>decimalLatitude=%{lat}<br>decimalLongitude=%{lon}<extra></extra>\",\"lat\":[12.493361],\"legendgroup\":\"Trithemis festiva Rambur, 1842\",\"lon\":[75.56638],\"marker\":{\"color\":\"#FF97FF\",\"symbol\":\"circle\"},\"mode\":\"markers\",\"name\":\"Trithemis festiva Rambur, 1842\",\"showlegend\":true,\"type\":\"scattergeo\"},{\"geo\":\"geo\",\"hovertemplate\":\"scientificName=Libellago lineata Burmeister, 1839<br>year=2021<br>decimalLatitude=%{lat}<br>decimalLongitude=%{lon}<extra></extra>\",\"lat\":[12.493361],\"legendgroup\":\"Libellago lineata Burmeister, 1839\",\"lon\":[75.56638],\"marker\":{\"color\":\"#FECB52\",\"symbol\":\"circle\"},\"mode\":\"markers\",\"name\":\"Libellago lineata Burmeister, 1839\",\"showlegend\":true,\"type\":\"scattergeo\"},{\"geo\":\"geo\",\"hovertemplate\":\"scientificName=Gangara thyrsis Fabricius, 1775<br>year=2021<br>decimalLatitude=%{lat}<br>decimalLongitude=%{lon}<extra></extra>\",\"lat\":[15.39719],\"legendgroup\":\"Gangara thyrsis Fabricius, 1775\",\"lon\":[74.338219],\"marker\":{\"color\":\"#636efa\",\"symbol\":\"circle\"},\"mode\":\"markers\",\"name\":\"Gangara thyrsis Fabricius, 1775\",\"showlegend\":true,\"type\":\"scattergeo\"},{\"geo\":\"geo\",\"hovertemplate\":\"scientificName=Odontomantis Saussure, 1871<br>year=2021<br>decimalLatitude=%{lat}<br>decimalLongitude=%{lon}<extra></extra>\",\"lat\":[8.830766],\"legendgroup\":\"Odontomantis Saussure, 1871\",\"lon\":[77.01338],\"marker\":{\"color\":\"#EF553B\",\"symbol\":\"circle\"},\"mode\":\"markers\",\"name\":\"Odontomantis Saussure, 1871\",\"showlegend\":true,\"type\":\"scattergeo\"},{\"geo\":\"geo\",\"hovertemplate\":\"scientificName=Pseudophilautus wynaadensis (Jerdon, 1853)<br>year=2021<br>decimalLatitude=%{lat}<br>decimalLongitude=%{lon}<extra></extra>\",\"lat\":[12.8605],\"legendgroup\":\"Pseudophilautus wynaadensis (Jerdon, 1853)\",\"lon\":[74.8568],\"marker\":{\"color\":\"#00cc96\",\"symbol\":\"circle\"},\"mode\":\"markers\",\"name\":\"Pseudophilautus wynaadensis (Jerdon, 1853)\",\"showlegend\":true,\"type\":\"scattergeo\"},{\"geo\":\"geo\",\"hovertemplate\":\"scientificName=Thomisus lobosus Tikader, 1965<br>year=2021<br>decimalLatitude=%{lat}<br>decimalLongitude=%{lon}<extra></extra>\",\"lat\":[9.981636],\"legendgroup\":\"Thomisus lobosus Tikader, 1965\",\"lon\":[76.299884],\"marker\":{\"color\":\"#ab63fa\",\"symbol\":\"circle\"},\"mode\":\"markers\",\"name\":\"Thomisus lobosus Tikader, 1965\",\"showlegend\":true,\"type\":\"scattergeo\"},{\"geo\":\"geo\",\"hovertemplate\":\"scientificName=Coronella brachyura (G\\u00fcnther, 1866)<br>year=2021<br>decimalLatitude=%{lat}<br>decimalLongitude=%{lon}<extra></extra>\",\"lat\":[18.755211],\"legendgroup\":\"Coronella brachyura (G\\u00fcnther, 1866)\",\"lon\":[73.444539],\"marker\":{\"color\":\"#FFA15A\",\"symbol\":\"circle\"},\"mode\":\"markers\",\"name\":\"Coronella brachyura (G\\u00fcnther, 1866)\",\"showlegend\":true,\"type\":\"scattergeo\"},{\"geo\":\"geo\",\"hovertemplate\":\"scientificName=Mucuna monosperma Roxb. ex Wight<br>year=2021<br>decimalLatitude=%{lat}<br>decimalLongitude=%{lon}<extra></extra>\",\"lat\":[15.39719],\"legendgroup\":\"Mucuna monosperma Roxb. ex Wight\",\"lon\":[74.338219],\"marker\":{\"color\":\"#19d3f3\",\"symbol\":\"circle\"},\"mode\":\"markers\",\"name\":\"Mucuna monosperma Roxb. ex Wight\",\"showlegend\":true,\"type\":\"scattergeo\"},{\"geo\":\"geo\",\"hovertemplate\":\"scientificName=Chroicocephalus brunnicephalus (Jerdon, 1840)<br>year=2021<br>decimalLatitude=%{lat}<br>decimalLongitude=%{lon}<extra></extra>\",\"lat\":[9.316531],\"legendgroup\":\"Chroicocephalus brunnicephalus (Jerdon, 1840)\",\"lon\":[76.387739],\"marker\":{\"color\":\"#FF6692\",\"symbol\":\"circle\"},\"mode\":\"markers\",\"name\":\"Chroicocephalus brunnicephalus (Jerdon, 1840)\",\"showlegend\":true,\"type\":\"scattergeo\"},{\"geo\":\"geo\",\"hovertemplate\":\"scientificName=Cnemaspis Strauch, 1887<br>year=2021<br>decimalLatitude=%{lat}<br>decimalLongitude=%{lon}<extra></extra>\",\"lat\":[8.831095],\"legendgroup\":\"Cnemaspis Strauch, 1887\",\"lon\":[77.011975],\"marker\":{\"color\":\"#B6E880\",\"symbol\":\"circle\"},\"mode\":\"markers\",\"name\":\"Cnemaspis Strauch, 1887\",\"showlegend\":true,\"type\":\"scattergeo\"},{\"geo\":\"geo\",\"hovertemplate\":\"scientificName=Polyrhachis rastellata (Latreille, 1802)<br>year=2021<br>decimalLatitude=%{lat}<br>decimalLongitude=%{lon}<extra></extra>\",\"lat\":[14.3534],\"legendgroup\":\"Polyrhachis rastellata (Latreille, 1802)\",\"lon\":[75.7407],\"marker\":{\"color\":\"#FF97FF\",\"symbol\":\"circle\"},\"mode\":\"markers\",\"name\":\"Polyrhachis rastellata (Latreille, 1802)\",\"showlegend\":true,\"type\":\"scattergeo\"},{\"geo\":\"geo\",\"hovertemplate\":\"scientificName=Luffa Mill.<br>year=2021<br>decimalLatitude=%{lat}<br>decimalLongitude=%{lon}<extra></extra>\",\"lat\":[10.198501],\"legendgroup\":\"Luffa Mill.\",\"lon\":[76.260222],\"marker\":{\"color\":\"#FECB52\",\"symbol\":\"circle\"},\"mode\":\"markers\",\"name\":\"Luffa Mill.\",\"showlegend\":true,\"type\":\"scattergeo\"},{\"geo\":\"geo\",\"hovertemplate\":\"scientificName=Momordica charantia var. charantia<br>year=2021<br>decimalLatitude=%{lat}<br>decimalLongitude=%{lon}<extra></extra>\",\"lat\":[10.184735],\"legendgroup\":\"Momordica charantia var. charantia\",\"lon\":[76.242119],\"marker\":{\"color\":\"#636efa\",\"symbol\":\"circle\"},\"mode\":\"markers\",\"name\":\"Momordica charantia var. charantia\",\"showlegend\":true,\"type\":\"scattergeo\"},{\"geo\":\"geo\",\"hovertemplate\":\"scientificName=Abelmoschus esculentus (L.) Moench<br>year=2021<br>decimalLatitude=%{lat}<br>decimalLongitude=%{lon}<extra></extra>\",\"lat\":[10.184735],\"legendgroup\":\"Abelmoschus esculentus (L.) Moench\",\"lon\":[76.242119],\"marker\":{\"color\":\"#EF553B\",\"symbol\":\"circle\"},\"mode\":\"markers\",\"name\":\"Abelmoschus esculentus (L.) Moench\",\"showlegend\":true,\"type\":\"scattergeo\"},{\"geo\":\"geo\",\"hovertemplate\":\"scientificName=Sphenomorphus dussumieri (Dum\\u00e9ril & Bibron, 1839)<br>year=2021<br>decimalLatitude=%{lat}<br>decimalLongitude=%{lon}<extra></extra>\",\"lat\":[8.623414],\"legendgroup\":\"Sphenomorphus dussumieri (Dum\\u00e9ril & Bibron, 1839)\",\"lon\":[77.135682],\"marker\":{\"color\":\"#00cc96\",\"symbol\":\"circle\"},\"mode\":\"markers\",\"name\":\"Sphenomorphus dussumieri (Dum\\u00e9ril & Bibron, 1839)\",\"showlegend\":true,\"type\":\"scattergeo\"},{\"geo\":\"geo\",\"hovertemplate\":\"scientificName=Raorchestes anili (Biju & Bossuyt, 2006)<br>year=2021<br>decimalLatitude=%{lat}<br>decimalLongitude=%{lon}<extra></extra>\",\"lat\":[9.529304],\"legendgroup\":\"Raorchestes anili (Biju & Bossuyt, 2006)\",\"lon\":[76.972947],\"marker\":{\"color\":\"#ab63fa\",\"symbol\":\"circle\"},\"mode\":\"markers\",\"name\":\"Raorchestes anili (Biju & Bossuyt, 2006)\",\"showlegend\":true,\"type\":\"scattergeo\"},{\"geo\":\"geo\",\"hovertemplate\":\"scientificName=Lissemys punctata (Bonnaterre, 1789)<br>year=2021<br>decimalLatitude=%{lat}<br>decimalLongitude=%{lon}<extra></extra>\",\"lat\":[23.052319,23.032581,23.032581,22.987212,23.032581,23.032581,23.032581,22.986975,22.987084,22.987089,22.987109,22.987084,22.987119,22.987119,22.987084,22.987237,22.987124,22.987064,22.987064,22.987084],\"legendgroup\":\"Lissemys punctata (Bonnaterre, 1789)\",\"lon\":[72.462521,72.44893,72.44893,72.495331,72.44893,72.44893,72.44893,72.494878,72.496578,72.497045,72.49616,72.496905,72.496058,72.496031,72.497517,72.495248,72.496417,72.49734,72.49734,72.497281],\"marker\":{\"color\":\"#FFA15A\",\"symbol\":\"circle\"},\"mode\":\"markers\",\"name\":\"Lissemys punctata (Bonnaterre, 1789)\",\"showlegend\":true,\"type\":\"scattergeo\"},{\"geo\":\"geo\",\"hovertemplate\":\"scientificName=Prinia inornata Sykes, 1832<br>year=2021<br>decimalLatitude=%{lat}<br>decimalLongitude=%{lon}<extra></extra>\",\"lat\":[14.45503],\"legendgroup\":\"Prinia inornata Sykes, 1832\",\"lon\":[75.892607],\"marker\":{\"color\":\"#19d3f3\",\"symbol\":\"circle\"},\"mode\":\"markers\",\"name\":\"Prinia inornata Sykes, 1832\",\"showlegend\":true,\"type\":\"scattergeo\"},{\"geo\":\"geo\",\"hovertemplate\":\"scientificName=Actitis hypoleucos (Linnaeus, 1758)<br>year=2021<br>decimalLatitude=%{lat}<br>decimalLongitude=%{lon}<extra></extra>\",\"lat\":[14.45503],\"legendgroup\":\"Actitis hypoleucos (Linnaeus, 1758)\",\"lon\":[75.892607],\"marker\":{\"color\":\"#FF6692\",\"symbol\":\"circle\"},\"mode\":\"markers\",\"name\":\"Actitis hypoleucos (Linnaeus, 1758)\",\"showlegend\":true,\"type\":\"scattergeo\"},{\"geo\":\"geo\",\"hovertemplate\":\"scientificName=Gallinago stenura (Bonaparte, 1831)<br>year=2021<br>decimalLatitude=%{lat}<br>decimalLongitude=%{lon}<extra></extra>\",\"lat\":[14.45503],\"legendgroup\":\"Gallinago stenura (Bonaparte, 1831)\",\"lon\":[75.892607],\"marker\":{\"color\":\"#B6E880\",\"symbol\":\"circle\"},\"mode\":\"markers\",\"name\":\"Gallinago stenura (Bonaparte, 1831)\",\"showlegend\":true,\"type\":\"scattergeo\"},{\"geo\":\"geo\",\"hovertemplate\":\"scientificName=Euploea core Cramer, 1780<br>year=2021<br>decimalLatitude=%{lat}<br>decimalLongitude=%{lon}<extra></extra>\",\"lat\":[11.6854],\"legendgroup\":\"Euploea core Cramer, 1780\",\"lon\":[78.1765],\"marker\":{\"color\":\"#FF97FF\",\"symbol\":\"circle\"},\"mode\":\"markers\",\"name\":\"Euploea core Cramer, 1780\",\"showlegend\":true,\"type\":\"scattergeo\"},{\"geo\":\"geo\",\"hovertemplate\":\"scientificName=Oenanthe pleschanka (Lepechin, 1770)<br>year=2021<br>decimalLatitude=%{lat}<br>decimalLongitude=%{lon}<extra></extra>\",\"lat\":[12.947402],\"legendgroup\":\"Oenanthe pleschanka (Lepechin, 1770)\",\"lon\":[74.922247],\"marker\":{\"color\":\"#FECB52\",\"symbol\":\"circle\"},\"mode\":\"markers\",\"name\":\"Oenanthe pleschanka (Lepechin, 1770)\",\"showlegend\":true,\"type\":\"scattergeo\"},{\"geo\":\"geo\",\"hovertemplate\":\"scientificName=Motacilla flava Linnaeus, 1758<br>year=2021<br>decimalLatitude=%{lat}<br>decimalLongitude=%{lon}<extra></extra>\",\"lat\":[14.45503],\"legendgroup\":\"Motacilla flava Linnaeus, 1758\",\"lon\":[75.892607],\"marker\":{\"color\":\"#636efa\",\"symbol\":\"circle\"},\"mode\":\"markers\",\"name\":\"Motacilla flava Linnaeus, 1758\",\"showlegend\":true,\"type\":\"scattergeo\"},{\"geo\":\"geo\",\"hovertemplate\":\"scientificName=Ardea cinerea Linnaeus, 1758<br>year=2021<br>decimalLatitude=%{lat}<br>decimalLongitude=%{lon}<extra></extra>\",\"lat\":[14.45503,14.45503,12.310395],\"legendgroup\":\"Ardea cinerea Linnaeus, 1758\",\"lon\":[75.892607,75.892607,76.630441],\"marker\":{\"color\":\"#EF553B\",\"symbol\":\"circle\"},\"mode\":\"markers\",\"name\":\"Ardea cinerea Linnaeus, 1758\",\"showlegend\":true,\"type\":\"scattergeo\"},{\"geo\":\"geo\",\"hovertemplate\":\"scientificName=Anastomus oscitans (Boddaert, 1783)<br>year=2021<br>decimalLatitude=%{lat}<br>decimalLongitude=%{lon}<extra></extra>\",\"lat\":[10.545077,14.45503],\"legendgroup\":\"Anastomus oscitans (Boddaert, 1783)\",\"lon\":[76.14649,75.892607],\"marker\":{\"color\":\"#00cc96\",\"symbol\":\"circle\"},\"mode\":\"markers\",\"name\":\"Anastomus oscitans (Boddaert, 1783)\",\"showlegend\":true,\"type\":\"scattergeo\"},{\"geo\":\"geo\",\"hovertemplate\":\"scientificName=Motacilla maderaspatensis Gmelin, 1789<br>year=2021<br>decimalLatitude=%{lat}<br>decimalLongitude=%{lon}<extra></extra>\",\"lat\":[14.45503],\"legendgroup\":\"Motacilla maderaspatensis Gmelin, 1789\",\"lon\":[75.892607],\"marker\":{\"color\":\"#ab63fa\",\"symbol\":\"circle\"},\"mode\":\"markers\",\"name\":\"Motacilla maderaspatensis Gmelin, 1789\",\"showlegend\":true,\"type\":\"scattergeo\"},{\"geo\":\"geo\",\"hovertemplate\":\"scientificName=Glareola lactea Temminck, 1820<br>year=2021<br>decimalLatitude=%{lat}<br>decimalLongitude=%{lon}<extra></extra>\",\"lat\":[10.545077],\"legendgroup\":\"Glareola lactea Temminck, 1820\",\"lon\":[76.14649],\"marker\":{\"color\":\"#FFA15A\",\"symbol\":\"circle\"},\"mode\":\"markers\",\"name\":\"Glareola lactea Temminck, 1820\",\"showlegend\":true,\"type\":\"scattergeo\"},{\"geo\":\"geo\",\"hovertemplate\":\"scientificName=Threskiornis melanocephalus (Latham, 1790)<br>year=2021<br>decimalLatitude=%{lat}<br>decimalLongitude=%{lon}<extra></extra>\",\"lat\":[10.545077,14.45503],\"legendgroup\":\"Threskiornis melanocephalus (Latham, 1790)\",\"lon\":[76.14649,75.892607],\"marker\":{\"color\":\"#19d3f3\",\"symbol\":\"circle\"},\"mode\":\"markers\",\"name\":\"Threskiornis melanocephalus (Latham, 1790)\",\"showlegend\":true,\"type\":\"scattergeo\"},{\"geo\":\"geo\",\"hovertemplate\":\"scientificName=Cepora nerissa (Fabricius, 1775)<br>year=2021<br>decimalLatitude=%{lat}<br>decimalLongitude=%{lon}<extra></extra>\",\"lat\":[11.6857],\"legendgroup\":\"Cepora nerissa (Fabricius, 1775)\",\"lon\":[78.1761],\"marker\":{\"color\":\"#FF6692\",\"symbol\":\"circle\"},\"mode\":\"markers\",\"name\":\"Cepora nerissa (Fabricius, 1775)\",\"showlegend\":true,\"type\":\"scattergeo\"},{\"geo\":\"geo\",\"hovertemplate\":\"scientificName=Hypolimnas bolina Linnaeus, 1758<br>year=2021<br>decimalLatitude=%{lat}<br>decimalLongitude=%{lon}<extra></extra>\",\"lat\":[11.684],\"legendgroup\":\"Hypolimnas bolina Linnaeus, 1758\",\"lon\":[78.1771],\"marker\":{\"color\":\"#B6E880\",\"symbol\":\"circle\"},\"mode\":\"markers\",\"name\":\"Hypolimnas bolina Linnaeus, 1758\",\"showlegend\":true,\"type\":\"scattergeo\"},{\"geo\":\"geo\",\"hovertemplate\":\"scientificName=Oriolus kundoo Sykes, 1832<br>year=2021<br>decimalLatitude=%{lat}<br>decimalLongitude=%{lon}<extra></extra>\",\"lat\":[10.029107],\"legendgroup\":\"Oriolus kundoo Sykes, 1832\",\"lon\":[76.35898],\"marker\":{\"color\":\"#FF97FF\",\"symbol\":\"circle\"},\"mode\":\"markers\",\"name\":\"Oriolus kundoo Sykes, 1832\",\"showlegend\":true,\"type\":\"scattergeo\"},{\"geo\":\"geo\",\"hovertemplate\":\"scientificName=Dodonaea viscosa (L.) Jacq.<br>year=2021<br>decimalLatitude=%{lat}<br>decimalLongitude=%{lon}<extra></extra>\",\"lat\":[14.2333],\"legendgroup\":\"Dodonaea viscosa (L.) Jacq.\",\"lon\":[77.6117],\"marker\":{\"color\":\"#FECB52\",\"symbol\":\"circle\"},\"mode\":\"markers\",\"name\":\"Dodonaea viscosa (L.) Jacq.\",\"showlegend\":true,\"type\":\"scattergeo\"},{\"geo\":\"geo\",\"hovertemplate\":\"scientificName=Nyctyornis athertoni (Jardine & Selby, 1828)<br>year=2021<br>decimalLatitude=%{lat}<br>decimalLongitude=%{lon}<extra></extra>\",\"lat\":[11.353002],\"legendgroup\":\"Nyctyornis athertoni (Jardine & Selby, 1828)\",\"lon\":[76.79591],\"marker\":{\"color\":\"#636efa\",\"symbol\":\"circle\"},\"mode\":\"markers\",\"name\":\"Nyctyornis athertoni (Jardine & Selby, 1828)\",\"showlegend\":true,\"type\":\"scattergeo\"},{\"geo\":\"geo\",\"hovertemplate\":\"scientificName=Calliandra haematocephala Hassk.<br>year=2021<br>decimalLatitude=%{lat}<br>decimalLongitude=%{lon}<extra></extra>\",\"lat\":[25.2329],\"legendgroup\":\"Calliandra haematocephala Hassk.\",\"lon\":[75.8347],\"marker\":{\"color\":\"#EF553B\",\"symbol\":\"circle\"},\"mode\":\"markers\",\"name\":\"Calliandra haematocephala Hassk.\",\"showlegend\":true,\"type\":\"scattergeo\"},{\"geo\":\"geo\",\"hovertemplate\":\"scientificName=Junonia almana Linnaeus, 1758<br>year=2021<br>decimalLatitude=%{lat}<br>decimalLongitude=%{lon}<extra></extra>\",\"lat\":[25.2313],\"legendgroup\":\"Junonia almana Linnaeus, 1758\",\"lon\":[75.8405],\"marker\":{\"color\":\"#00cc96\",\"symbol\":\"circle\"},\"mode\":\"markers\",\"name\":\"Junonia almana Linnaeus, 1758\",\"showlegend\":true,\"type\":\"scattergeo\"},{\"geo\":\"geo\",\"hovertemplate\":\"scientificName=Rosa L.<br>year=2021<br>decimalLatitude=%{lat}<br>decimalLongitude=%{lon}<extra></extra>\",\"lat\":[26.943559],\"legendgroup\":\"Rosa L.\",\"lon\":[94.200024],\"marker\":{\"color\":\"#ab63fa\",\"symbol\":\"circle\"},\"mode\":\"markers\",\"name\":\"Rosa L.\",\"showlegend\":true,\"type\":\"scattergeo\"},{\"geo\":\"geo\",\"hovertemplate\":\"scientificName=Cuscuta reflexa Roxb.<br>year=2021<br>decimalLatitude=%{lat}<br>decimalLongitude=%{lon}<extra></extra>\",\"lat\":[25.2329],\"legendgroup\":\"Cuscuta reflexa Roxb.\",\"lon\":[75.8347],\"marker\":{\"color\":\"#FFA15A\",\"symbol\":\"circle\"},\"mode\":\"markers\",\"name\":\"Cuscuta reflexa Roxb.\",\"showlegend\":true,\"type\":\"scattergeo\"},{\"geo\":\"geo\",\"hovertemplate\":\"scientificName=Rhacophorus Kuhl & Van Hasselt, 1822<br>year=2021<br>decimalLatitude=%{lat}<br>decimalLongitude=%{lon}<extra></extra>\",\"lat\":[25.143525],\"legendgroup\":\"Rhacophorus Kuhl & Van Hasselt, 1822\",\"lon\":[94.283342],\"marker\":{\"color\":\"#19d3f3\",\"symbol\":\"circle\"},\"mode\":\"markers\",\"name\":\"Rhacophorus Kuhl & Van Hasselt, 1822\",\"showlegend\":true,\"type\":\"scattergeo\"},{\"geo\":\"geo\",\"hovertemplate\":\"scientificName=Nyctemera coleta Cramer, 1781<br>year=2021<br>decimalLatitude=%{lat}<br>decimalLongitude=%{lon}<extra></extra>\",\"lat\":[8.941641],\"legendgroup\":\"Nyctemera coleta Cramer, 1781\",\"lon\":[76.753858],\"marker\":{\"color\":\"#FF6692\",\"symbol\":\"circle\"},\"mode\":\"markers\",\"name\":\"Nyctemera coleta Cramer, 1781\",\"showlegend\":true,\"type\":\"scattergeo\"},{\"geo\":\"geo\",\"hovertemplate\":\"scientificName=Crocothemis Brulle, 1832<br>year=2021<br>decimalLatitude=%{lat}<br>decimalLongitude=%{lon}<extra></extra>\",\"lat\":[14.147724],\"legendgroup\":\"Crocothemis Brulle, 1832\",\"lon\":[75.112001],\"marker\":{\"color\":\"#B6E880\",\"symbol\":\"circle\"},\"mode\":\"markers\",\"name\":\"Crocothemis Brulle, 1832\",\"showlegend\":true,\"type\":\"scattergeo\"},{\"geo\":\"geo\",\"hovertemplate\":\"scientificName=Argiope Audouin, 1826<br>year=2021<br>decimalLatitude=%{lat}<br>decimalLongitude=%{lon}<extra></extra>\",\"lat\":[13.337876],\"legendgroup\":\"Argiope Audouin, 1826\",\"lon\":[77.117325],\"marker\":{\"color\":\"#FF97FF\",\"symbol\":\"circle\"},\"mode\":\"markers\",\"name\":\"Argiope Audouin, 1826\",\"showlegend\":true,\"type\":\"scattergeo\"},{\"geo\":\"geo\",\"hovertemplate\":\"scientificName=Micrixalus gadgili Pillai & Pattabiraman, 1990<br>year=2021<br>decimalLatitude=%{lat}<br>decimalLongitude=%{lon}<extra></extra>\",\"lat\":[9.587903],\"legendgroup\":\"Micrixalus gadgili Pillai & Pattabiraman, 1990\",\"lon\":[77.180071],\"marker\":{\"color\":\"#FECB52\",\"symbol\":\"circle\"},\"mode\":\"markers\",\"name\":\"Micrixalus gadgili Pillai & Pattabiraman, 1990\",\"showlegend\":true,\"type\":\"scattergeo\"},{\"geo\":\"geo\",\"hovertemplate\":\"scientificName=Minervarya keralensis (Dubois, 1981)<br>year=2021<br>decimalLatitude=%{lat}<br>decimalLongitude=%{lon}<extra></extra>\",\"lat\":[8.623414],\"legendgroup\":\"Minervarya keralensis (Dubois, 1981)\",\"lon\":[77.135682],\"marker\":{\"color\":\"#636efa\",\"symbol\":\"circle\"},\"mode\":\"markers\",\"name\":\"Minervarya keralensis (Dubois, 1981)\",\"showlegend\":true,\"type\":\"scattergeo\"},{\"geo\":\"geo\",\"hovertemplate\":\"scientificName=Eryx johnii (Russell, 1801)<br>year=2021<br>decimalLatitude=%{lat}<br>decimalLongitude=%{lon}<extra></extra>\",\"lat\":[25.2329],\"legendgroup\":\"Eryx johnii (Russell, 1801)\",\"lon\":[75.8399],\"marker\":{\"color\":\"#EF553B\",\"symbol\":\"circle\"},\"mode\":\"markers\",\"name\":\"Eryx johnii (Russell, 1801)\",\"showlegend\":true,\"type\":\"scattergeo\"},{\"geo\":\"geo\",\"hovertemplate\":\"scientificName=Pila olea (Reeve, 1856)<br>year=2021<br>decimalLatitude=%{lat}<br>decimalLongitude=%{lon}<extra></extra>\",\"lat\":[26.4879],\"legendgroup\":\"Pila olea (Reeve, 1856)\",\"lon\":[91.6989],\"marker\":{\"color\":\"#00cc96\",\"symbol\":\"circle\"},\"mode\":\"markers\",\"name\":\"Pila olea (Reeve, 1856)\",\"showlegend\":true,\"type\":\"scattergeo\"},{\"geo\":\"geo\",\"hovertemplate\":\"scientificName=Haliastur indus (Boddaert, 1783)<br>year=2021<br>decimalLatitude=%{lat}<br>decimalLongitude=%{lon}<extra></extra>\",\"lat\":[14.45503],\"legendgroup\":\"Haliastur indus (Boddaert, 1783)\",\"lon\":[75.892607],\"marker\":{\"color\":\"#ab63fa\",\"symbol\":\"circle\"},\"mode\":\"markers\",\"name\":\"Haliastur indus (Boddaert, 1783)\",\"showlegend\":true,\"type\":\"scattergeo\"},{\"geo\":\"geo\",\"hovertemplate\":\"scientificName=Oxyopes Latreille, 1806<br>year=2021<br>decimalLatitude=%{lat}<br>decimalLongitude=%{lon}<extra></extra>\",\"lat\":[8.713913],\"legendgroup\":\"Oxyopes Latreille, 1806\",\"lon\":[77.756652],\"marker\":{\"color\":\"#FFA15A\",\"symbol\":\"circle\"},\"mode\":\"markers\",\"name\":\"Oxyopes Latreille, 1806\",\"showlegend\":true,\"type\":\"scattergeo\"},{\"geo\":\"geo\",\"hovertemplate\":\"scientificName=Microcarbo niger (Vieillot, 1817)<br>year=2021<br>decimalLatitude=%{lat}<br>decimalLongitude=%{lon}<extra></extra>\",\"lat\":[14.45503],\"legendgroup\":\"Microcarbo niger (Vieillot, 1817)\",\"lon\":[75.892607],\"marker\":{\"color\":\"#19d3f3\",\"symbol\":\"circle\"},\"mode\":\"markers\",\"name\":\"Microcarbo niger (Vieillot, 1817)\",\"showlegend\":true,\"type\":\"scattergeo\"},{\"geo\":\"geo\",\"hovertemplate\":\"scientificName=Pseudibis papillosa (Temminck, 1824)<br>year=2021<br>decimalLatitude=%{lat}<br>decimalLongitude=%{lon}<extra></extra>\",\"lat\":[12.310435],\"legendgroup\":\"Pseudibis papillosa (Temminck, 1824)\",\"lon\":[76.62397],\"marker\":{\"color\":\"#FF6692\",\"symbol\":\"circle\"},\"mode\":\"markers\",\"name\":\"Pseudibis papillosa (Temminck, 1824)\",\"showlegend\":true,\"type\":\"scattergeo\"},{\"geo\":\"geo\",\"hovertemplate\":\"scientificName=Athene brama (Temminck, 1821)<br>year=2021<br>decimalLatitude=%{lat}<br>decimalLongitude=%{lon}<extra></extra>\",\"lat\":[12.313448,12.310435,12.310435],\"legendgroup\":\"Athene brama (Temminck, 1821)\",\"lon\":[76.620213,76.62397,76.62397],\"marker\":{\"color\":\"#B6E880\",\"symbol\":\"circle\"},\"mode\":\"markers\",\"name\":\"Athene brama (Temminck, 1821)\",\"showlegend\":true,\"type\":\"scattergeo\"},{\"geo\":\"geo\",\"hovertemplate\":\"scientificName=Anser indicus (Latham, 1790)<br>year=2021<br>decimalLatitude=%{lat}<br>decimalLongitude=%{lon}<extra></extra>\",\"lat\":[14.45503],\"legendgroup\":\"Anser indicus (Latham, 1790)\",\"lon\":[75.892607],\"marker\":{\"color\":\"#FF97FF\",\"symbol\":\"circle\"},\"mode\":\"markers\",\"name\":\"Anser indicus (Latham, 1790)\",\"showlegend\":true,\"type\":\"scattergeo\"},{\"geo\":\"geo\",\"hovertemplate\":\"scientificName=Ocyceros birostris (Scopoli, 1786)<br>year=2021<br>decimalLatitude=%{lat}<br>decimalLongitude=%{lon}<extra></extra>\",\"lat\":[12.310435],\"legendgroup\":\"Ocyceros birostris (Scopoli, 1786)\",\"lon\":[76.62397],\"marker\":{\"color\":\"#FECB52\",\"symbol\":\"circle\"},\"mode\":\"markers\",\"name\":\"Ocyceros birostris (Scopoli, 1786)\",\"showlegend\":true,\"type\":\"scattergeo\"},{\"geo\":\"geo\",\"hovertemplate\":\"scientificName=Vulpes bengalensis (Shaw, 1800)<br>year=2021<br>decimalLatitude=%{lat}<br>decimalLongitude=%{lon}<extra></extra>\",\"lat\":[12.310395],\"legendgroup\":\"Vulpes bengalensis (Shaw, 1800)\",\"lon\":[76.630441],\"marker\":{\"color\":\"#636efa\",\"symbol\":\"circle\"},\"mode\":\"markers\",\"name\":\"Vulpes bengalensis (Shaw, 1800)\",\"showlegend\":true,\"type\":\"scattergeo\"},{\"geo\":\"geo\",\"hovertemplate\":\"scientificName=Dinopium benghalense (Linnaeus, 1758)<br>year=2021<br>decimalLatitude=%{lat}<br>decimalLongitude=%{lon}<extra></extra>\",\"lat\":[12.310435],\"legendgroup\":\"Dinopium benghalense (Linnaeus, 1758)\",\"lon\":[76.62397],\"marker\":{\"color\":\"#EF553B\",\"symbol\":\"circle\"},\"mode\":\"markers\",\"name\":\"Dinopium benghalense (Linnaeus, 1758)\",\"showlegend\":true,\"type\":\"scattergeo\"},{\"geo\":\"geo\",\"hovertemplate\":\"scientificName=Telamonia dimidiata (Simon, 1899)<br>year=2021<br>decimalLatitude=%{lat}<br>decimalLongitude=%{lon}<extra></extra>\",\"lat\":[8.941641],\"legendgroup\":\"Telamonia dimidiata (Simon, 1899)\",\"lon\":[76.753858],\"marker\":{\"color\":\"#00cc96\",\"symbol\":\"circle\"},\"mode\":\"markers\",\"name\":\"Telamonia dimidiata (Simon, 1899)\",\"showlegend\":true,\"type\":\"scattergeo\"},{\"geo\":\"geo\",\"hovertemplate\":\"scientificName=Pericrocotus cinnamomeus (Linnaeus, 1766)<br>year=2021<br>decimalLatitude=%{lat}<br>decimalLongitude=%{lon}<extra></extra>\",\"lat\":[12.310435],\"legendgroup\":\"Pericrocotus cinnamomeus (Linnaeus, 1766)\",\"lon\":[76.62397],\"marker\":{\"color\":\"#ab63fa\",\"symbol\":\"circle\"},\"mode\":\"markers\",\"name\":\"Pericrocotus cinnamomeus (Linnaeus, 1766)\",\"showlegend\":true,\"type\":\"scattergeo\"},{\"geo\":\"geo\",\"hovertemplate\":\"scientificName=Nilssonia gangetica (Cuvier, 1825)<br>year=2021<br>decimalLatitude=%{lat}<br>decimalLongitude=%{lon}<extra></extra>\",\"lat\":[22.314715],\"legendgroup\":\"Nilssonia gangetica (Cuvier, 1825)\",\"lon\":[73.19089],\"marker\":{\"color\":\"#FFA15A\",\"symbol\":\"circle\"},\"mode\":\"markers\",\"name\":\"Nilssonia gangetica (Cuvier, 1825)\",\"showlegend\":true,\"type\":\"scattergeo\"},{\"geo\":\"geo\",\"hovertemplate\":\"scientificName=Fowlea piscator (Schneider, 1799)<br>year=2021<br>decimalLatitude=%{lat}<br>decimalLongitude=%{lon}<extra></extra>\",\"lat\":[22.987242],\"legendgroup\":\"Fowlea piscator (Schneider, 1799)\",\"lon\":[72.495173],\"marker\":{\"color\":\"#19d3f3\",\"symbol\":\"circle\"},\"mode\":\"markers\",\"name\":\"Fowlea piscator (Schneider, 1799)\",\"showlegend\":true,\"type\":\"scattergeo\"},{\"geo\":\"geo\",\"hovertemplate\":\"scientificName=Crocodylus palustris (Lesson, 1831)<br>year=2021<br>decimalLatitude=%{lat}<br>decimalLongitude=%{lon}<extra></extra>\",\"lat\":[22.314635,22.305668,22.305668,22.305668,22.305668,22.305668,22.31472,22.314635],\"legendgroup\":\"Crocodylus palustris (Lesson, 1831)\",\"lon\":[73.190791,73.186209,73.186209,73.186209,73.186209,73.186209,73.190869,73.190791],\"marker\":{\"color\":\"#FF6692\",\"symbol\":\"circle\"},\"mode\":\"markers\",\"name\":\"Crocodylus palustris (Lesson, 1831)\",\"showlegend\":true,\"type\":\"scattergeo\"},{\"geo\":\"geo\",\"hovertemplate\":\"scientificName=Anthus rufulus Vieillot, 1818<br>year=2021<br>decimalLatitude=%{lat}<br>decimalLongitude=%{lon}<extra></extra>\",\"lat\":[12.967263],\"legendgroup\":\"Anthus rufulus Vieillot, 1818\",\"lon\":[74.847125],\"marker\":{\"color\":\"#B6E880\",\"symbol\":\"circle\"},\"mode\":\"markers\",\"name\":\"Anthus rufulus Vieillot, 1818\",\"showlegend\":true,\"type\":\"scattergeo\"},{\"geo\":\"geo\",\"hovertemplate\":\"scientificName=Mirafra affinis Blyth, 1845<br>year=2021<br>decimalLatitude=%{lat}<br>decimalLongitude=%{lon}<extra></extra>\",\"lat\":[12.967263],\"legendgroup\":\"Mirafra affinis Blyth, 1845\",\"lon\":[74.847125],\"marker\":{\"color\":\"#FF97FF\",\"symbol\":\"circle\"},\"mode\":\"markers\",\"name\":\"Mirafra affinis Blyth, 1845\",\"showlegend\":true,\"type\":\"scattergeo\"},{\"geo\":\"geo\",\"hovertemplate\":\"scientificName=Cerambycidae<br>year=2021<br>decimalLatitude=%{lat}<br>decimalLongitude=%{lon}<extra></extra>\",\"lat\":[25.845676],\"legendgroup\":\"Cerambycidae\",\"lon\":[93.437758],\"marker\":{\"color\":\"#FECB52\",\"symbol\":\"circle\"},\"mode\":\"markers\",\"name\":\"Cerambycidae\",\"showlegend\":true,\"type\":\"scattergeo\"},{\"geo\":\"geo\",\"hovertemplate\":\"scientificName=Ascalaphidae<br>year=2021<br>decimalLatitude=%{lat}<br>decimalLongitude=%{lon}<extra></extra>\",\"lat\":[25.845676],\"legendgroup\":\"Ascalaphidae\",\"lon\":[93.437758],\"marker\":{\"color\":\"#636efa\",\"symbol\":\"circle\"},\"mode\":\"markers\",\"name\":\"Ascalaphidae\",\"showlegend\":true,\"type\":\"scattergeo\"},{\"geo\":\"geo\",\"hovertemplate\":\"scientificName=Dillenia indica L.<br>year=2021<br>decimalLatitude=%{lat}<br>decimalLongitude=%{lon}<extra></extra>\",\"lat\":[8.487969],\"legendgroup\":\"Dillenia indica L.\",\"lon\":[76.980914],\"marker\":{\"color\":\"#EF553B\",\"symbol\":\"circle\"},\"mode\":\"markers\",\"name\":\"Dillenia indica L.\",\"showlegend\":true,\"type\":\"scattergeo\"},{\"geo\":\"geo\",\"hovertemplate\":\"scientificName=Thyas honesta H\\u00fcbner, 1806<br>year=2021<br>decimalLatitude=%{lat}<br>decimalLongitude=%{lon}<extra></extra>\",\"lat\":[25.589701],\"legendgroup\":\"Thyas honesta H\\u00fcbner, 1806\",\"lon\":[91.87582],\"marker\":{\"color\":\"#00cc96\",\"symbol\":\"circle\"},\"mode\":\"markers\",\"name\":\"Thyas honesta H\\u00fcbner, 1806\",\"showlegend\":true,\"type\":\"scattergeo\"},{\"geo\":\"geo\",\"hovertemplate\":\"scientificName=Leptocentrus St\\u00e5l, 1866<br>year=2021<br>decimalLatitude=%{lat}<br>decimalLongitude=%{lon}<extra></extra>\",\"lat\":[21.3153],\"legendgroup\":\"Leptocentrus St\\u00e5l, 1866\",\"lon\":[72.8777],\"marker\":{\"color\":\"#ab63fa\",\"symbol\":\"circle\"},\"mode\":\"markers\",\"name\":\"Leptocentrus St\\u00e5l, 1866\",\"showlegend\":true,\"type\":\"scattergeo\"},{\"geo\":\"geo\",\"hovertemplate\":\"scientificName=Ficus religiosa L.<br>year=2021<br>decimalLatitude=%{lat}<br>decimalLongitude=%{lon}<extra></extra>\",\"lat\":[10.7597,10.7597],\"legendgroup\":\"Ficus religiosa L.\",\"lon\":[75.9353,75.9353],\"marker\":{\"color\":\"#FFA15A\",\"symbol\":\"circle\"},\"mode\":\"markers\",\"name\":\"Ficus religiosa L.\",\"showlegend\":true,\"type\":\"scattergeo\"},{\"geo\":\"geo\",\"hovertemplate\":\"scientificName=Melanochelys trijuga (Schweigger, 1812)<br>year=2021<br>decimalLatitude=%{lat}<br>decimalLongitude=%{lon}<extra></extra>\",\"lat\":[13.136214],\"legendgroup\":\"Melanochelys trijuga (Schweigger, 1812)\",\"lon\":[78.129099],\"marker\":{\"color\":\"#19d3f3\",\"symbol\":\"circle\"},\"mode\":\"markers\",\"name\":\"Melanochelys trijuga (Schweigger, 1812)\",\"showlegend\":true,\"type\":\"scattergeo\"},{\"geo\":\"geo\",\"hovertemplate\":\"scientificName=Argiope anasuja Thorell, 1887<br>year=2021<br>decimalLatitude=%{lat}<br>decimalLongitude=%{lon}<extra></extra>\",\"lat\":[8.688281,19.2857],\"legendgroup\":\"Argiope anasuja Thorell, 1887\",\"lon\":[76.759622,72.858],\"marker\":{\"color\":\"#FF6692\",\"symbol\":\"circle\"},\"mode\":\"markers\",\"name\":\"Argiope anasuja Thorell, 1887\",\"showlegend\":true,\"type\":\"scattergeo\"},{\"geo\":\"geo\",\"hovertemplate\":\"scientificName=Tecoma Juss.<br>year=2021<br>decimalLatitude=%{lat}<br>decimalLongitude=%{lon}<extra></extra>\",\"lat\":[8.895816],\"legendgroup\":\"Tecoma Juss.\",\"lon\":[76.578146],\"marker\":{\"color\":\"#B6E880\",\"symbol\":\"circle\"},\"mode\":\"markers\",\"name\":\"Tecoma Juss.\",\"showlegend\":true,\"type\":\"scattergeo\"},{\"geo\":\"geo\",\"hovertemplate\":\"scientificName=Mucuna bracteata DC.<br>year=2021<br>decimalLatitude=%{lat}<br>decimalLongitude=%{lon}<extra></extra>\",\"lat\":[23.74563],\"legendgroup\":\"Mucuna bracteata DC.\",\"lon\":[91.337282],\"marker\":{\"color\":\"#FF97FF\",\"symbol\":\"circle\"},\"mode\":\"markers\",\"name\":\"Mucuna bracteata DC.\",\"showlegend\":true,\"type\":\"scattergeo\"},{\"geo\":\"geo\",\"hovertemplate\":\"scientificName=Parthenos sylvia (Cramer, 1776)<br>year=2021<br>decimalLatitude=%{lat}<br>decimalLongitude=%{lon}<extra></extra>\",\"lat\":[10.178824],\"legendgroup\":\"Parthenos sylvia (Cramer, 1776)\",\"lon\":[76.330317],\"marker\":{\"color\":\"#FECB52\",\"symbol\":\"circle\"},\"mode\":\"markers\",\"name\":\"Parthenos sylvia (Cramer, 1776)\",\"showlegend\":true,\"type\":\"scattergeo\"},{\"geo\":\"geo\",\"hovertemplate\":\"scientificName=Euthalia aconthea Cramer, 1779<br>year=2021<br>decimalLatitude=%{lat}<br>decimalLongitude=%{lon}<extra></extra>\",\"lat\":[8.931944,8.549304],\"legendgroup\":\"Euthalia aconthea Cramer, 1779\",\"lon\":[76.644159,76.977268],\"marker\":{\"color\":\"#636efa\",\"symbol\":\"circle\"},\"mode\":\"markers\",\"name\":\"Euthalia aconthea Cramer, 1779\",\"showlegend\":true,\"type\":\"scattergeo\"},{\"geo\":\"geo\",\"hovertemplate\":\"scientificName=Eriovixia Archer, 1951<br>year=2021<br>decimalLatitude=%{lat}<br>decimalLongitude=%{lon}<extra></extra>\",\"lat\":[19.2891],\"legendgroup\":\"Eriovixia Archer, 1951\",\"lon\":[72.8484],\"marker\":{\"color\":\"#EF553B\",\"symbol\":\"circle\"},\"mode\":\"markers\",\"name\":\"Eriovixia Archer, 1951\",\"showlegend\":true,\"type\":\"scattergeo\"},{\"geo\":\"geo\",\"hovertemplate\":\"scientificName=Argyrodes Simon, 1864<br>year=2021<br>decimalLatitude=%{lat}<br>decimalLongitude=%{lon}<extra></extra>\",\"lat\":[19.2857],\"legendgroup\":\"Argyrodes Simon, 1864\",\"lon\":[72.858],\"marker\":{\"color\":\"#00cc96\",\"symbol\":\"circle\"},\"mode\":\"markers\",\"name\":\"Argyrodes Simon, 1864\",\"showlegend\":true,\"type\":\"scattergeo\"},{\"geo\":\"geo\",\"hovertemplate\":\"scientificName=Hersilia savignyi Lucas, 1836<br>year=2021<br>decimalLatitude=%{lat}<br>decimalLongitude=%{lon}<extra></extra>\",\"lat\":[15.405313],\"legendgroup\":\"Hersilia savignyi Lucas, 1836\",\"lon\":[75.477438],\"marker\":{\"color\":\"#ab63fa\",\"symbol\":\"circle\"},\"mode\":\"markers\",\"name\":\"Hersilia savignyi Lucas, 1836\",\"showlegend\":true,\"type\":\"scattergeo\"},{\"geo\":\"geo\",\"hovertemplate\":\"scientificName=Orthetrum glaucum Brauer, 1865<br>year=2021<br>decimalLatitude=%{lat}<br>decimalLongitude=%{lon}<extra></extra>\",\"lat\":[25.847216],\"legendgroup\":\"Orthetrum glaucum Brauer, 1865\",\"lon\":[92.574291],\"marker\":{\"color\":\"#FFA15A\",\"symbol\":\"circle\"},\"mode\":\"markers\",\"name\":\"Orthetrum glaucum Brauer, 1865\",\"showlegend\":true,\"type\":\"scattergeo\"},{\"geo\":\"geo\",\"hovertemplate\":\"scientificName=Athyma perius (Linnaeus, 1758)<br>year=2021<br>decimalLatitude=%{lat}<br>decimalLongitude=%{lon}<extra></extra>\",\"lat\":[25.847216],\"legendgroup\":\"Athyma perius (Linnaeus, 1758)\",\"lon\":[92.574291],\"marker\":{\"color\":\"#19d3f3\",\"symbol\":\"circle\"},\"mode\":\"markers\",\"name\":\"Athyma perius (Linnaeus, 1758)\",\"showlegend\":true,\"type\":\"scattergeo\"},{\"geo\":\"geo\",\"hovertemplate\":\"scientificName=Acraea violae Fabricius, 1775<br>year=2021<br>decimalLatitude=%{lat}<br>decimalLongitude=%{lon}<extra></extra>\",\"lat\":[19.1637],\"legendgroup\":\"Acraea violae Fabricius, 1775\",\"lon\":[72.8831],\"marker\":{\"color\":\"#FF6692\",\"symbol\":\"circle\"},\"mode\":\"markers\",\"name\":\"Acraea violae Fabricius, 1775\",\"showlegend\":true,\"type\":\"scattergeo\"},{\"geo\":\"geo\",\"hovertemplate\":\"scientificName=Copsychus saularis (Linnaeus, 1758)<br>year=2021<br>decimalLatitude=%{lat}<br>decimalLongitude=%{lon}<extra></extra>\",\"lat\":[12.956138],\"legendgroup\":\"Copsychus saularis (Linnaeus, 1758)\",\"lon\":[77.120575],\"marker\":{\"color\":\"#B6E880\",\"symbol\":\"circle\"},\"mode\":\"markers\",\"name\":\"Copsychus saularis (Linnaeus, 1758)\",\"showlegend\":true,\"type\":\"scattergeo\"},{\"geo\":\"geo\",\"hovertemplate\":\"scientificName=Eranthemum roseum (Vahl) R.Br.<br>year=2021<br>decimalLatitude=%{lat}<br>decimalLongitude=%{lon}<extra></extra>\",\"lat\":[15.8119],\"legendgroup\":\"Eranthemum roseum (Vahl) R.Br.\",\"lon\":[74.095],\"marker\":{\"color\":\"#FF97FF\",\"symbol\":\"circle\"},\"mode\":\"markers\",\"name\":\"Eranthemum roseum (Vahl) R.Br.\",\"showlegend\":true,\"type\":\"scattergeo\"},{\"geo\":\"geo\",\"hovertemplate\":\"scientificName=Lycodon travancoricus (Beddome, 1870)<br>year=2021<br>decimalLatitude=%{lat}<br>decimalLongitude=%{lon}<extra></extra>\",\"lat\":[15.8128],\"legendgroup\":\"Lycodon travancoricus (Beddome, 1870)\",\"lon\":[74.0967],\"marker\":{\"color\":\"#FECB52\",\"symbol\":\"circle\"},\"mode\":\"markers\",\"name\":\"Lycodon travancoricus (Beddome, 1870)\",\"showlegend\":true,\"type\":\"scattergeo\"}],\"name\":\"2021\"}]);\n",
       "                        }).then(function(){\n",
       "                            \n",
       "var gd = document.getElementById('6fcb6e5a-84f5-44be-b146-d349e3b0cab3');\n",
       "var x = new MutationObserver(function (mutations, observer) {{\n",
       "        var display = window.getComputedStyle(gd).display;\n",
       "        if (!display || display === 'none') {{\n",
       "            console.log([gd, 'removed!']);\n",
       "            Plotly.purge(gd);\n",
       "            observer.disconnect();\n",
       "        }}\n",
       "}});\n",
       "\n",
       "// Listen for the removal of the full notebook cells\n",
       "var notebookContainer = gd.closest('#notebook-container');\n",
       "if (notebookContainer) {{\n",
       "    x.observe(notebookContainer, {childList: true});\n",
       "}}\n",
       "\n",
       "// Listen for the clearing of the current output cell\n",
       "var outputEl = gd.closest('.output');\n",
       "if (outputEl) {{\n",
       "    x.observe(outputEl, {childList: true});\n",
       "}}\n",
       "\n",
       "                        })                };                });            </script>        </div>"
      ]
     },
     "metadata": {},
     "output_type": "display_data"
    }
   ],
   "source": [
    "import plotly.express as px\n",
    "\n",
    "\n",
    "fig = px.scatter_geo(df,lat='decimalLatitude',lon='decimalLongitude',\n",
    "                     color='scientificName',\n",
    "                     animation_frame=\"year\",\n",
    "                    projection=\"orthographic\")\n",
    "fig.update_layout(title = 'World map', title_x=0.5)\n",
    "fig.show()"
   ]
  },
  {
   "cell_type": "code",
   "execution_count": 53,
   "id": "f449c9c7",
   "metadata": {},
   "outputs": [
    {
     "data": {
      "text/plain": [
       "Index(['key', 'datasetKey', 'publishingOrgKey', 'installationKey',\n",
       "       'publishingCountry', 'protocol', 'lastCrawled', 'lastParsed', 'crawlId',\n",
       "       'hostingOrganizationKey', 'extensions', 'basisOfRecord',\n",
       "       'occurrenceStatus', 'taxonKey', 'kingdomKey', 'phylumKey', 'classKey',\n",
       "       'orderKey', 'familyKey', 'genusKey', 'speciesKey', 'acceptedTaxonKey',\n",
       "       'scientificName', 'acceptedScientificName', 'kingdom', 'phylum',\n",
       "       'order', 'family', 'genus', 'species', 'genericName', 'specificEpithet',\n",
       "       'taxonRank', 'taxonomicStatus', 'iucnRedListCategory',\n",
       "       'decimalLongitude', 'decimalLatitude', 'year', 'month', 'day',\n",
       "       'eventDate', 'issues', 'lastInterpreted', 'license', 'identifiers',\n",
       "       'media', 'facts', 'relations', 'gadm', 'isInCluster', 'recordedBy',\n",
       "       'identifiedBy', 'inCluster', 'geodeticDatum', 'class', 'countryCode',\n",
       "       'recordedByIDs', 'identifiedByIDs', 'country', 'identifier',\n",
       "       'catalogNumber', 'organismName', 'verbatimLocality', 'gbifID',\n",
       "       'occurrenceID', 'taxonID', 'higherClassification', 'identificationID',\n",
       "       'organismRemarks', 'informationWithheld', 'dataGeneralizations',\n",
       "       'infraspecificEpithet', 'identificationVerificationStatus'],\n",
       "      dtype='object')"
      ]
     },
     "execution_count": 53,
     "metadata": {},
     "output_type": "execute_result"
    }
   ],
   "source": [
    "### issues: limit only gives 300 points at a time, fields arg does not seem to work"
   ]
  },
  {
   "cell_type": "code",
   "execution_count": 64,
   "id": "f6fbe4e5",
   "metadata": {},
   "outputs": [
    {
     "data": {
      "text/plain": [
       "0      2021\n",
       "1      2021\n",
       "2      2021\n",
       "3      2021\n",
       "4      2021\n",
       "       ... \n",
       "295    2021\n",
       "296    2021\n",
       "297    2021\n",
       "298    2021\n",
       "299    2021\n",
       "Name: year, Length: 300, dtype: int64"
      ]
     },
     "execution_count": 64,
     "metadata": {},
     "output_type": "execute_result"
    }
   ],
   "source": [
    "df.year"
   ]
  },
  {
   "cell_type": "code",
   "execution_count": null,
   "id": "cc62a8d3",
   "metadata": {},
   "outputs": [],
   "source": []
  }
 ],
 "metadata": {
  "kernelspec": {
   "display_name": "Python 3 (ipykernel)",
   "language": "python",
   "name": "python3"
  },
  "language_info": {
   "codemirror_mode": {
    "name": "ipython",
    "version": 3
   },
   "file_extension": ".py",
   "mimetype": "text/x-python",
   "name": "python",
   "nbconvert_exporter": "python",
   "pygments_lexer": "ipython3",
   "version": "3.9.12"
  }
 },
 "nbformat": 4,
 "nbformat_minor": 5
}
