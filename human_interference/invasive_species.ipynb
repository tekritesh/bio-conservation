{
 "cells": [
  {
   "cell_type": "markdown",
   "id": "68b6ab16",
   "metadata": {},
   "source": [
    "# Invasive Species Data & EDA\n",
    "\n",
    "\n",
    "1. Data Provenance \n",
    "\n",
    "    a. Where is the data from?\n",
    "        Global invasive species dataset: IUCN\n",
    "        https://www.gbif.org/dataset/b351a324-77c4-41c9-a909-f30f77268bc4 \n",
    "\n",
    "    b. Is it reliable? (partially subjective)\n",
    "        Somewhat. supported by GBIF\n",
    "    \n",
    "    \n",
    "2. Time measures\n",
    "\n",
    "    a. Time range of the dataset\n",
    "        NA\n",
    "    \n",
    "    b. Granularity (Weekly, Monthly, Aperiodic, Daily, Timestamp)\n",
    "        NA\n",
    "    \n",
    "    \n",
    "3. Location\n",
    "\n",
    "    a. Is it available for the UK, Brazil/India?\n",
    "        number of rows:\n",
    "        IND    519\n",
    "        GBR    437\n",
    "        BRA    388\n",
    "    \n",
    "    b. Granularity (is it a pin point location?, Rounded coordinates?...)\n",
    "        Country code\n",
    "    \n",
    "    c. Format (shape files, lat long, geographical code)\n",
    "        Country code\n",
    "    \n",
    "    \n",
    "4. Data Gaps and size\n",
    "\n",
    "    a. Size of the data\n",
    "        1344 x 7 dataframe \n",
    "    \n",
    "    b. Available columns and columns of interest\n",
    "        'id', 'countryCode', 'establishmentMeans', 'invasiveness', 'pathway',\n",
    "       'taxonID', 'scientificName'\n",
    "           *we need to pick 'invasiveness' = 'Invasive'\n",
    "    \n",
    "    c. Missing data (amount and years/locations missing)\n",
    "        just a list of invasive species. dataset not updated frequently\n",
    "    \n",
    "    d. Nulls or Nans\n",
    "        some pathways and taxonIDs are null.\n",
    "    \n",
    "    e. Primary key\n",
    "        (id, countryCode, pathway)\n",
    "    \n",
    "    f. Columns to join on\n",
    "        id (same as taxon_id)\n",
    "    \n",
    "    g. Any additional fields/terms\n",
    "        definition of invasive/native/..: https://rs.gbif.org/sandbox/vocabulary/issg/status.xml\n",
    "        https://rs.gbif.org/sandbox/vocabulary/issg/invasiveness.xml\n",
    "        https://rs.gbif.org/sandbox/vocabulary/issg/pathway.xml\n",
    "    \n",
    "    \n",
    "5. Ease of access\n",
    "\n",
    "    a. Is there a free to use license?\n",
    "        Yes, open license\n",
    "    \n",
    "    b. How is data accessed? (API, download)\n",
    "         Downloaded csv file\n",
    "    \n",
    "    c. Is the documentation straightforward?\n",
    "        Yes, just have to joing multiple files\n",
    "    \n",
    "    d. Any limits on how much data we can download?\n",
    "         No\n",
    "\n"
   ]
  },
  {
   "cell_type": "code",
   "execution_count": 53,
   "id": "e5f75011",
   "metadata": {},
   "outputs": [],
   "source": [
    "import pandas as pd\n",
    "import matplotlib.pyplot as plt"
   ]
  },
  {
   "cell_type": "code",
   "execution_count": 47,
   "id": "f1a9197d",
   "metadata": {},
   "outputs": [
    {
     "data": {
      "text/html": [
       "<div>\n",
       "<style scoped>\n",
       "    .dataframe tbody tr th:only-of-type {\n",
       "        vertical-align: middle;\n",
       "    }\n",
       "\n",
       "    .dataframe tbody tr th {\n",
       "        vertical-align: top;\n",
       "    }\n",
       "\n",
       "    .dataframe thead th {\n",
       "        text-align: right;\n",
       "    }\n",
       "</style>\n",
       "<table border=\"1\" class=\"dataframe\">\n",
       "  <thead>\n",
       "    <tr style=\"text-align: right;\">\n",
       "      <th></th>\n",
       "      <th>id</th>\n",
       "      <th>countryCode</th>\n",
       "      <th>establishmentMeans</th>\n",
       "      <th>invasiveness</th>\n",
       "      <th>pathway</th>\n",
       "      <th>taxonID</th>\n",
       "      <th>scientificName</th>\n",
       "    </tr>\n",
       "  </thead>\n",
       "  <tbody>\n",
       "    <tr>\n",
       "      <th>0</th>\n",
       "      <td>2</td>\n",
       "      <td>BRA</td>\n",
       "      <td>Native</td>\n",
       "      <td>NotInvasive</td>\n",
       "      <td>BotanicalGardenZooAquaria</td>\n",
       "      <td>2.0</td>\n",
       "      <td>Miconia calvescens D.C.</td>\n",
       "    </tr>\n",
       "    <tr>\n",
       "      <th>1</th>\n",
       "      <td>2</td>\n",
       "      <td>BRA</td>\n",
       "      <td>Native</td>\n",
       "      <td>NotInvasive</td>\n",
       "      <td>TransportationOfHabitatMaterial</td>\n",
       "      <td>2.0</td>\n",
       "      <td>Miconia calvescens D.C.</td>\n",
       "    </tr>\n",
       "    <tr>\n",
       "      <th>2</th>\n",
       "      <td>2</td>\n",
       "      <td>BRA</td>\n",
       "      <td>Native</td>\n",
       "      <td>NotInvasive</td>\n",
       "      <td>MachineryEquipment</td>\n",
       "      <td>2.0</td>\n",
       "      <td>Miconia calvescens D.C.</td>\n",
       "    </tr>\n",
       "    <tr>\n",
       "      <th>3</th>\n",
       "      <td>2</td>\n",
       "      <td>GBR</td>\n",
       "      <td>Alien</td>\n",
       "      <td>Unspecified</td>\n",
       "      <td>BotanicalGardenZooAquaria</td>\n",
       "      <td>2.0</td>\n",
       "      <td>Miconia calvescens D.C.</td>\n",
       "    </tr>\n",
       "    <tr>\n",
       "      <th>4</th>\n",
       "      <td>2</td>\n",
       "      <td>GBR</td>\n",
       "      <td>Alien</td>\n",
       "      <td>Unspecified</td>\n",
       "      <td>TransportationOfHabitatMaterial</td>\n",
       "      <td>2.0</td>\n",
       "      <td>Miconia calvescens D.C.</td>\n",
       "    </tr>\n",
       "  </tbody>\n",
       "</table>\n",
       "</div>"
      ],
      "text/plain": [
       "   id countryCode establishmentMeans invasiveness  \\\n",
       "0   2         BRA             Native  NotInvasive   \n",
       "1   2         BRA             Native  NotInvasive   \n",
       "2   2         BRA             Native  NotInvasive   \n",
       "3   2         GBR              Alien  Unspecified   \n",
       "4   2         GBR              Alien  Unspecified   \n",
       "\n",
       "                           pathway  taxonID           scientificName  \n",
       "0        BotanicalGardenZooAquaria      2.0  Miconia calvescens D.C.  \n",
       "1  TransportationOfHabitatMaterial      2.0  Miconia calvescens D.C.  \n",
       "2               MachineryEquipment      2.0  Miconia calvescens D.C.  \n",
       "3        BotanicalGardenZooAquaria      2.0  Miconia calvescens D.C.  \n",
       "4  TransportationOfHabitatMaterial      2.0  Miconia calvescens D.C.  "
      ]
     },
     "execution_count": 47,
     "metadata": {},
     "output_type": "execute_result"
    }
   ],
   "source": [
    "df_inv = pd.read_csv('../data/invasive_species.csv')\n",
    "df_inv.head()"
   ]
  },
  {
   "cell_type": "code",
   "execution_count": 56,
   "id": "85d4064a",
   "metadata": {},
   "outputs": [
    {
     "data": {
      "text/plain": [
       "<AxesSubplot:xlabel='countryCode'>"
      ]
     },
     "execution_count": 56,
     "metadata": {},
     "output_type": "execute_result"
    },
    {
     "data": {
      "image/png": "[encoded data removed]",
      "text/plain": [
       "<Figure size 432x288 with 1 Axes>"
      ]
     },
     "metadata": {
      "needs_background": "light"
     },
     "output_type": "display_data"
    }
   ],
   "source": [
    "df = df_inv.groupby(['countryCode','invasiveness']).id.count().reset_index()\n",
    "\n",
    "df.pivot('countryCode', 'invasiveness', \"id\").plot(kind='bar')"
   ]
  },
  {
   "cell_type": "code",
   "execution_count": null,
   "id": "0ac069e8",
   "metadata": {},
   "outputs": [],
   "source": []
  },
  {
   "cell_type": "code",
   "execution_count": null,
   "id": "66b1c82c",
   "metadata": {},
   "outputs": [],
   "source": []
  },
  {
   "cell_type": "code",
   "execution_count": null,
   "id": "7a88a29c",
   "metadata": {},
   "outputs": [],
   "source": []
  },
  {
   "cell_type": "code",
   "execution_count": null,
   "id": "a3cc6616",
   "metadata": {},
   "outputs": [],
   "source": []
  }
 ],
 "metadata": {
  "kernelspec": {
   "display_name": "Python 3 (ipykernel)",
   "language": "python",
   "name": "python3"
  },
  "language_info": {
   "codemirror_mode": {
    "name": "ipython",
    "version": 3
   },
   "file_extension": ".py",
   "mimetype": "text/x-python",
   "name": "python",
   "nbconvert_exporter": "python",
   "pygments_lexer": "ipython3",
   "version": "3.9.12"
  }
 },
 "nbformat": 4,
 "nbformat_minor": 5
}
