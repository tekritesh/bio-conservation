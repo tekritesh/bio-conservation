{
 "cells": [
  {
   "cell_type": "markdown",
   "id": "cdd9a998",
   "metadata": {},
   "source": [
    "# Join data GBIF & Human Interference"
   ]
  },
  {
   "cell_type": "code",
   "execution_count": 1,
   "id": "35e6bd98",
   "metadata": {
    "ExecuteTime": {
     "end_time": "2022-07-11T23:29:36.399342Z",
     "start_time": "2022-07-11T23:29:35.102797Z"
    }
   },
   "outputs": [],
   "source": [
    "import pandas as pd\n",
    "import numpy as np\n",
    "import os\n",
    "from pygbif import species as species\n",
    "from pygbif import occurrences as occ\n",
    "from human_interference import HumanInterference"
   ]
  },
  {
   "cell_type": "code",
   "execution_count": 2,
   "id": "7c50a132",
   "metadata": {
    "ExecuteTime": {
     "end_time": "2022-07-11T23:30:10.427442Z",
     "start_time": "2022-07-11T23:29:36.402011Z"
    }
   },
   "outputs": [
    {
     "data": {
      "text/html": [
       "<p>To authorize access needed by Earth Engine, open the following\n",
       "        URL in a web browser and follow the instructions:</p>\n",
       "        <p><a href=https://code.earthengine.google.com/client-auth?scopes=https%3A//www.googleapis.com/auth/earthengine%20https%3A//www.googleapis.com/auth/devstorage.full_control&request_id=0VM86RPpSFiVNacLZJJaSRVzkg2ITdszziZyedO2Pqc&tc=zMmoAFChYC627X6Cdqqw2udvSrkkpXbtgQ325-N156o&cc=IwhG-i8MMFM0FQBGj0-NQJvFDIey6HgKyLu7FZhYrjs>https://code.earthengine.google.com/client-auth?scopes=https%3A//www.googleapis.com/auth/earthengine%20https%3A//www.googleapis.com/auth/devstorage.full_control&request_id=0VM86RPpSFiVNacLZJJaSRVzkg2ITdszziZyedO2Pqc&tc=zMmoAFChYC627X6Cdqqw2udvSrkkpXbtgQ325-N156o&cc=IwhG-i8MMFM0FQBGj0-NQJvFDIey6HgKyLu7FZhYrjs</a></p>\n",
       "        <p>The authorization workflow will generate a code, which you\n",
       "        should paste in the box below</p>\n",
       "        "
      ],
      "text/plain": [
       "<IPython.core.display.HTML object>"
      ]
     },
     "metadata": {},
     "output_type": "display_data"
    },
    {
     "name": "stdout",
     "output_type": "stream",
     "text": [
      "Enter verification code: 4/1AdQt8qhE5go-B7bzBD5G6PM3GpQQ0n8wsHe0ykwMFolIdwAuuZx7yV18Z34\n",
      "\n",
      "Successfully saved authorization token.\n"
     ]
    }
   ],
   "source": [
    "df_inv = pd.read_csv('../data/invasive_species.csv')\n",
    "df_inv = df_inv[df_inv.invasiveness == 'Invasive'].copy()\n",
    "hum_int = HumanInterference()"
   ]
  },
  {
   "cell_type": "code",
   "execution_count": 37,
   "id": "fc6bbed7",
   "metadata": {
    "ExecuteTime": {
     "end_time": "2022-07-07T15:42:59.281303Z",
     "start_time": "2022-07-07T15:42:59.264849Z"
    }
   },
   "outputs": [],
   "source": [
    "years = [2021, 2022]\n",
    "brazil_species = ['Chrysocyon brachyurus', 'Callithrix jacchus',\n",
    "                  'Euphractus sexcinctus', 'Nasua nasua',\n",
    "                  'Hydrochoerus hydrochaeris']\n",
    "uk_species = ['Erinaceus roumanicus', 'Vulpes vulpes',\n",
    "             'Phoca vitulina', 'Lutra lutra',\n",
    "             'Branta canadensis']\n",
    "\n",
    "cols_of_interest = ['key', 'publishingCountry', 'basisOfRecord', 'scientificName',\n",
    "                    'species', 'genericName', 'iucnRedListCategory',\n",
    "                    'decimalLongitude', 'decimalLatitude', 'coordinateUncertaintyInMeters',\n",
    "                    'eventDate', 'recordedBy', 'country', 'countryCode'] \n",
    "    \n",
    "inv_dict = { 'BR': list(set(df_inv[df_inv.countryCode=='BRA'].scientificName.to_list())),\n",
    "            'GB': list(set(df_inv[df_inv.countryCode=='GBR'].scientificName.to_list())) }"
   ]
  },
  {
   "cell_type": "code",
   "execution_count": 5,
   "id": "f8d72a9d",
   "metadata": {
    "ExecuteTime": {
     "end_time": "2022-07-02T23:25:42.204140Z",
     "start_time": "2022-07-02T23:23:51.814387Z"
    }
   },
   "outputs": [],
   "source": [
    "df_brazil = pd.DataFrame()\n",
    "for year in years:\n",
    "    for obs in brazil_species:\n",
    "        temp = pd.DataFrame(occ.search(scientificName = obs, country='BR', limit=300, \n",
    "                    basisOfRecord='HUMAN_OBSERVATION',\n",
    "                    year = year)['results'])\n",
    "        df_brazil = pd.concat([df_brazil, temp])\n",
    "\n",
    "df_uk = pd.DataFrame()\n",
    "for year in years:\n",
    "    for obs in uk_species:\n",
    "        temp = pd.DataFrame(occ.search(scientificName = obs, country='GB', limit=300, \n",
    "                    basisOfRecord='HUMAN_OBSERVATION',\n",
    "                    year = year,\n",
    "                    hasGeospatialIssue= False )['results'])\n",
    "        df_uk = pd.concat([df_uk, temp])"
   ]
  },
  {
   "cell_type": "code",
   "execution_count": 6,
   "id": "ce8c353e",
   "metadata": {
    "ExecuteTime": {
     "end_time": "2022-07-02T23:25:42.263268Z",
     "start_time": "2022-07-02T23:25:42.205766Z"
    },
    "scrolled": true
   },
   "outputs": [],
   "source": [
    "df_brazil = df_brazil[cols_of_interest].copy()\n",
    "df_uk = df_uk[cols_of_interest].copy()\n",
    "df_world = pd.concat([df_brazil,df_uk])\n",
    "df_world['date'] = df_world['eventDate'].str[:10]\n",
    "df_world['invasive'] = df_world[['countryCode','scientificName']].\\\n",
    "                    apply(lambda x: True if x['scientificName'] in inv_dict[x['countryCode']] else False\n",
    "                          , axis=1)"
   ]
  },
  {
   "cell_type": "code",
   "execution_count": 8,
   "id": "522a022e",
   "metadata": {
    "ExecuteTime": {
     "end_time": "2022-07-02T23:44:58.641305Z",
     "start_time": "2022-07-02T23:26:51.826401Z"
    }
   },
   "outputs": [],
   "source": [
    "df_world['avg_radiance'] = df_world[['decimalLatitude',\n",
    "                                     'decimalLongitude',\n",
    "                                     'date']].\\\n",
    "                                    apply(lambda x: hum_int.get_avg_radiance(x.decimalLatitude,\n",
    "                                                                        x.decimalLongitude,\n",
    "                                                                       x.date),\n",
    "                                         axis=1)\n",
    "\n",
    "df_world['avg_deg_urban'] = df_world[['decimalLatitude',\n",
    "                                      'decimalLongitude']].\\\n",
    "                                    apply(lambda x: hum_int.get_avg_deg_urban(x['decimalLatitude'],\n",
    "                                                                        x['decimalLongitude']),\n",
    "                                         axis=1)"
   ]
  },
  {
   "cell_type": "code",
   "execution_count": 10,
   "id": "ba671027",
   "metadata": {
    "ExecuteTime": {
     "end_time": "2022-07-02T23:47:09.609200Z",
     "start_time": "2022-07-02T23:47:09.538949Z"
    }
   },
   "outputs": [],
   "source": [
    "df_world.to_csv('human_interference_sample.csv', index=False)"
   ]
  },
  {
   "cell_type": "code",
   "execution_count": null,
   "id": "654abd74",
   "metadata": {},
   "outputs": [],
   "source": []
  },
  {
   "cell_type": "code",
   "execution_count": null,
   "id": "93c1cc8c",
   "metadata": {},
   "outputs": [],
   "source": []
  },
  {
   "cell_type": "markdown",
   "id": "6d2ee464",
   "metadata": {},
   "source": [
    "## Load from consolidated UK Brazil on bigquery"
   ]
  },
  {
   "cell_type": "code",
   "execution_count": 25,
   "id": "04aeb0b1",
   "metadata": {
    "ExecuteTime": {
     "end_time": "2022-07-07T15:35:58.073723Z",
     "start_time": "2022-07-07T15:35:58.066547Z"
    }
   },
   "outputs": [
    {
     "name": "stdout",
     "output_type": "stream",
     "text": [
      "The google.cloud.bigquery extension is already loaded. To reload it, use:\n",
      "  %reload_ext google.cloud.bigquery\n"
     ]
    }
   ],
   "source": [
    "%load_ext google.cloud.bigquery\n",
    "os.environ['GOOGLE_APPLICATION_CREDENTIALS'] = '../molten-kit-354506-57defdcd41ff.json'"
   ]
  },
  {
   "cell_type": "code",
   "execution_count": 32,
   "id": "4cc7781c",
   "metadata": {
    "ExecuteTime": {
     "end_time": "2022-07-07T15:41:04.279180Z",
     "start_time": "2022-07-07T15:41:02.119579Z"
    }
   },
   "outputs": [
    {
     "name": "stderr",
     "output_type": "stream",
     "text": [
      "Query complete after 0.00s: 100%|█████████████| 1/1 [00:00<00:00, 176.87query/s]\n",
      "Downloading: 100%|██████████████████████| 2511/2511 [00:01<00:00, 2033.01rows/s]\n"
     ]
    }
   ],
   "source": [
    "%%bigquery df_uk_occ\n",
    "SELECT\n",
    "    *\n",
    "FROM `molten-kit-354506.sample_gbif_climate.consolidated_UK_2022`"
   ]
  },
  {
   "cell_type": "code",
   "execution_count": 33,
   "id": "038de7a8",
   "metadata": {
    "ExecuteTime": {
     "end_time": "2022-07-07T15:41:09.437850Z",
     "start_time": "2022-07-07T15:41:07.712402Z"
    }
   },
   "outputs": [
    {
     "name": "stderr",
     "output_type": "stream",
     "text": [
      "Query complete after 0.00s: 100%|█████████████| 1/1 [00:00<00:00, 460.15query/s]\n",
      "Downloading: 100%|█████████████████████████| 198/198 [00:01<00:00, 183.37rows/s]\n"
     ]
    }
   ],
   "source": [
    "%%bigquery df_br_occ\n",
    "SELECT\n",
    "    *\n",
    "FROM `molten-kit-354506.sample_gbif_climate.consolidated_BZ_2022`"
   ]
  },
  {
   "cell_type": "code",
   "execution_count": 34,
   "id": "b4a9987c",
   "metadata": {
    "ExecuteTime": {
     "end_time": "2022-07-07T15:41:10.411387Z",
     "start_time": "2022-07-07T15:41:10.374239Z"
    }
   },
   "outputs": [
    {
     "data": {
      "text/html": [
       "<div>\n",
       "<style scoped>\n",
       "    .dataframe tbody tr th:only-of-type {\n",
       "        vertical-align: middle;\n",
       "    }\n",
       "\n",
       "    .dataframe tbody tr th {\n",
       "        vertical-align: top;\n",
       "    }\n",
       "\n",
       "    .dataframe thead th {\n",
       "        text-align: right;\n",
       "    }\n",
       "</style>\n",
       "<table border=\"1\" class=\"dataframe\">\n",
       "  <thead>\n",
       "    <tr style=\"text-align: right;\">\n",
       "      <th></th>\n",
       "      <th>closest_station</th>\n",
       "      <th>species</th>\n",
       "      <th>speciesKey</th>\n",
       "      <th>scientificName</th>\n",
       "      <th>decimalLatitude</th>\n",
       "      <th>decimalLongitude</th>\n",
       "      <th>coordinateUncertaintyInMeters</th>\n",
       "      <th>countryCode</th>\n",
       "      <th>year</th>\n",
       "      <th>month</th>\n",
       "      <th>...</th>\n",
       "      <th>station_lat_deg</th>\n",
       "      <th>station_lon_deg</th>\n",
       "      <th>altitude</th>\n",
       "      <th>mean_air_temp_C</th>\n",
       "      <th>mean_dew_point</th>\n",
       "      <th>wind_speed_mps</th>\n",
       "      <th>wind_direction_deg</th>\n",
       "      <th>sea_level_pressure_hPa</th>\n",
       "      <th>visibility_m</th>\n",
       "      <th>last_temp_recorded_days</th>\n",
       "    </tr>\n",
       "  </thead>\n",
       "  <tbody>\n",
       "    <tr>\n",
       "      <th>0</th>\n",
       "      <td>Rhyl</td>\n",
       "      <td>Branta canadensis</td>\n",
       "      <td>5232437</td>\n",
       "      <td>Branta canadensis (Linnaeus, 1758)</td>\n",
       "      <td>53.278920</td>\n",
       "      <td>-3.805963</td>\n",
       "      <td>190</td>\n",
       "      <td>GB</td>\n",
       "      <td>2022</td>\n",
       "      <td>3</td>\n",
       "      <td>...</td>\n",
       "      <td>53.25</td>\n",
       "      <td>-3.50</td>\n",
       "      <td>76.0</td>\n",
       "      <td>6.73157894736842</td>\n",
       "      <td>3.23157894736842</td>\n",
       "      <td>4.53684210526316</td>\n",
       "      <td>218.421052631579</td>\n",
       "      <td>1020.55263157895</td>\n",
       "      <td>37789.4736842105</td>\n",
       "      <td>0</td>\n",
       "    </tr>\n",
       "    <tr>\n",
       "      <th>1</th>\n",
       "      <td>Rhyl</td>\n",
       "      <td>Branta canadensis</td>\n",
       "      <td>5232437</td>\n",
       "      <td>Branta canadensis (Linnaeus, 1758)</td>\n",
       "      <td>53.278617</td>\n",
       "      <td>-3.803989</td>\n",
       "      <td>2</td>\n",
       "      <td>GB</td>\n",
       "      <td>2022</td>\n",
       "      <td>3</td>\n",
       "      <td>...</td>\n",
       "      <td>53.25</td>\n",
       "      <td>-3.50</td>\n",
       "      <td>76.0</td>\n",
       "      <td>9.60434782608696</td>\n",
       "      <td>7.02608695652174</td>\n",
       "      <td>1.89130434782609</td>\n",
       "      <td>231.739130434783</td>\n",
       "      <td>1022.60869565217</td>\n",
       "      <td>NA</td>\n",
       "      <td>0</td>\n",
       "    </tr>\n",
       "    <tr>\n",
       "      <th>2</th>\n",
       "      <td>Culdrose</td>\n",
       "      <td>Branta canadensis</td>\n",
       "      <td>5232437</td>\n",
       "      <td>Branta canadensis (Linnaeus, 1758)</td>\n",
       "      <td>50.157655</td>\n",
       "      <td>-5.126466</td>\n",
       "      <td>213</td>\n",
       "      <td>GB</td>\n",
       "      <td>2022</td>\n",
       "      <td>3</td>\n",
       "      <td>...</td>\n",
       "      <td>50.08</td>\n",
       "      <td>-5.25</td>\n",
       "      <td>84.0</td>\n",
       "      <td>9.58888888888889</td>\n",
       "      <td>8.7</td>\n",
       "      <td>7.56111111111111</td>\n",
       "      <td>70.5555555555556</td>\n",
       "      <td>1018.58333333333</td>\n",
       "      <td>2911.11111111111</td>\n",
       "      <td>0</td>\n",
       "    </tr>\n",
       "    <tr>\n",
       "      <th>3</th>\n",
       "      <td>Cranwell</td>\n",
       "      <td>Branta canadensis</td>\n",
       "      <td>5232437</td>\n",
       "      <td>Branta canadensis (Linnaeus, 1758)</td>\n",
       "      <td>52.650413</td>\n",
       "      <td>-0.696958</td>\n",
       "      <td>70.7</td>\n",
       "      <td>GB</td>\n",
       "      <td>2022</td>\n",
       "      <td>3</td>\n",
       "      <td>...</td>\n",
       "      <td>53.03</td>\n",
       "      <td>-0.50</td>\n",
       "      <td>62.0</td>\n",
       "      <td>7.49166666666667</td>\n",
       "      <td>2.75833333333333</td>\n",
       "      <td>5.27916666666667</td>\n",
       "      <td>239.166666666667</td>\n",
       "      <td>1021.225</td>\n",
       "      <td>47833.4444444444</td>\n",
       "      <td>0</td>\n",
       "    </tr>\n",
       "    <tr>\n",
       "      <th>4</th>\n",
       "      <td>Cranwell</td>\n",
       "      <td>Branta canadensis</td>\n",
       "      <td>5232437</td>\n",
       "      <td>Branta canadensis (Linnaeus, 1758)</td>\n",
       "      <td>52.643223</td>\n",
       "      <td>-0.697172</td>\n",
       "      <td>70.7</td>\n",
       "      <td>GB</td>\n",
       "      <td>2022</td>\n",
       "      <td>3</td>\n",
       "      <td>...</td>\n",
       "      <td>53.03</td>\n",
       "      <td>-0.50</td>\n",
       "      <td>62.0</td>\n",
       "      <td>7.49166666666667</td>\n",
       "      <td>2.75833333333333</td>\n",
       "      <td>5.27916666666667</td>\n",
       "      <td>239.166666666667</td>\n",
       "      <td>1021.225</td>\n",
       "      <td>47833.4444444444</td>\n",
       "      <td>0</td>\n",
       "    </tr>\n",
       "    <tr>\n",
       "      <th>...</th>\n",
       "      <td>...</td>\n",
       "      <td>...</td>\n",
       "      <td>...</td>\n",
       "      <td>...</td>\n",
       "      <td>...</td>\n",
       "      <td>...</td>\n",
       "      <td>...</td>\n",
       "      <td>...</td>\n",
       "      <td>...</td>\n",
       "      <td>...</td>\n",
       "      <td>...</td>\n",
       "      <td>...</td>\n",
       "      <td>...</td>\n",
       "      <td>...</td>\n",
       "      <td>...</td>\n",
       "      <td>...</td>\n",
       "      <td>...</td>\n",
       "      <td>...</td>\n",
       "      <td>...</td>\n",
       "      <td>...</td>\n",
       "      <td>...</td>\n",
       "    </tr>\n",
       "    <tr>\n",
       "      <th>2506</th>\n",
       "      <td>Edinburgh Gogarbank</td>\n",
       "      <td>Phoca vitulina</td>\n",
       "      <td>2434793</td>\n",
       "      <td>Phoca vitulina Linnaeus, 1758</td>\n",
       "      <td>55.977520</td>\n",
       "      <td>-3.146340</td>\n",
       "      <td>50</td>\n",
       "      <td>GB</td>\n",
       "      <td>2022</td>\n",
       "      <td>5</td>\n",
       "      <td>...</td>\n",
       "      <td>55.93</td>\n",
       "      <td>-3.35</td>\n",
       "      <td>57.0</td>\n",
       "      <td>9.54583333333333</td>\n",
       "      <td>7.2625</td>\n",
       "      <td>2.1</td>\n",
       "      <td>138.333333333333</td>\n",
       "      <td>1020.49166666667</td>\n",
       "      <td>18000</td>\n",
       "      <td>0</td>\n",
       "    </tr>\n",
       "    <tr>\n",
       "      <th>2507</th>\n",
       "      <td>Saint Bees Head</td>\n",
       "      <td>Phoca vitulina</td>\n",
       "      <td>2434793</td>\n",
       "      <td>Phoca vitulina Linnaeus, 1758</td>\n",
       "      <td>54.400000</td>\n",
       "      <td>-3.400000</td>\n",
       "      <td>7071.1</td>\n",
       "      <td>GB</td>\n",
       "      <td>2022</td>\n",
       "      <td>3</td>\n",
       "      <td>...</td>\n",
       "      <td>54.52</td>\n",
       "      <td>-3.60</td>\n",
       "      <td>123.0</td>\n",
       "      <td>5.12083333333333</td>\n",
       "      <td>0.2875</td>\n",
       "      <td>12.525</td>\n",
       "      <td>143.75</td>\n",
       "      <td>1009.45</td>\n",
       "      <td>13379.1666666667</td>\n",
       "      <td>0</td>\n",
       "    </tr>\n",
       "    <tr>\n",
       "      <th>2508</th>\n",
       "      <td>Tulloch Bridge</td>\n",
       "      <td>Phoca vitulina</td>\n",
       "      <td>2434793</td>\n",
       "      <td>Phoca vitulina Linnaeus, 1758</td>\n",
       "      <td>56.416857</td>\n",
       "      <td>-5.474380</td>\n",
       "      <td>7</td>\n",
       "      <td>GB</td>\n",
       "      <td>2022</td>\n",
       "      <td>1</td>\n",
       "      <td>...</td>\n",
       "      <td>56.87</td>\n",
       "      <td>-4.70</td>\n",
       "      <td>249.0</td>\n",
       "      <td>-0.3375</td>\n",
       "      <td>-1.02083333333333</td>\n",
       "      <td>1.72916666666667</td>\n",
       "      <td>252.083333333333</td>\n",
       "      <td>1000.70416666667</td>\n",
       "      <td>22266.6666666667</td>\n",
       "      <td>0</td>\n",
       "    </tr>\n",
       "    <tr>\n",
       "      <th>2509</th>\n",
       "      <td>Saint Catherine's Point</td>\n",
       "      <td>Phoca vitulina</td>\n",
       "      <td>2434793</td>\n",
       "      <td>Phoca vitulina Linnaeus, 1758</td>\n",
       "      <td>50.752862</td>\n",
       "      <td>-1.363461</td>\n",
       "      <td>7071.1</td>\n",
       "      <td>GB</td>\n",
       "      <td>2022</td>\n",
       "      <td>2</td>\n",
       "      <td>...</td>\n",
       "      <td>50.58</td>\n",
       "      <td>-1.30</td>\n",
       "      <td>24.0</td>\n",
       "      <td>7.8625</td>\n",
       "      <td>5.4875</td>\n",
       "      <td>6.14583333333333</td>\n",
       "      <td>275.833333333333</td>\n",
       "      <td>1026.9375</td>\n",
       "      <td>NA</td>\n",
       "      <td>0</td>\n",
       "    </tr>\n",
       "    <tr>\n",
       "      <th>2510</th>\n",
       "      <td>Lerwick</td>\n",
       "      <td>Phoca vitulina</td>\n",
       "      <td>2434793</td>\n",
       "      <td>Phoca vitulina Linnaeus, 1758</td>\n",
       "      <td>59.853368</td>\n",
       "      <td>-1.274840</td>\n",
       "      <td>280</td>\n",
       "      <td>GB</td>\n",
       "      <td>2022</td>\n",
       "      <td>4</td>\n",
       "      <td>...</td>\n",
       "      <td>60.13</td>\n",
       "      <td>-1.18</td>\n",
       "      <td>84.0</td>\n",
       "      <td>5.27391304347826</td>\n",
       "      <td>2.28260869565217</td>\n",
       "      <td>8.28260869565217</td>\n",
       "      <td>124.347826086957</td>\n",
       "      <td>1014.48695652174</td>\n",
       "      <td>24695.652173913</td>\n",
       "      <td>0</td>\n",
       "    </tr>\n",
       "  </tbody>\n",
       "</table>\n",
       "<p>2511 rows × 25 columns</p>\n",
       "</div>"
      ],
      "text/plain": [
       "               closest_station            species  speciesKey  \\\n",
       "0                        Rhyl   Branta canadensis     5232437   \n",
       "1                        Rhyl   Branta canadensis     5232437   \n",
       "2                    Culdrose   Branta canadensis     5232437   \n",
       "3                    Cranwell   Branta canadensis     5232437   \n",
       "4                    Cranwell   Branta canadensis     5232437   \n",
       "...                        ...                ...         ...   \n",
       "2506      Edinburgh Gogarbank      Phoca vitulina     2434793   \n",
       "2507          Saint Bees Head      Phoca vitulina     2434793   \n",
       "2508           Tulloch Bridge      Phoca vitulina     2434793   \n",
       "2509  Saint Catherine's Point      Phoca vitulina     2434793   \n",
       "2510                  Lerwick      Phoca vitulina     2434793   \n",
       "\n",
       "                          scientificName  decimalLatitude  decimalLongitude  \\\n",
       "0     Branta canadensis (Linnaeus, 1758)        53.278920         -3.805963   \n",
       "1     Branta canadensis (Linnaeus, 1758)        53.278617         -3.803989   \n",
       "2     Branta canadensis (Linnaeus, 1758)        50.157655         -5.126466   \n",
       "3     Branta canadensis (Linnaeus, 1758)        52.650413         -0.696958   \n",
       "4     Branta canadensis (Linnaeus, 1758)        52.643223         -0.697172   \n",
       "...                                  ...              ...               ...   \n",
       "2506       Phoca vitulina Linnaeus, 1758        55.977520         -3.146340   \n",
       "2507       Phoca vitulina Linnaeus, 1758        54.400000         -3.400000   \n",
       "2508       Phoca vitulina Linnaeus, 1758        56.416857         -5.474380   \n",
       "2509       Phoca vitulina Linnaeus, 1758        50.752862         -1.363461   \n",
       "2510       Phoca vitulina Linnaeus, 1758        59.853368         -1.274840   \n",
       "\n",
       "     coordinateUncertaintyInMeters countryCode  year  month  ...  \\\n",
       "0                              190          GB  2022      3  ...   \n",
       "1                                2          GB  2022      3  ...   \n",
       "2                              213          GB  2022      3  ...   \n",
       "3                             70.7          GB  2022      3  ...   \n",
       "4                             70.7          GB  2022      3  ...   \n",
       "...                            ...         ...   ...    ...  ...   \n",
       "2506                            50          GB  2022      5  ...   \n",
       "2507                        7071.1          GB  2022      3  ...   \n",
       "2508                             7          GB  2022      1  ...   \n",
       "2509                        7071.1          GB  2022      2  ...   \n",
       "2510                           280          GB  2022      4  ...   \n",
       "\n",
       "      station_lat_deg station_lon_deg altitude   mean_air_temp_C  \\\n",
       "0               53.25           -3.50     76.0  6.73157894736842   \n",
       "1               53.25           -3.50     76.0  9.60434782608696   \n",
       "2               50.08           -5.25     84.0  9.58888888888889   \n",
       "3               53.03           -0.50     62.0  7.49166666666667   \n",
       "4               53.03           -0.50     62.0  7.49166666666667   \n",
       "...               ...             ...      ...               ...   \n",
       "2506            55.93           -3.35     57.0  9.54583333333333   \n",
       "2507            54.52           -3.60    123.0  5.12083333333333   \n",
       "2508            56.87           -4.70    249.0           -0.3375   \n",
       "2509            50.58           -1.30     24.0            7.8625   \n",
       "2510            60.13           -1.18     84.0  5.27391304347826   \n",
       "\n",
       "         mean_dew_point    wind_speed_mps  wind_direction_deg  \\\n",
       "0      3.23157894736842  4.53684210526316    218.421052631579   \n",
       "1      7.02608695652174  1.89130434782609    231.739130434783   \n",
       "2                   8.7  7.56111111111111    70.5555555555556   \n",
       "3      2.75833333333333  5.27916666666667    239.166666666667   \n",
       "4      2.75833333333333  5.27916666666667    239.166666666667   \n",
       "...                 ...               ...                 ...   \n",
       "2506             7.2625               2.1    138.333333333333   \n",
       "2507             0.2875            12.525              143.75   \n",
       "2508  -1.02083333333333  1.72916666666667    252.083333333333   \n",
       "2509             5.4875  6.14583333333333    275.833333333333   \n",
       "2510   2.28260869565217  8.28260869565217    124.347826086957   \n",
       "\n",
       "      sea_level_pressure_hPa      visibility_m last_temp_recorded_days  \n",
       "0           1020.55263157895  37789.4736842105                       0  \n",
       "1           1022.60869565217                NA                       0  \n",
       "2           1018.58333333333  2911.11111111111                       0  \n",
       "3                   1021.225  47833.4444444444                       0  \n",
       "4                   1021.225  47833.4444444444                       0  \n",
       "...                      ...               ...                     ...  \n",
       "2506        1020.49166666667             18000                       0  \n",
       "2507                 1009.45  13379.1666666667                       0  \n",
       "2508        1000.70416666667  22266.6666666667                       0  \n",
       "2509               1026.9375                NA                       0  \n",
       "2510        1014.48695652174   24695.652173913                       0  \n",
       "\n",
       "[2511 rows x 25 columns]"
      ]
     },
     "execution_count": 34,
     "metadata": {},
     "output_type": "execute_result"
    }
   ],
   "source": [
    "df_uk_occ"
   ]
  },
  {
   "cell_type": "code",
   "execution_count": 41,
   "id": "bd453bba",
   "metadata": {
    "ExecuteTime": {
     "end_time": "2022-07-07T16:00:12.570782Z",
     "start_time": "2022-07-07T15:46:18.277521Z"
    }
   },
   "outputs": [],
   "source": [
    "df_uk_occ['date'] = df_uk_occ['eventDate'].astype(str).str[:10]\n",
    "df_uk_occ['invasive'] = df_uk_occ[['countryCode','scientificName']].\\\n",
    "                    apply(lambda x: True if x['scientificName'] in inv_dict[x['countryCode']] else False\n",
    "                          , axis=1)\n",
    "\n",
    "df_uk_occ['avg_radiance'] = df_uk_occ[['decimalLatitude',\n",
    "                                     'decimalLongitude',\n",
    "                                     'date']].\\\n",
    "                                    apply(lambda x: hum_int.get_avg_radiance(x.decimalLatitude,\n",
    "                                                                        x.decimalLongitude,\n",
    "                                                                       x.date),\n",
    "                                         axis=1)\n",
    "\n",
    "df_uk_occ['avg_deg_urban'] = df_uk_occ[['decimalLatitude',\n",
    "                                      'decimalLongitude']].\\\n",
    "                                    apply(lambda x: hum_int.get_avg_deg_urban(x['decimalLatitude'],\n",
    "                                                                        x['decimalLongitude']),\n",
    "                                         axis=1)\n",
    "df_uk_occ = df_uk_occ.drop('date', axis=1)"
   ]
  },
  {
   "cell_type": "code",
   "execution_count": 38,
   "id": "d8266a32",
   "metadata": {
    "ExecuteTime": {
     "end_time": "2022-07-07T15:44:09.949003Z",
     "start_time": "2022-07-07T15:43:02.669035Z"
    }
   },
   "outputs": [],
   "source": [
    "df_br_occ['date'] = df_br_occ['eventDate'].astype(str).str[:10]\n",
    "df_br_occ['invasive'] = df_br_occ[['countryCode','scientificName']].\\\n",
    "                    apply(lambda x: True if x['scientificName'] in inv_dict[x['countryCode']] else False\n",
    "                          , axis=1)\n",
    "\n",
    "df_br_occ['avg_radiance'] = df_br_occ[['decimalLatitude',\n",
    "                                     'decimalLongitude',\n",
    "                                     'date']].\\\n",
    "                                    apply(lambda x: hum_int.get_avg_radiance(x.decimalLatitude,\n",
    "                                                                        x.decimalLongitude,\n",
    "                                                                       x.date),\n",
    "                                         axis=1)\n",
    "\n",
    "df_br_occ['avg_deg_urban'] = df_br_occ[['decimalLatitude',\n",
    "                                      'decimalLongitude']].\\\n",
    "                                    apply(lambda x: hum_int.get_avg_deg_urban(x['decimalLatitude'],\n",
    "                                                                        x['decimalLongitude']),\n",
    "                                         axis=1)\n",
    "df_br_occ = df_br_occ.drop('date', axis=1)"
   ]
  },
  {
   "cell_type": "code",
   "execution_count": 43,
   "id": "23aadfed",
   "metadata": {
    "ExecuteTime": {
     "end_time": "2022-07-07T16:14:52.179564Z",
     "start_time": "2022-07-07T16:14:52.172966Z"
    }
   },
   "outputs": [],
   "source": [
    "cols = ['scientificName', 'decimalLatitude', 'decimalLongitude', \n",
    "       'countryCode', 'eventDate', 'invasive', 'avg_radiance', 'avg_deg_urban']"
   ]
  },
  {
   "cell_type": "code",
   "execution_count": 44,
   "id": "178989aa",
   "metadata": {
    "ExecuteTime": {
     "end_time": "2022-07-07T16:15:02.452202Z",
     "start_time": "2022-07-07T16:15:02.428485Z"
    }
   },
   "outputs": [],
   "source": [
    "df_br_occ[cols].to_csv('gbif_human_BR_2022.csv', index=False)"
   ]
  },
  {
   "cell_type": "code",
   "execution_count": 45,
   "id": "338019d0",
   "metadata": {
    "ExecuteTime": {
     "end_time": "2022-07-07T16:15:02.977183Z",
     "start_time": "2022-07-07T16:15:02.927329Z"
    }
   },
   "outputs": [],
   "source": [
    "df_uk_occ[cols].to_csv('gbif_human_UK_2022.csv', index=False)"
   ]
  },
  {
   "cell_type": "code",
   "execution_count": null,
   "id": "252ea686",
   "metadata": {},
   "outputs": [],
   "source": []
  }
 ],
 "metadata": {
  "kernelspec": {
   "display_name": "Python 3 (ipykernel)",
   "language": "python",
   "name": "python3"
  },
  "language_info": {
   "codemirror_mode": {
    "name": "ipython",
    "version": 3
   },
   "file_extension": ".py",
   "mimetype": "text/x-python",
   "name": "python",
   "nbconvert_exporter": "python",
   "pygments_lexer": "ipython3",
   "version": "3.8.13"
  }
 },
 "nbformat": 4,
 "nbformat_minor": 5
}
