{
 "cells": [
  {
   "cell_type": "markdown",
   "id": "cdd9a998",
   "metadata": {},
   "source": [
    "# Join data GBIF & Human Interference"
   ]
  },
  {
   "cell_type": "code",
   "execution_count": 3,
   "id": "35e6bd98",
   "metadata": {
    "ExecuteTime": {
     "end_time": "2022-07-03T00:27:07.192668Z",
     "start_time": "2022-07-03T00:27:06.566699Z"
    }
   },
   "outputs": [],
   "source": [
    "import pandas as pd\n",
    "from pygbif import species as species\n",
    "from pygbif import occurrences as occ\n",
    "from human_interference import HumanInterference"
   ]
  },
  {
   "cell_type": "code",
   "execution_count": 4,
   "id": "7c50a132",
   "metadata": {
    "ExecuteTime": {
     "end_time": "2022-07-03T00:27:16.009110Z",
     "start_time": "2022-07-03T00:27:14.290397Z"
    }
   },
   "outputs": [],
   "source": [
    "df_inv = pd.read_csv('../data/invasive_species.csv')\n",
    "df_inv = df_inv[df_inv.invasiveness == 'Invasive'].copy()\n",
    "hum_int = HumanInterference()"
   ]
  },
  {
   "cell_type": "code",
   "execution_count": 4,
   "id": "fc6bbed7",
   "metadata": {
    "ExecuteTime": {
     "end_time": "2022-07-02T23:23:49.239900Z",
     "start_time": "2022-07-02T23:23:49.224078Z"
    }
   },
   "outputs": [],
   "source": [
    "years = [2021, 2022]\n",
    "brazil_species = ['Chrysocyon brachyurus', 'Callithrix jacchus',\n",
    "                  'Euphractus sexcinctus', 'Nasua nasua',\n",
    "                  'Hydrochoerus hydrochaeris']\n",
    "uk_species = ['Erinaceus roumanicus', 'Vulpes vulpes',\n",
    "             'Phoca vitulina', 'Lutra lutra',\n",
    "             'Branta canadensis']\n",
    "\n",
    "cols_of_interest = ['key', 'publishingCountry', 'basisOfRecord', 'scientificName',\n",
    "                    'species', 'genericName', 'iucnRedListCategory',\n",
    "                    'decimalLongitude', 'decimalLatitude', 'coordinateUncertaintyInMeters',\n",
    "                    'eventDate', 'recordedBy', 'country', 'countryCode'] \n",
    "    \n",
    "inv_dict = { 'BR': list(set(df_inv[df_inv.countryCode=='BRA'].scientificName.to_list())),\n",
    "            'GB': list(set(df_inv[df_inv.countryCode=='GBR'].scientificName.to_list())) }"
   ]
  },
  {
   "cell_type": "code",
   "execution_count": 5,
   "id": "f8d72a9d",
   "metadata": {
    "ExecuteTime": {
     "end_time": "2022-07-02T23:25:42.204140Z",
     "start_time": "2022-07-02T23:23:51.814387Z"
    }
   },
   "outputs": [],
   "source": [
    "df_brazil = pd.DataFrame()\n",
    "for year in years:\n",
    "    for obs in brazil_species:\n",
    "        temp = pd.DataFrame(occ.search(scientificName = obs, country='BR', limit=300, \n",
    "                    basisOfRecord='HUMAN_OBSERVATION',\n",
    "                    year = year)['results'])\n",
    "        df_brazil = pd.concat([df_brazil, temp])\n",
    "\n",
    "df_uk = pd.DataFrame()\n",
    "for year in years:\n",
    "    for obs in uk_species:\n",
    "        temp = pd.DataFrame(occ.search(scientificName = obs, country='GB', limit=300, \n",
    "                    basisOfRecord='HUMAN_OBSERVATION',\n",
    "                    year = year,\n",
    "                    hasGeospatialIssue= False )['results'])\n",
    "        df_uk = pd.concat([df_uk, temp])"
   ]
  },
  {
   "cell_type": "code",
   "execution_count": 6,
   "id": "ce8c353e",
   "metadata": {
    "ExecuteTime": {
     "end_time": "2022-07-02T23:25:42.263268Z",
     "start_time": "2022-07-02T23:25:42.205766Z"
    },
    "scrolled": true
   },
   "outputs": [],
   "source": [
    "df_brazil = df_brazil[cols_of_interest].copy()\n",
    "df_uk = df_uk[cols_of_interest].copy()\n",
    "df_world = pd.concat([df_brazil,df_uk])\n",
    "df_world['date'] = df_world['eventDate'].str[:10]\n",
    "df_world['invasive'] = df_world[['countryCode','scientificName']].\\\n",
    "                    apply(lambda x: True if x['scientificName'] in inv_dict[x['countryCode']] else False\n",
    "                          , axis=1)"
   ]
  },
  {
   "cell_type": "code",
   "execution_count": 8,
   "id": "522a022e",
   "metadata": {
    "ExecuteTime": {
     "end_time": "2022-07-02T23:44:58.641305Z",
     "start_time": "2022-07-02T23:26:51.826401Z"
    }
   },
   "outputs": [],
   "source": [
    "df_world['avg_radiance'] = df_world[['decimalLatitude',\n",
    "                                     'decimalLongitude',\n",
    "                                     'date']].\\\n",
    "                                    apply(lambda x: hum_int.get_avg_radiance(x.decimalLatitude,\n",
    "                                                                        x.decimalLongitude,\n",
    "                                                                       x.date),\n",
    "                                         axis=1)\n",
    "\n",
    "df_world['avg_deg_urban'] = df_world[['decimalLatitude',\n",
    "                                      'decimalLongitude']].\\\n",
    "                                    apply(lambda x: hum_int.get_avg_deg_urban(x['decimalLatitude'],\n",
    "                                                                        x['decimalLongitude']),\n",
    "                                         axis=1)"
   ]
  },
  {
   "cell_type": "code",
   "execution_count": 10,
   "id": "ba671027",
   "metadata": {
    "ExecuteTime": {
     "end_time": "2022-07-02T23:47:09.609200Z",
     "start_time": "2022-07-02T23:47:09.538949Z"
    }
   },
   "outputs": [],
   "source": [
    "df_world.to_csv('human_interference_sample.csv', index=False)"
   ]
  },
  {
   "cell_type": "code",
   "execution_count": null,
   "id": "47184edf",
   "metadata": {},
   "outputs": [],
   "source": []
  },
  {
   "cell_type": "code",
   "execution_count": null,
   "id": "7b8b1767",
   "metadata": {},
   "outputs": [],
   "source": []
  },
  {
   "cell_type": "code",
   "execution_count": null,
   "id": "04aeb0b1",
   "metadata": {},
   "outputs": [],
   "source": []
  }
 ],
 "metadata": {
  "kernelspec": {
   "display_name": "Python 3 (ipykernel)",
   "language": "python",
   "name": "python3"
  },
  "language_info": {
   "codemirror_mode": {
    "name": "ipython",
    "version": 3
   },
   "file_extension": ".py",
   "mimetype": "text/x-python",
   "name": "python",
   "nbconvert_exporter": "python",
   "pygments_lexer": "ipython3",
   "version": "3.8.13"
  }
 },
 "nbformat": 4,
 "nbformat_minor": 5
}
