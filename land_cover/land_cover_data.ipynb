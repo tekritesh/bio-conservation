{
 "cells": [
  {
   "cell_type": "markdown",
   "metadata": {},
   "source": [
    "## Data Provenance \n",
    "\n",
    "1. Where is the data from?\n",
    "    - The data is from Google's Dynamic World (https://developers.google.com/earth-engine/datasets/catalog/GOOGLE_DYNAMICWORLD_V1)\n",
    "    \n",
    "2. Is it reliable? (partially subjective)\n",
    "    - Yes, one of the most up-to-date data on landcover with the highest resolution with data cleaning and pre-processing already done\n",
    "    \n",
    "## Time measures\n",
    "\n",
    "1. Time range of the dataset\n",
    "    - 2015-06-23T00:00:00Z - 2022-06-24T00:00:00\n",
    "    \n",
    "2. Granularity (Weekly, Monthly, Aperiodic, Daily, Timestamp)\n",
    "    - Frequency of update is 2-5 days depending on the lat, long\n",
    "    \n",
    "## Location\n",
    "\n",
    "1. Is it available for the UK, Brazil/India?\n",
    "   - Yes\n",
    "\n",
    "2. Granularity (is it a pin point location?, Rounded coordinates?...)\n",
    "   - 10m resolution\n",
    "   \n",
    "3. Format (shape files, lat long, geographical code)\n",
    "    - Satellite imagery encoded with lat, long data\n",
    "    \n",
    "## Data Gaps and size\n",
    "\n",
    "1. Size of the data\n",
    "    - Not sure of exact size but it is lot of data to be downloaded entirely, we need to subset by space and time\n",
    "    \n",
    "2. Available columns and columns of interest\n",
    "    - The dataset provides following labels\n",
    "    \n",
    "        Name\t              Min\t Max\tDescription\n",
    "        \n",
    "        \n",
    "        water\t               0\t 1\t    Estimated probability of complete coverage by water\n",
    "        \n",
    "\n",
    "        trees\t               0\t 1\t    Estimated probability of complete coverage by trees\n",
    "        \n",
    "\n",
    "        grass\t               0\t 1\t    Estimated probability of complete coverage by grass\n",
    "        \n",
    "    \n",
    "        flooded_vegetation\t   0\t 1\t    Estimated probability of complete coverage by flooded vegetation\n",
    "        \n",
    "\n",
    "        crops\t               0\t 1\t    Estimated probability of complete coverage by crops\n",
    "\n",
    "        shrub_and_scrub\t       0\t 1\t    Estimated probability of complete coverage by shrub and scrub\n",
    "\n",
    "        built\t               0\t 1\t    Estimated probability of complete coverage by built\n",
    "\n",
    "        bare\t               0\t 1\t    Estimated probability of complete coverage by bare\n",
    "\n",
    "        snow_and_ice\t       0\t 1\t    Estimated probability of complete coverage by snow and ice\n",
    "\n",
    "        label\t               0\t 8\t    Index of the band with the highest estimated probability\n",
    "        \n",
    "3. Missing data (amount and years/locations missing)\n",
    "    - N/A\n",
    "\n",
    "4. Nulls or Nans\n",
    "    - N/A\n",
    "\n",
    "5. Primary key\n",
    "   - Lat/Long/Time\n",
    "   \n",
    "6. Columns to join on\n",
    "   - Lat/Long/Time\n",
    "   \n",
    "7. Any additional fields\n",
    "    - N/A\n",
    "    \n",
    "## Ease of access\n",
    "\n",
    "1. Is there a free to use license?\n",
    "    - Yes\n",
    "\n",
    "2. How is data accessed? (API, download)\n",
    "    - Through Earth Engine library (javascript and phython support)\n",
    "    \n",
    "3. Is the documentation straightforward?\n",
    "    - Javascript examples are rich, python not so much\n",
    "    \n",
    "4. Any limits on how much data we can download?\n",
    "    - No\n"
   ]
  },
  {
   "cell_type": "code",
   "execution_count": 1,
   "metadata": {},
   "outputs": [],
   "source": [
    "import ee\n",
    "import geemap"
   ]
  },
  {
   "cell_type": "code",
   "execution_count": 2,
   "metadata": {},
   "outputs": [
    {
     "data": {
      "application/vnd.jupyter.widget-view+json": {
       "model_id": "8823efba821e4a11b9ed7f7804c04579",
       "version_major": 2,
       "version_minor": 0
      },
      "text/plain": [
       "Map(center=[20, 0], controls=(WidgetControl(options=['position', 'transparent_bg'], widget=HBox(children=(Togg…"
      ]
     },
     "metadata": {},
     "output_type": "display_data"
    }
   ],
   "source": [
    "Map = geemap.Map()\n",
    "Map.add_basemap('HYBRID')\n",
    "Map"
   ]
  },
  {
   "cell_type": "code",
   "execution_count": 3,
   "metadata": {},
   "outputs": [],
   "source": [
    "# Set the region of interest by simply drawing a polygon on the map\n",
    "region = Map.user_roi\n",
    "if region is None:\n",
    "    region = ee.Geometry.BBox(-43.40678683735475, -22.977088536079737, -43.4040048161822, -22.984520667299844, )\n",
    "\n",
    "Map.centerObject(region)"
   ]
  },
  {
   "cell_type": "code",
   "execution_count": 4,
   "metadata": {},
   "outputs": [],
   "source": [
    "# Set the date range\n",
    "start_date = '2021-01-01'\n",
    "end_date = '2022-01-01'"
   ]
  },
  {
   "cell_type": "code",
   "execution_count": 12,
   "metadata": {},
   "outputs": [],
   "source": [
    "# Create a Sentinel-2 image composite\n",
    "image = geemap.dynamic_world_s2(region, start_date, end_date)\n",
    "vis_params = {'bands': ['B4', 'B3', 'B2'], 'min': 0, 'max': 3000}\n",
    "Map.addLayer(image, vis_params, 'Sentinel-2 image')"
   ]
  },
  {
   "cell_type": "code",
   "execution_count": 6,
   "metadata": {},
   "outputs": [],
   "source": [
    "# Create Dynamic World land cover composite\n",
    "landcover = geemap.dynamic_world(region, start_date, end_date, return_type='hillshade')\n",
    "Map.addLayer(landcover, {}, 'Land Cover')"
   ]
  },
  {
   "cell_type": "code",
   "execution_count": 7,
   "metadata": {},
   "outputs": [
    {
     "data": {
      "application/vnd.jupyter.widget-view+json": {
       "model_id": "8823efba821e4a11b9ed7f7804c04579",
       "version_major": 2,
       "version_minor": 0
      },
      "text/plain": [
       "Map(bottom=148524.0, center=[-22.91792293614603, -43.06640625000001], controls=(WidgetControl(options=['positi…"
      ]
     },
     "metadata": {},
     "output_type": "display_data"
    }
   ],
   "source": [
    "# Add legend to the map\n",
    "Map.add_legend(title=\"Dynamic World Land Cover\", builtin_legend='Dynamic_World')\n",
    "Map"
   ]
  },
  {
   "cell_type": "code",
   "execution_count": 11,
   "metadata": {},
   "outputs": [
    {
     "data": {
      "text/plain": [
       "{'type': 'Image',\n",
       " 'bands': [{'id': 'vis-red',\n",
       "   'data_type': {'type': 'PixelType',\n",
       "    'precision': 'float',\n",
       "    'min': 0,\n",
       "    'max': 1},\n",
       "   'crs': 'EPSG:3857',\n",
       "   'crs_transform': [10, 0, 0, 0, 10, 0]},\n",
       "  {'id': 'vis-green',\n",
       "   'data_type': {'type': 'PixelType',\n",
       "    'precision': 'float',\n",
       "    'min': 0,\n",
       "    'max': 1},\n",
       "   'crs': 'EPSG:3857',\n",
       "   'crs_transform': [10, 0, 0, 0, 10, 0]},\n",
       "  {'id': 'vis-blue',\n",
       "   'data_type': {'type': 'PixelType',\n",
       "    'precision': 'float',\n",
       "    'min': 0,\n",
       "    'max': 1},\n",
       "   'crs': 'EPSG:3857',\n",
       "   'crs_transform': [10, 0, 0, 0, 10, 0]}]}"
      ]
     },
     "execution_count": 11,
     "metadata": {},
     "output_type": "execute_result"
    }
   ],
   "source": [
    "landcover.getInfo()"
   ]
  },
  {
   "cell_type": "code",
   "execution_count": 64,
   "metadata": {},
   "outputs": [],
   "source": [
    "t = image.select('B1')"
   ]
  },
  {
   "cell_type": "code",
   "execution_count": 105,
   "metadata": {},
   "outputs": [],
   "source": [
    "g = geemap.ee_to_numpy(image, 'B1', region, default_value=2)"
   ]
  },
  {
   "cell_type": "code",
   "execution_count": 106,
   "metadata": {},
   "outputs": [
    {
     "data": {
      "text/plain": [
       "array([[[None, None]]], dtype=object)"
      ]
     },
     "execution_count": 106,
     "metadata": {},
     "output_type": "execute_result"
    }
   ],
   "source": [
    "g"
   ]
  },
  {
   "cell_type": "code",
   "execution_count": 9,
   "metadata": {},
   "outputs": [],
   "source": [
    "region_point = ee.Geometry.Point(-43.19608028049068, -22.954356561829943)"
   ]
  },
  {
   "cell_type": "code",
   "execution_count": 10,
   "metadata": {},
   "outputs": [
    {
     "data": {
      "text/plain": [
       "ee.Geometry({\n",
       "  \"functionInvocationValue\": {\n",
       "    \"functionName\": \"GeometryConstructors.Point\",\n",
       "    \"arguments\": {\n",
       "      \"coordinates\": {\n",
       "        \"constantValue\": [\n",
       "          -43.19608028049068,\n",
       "          -22.954356561829943\n",
       "        ]\n",
       "      }\n",
       "    }\n",
       "  }\n",
       "})"
      ]
     },
     "execution_count": 10,
     "metadata": {},
     "output_type": "execute_result"
    }
   ],
   "source": [
    "region_point"
   ]
  },
  {
   "cell_type": "code",
   "execution_count": 11,
   "metadata": {},
   "outputs": [],
   "source": [
    "image_new = geemap.dynamic_world_s2(region_point, start_date, end_date)"
   ]
  },
  {
   "cell_type": "code",
   "execution_count": 12,
   "metadata": {},
   "outputs": [
    {
     "data": {
      "text/plain": [
       "<ee.image.Image at 0x7fd2694ba370>"
      ]
     },
     "execution_count": 12,
     "metadata": {},
     "output_type": "execute_result"
    }
   ],
   "source": [
    "image_new"
   ]
  },
  {
   "cell_type": "code",
   "execution_count": 13,
   "metadata": {},
   "outputs": [],
   "source": [
    "probabilityBands = [\n",
    "  'water', 'trees', 'grass', 'flooded_vegetation', 'crops', 'shrub_and_scrub',\n",
    "  'built', 'bare', 'snow_and_ice'\n",
    "];"
   ]
  },
  {
   "cell_type": "code",
   "execution_count": 14,
   "metadata": {},
   "outputs": [],
   "source": [
    "dwTimeSeries = image.select(probabilityBands);"
   ]
  },
  {
   "cell_type": "code",
   "execution_count": 15,
   "metadata": {},
   "outputs": [
    {
     "data": {
      "text/plain": [
       "<ee.image.Image at 0x7fd2694ba6d0>"
      ]
     },
     "execution_count": 15,
     "metadata": {},
     "output_type": "execute_result"
    }
   ],
   "source": [
    "dwTimeSeries"
   ]
  },
  {
   "cell_type": "code",
   "execution_count": 18,
   "metadata": {},
   "outputs": [],
   "source": [
    "scale = 1000  # scale in meters"
   ]
  },
  {
   "cell_type": "code",
   "execution_count": 28,
   "metadata": {},
   "outputs": [],
   "source": [
    "t = image_new.sample(region_point, scale).first().get('B1').getInfo()"
   ]
  },
  {
   "cell_type": "code",
   "execution_count": 29,
   "metadata": {},
   "outputs": [
    {
     "data": {
      "text/plain": [
       "1553.5"
      ]
     },
     "execution_count": 29,
     "metadata": {},
     "output_type": "execute_result"
    }
   ],
   "source": [
    "t"
   ]
  },
  {
   "cell_type": "code",
   "execution_count": null,
   "metadata": {},
   "outputs": [],
   "source": []
  }
 ],
 "metadata": {
  "kernelspec": {
   "display_name": "Python 3 (ipykernel)",
   "language": "python",
   "name": "python3"
  },
  "language_info": {
   "codemirror_mode": {
    "name": "ipython",
    "version": 3
   },
   "file_extension": ".py",
   "mimetype": "text/x-python",
   "name": "python",
   "nbconvert_exporter": "python",
   "pygments_lexer": "ipython3",
   "version": "3.8.13"
  }
 },
 "nbformat": 4,
 "nbformat_minor": 4
}
