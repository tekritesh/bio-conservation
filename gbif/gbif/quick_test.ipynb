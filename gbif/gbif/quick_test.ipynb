{
 "cells": [
  {
   "cell_type": "code",
   "execution_count": null,
   "metadata": {},
   "outputs": [],
   "source": [
    "from noaa_sdk import NOAA\n",
    "import pandas as pd\n",
    "\n",
    "\n",
    "df= pd.read_csv(\"/mnt/Work/PersonalData/Raw/GBIF/Data/Vulpes vulpes_Haliaeetus albicilla_Dama dama_Hydropotes inermis_Capreolus capreolus_Cervus elaphus.csv\")\n",
    "\n",
    "df.head()"
   ]
  },
  {
   "cell_type": "code",
   "execution_count": null,
   "metadata": {},
   "outputs": [],
   "source": []
  },
  {
   "cell_type": "code",
   "execution_count": null,
   "metadata": {},
   "outputs": [],
   "source": [
    "n = NOAA()\n",
    "n.get_forecasts()\n",
    "res = n.get_forecasts('11365', 'US', type='forecastGridData')\n",
    "for i in res:\n",
    "    print(i)"
   ]
  },
  {
   "cell_type": "code",
   "execution_count": null,
   "metadata": {},
   "outputs": [],
   "source": [
    "# results= n.get_observations_by_lat_lon(\n",
    "#     lat=51.271,\n",
    "#     lon=-1.230,\n",
    "    \n",
    "#     # 40.7314,\n",
    "#     # -73.8656,\n",
    "#     # start='2021-01-01',\n",
    "#     # end='2021-01-10',\n",
    "#     num_of_stations=100)\n",
    "\n",
    "results = n.points_forecast(40.7314, -73.8656, hourly= False)\n",
    "\n"
   ]
  },
  {
   "cell_type": "code",
   "execution_count": null,
   "metadata": {},
   "outputs": [],
   "source": [
    "from meteostat import Point, Daily\n",
    "from datetime import datetime\n",
    "\n",
    "# Refer : https://dev.meteostat.net/python/point.html#api"
   ]
  },
  {
   "cell_type": "code",
   "execution_count": null,
   "metadata": {},
   "outputs": [],
   "source": [
    "\n",
    "date_string = \"2012-12-12\"\n",
    "start = datetime.fromisoformat(date_string)\n",
    "end = datetime.fromisoformat(date_string)\n",
    "\n",
    "# Set time period\n",
    "# start = datetime(2022, 6, 11)\n",
    "# end = datetime(2022, 6, 11)\n",
    "\n",
    "# Create Point for Vancouver, BC\n",
    "location = Point(52.33428, 4.544288)\n",
    "\n",
    "# Get daily data for 2018\n",
    "data = Daily(location, start, end)\n",
    "data = data.fetch()"
   ]
  },
  {
   "cell_type": "code",
   "execution_count": null,
   "metadata": {},
   "outputs": [],
   "source": [
    "import logging"
   ]
  },
  {
   "cell_type": "code",
   "execution_count": null,
   "metadata": {},
   "outputs": [],
   "source": [
    "log = logging.getLogger(\"my-logger\")"
   ]
  },
  {
   "cell_type": "code",
   "execution_count": null,
   "metadata": {},
   "outputs": [],
   "source": [
    "log.info(\"Hello\")"
   ]
  },
  {
   "cell_type": "code",
   "execution_count": null,
   "metadata": {},
   "outputs": [],
   "source": [
    "date_string = \"2012-12-12\"\n",
    "print (datetime.fromisoformat(date_string))"
   ]
  },
  {
   "cell_type": "code",
   "execution_count": null,
   "metadata": {},
   "outputs": [],
   "source": [
    "# pd.DataFrame(results)\n",
    "len(data.index)"
   ]
  },
  {
   "cell_type": "code",
   "execution_count": null,
   "metadata": {},
   "outputs": [],
   "source": [
    "from gbif import climate\n",
    "import logging"
   ]
  },
  {
   "cell_type": "code",
   "execution_count": null,
   "metadata": {},
   "outputs": [],
   "source": []
  },
  {
   "cell_type": "code",
   "execution_count": null,
   "metadata": {},
   "outputs": [],
   "source": [
    "c= climate.GetClimateData(log_level=logging.DEBUG)"
   ]
  },
  {
   "cell_type": "code",
   "execution_count": null,
   "metadata": {},
   "outputs": [],
   "source": [
    "df = c.get_interpolated_climate_data(\n",
    "    lat_deg=52.33428,\n",
    "    lon_deg=4.544288,\n",
    "    start_date='2022-01-02',\n",
    "    end_date='2022-01-02'\n",
    ")\n",
    "df"
   ]
  },
  {
   "cell_type": "code",
   "execution_count": null,
   "metadata": {},
   "outputs": [],
   "source": [
    "assert df['tavg'].values[0] == 10.6"
   ]
  },
  {
   "cell_type": "code",
   "execution_count": null,
   "metadata": {},
   "outputs": [],
   "source": [
    "from gbif import human_interference\n"
   ]
  },
  {
   "cell_type": "code",
   "execution_count": null,
   "metadata": {},
   "outputs": [],
   "source": [
    "c = human_interference.HumanInterference()"
   ]
  },
  {
   "cell_type": "code",
   "execution_count": null,
   "metadata": {},
   "outputs": [],
   "source": [
    "radiance = c.get_avg_radiance(\n",
    "    lat=52.33428,\n",
    "    lon=4.544288,\n",
    "    date='2022-01-02')\n",
    "\n",
    "assert round(radiance,2) ==11.75"
   ]
  },
  {
   "cell_type": "code",
   "execution_count": null,
   "metadata": {},
   "outputs": [],
   "source": [
    "# from pygbif import occurrences as occ\n",
    "\n",
    "\n",
    "# from pygbif import occurences as occ\n"
   ]
  },
  {
   "cell_type": "code",
   "execution_count": null,
   "metadata": {},
   "outputs": [],
   "source": [
    "from gbif import species\n",
    "c = species.Occurence()\n",
    "\n",
    "data= c.get_occurrences(\n",
    "    eventDate='2022-01-02',\n",
    "    country=\"GB\",\n",
    ")"
   ]
  },
  {
   "cell_type": "code",
   "execution_count": null,
   "metadata": {},
   "outputs": [],
   "source": [
    "data['key'].values[0] == 3436650793"
   ]
  },
  {
   "cell_type": "code",
   "execution_count": null,
   "metadata": {},
   "outputs": [],
   "source": [
    "from gbif import land_cover"
   ]
  },
  {
   "cell_type": "code",
   "execution_count": null,
   "metadata": {},
   "outputs": [],
   "source": [
    "inst = land_cover.LandCover()"
   ]
  },
  {
   "cell_type": "code",
   "execution_count": null,
   "metadata": {},
   "outputs": [],
   "source": [
    "inst.get_land_label(\n",
    "    lat_deg=52.33428,\n",
    "    lon_deg=4.544288,\n",
    "    start_date='2022-01-01',\n",
    "    end_date='2022-06-01')"
   ]
  },
  {
   "cell_type": "code",
   "execution_count": null,
   "metadata": {},
   "outputs": [],
   "source": [
    "from gbif import soil_data\n",
    "import logging"
   ]
  },
  {
   "cell_type": "code",
   "execution_count": null,
   "metadata": {},
   "outputs": [],
   "source": [
    "inst = soil_data.SoilDataParser()"
   ]
  },
  {
   "cell_type": "code",
   "execution_count": null,
   "metadata": {},
   "outputs": [],
   "source": [
    "data = inst.get_soil_data(\n",
    "    lat_deg=52.33428,\n",
    "    lon_deg=1.544288,\n",
    "    country=\"GB\"\n",
    ")"
   ]
  },
  {
   "cell_type": "code",
   "execution_count": null,
   "metadata": {},
   "outputs": [],
   "source": [
    "data\n",
    "# assert data[\"phh2o\"] == 0.0\n",
    "# assert data[\"clay\"] == 0.0"
   ]
  },
  {
   "cell_type": "code",
   "execution_count": 1,
   "metadata": {},
   "outputs": [],
   "source": [
    "from gbif import covariates\n",
    "import logging"
   ]
  },
  {
   "cell_type": "code",
   "execution_count": 2,
   "metadata": {},
   "outputs": [
    {
     "name": "stderr",
     "output_type": "stream",
     "text": [
      "2022-07-18 06:30:58,565 - Init GBIF Covariate API\n",
      "2022-07-18 06:30:58,566 - Init Earth Engine\n"
     ]
    }
   ],
   "source": [
    "inst = covariates.GBIF_COVARIATES()"
   ]
  },
  {
   "cell_type": "code",
   "execution_count": 3,
   "metadata": {},
   "outputs": [
    {
     "name": "stderr",
     "output_type": "stream",
     "text": [
      "2022-07-18 06:31:04,397 - Getting Occurence Data for Date:2022-06-11 and Country: GB\n",
      "2022-07-18 06:31:08,877 - Total Data from GBIF backend: 300\n"
     ]
    }
   ],
   "source": [
    "data = inst.get_gbif_covariates(\n",
    "    event_date = '2022-06-11', \n",
    "    country='GB'\n",
    ")"
   ]
  },
  {
   "cell_type": "code",
   "execution_count": 4,
   "metadata": {},
   "outputs": [
    {
     "data": {
      "text/html": [
       "<div>\n",
       "<style scoped>\n",
       "    .dataframe tbody tr th:only-of-type {\n",
       "        vertical-align: middle;\n",
       "    }\n",
       "\n",
       "    .dataframe tbody tr th {\n",
       "        vertical-align: top;\n",
       "    }\n",
       "\n",
       "    .dataframe thead th {\n",
       "        text-align: right;\n",
       "    }\n",
       "</style>\n",
       "<table border=\"1\" class=\"dataframe\">\n",
       "  <thead>\n",
       "    <tr style=\"text-align: right;\">\n",
       "      <th></th>\n",
       "      <th>key</th>\n",
       "      <th>datasetKey</th>\n",
       "      <th>publishingCountry</th>\n",
       "      <th>protocol</th>\n",
       "      <th>lastCrawled</th>\n",
       "      <th>lastParsed</th>\n",
       "      <th>crawlId</th>\n",
       "      <th>basisOfRecord</th>\n",
       "      <th>occurrenceStatus</th>\n",
       "      <th>taxonKey</th>\n",
       "      <th>...</th>\n",
       "      <th>tavg</th>\n",
       "      <th>tmin</th>\n",
       "      <th>tmax</th>\n",
       "      <th>prcp</th>\n",
       "      <th>snow</th>\n",
       "      <th>wdir</th>\n",
       "      <th>wspd</th>\n",
       "      <th>wpgt</th>\n",
       "      <th>pres</th>\n",
       "      <th>tsun</th>\n",
       "    </tr>\n",
       "  </thead>\n",
       "  <tbody>\n",
       "    <tr>\n",
       "      <th>0</th>\n",
       "      <td>3813649706</td>\n",
       "      <td>b1047888-ae52-4179-9dd5-5448ea342a24</td>\n",
       "      <td>NL</td>\n",
       "      <td>DWC_ARCHIVE</td>\n",
       "      <td>2022-07-16T10:57:44.449+00:00</td>\n",
       "      <td>2022-07-16T11:11:50.157+00:00</td>\n",
       "      <td>174</td>\n",
       "      <td>HUMAN_OBSERVATION</td>\n",
       "      <td>PRESENT</td>\n",
       "      <td>2480589</td>\n",
       "      <td>...</td>\n",
       "      <td>16.4</td>\n",
       "      <td>10.2</td>\n",
       "      <td>22.2</td>\n",
       "      <td>0.0</td>\n",
       "      <td>NaN</td>\n",
       "      <td>237.0</td>\n",
       "      <td>14.1</td>\n",
       "      <td>NaN</td>\n",
       "      <td>1022.2</td>\n",
       "      <td>NaN</td>\n",
       "    </tr>\n",
       "    <tr>\n",
       "      <th>1</th>\n",
       "      <td>3858375242</td>\n",
       "      <td>50c9509d-22c7-4a22-a47d-8c48425ef4a7</td>\n",
       "      <td>US</td>\n",
       "      <td>DWC_ARCHIVE</td>\n",
       "      <td>2022-07-10T01:28:35.929+00:00</td>\n",
       "      <td>2022-07-10T09:47:17.166+00:00</td>\n",
       "      <td>312</td>\n",
       "      <td>HUMAN_OBSERVATION</td>\n",
       "      <td>PRESENT</td>\n",
       "      <td>7924597</td>\n",
       "      <td>...</td>\n",
       "      <td>NaN</td>\n",
       "      <td>NaN</td>\n",
       "      <td>NaN</td>\n",
       "      <td>NaN</td>\n",
       "      <td>NaN</td>\n",
       "      <td>NaN</td>\n",
       "      <td>NaN</td>\n",
       "      <td>NaN</td>\n",
       "      <td>NaN</td>\n",
       "      <td>NaN</td>\n",
       "    </tr>\n",
       "    <tr>\n",
       "      <th>2</th>\n",
       "      <td>3858375249</td>\n",
       "      <td>50c9509d-22c7-4a22-a47d-8c48425ef4a7</td>\n",
       "      <td>GB</td>\n",
       "      <td>DWC_ARCHIVE</td>\n",
       "      <td>2022-07-10T01:28:35.929+00:00</td>\n",
       "      <td>2022-07-10T09:47:34.088+00:00</td>\n",
       "      <td>312</td>\n",
       "      <td>HUMAN_OBSERVATION</td>\n",
       "      <td>PRESENT</td>\n",
       "      <td>5115777</td>\n",
       "      <td>...</td>\n",
       "      <td>18.3</td>\n",
       "      <td>13.0</td>\n",
       "      <td>23.0</td>\n",
       "      <td>0.0</td>\n",
       "      <td>NaN</td>\n",
       "      <td>244.0</td>\n",
       "      <td>19.7</td>\n",
       "      <td>NaN</td>\n",
       "      <td>1021.5</td>\n",
       "      <td>NaN</td>\n",
       "    </tr>\n",
       "    <tr>\n",
       "      <th>3</th>\n",
       "      <td>3858375253</td>\n",
       "      <td>50c9509d-22c7-4a22-a47d-8c48425ef4a7</td>\n",
       "      <td>GB</td>\n",
       "      <td>DWC_ARCHIVE</td>\n",
       "      <td>2022-07-10T01:28:35.929+00:00</td>\n",
       "      <td>2022-07-10T09:47:38.221+00:00</td>\n",
       "      <td>312</td>\n",
       "      <td>HUMAN_OBSERVATION</td>\n",
       "      <td>PRESENT</td>\n",
       "      <td>3112620</td>\n",
       "      <td>...</td>\n",
       "      <td>15.6</td>\n",
       "      <td>10.7</td>\n",
       "      <td>20.2</td>\n",
       "      <td>0.1</td>\n",
       "      <td>NaN</td>\n",
       "      <td>220.0</td>\n",
       "      <td>15.1</td>\n",
       "      <td>NaN</td>\n",
       "      <td>1022.0</td>\n",
       "      <td>NaN</td>\n",
       "    </tr>\n",
       "    <tr>\n",
       "      <th>4</th>\n",
       "      <td>3858375292</td>\n",
       "      <td>50c9509d-22c7-4a22-a47d-8c48425ef4a7</td>\n",
       "      <td>US</td>\n",
       "      <td>DWC_ARCHIVE</td>\n",
       "      <td>2022-07-10T01:28:35.929+00:00</td>\n",
       "      <td>2022-07-10T09:48:47.197+00:00</td>\n",
       "      <td>312</td>\n",
       "      <td>HUMAN_OBSERVATION</td>\n",
       "      <td>PRESENT</td>\n",
       "      <td>5232437</td>\n",
       "      <td>...</td>\n",
       "      <td>17.5</td>\n",
       "      <td>12.1</td>\n",
       "      <td>23.1</td>\n",
       "      <td>0.0</td>\n",
       "      <td>NaN</td>\n",
       "      <td>227.0</td>\n",
       "      <td>20.5</td>\n",
       "      <td>NaN</td>\n",
       "      <td>1020.9</td>\n",
       "      <td>NaN</td>\n",
       "    </tr>\n",
       "    <tr>\n",
       "      <th>...</th>\n",
       "      <td>...</td>\n",
       "      <td>...</td>\n",
       "      <td>...</td>\n",
       "      <td>...</td>\n",
       "      <td>...</td>\n",
       "      <td>...</td>\n",
       "      <td>...</td>\n",
       "      <td>...</td>\n",
       "      <td>...</td>\n",
       "      <td>...</td>\n",
       "      <td>...</td>\n",
       "      <td>...</td>\n",
       "      <td>...</td>\n",
       "      <td>...</td>\n",
       "      <td>...</td>\n",
       "      <td>...</td>\n",
       "      <td>...</td>\n",
       "      <td>...</td>\n",
       "      <td>...</td>\n",
       "      <td>...</td>\n",
       "      <td>...</td>\n",
       "    </tr>\n",
       "    <tr>\n",
       "      <th>295</th>\n",
       "      <td>3858525023</td>\n",
       "      <td>50c9509d-22c7-4a22-a47d-8c48425ef4a7</td>\n",
       "      <td>GB</td>\n",
       "      <td>DWC_ARCHIVE</td>\n",
       "      <td>2022-07-10T01:28:35.929+00:00</td>\n",
       "      <td>2022-07-10T07:21:52.713+00:00</td>\n",
       "      <td>312</td>\n",
       "      <td>HUMAN_OBSERVATION</td>\n",
       "      <td>PRESENT</td>\n",
       "      <td>5367273</td>\n",
       "      <td>...</td>\n",
       "      <td>16.7</td>\n",
       "      <td>10.0</td>\n",
       "      <td>23.2</td>\n",
       "      <td>0.0</td>\n",
       "      <td>NaN</td>\n",
       "      <td>239.0</td>\n",
       "      <td>18.1</td>\n",
       "      <td>NaN</td>\n",
       "      <td>1020.3</td>\n",
       "      <td>NaN</td>\n",
       "    </tr>\n",
       "    <tr>\n",
       "      <th>296</th>\n",
       "      <td>3858526269</td>\n",
       "      <td>50c9509d-22c7-4a22-a47d-8c48425ef4a7</td>\n",
       "      <td>US</td>\n",
       "      <td>DWC_ARCHIVE</td>\n",
       "      <td>2022-07-10T01:28:35.929+00:00</td>\n",
       "      <td>2022-07-10T06:58:22.779+00:00</td>\n",
       "      <td>312</td>\n",
       "      <td>HUMAN_OBSERVATION</td>\n",
       "      <td>PRESENT</td>\n",
       "      <td>8462369</td>\n",
       "      <td>...</td>\n",
       "      <td>15.4</td>\n",
       "      <td>12.0</td>\n",
       "      <td>19.0</td>\n",
       "      <td>0.0</td>\n",
       "      <td>NaN</td>\n",
       "      <td>237.0</td>\n",
       "      <td>21.4</td>\n",
       "      <td>NaN</td>\n",
       "      <td>1022.4</td>\n",
       "      <td>NaN</td>\n",
       "    </tr>\n",
       "    <tr>\n",
       "      <th>297</th>\n",
       "      <td>3858526278</td>\n",
       "      <td>50c9509d-22c7-4a22-a47d-8c48425ef4a7</td>\n",
       "      <td>US</td>\n",
       "      <td>DWC_ARCHIVE</td>\n",
       "      <td>2022-07-10T01:28:35.929+00:00</td>\n",
       "      <td>2022-07-10T06:58:38.615+00:00</td>\n",
       "      <td>312</td>\n",
       "      <td>HUMAN_OBSERVATION</td>\n",
       "      <td>PRESENT</td>\n",
       "      <td>5146559</td>\n",
       "      <td>...</td>\n",
       "      <td>17.4</td>\n",
       "      <td>11.6</td>\n",
       "      <td>23.9</td>\n",
       "      <td>0.0</td>\n",
       "      <td>NaN</td>\n",
       "      <td>233.0</td>\n",
       "      <td>19.4</td>\n",
       "      <td>NaN</td>\n",
       "      <td>1021.5</td>\n",
       "      <td>NaN</td>\n",
       "    </tr>\n",
       "    <tr>\n",
       "      <th>298</th>\n",
       "      <td>3858526311</td>\n",
       "      <td>50c9509d-22c7-4a22-a47d-8c48425ef4a7</td>\n",
       "      <td>GB</td>\n",
       "      <td>DWC_ARCHIVE</td>\n",
       "      <td>2022-07-10T01:28:35.929+00:00</td>\n",
       "      <td>2022-07-10T09:46:20.821+00:00</td>\n",
       "      <td>312</td>\n",
       "      <td>HUMAN_OBSERVATION</td>\n",
       "      <td>PRESENT</td>\n",
       "      <td>1973467</td>\n",
       "      <td>...</td>\n",
       "      <td>15.8</td>\n",
       "      <td>14.4</td>\n",
       "      <td>18.4</td>\n",
       "      <td>0.3</td>\n",
       "      <td>NaN</td>\n",
       "      <td>262.0</td>\n",
       "      <td>23.2</td>\n",
       "      <td>NaN</td>\n",
       "      <td>1021.6</td>\n",
       "      <td>NaN</td>\n",
       "    </tr>\n",
       "    <tr>\n",
       "      <th>299</th>\n",
       "      <td>3858527683</td>\n",
       "      <td>50c9509d-22c7-4a22-a47d-8c48425ef4a7</td>\n",
       "      <td>GB</td>\n",
       "      <td>DWC_ARCHIVE</td>\n",
       "      <td>2022-07-10T01:28:35.929+00:00</td>\n",
       "      <td>2022-07-10T07:12:31.220+00:00</td>\n",
       "      <td>312</td>\n",
       "      <td>HUMAN_OBSERVATION</td>\n",
       "      <td>PRESENT</td>\n",
       "      <td>5384805</td>\n",
       "      <td>...</td>\n",
       "      <td>14.3</td>\n",
       "      <td>12.1</td>\n",
       "      <td>18.1</td>\n",
       "      <td>3.3</td>\n",
       "      <td>NaN</td>\n",
       "      <td>216.0</td>\n",
       "      <td>35.1</td>\n",
       "      <td>NaN</td>\n",
       "      <td>1003.5</td>\n",
       "      <td>NaN</td>\n",
       "    </tr>\n",
       "  </tbody>\n",
       "</table>\n",
       "<p>300 rows × 59 columns</p>\n",
       "</div>"
      ],
      "text/plain": [
       "            key                            datasetKey publishingCountry  \\\n",
       "0    3813649706  b1047888-ae52-4179-9dd5-5448ea342a24                NL   \n",
       "1    3858375242  50c9509d-22c7-4a22-a47d-8c48425ef4a7                US   \n",
       "2    3858375249  50c9509d-22c7-4a22-a47d-8c48425ef4a7                GB   \n",
       "3    3858375253  50c9509d-22c7-4a22-a47d-8c48425ef4a7                GB   \n",
       "4    3858375292  50c9509d-22c7-4a22-a47d-8c48425ef4a7                US   \n",
       "..          ...                                   ...               ...   \n",
       "295  3858525023  50c9509d-22c7-4a22-a47d-8c48425ef4a7                GB   \n",
       "296  3858526269  50c9509d-22c7-4a22-a47d-8c48425ef4a7                US   \n",
       "297  3858526278  50c9509d-22c7-4a22-a47d-8c48425ef4a7                US   \n",
       "298  3858526311  50c9509d-22c7-4a22-a47d-8c48425ef4a7                GB   \n",
       "299  3858527683  50c9509d-22c7-4a22-a47d-8c48425ef4a7                GB   \n",
       "\n",
       "        protocol                    lastCrawled  \\\n",
       "0    DWC_ARCHIVE  2022-07-16T10:57:44.449+00:00   \n",
       "1    DWC_ARCHIVE  2022-07-10T01:28:35.929+00:00   \n",
       "2    DWC_ARCHIVE  2022-07-10T01:28:35.929+00:00   \n",
       "3    DWC_ARCHIVE  2022-07-10T01:28:35.929+00:00   \n",
       "4    DWC_ARCHIVE  2022-07-10T01:28:35.929+00:00   \n",
       "..           ...                            ...   \n",
       "295  DWC_ARCHIVE  2022-07-10T01:28:35.929+00:00   \n",
       "296  DWC_ARCHIVE  2022-07-10T01:28:35.929+00:00   \n",
       "297  DWC_ARCHIVE  2022-07-10T01:28:35.929+00:00   \n",
       "298  DWC_ARCHIVE  2022-07-10T01:28:35.929+00:00   \n",
       "299  DWC_ARCHIVE  2022-07-10T01:28:35.929+00:00   \n",
       "\n",
       "                        lastParsed  crawlId      basisOfRecord  \\\n",
       "0    2022-07-16T11:11:50.157+00:00      174  HUMAN_OBSERVATION   \n",
       "1    2022-07-10T09:47:17.166+00:00      312  HUMAN_OBSERVATION   \n",
       "2    2022-07-10T09:47:34.088+00:00      312  HUMAN_OBSERVATION   \n",
       "3    2022-07-10T09:47:38.221+00:00      312  HUMAN_OBSERVATION   \n",
       "4    2022-07-10T09:48:47.197+00:00      312  HUMAN_OBSERVATION   \n",
       "..                             ...      ...                ...   \n",
       "295  2022-07-10T07:21:52.713+00:00      312  HUMAN_OBSERVATION   \n",
       "296  2022-07-10T06:58:22.779+00:00      312  HUMAN_OBSERVATION   \n",
       "297  2022-07-10T06:58:38.615+00:00      312  HUMAN_OBSERVATION   \n",
       "298  2022-07-10T09:46:20.821+00:00      312  HUMAN_OBSERVATION   \n",
       "299  2022-07-10T07:12:31.220+00:00      312  HUMAN_OBSERVATION   \n",
       "\n",
       "    occurrenceStatus  taxonKey  ...  tavg  tmin  tmax  prcp  snow   wdir  \\\n",
       "0            PRESENT   2480589  ...  16.4  10.2  22.2   0.0   NaN  237.0   \n",
       "1            PRESENT   7924597  ...   NaN   NaN   NaN   NaN   NaN    NaN   \n",
       "2            PRESENT   5115777  ...  18.3  13.0  23.0   0.0   NaN  244.0   \n",
       "3            PRESENT   3112620  ...  15.6  10.7  20.2   0.1   NaN  220.0   \n",
       "4            PRESENT   5232437  ...  17.5  12.1  23.1   0.0   NaN  227.0   \n",
       "..               ...       ...  ...   ...   ...   ...   ...   ...    ...   \n",
       "295          PRESENT   5367273  ...  16.7  10.0  23.2   0.0   NaN  239.0   \n",
       "296          PRESENT   8462369  ...  15.4  12.0  19.0   0.0   NaN  237.0   \n",
       "297          PRESENT   5146559  ...  17.4  11.6  23.9   0.0   NaN  233.0   \n",
       "298          PRESENT   1973467  ...  15.8  14.4  18.4   0.3   NaN  262.0   \n",
       "299          PRESENT   5384805  ...  14.3  12.1  18.1   3.3   NaN  216.0   \n",
       "\n",
       "     wspd  wpgt    pres tsun  \n",
       "0    14.1   NaN  1022.2  NaN  \n",
       "1     NaN   NaN     NaN  NaN  \n",
       "2    19.7   NaN  1021.5  NaN  \n",
       "3    15.1   NaN  1022.0  NaN  \n",
       "4    20.5   NaN  1020.9  NaN  \n",
       "..    ...   ...     ...  ...  \n",
       "295  18.1   NaN  1020.3  NaN  \n",
       "296  21.4   NaN  1022.4  NaN  \n",
       "297  19.4   NaN  1021.5  NaN  \n",
       "298  23.2   NaN  1021.6  NaN  \n",
       "299  35.1   NaN  1003.5  NaN  \n",
       "\n",
       "[300 rows x 59 columns]"
      ]
     },
     "execution_count": 4,
     "metadata": {},
     "output_type": "execute_result"
    }
   ],
   "source": [
    "data"
   ]
  }
 ],
 "metadata": {
  "interpreter": {
   "hash": "36cf16204b8548560b1c020c4e8fb5b57f0e4c58016f52f2d4be01e192833930"
  },
  "kernelspec": {
   "display_name": "Python 3.9.13 64-bit",
   "language": "python",
   "name": "python3"
  },
  "language_info": {
   "codemirror_mode": {
    "name": "ipython",
    "version": 3
   },
   "file_extension": ".py",
   "mimetype": "text/x-python",
   "name": "python",
   "nbconvert_exporter": "python",
   "pygments_lexer": "ipython3",
   "version": "3.8.10"
  },
  "orig_nbformat": 4
 },
 "nbformat": 4,
 "nbformat_minor": 2
}
