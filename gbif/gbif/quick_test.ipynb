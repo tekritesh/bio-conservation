{
 "cells": [
  {
   "cell_type": "code",
   "execution_count": null,
   "metadata": {},
   "outputs": [],
   "source": [
    "from noaa_sdk import NOAA\n",
    "import pandas as pd\n",
    "\n",
    "\n",
    "df= pd.read_csv(\"/mnt/Work/PersonalData/Raw/GBIF/Data/Vulpes vulpes_Haliaeetus albicilla_Dama dama_Hydropotes inermis_Capreolus capreolus_Cervus elaphus.csv\")\n",
    "\n",
    "df.head()"
   ]
  },
  {
   "cell_type": "code",
   "execution_count": null,
   "metadata": {},
   "outputs": [],
   "source": []
  },
  {
   "cell_type": "code",
   "execution_count": null,
   "metadata": {},
   "outputs": [],
   "source": [
    "n = NOAA()\n",
    "n.get_forecasts()\n",
    "res = n.get_forecasts('11365', 'US', type='forecastGridData')\n",
    "for i in res:\n",
    "    print(i)"
   ]
  },
  {
   "cell_type": "code",
   "execution_count": null,
   "metadata": {},
   "outputs": [],
   "source": [
    "# results= n.get_observations_by_lat_lon(\n",
    "#     lat=51.271,\n",
    "#     lon=-1.230,\n",
    "    \n",
    "#     # 40.7314,\n",
    "#     # -73.8656,\n",
    "#     # start='2021-01-01',\n",
    "#     # end='2021-01-10',\n",
    "#     num_of_stations=100)\n",
    "\n",
    "results = n.points_forecast(40.7314, -73.8656, hourly= False)\n",
    "\n"
   ]
  },
  {
   "cell_type": "code",
   "execution_count": null,
   "metadata": {},
   "outputs": [],
   "source": [
    "from meteostat import Point, Daily\n",
    "from datetime import datetime\n",
    "\n",
    "# Refer : https://dev.meteostat.net/python/point.html#api"
   ]
  },
  {
   "cell_type": "code",
   "execution_count": null,
   "metadata": {},
   "outputs": [],
   "source": [
    "\n",
    "date_string = \"2012-12-12\"\n",
    "start = datetime.fromisoformat(date_string)\n",
    "end = datetime.fromisoformat(date_string)\n",
    "\n",
    "# Set time period\n",
    "# start = datetime(2022, 6, 11)\n",
    "# end = datetime(2022, 6, 11)\n",
    "\n",
    "# Create Point for Vancouver, BC\n",
    "location = Point(52.33428, 4.544288)\n",
    "\n",
    "# Get daily data for 2018\n",
    "data = Daily(location, start, end)\n",
    "data = data.fetch()"
   ]
  },
  {
   "cell_type": "code",
   "execution_count": null,
   "metadata": {},
   "outputs": [],
   "source": [
    "import logging"
   ]
  },
  {
   "cell_type": "code",
   "execution_count": null,
   "metadata": {},
   "outputs": [],
   "source": [
    "log = logging.getLogger(\"my-logger\")"
   ]
  },
  {
   "cell_type": "code",
   "execution_count": null,
   "metadata": {},
   "outputs": [],
   "source": [
    "log.info(\"Hello\")"
   ]
  },
  {
   "cell_type": "code",
   "execution_count": null,
   "metadata": {},
   "outputs": [],
   "source": [
    "date_string = \"2012-12-12\"\n",
    "print (datetime.fromisoformat(date_string))"
   ]
  },
  {
   "cell_type": "code",
   "execution_count": null,
   "metadata": {},
   "outputs": [],
   "source": [
    "# pd.DataFrame(results)\n",
    "len(data.index)"
   ]
  },
  {
   "cell_type": "code",
   "execution_count": null,
   "metadata": {},
   "outputs": [],
   "source": [
    "from gbif import climate\n",
    "import logging"
   ]
  },
  {
   "cell_type": "code",
   "execution_count": null,
   "metadata": {},
   "outputs": [],
   "source": []
  },
  {
   "cell_type": "code",
   "execution_count": null,
   "metadata": {},
   "outputs": [],
   "source": [
    "c= climate.GetClimateData(log_level=logging.DEBUG)"
   ]
  },
  {
   "cell_type": "code",
   "execution_count": null,
   "metadata": {},
   "outputs": [],
   "source": [
    "df = c.get_interpolated_climate_data(\n",
    "    lat_deg=52.33428,\n",
    "    lon_deg=4.544288,\n",
    "    start_date='2022-01-02',\n",
    "    end_date='2022-01-02'\n",
    ")\n",
    "df"
   ]
  },
  {
   "cell_type": "code",
   "execution_count": null,
   "metadata": {},
   "outputs": [],
   "source": [
    "assert df['tavg'].values[0] == 10.6"
   ]
  },
  {
   "cell_type": "code",
   "execution_count": null,
   "metadata": {},
   "outputs": [],
   "source": [
    "from gbif import human_interference\n"
   ]
  },
  {
   "cell_type": "code",
   "execution_count": null,
   "metadata": {},
   "outputs": [],
   "source": [
    "c = human_interference.HumanInterference()"
   ]
  },
  {
   "cell_type": "code",
   "execution_count": null,
   "metadata": {},
   "outputs": [],
   "source": [
    "radiance = c.get_avg_radiance(\n",
    "    lat=52.33428,\n",
    "    lon=4.544288,\n",
    "    date='2022-01-02')\n",
    "\n",
    "assert round(radiance,2) ==11.75"
   ]
  },
  {
   "cell_type": "code",
   "execution_count": null,
   "metadata": {},
   "outputs": [],
   "source": [
    "# from pygbif import occurrences as occ\n",
    "\n",
    "\n",
    "# from pygbif import occurences as occ\n"
   ]
  },
  {
   "cell_type": "code",
   "execution_count": null,
   "metadata": {},
   "outputs": [],
   "source": [
    "from gbif import species\n",
    "c = species.Occurence(\n",
    "\n",
    "data= c.get_occurrences(\n",
    "    eventDate='2022-01-02',\n",
    "    country=\"GB\",\n",
    ")"
   ]
  },
  {
   "cell_type": "code",
   "execution_count": null,
   "metadata": {},
   "outputs": [],
   "source": [
    "data['key'].values[0] == 3436650793"
   ]
  },
  {
   "cell_type": "code",
   "execution_count": null,
   "metadata": {},
   "outputs": [],
   "source": [
    "from gbif import land_cover"
   ]
  },
  {
   "cell_type": "code",
   "execution_count": null,
   "metadata": {},
   "outputs": [],
   "source": [
    "inst = land_cover.LandCover()"
   ]
  },
  {
   "cell_type": "code",
   "execution_count": null,
   "metadata": {},
   "outputs": [],
   "source": [
    "inst.get_land_label(\n",
    "    lat_deg=52.33428,\n",
    "    lon_deg=4.544288,\n",
    "    start_date='2022-01-01',\n",
    "    end_date='2022-06-01')"
   ]
  },
  {
   "cell_type": "code",
   "execution_count": null,
   "metadata": {},
   "outputs": [],
   "source": [
    "from gbif import soil_data\n",
    "import logging"
   ]
  },
  {
   "cell_type": "code",
   "execution_count": null,
   "metadata": {},
   "outputs": [],
   "source": [
    "inst = soil_data.SoilDataParser()"
   ]
  },
  {
   "cell_type": "code",
   "execution_count": null,
   "metadata": {},
   "outputs": [],
   "source": [
    "data = inst.get_soil_data(\n",
    "    lat_deg=52.33428,\n",
    "    lon_deg=1.544288,\n",
    "    country=\"GB\"\n",
    ")"
   ]
  },
  {
   "cell_type": "code",
   "execution_count": null,
   "metadata": {},
   "outputs": [],
   "source": [
    "data\n",
    "# assert data[\"phh2o\"] == 0.0\n",
    "# assert data[\"clay\"] == 0.0"
   ]
  },
  {
   "cell_type": "code",
   "execution_count": 2,
   "metadata": {},
   "outputs": [],
   "source": [
    "from gbif import covariates\n",
    "import logging"
   ]
  },
  {
   "cell_type": "code",
   "execution_count": 3,
   "metadata": {},
   "outputs": [
    {
     "name": "stderr",
     "output_type": "stream",
     "text": [
      "2022-07-18 11:48:43,110 - Hello there curious one! Hold up while we fetch your covariates for your lovely species\n",
      "2022-07-18 11:48:43,111 - Init GBIF Covariate API\n",
      "2022-07-18 11:48:43,111 - Init Earth Engine\n",
      "2022-07-18 11:48:43,120 - Sleeping 0.68 seconds before retry 1 of 1 for request: GET https://earthengine.googleapis.com/$discovery/rest?version=v1alpha&prettyPrint=false, after timed out\n",
      "2022-07-18 11:48:43,818 - Error in Init Earth Engine. Trying Again...\n"
     ]
    },
    {
     "data": {
      "text/html": [
       "<p>To authorize access needed by Earth Engine, open the following\n",
       "        URL in a web browser and follow the instructions:</p>\n",
       "        <p><a href=https://code.earthengine.google.com/client-auth?scopes=https%3A//www.googleapis.com/auth/earthengine%20https%3A//www.googleapis.com/auth/devstorage.full_control&request_id=1drDroJxXHgwbsdoE9RwBB4KiG39_cLlhCM9V5_vrg8&tc=80pY0S6bUgqqV4gbs1rcBFJXRpqA4jBvyZw8HwM0PzI&cc=pXoP1uhSYH31yyLIh7jHQkkyS0G4RCcS992p4j5s9-Y>https://code.earthengine.google.com/client-auth?scopes=https%3A//www.googleapis.com/auth/earthengine%20https%3A//www.googleapis.com/auth/devstorage.full_control&request_id=1drDroJxXHgwbsdoE9RwBB4KiG39_cLlhCM9V5_vrg8&tc=80pY0S6bUgqqV4gbs1rcBFJXRpqA4jBvyZw8HwM0PzI&cc=pXoP1uhSYH31yyLIh7jHQkkyS0G4RCcS992p4j5s9-Y</a></p>\n",
       "        <p>The authorization workflow will generate a code, which you should paste in the box below.</p>\n",
       "        "
      ],
      "text/plain": [
       "<IPython.core.display.HTML object>"
      ]
     },
     "metadata": {},
     "output_type": "display_data"
    },
    {
     "ename": "KeyboardInterrupt",
     "evalue": "Interrupted by user",
     "output_type": "error",
     "traceback": [
      "\u001b[0;31m---------------------------------------------------------------------------\u001b[0m",
      "\u001b[0;31mKeyboardInterrupt\u001b[0m                         Traceback (most recent call last)",
      "\u001b[1;32m/mnt/Work/GitClonesPersonal/bio-conservation/gbif/gbif/quick_test.ipynb Cell 31'\u001b[0m in \u001b[0;36m<cell line: 1>\u001b[0;34m()\u001b[0m\n\u001b[0;32m----> <a href='vscode-notebook-cell:/mnt/Work/GitClonesPersonal/bio-conservation/gbif/gbif/quick_test.ipynb#ch0000030?line=0'>1</a>\u001b[0m inst \u001b[39m=\u001b[39m covariates\u001b[39m.\u001b[39;49mGBIF_COVARIATES()\n",
      "File \u001b[0;32m/mnt/Work/GitClonesPersonal/bio-conservation/gbif/gbif/covariates.py:37\u001b[0m, in \u001b[0;36mGBIF_COVARIATES.__init__\u001b[0;34m(self)\u001b[0m\n\u001b[1;32m     <a href='file:///mnt/Work/GitClonesPersonal/bio-conservation/gbif/gbif/covariates.py?line=34'>35</a>\u001b[0m utils\u001b[39m.\u001b[39mlogger\u001b[39m.\u001b[39minfo(\u001b[39m\"\u001b[39m\u001b[39mInit GBIF Covariate API\u001b[39m\u001b[39m\"\u001b[39m)\n\u001b[1;32m     <a href='file:///mnt/Work/GitClonesPersonal/bio-conservation/gbif/gbif/covariates.py?line=35'>36</a>\u001b[0m \u001b[39mself\u001b[39m\u001b[39m.\u001b[39minst_species\u001b[39m=\u001b[39mspecies\u001b[39m.\u001b[39mOccurence()\n\u001b[0;32m---> <a href='file:///mnt/Work/GitClonesPersonal/bio-conservation/gbif/gbif/covariates.py?line=36'>37</a>\u001b[0m \u001b[39mself\u001b[39m\u001b[39m.\u001b[39minst_human_interference \u001b[39m=\u001b[39m human_interference\u001b[39m.\u001b[39;49mHumanInterference()\n\u001b[1;32m     <a href='file:///mnt/Work/GitClonesPersonal/bio-conservation/gbif/gbif/covariates.py?line=37'>38</a>\u001b[0m \u001b[39mself\u001b[39m\u001b[39m.\u001b[39minst_climate \u001b[39m=\u001b[39m climate\u001b[39m.\u001b[39mGetClimateData()\n\u001b[1;32m     <a href='file:///mnt/Work/GitClonesPersonal/bio-conservation/gbif/gbif/covariates.py?line=38'>39</a>\u001b[0m \u001b[39mself\u001b[39m\u001b[39m.\u001b[39minst_soil \u001b[39m=\u001b[39m soil_data\u001b[39m.\u001b[39mSoilDataParser()\n",
      "File \u001b[0;32m/mnt/Work/GitClonesPersonal/bio-conservation/gbif/gbif/human_interference.py:22\u001b[0m, in \u001b[0;36mHumanInterference.__init__\u001b[0;34m(self)\u001b[0m\n\u001b[1;32m     <a href='file:///mnt/Work/GitClonesPersonal/bio-conservation/gbif/gbif/human_interference.py?line=19'>20</a>\u001b[0m \u001b[39mexcept\u001b[39;00m \u001b[39mException\u001b[39;00m \u001b[39mas\u001b[39;00m e:\n\u001b[1;32m     <a href='file:///mnt/Work/GitClonesPersonal/bio-conservation/gbif/gbif/human_interference.py?line=20'>21</a>\u001b[0m     utils\u001b[39m.\u001b[39mlogger\u001b[39m.\u001b[39minfo(\u001b[39m\"\u001b[39m\u001b[39mError in Init Earth Engine. Trying Again...\u001b[39m\u001b[39m\"\u001b[39m)\n\u001b[0;32m---> <a href='file:///mnt/Work/GitClonesPersonal/bio-conservation/gbif/gbif/human_interference.py?line=21'>22</a>\u001b[0m     ee\u001b[39m.\u001b[39;49mAuthenticate()\n\u001b[1;32m     <a href='file:///mnt/Work/GitClonesPersonal/bio-conservation/gbif/gbif/human_interference.py?line=22'>23</a>\u001b[0m     ee\u001b[39m.\u001b[39mInitialize()\n\u001b[1;32m     <a href='file:///mnt/Work/GitClonesPersonal/bio-conservation/gbif/gbif/human_interference.py?line=23'>24</a>\u001b[0m \u001b[39mself\u001b[39m\u001b[39m.\u001b[39mghsl \u001b[39m=\u001b[39m ee\u001b[39m.\u001b[39mImageCollection(\u001b[39m'\u001b[39m\u001b[39mJRC/GHSL/P2016/SMOD_POP_GLOBE_V1\u001b[39m\u001b[39m'\u001b[39m)\u001b[39m.\u001b[39m\\\n\u001b[1;32m     <a href='file:///mnt/Work/GitClonesPersonal/bio-conservation/gbif/gbif/human_interference.py?line=24'>25</a>\u001b[0m                 \u001b[39mfilter\u001b[39m(ee\u001b[39m.\u001b[39mFilter\u001b[39m.\u001b[39mdate(\u001b[39m'\u001b[39m\u001b[39m2015-01-01\u001b[39m\u001b[39m'\u001b[39m, \u001b[39m'\u001b[39m\u001b[39m2015-12-31\u001b[39m\u001b[39m'\u001b[39m))\u001b[39m.\u001b[39mselect(\u001b[39m'\u001b[39m\u001b[39msmod_code\u001b[39m\u001b[39m'\u001b[39m)\u001b[39m.\u001b[39mmedian()\n",
      "File \u001b[0;32m~/.cache/pypoetry/virtualenvs/gbif-eStXkc9Y-py3.8/lib/python3.8/site-packages/ee/__init__.py:104\u001b[0m, in \u001b[0;36mAuthenticate\u001b[0;34m(authorization_code, quiet, code_verifier, auth_mode, scopes)\u001b[0m\n\u001b[1;32m     <a href='file:///home/ritesh/.cache/pypoetry/virtualenvs/gbif-eStXkc9Y-py3.8/lib/python3.8/site-packages/ee/__init__.py?line=77'>78</a>\u001b[0m \u001b[39mdef\u001b[39;00m \u001b[39mAuthenticate\u001b[39m(\n\u001b[1;32m     <a href='file:///home/ritesh/.cache/pypoetry/virtualenvs/gbif-eStXkc9Y-py3.8/lib/python3.8/site-packages/ee/__init__.py?line=78'>79</a>\u001b[0m     authorization_code\u001b[39m=\u001b[39m\u001b[39mNone\u001b[39;00m,\n\u001b[1;32m     <a href='file:///home/ritesh/.cache/pypoetry/virtualenvs/gbif-eStXkc9Y-py3.8/lib/python3.8/site-packages/ee/__init__.py?line=79'>80</a>\u001b[0m     quiet\u001b[39m=\u001b[39m\u001b[39mNone\u001b[39;00m,\n\u001b[1;32m     <a href='file:///home/ritesh/.cache/pypoetry/virtualenvs/gbif-eStXkc9Y-py3.8/lib/python3.8/site-packages/ee/__init__.py?line=80'>81</a>\u001b[0m     code_verifier\u001b[39m=\u001b[39m\u001b[39mNone\u001b[39;00m,\n\u001b[1;32m     <a href='file:///home/ritesh/.cache/pypoetry/virtualenvs/gbif-eStXkc9Y-py3.8/lib/python3.8/site-packages/ee/__init__.py?line=81'>82</a>\u001b[0m     auth_mode\u001b[39m=\u001b[39m\u001b[39mNone\u001b[39;00m,\n\u001b[1;32m     <a href='file:///home/ritesh/.cache/pypoetry/virtualenvs/gbif-eStXkc9Y-py3.8/lib/python3.8/site-packages/ee/__init__.py?line=82'>83</a>\u001b[0m     scopes\u001b[39m=\u001b[39m\u001b[39mNone\u001b[39;00m):\n\u001b[1;32m     <a href='file:///home/ritesh/.cache/pypoetry/virtualenvs/gbif-eStXkc9Y-py3.8/lib/python3.8/site-packages/ee/__init__.py?line=83'>84</a>\u001b[0m   \u001b[39m\"\"\"Prompts the user to authorize access to Earth Engine via OAuth2.\u001b[39;00m\n\u001b[1;32m     <a href='file:///home/ritesh/.cache/pypoetry/virtualenvs/gbif-eStXkc9Y-py3.8/lib/python3.8/site-packages/ee/__init__.py?line=84'>85</a>\u001b[0m \n\u001b[1;32m     <a href='file:///home/ritesh/.cache/pypoetry/virtualenvs/gbif-eStXkc9Y-py3.8/lib/python3.8/site-packages/ee/__init__.py?line=85'>86</a>\u001b[0m \u001b[39m  Args:\u001b[39;00m\n\u001b[0;32m   (...)\u001b[0m\n\u001b[1;32m    <a href='file:///home/ritesh/.cache/pypoetry/virtualenvs/gbif-eStXkc9Y-py3.8/lib/python3.8/site-packages/ee/__init__.py?line=101'>102</a>\u001b[0m \u001b[39m     (auth_url, code_verifier) when called with quiet='init_only'\u001b[39;00m\n\u001b[1;32m    <a href='file:///home/ritesh/.cache/pypoetry/virtualenvs/gbif-eStXkc9Y-py3.8/lib/python3.8/site-packages/ee/__init__.py?line=102'>103</a>\u001b[0m \u001b[39m  \"\"\"\u001b[39;00m\n\u001b[0;32m--> <a href='file:///home/ritesh/.cache/pypoetry/virtualenvs/gbif-eStXkc9Y-py3.8/lib/python3.8/site-packages/ee/__init__.py?line=103'>104</a>\u001b[0m   \u001b[39mreturn\u001b[39;00m oauth\u001b[39m.\u001b[39;49mauthenticate(authorization_code, quiet, code_verifier, auth_mode,\n\u001b[1;32m    <a href='file:///home/ritesh/.cache/pypoetry/virtualenvs/gbif-eStXkc9Y-py3.8/lib/python3.8/site-packages/ee/__init__.py?line=104'>105</a>\u001b[0m                             scopes)\n",
      "File \u001b[0;32m~/.cache/pypoetry/virtualenvs/gbif-eStXkc9Y-py3.8/lib/python3.8/site-packages/ee/oauth.py:389\u001b[0m, in \u001b[0;36mauthenticate\u001b[0;34m(cli_authorization_code, quiet, cli_code_verifier, auth_mode, scopes)\u001b[0m\n\u001b[1;32m    <a href='file:///home/ritesh/.cache/pypoetry/virtualenvs/gbif-eStXkc9Y-py3.8/lib/python3.8/site-packages/ee/oauth.py?line=385'>386</a>\u001b[0m \u001b[39mif\u001b[39;00m flow\u001b[39m.\u001b[39mdisplay_instructions(quiet):\n\u001b[1;32m    <a href='file:///home/ritesh/.cache/pypoetry/virtualenvs/gbif-eStXkc9Y-py3.8/lib/python3.8/site-packages/ee/oauth.py?line=386'>387</a>\u001b[0m   _open_new_browser(flow\u001b[39m.\u001b[39mauth_url)\n\u001b[0;32m--> <a href='file:///home/ritesh/.cache/pypoetry/virtualenvs/gbif-eStXkc9Y-py3.8/lib/python3.8/site-packages/ee/oauth.py?line=388'>389</a>\u001b[0m flow\u001b[39m.\u001b[39;49msave_code()\n",
      "File \u001b[0;32m~/.cache/pypoetry/virtualenvs/gbif-eStXkc9Y-py3.8/lib/python3.8/site-packages/ee/oauth.py:432\u001b[0m, in \u001b[0;36mFlow.save_code\u001b[0;34m(self, code)\u001b[0m\n\u001b[1;32m    <a href='file:///home/ritesh/.cache/pypoetry/virtualenvs/gbif-eStXkc9Y-py3.8/lib/python3.8/site-packages/ee/oauth.py?line=429'>430</a>\u001b[0m   redirect_uri \u001b[39m=\u001b[39m \u001b[39mself\u001b[39m\u001b[39m.\u001b[39mserver\u001b[39m.\u001b[39murl\n\u001b[1;32m    <a href='file:///home/ritesh/.cache/pypoetry/virtualenvs/gbif-eStXkc9Y-py3.8/lib/python3.8/site-packages/ee/oauth.py?line=430'>431</a>\u001b[0m   code \u001b[39m=\u001b[39m \u001b[39mself\u001b[39m\u001b[39m.\u001b[39mserver\u001b[39m.\u001b[39mfetch_code()  \u001b[39m# Waits for oauth callback\u001b[39;00m\n\u001b[0;32m--> <a href='file:///home/ritesh/.cache/pypoetry/virtualenvs/gbif-eStXkc9Y-py3.8/lib/python3.8/site-packages/ee/oauth.py?line=431'>432</a>\u001b[0m _obtain_and_write_token(code, \u001b[39mself\u001b[39;49m\u001b[39m.\u001b[39;49mcode_verifier, \u001b[39mself\u001b[39;49m\u001b[39m.\u001b[39;49mscopes, redirect_uri)\n",
      "File \u001b[0;32m~/.cache/pypoetry/virtualenvs/gbif-eStXkc9Y-py3.8/lib/python3.8/site-packages/ee/oauth.py:181\u001b[0m, in \u001b[0;36m_obtain_and_write_token\u001b[0;34m(auth_code, code_verifier, scopes, redirect_uri)\u001b[0m\n\u001b[1;32m    <a href='file:///home/ritesh/.cache/pypoetry/virtualenvs/gbif-eStXkc9Y-py3.8/lib/python3.8/site-packages/ee/oauth.py?line=178'>179</a>\u001b[0m   client_info[\u001b[39m'\u001b[39m\u001b[39mredirect_uri\u001b[39m\u001b[39m'\u001b[39m] \u001b[39m=\u001b[39m redirect_uri\n\u001b[1;32m    <a href='file:///home/ritesh/.cache/pypoetry/virtualenvs/gbif-eStXkc9Y-py3.8/lib/python3.8/site-packages/ee/oauth.py?line=179'>180</a>\u001b[0m \u001b[39mif\u001b[39;00m \u001b[39mnot\u001b[39;00m auth_code:\n\u001b[0;32m--> <a href='file:///home/ritesh/.cache/pypoetry/virtualenvs/gbif-eStXkc9Y-py3.8/lib/python3.8/site-packages/ee/oauth.py?line=180'>181</a>\u001b[0m   auth_code \u001b[39m=\u001b[39m \u001b[39minput\u001b[39;49m(\u001b[39m'\u001b[39;49m\u001b[39mEnter verification code: \u001b[39;49m\u001b[39m'\u001b[39;49m)\n\u001b[1;32m    <a href='file:///home/ritesh/.cache/pypoetry/virtualenvs/gbif-eStXkc9Y-py3.8/lib/python3.8/site-packages/ee/oauth.py?line=181'>182</a>\u001b[0m \u001b[39massert\u001b[39;00m \u001b[39misinstance\u001b[39m(auth_code, six\u001b[39m.\u001b[39mstring_types)\n\u001b[1;32m    <a href='file:///home/ritesh/.cache/pypoetry/virtualenvs/gbif-eStXkc9Y-py3.8/lib/python3.8/site-packages/ee/oauth.py?line=182'>183</a>\u001b[0m scopes \u001b[39m=\u001b[39m scopes \u001b[39mor\u001b[39;00m SCOPES\n",
      "File \u001b[0;32m~/.cache/pypoetry/virtualenvs/gbif-eStXkc9Y-py3.8/lib/python3.8/site-packages/ipykernel/kernelbase.py:1177\u001b[0m, in \u001b[0;36mKernel.raw_input\u001b[0;34m(self, prompt)\u001b[0m\n\u001b[1;32m   <a href='file:///home/ritesh/.cache/pypoetry/virtualenvs/gbif-eStXkc9Y-py3.8/lib/python3.8/site-packages/ipykernel/kernelbase.py?line=1172'>1173</a>\u001b[0m \u001b[39mif\u001b[39;00m \u001b[39mnot\u001b[39;00m \u001b[39mself\u001b[39m\u001b[39m.\u001b[39m_allow_stdin:\n\u001b[1;32m   <a href='file:///home/ritesh/.cache/pypoetry/virtualenvs/gbif-eStXkc9Y-py3.8/lib/python3.8/site-packages/ipykernel/kernelbase.py?line=1173'>1174</a>\u001b[0m     \u001b[39mraise\u001b[39;00m StdinNotImplementedError(\n\u001b[1;32m   <a href='file:///home/ritesh/.cache/pypoetry/virtualenvs/gbif-eStXkc9Y-py3.8/lib/python3.8/site-packages/ipykernel/kernelbase.py?line=1174'>1175</a>\u001b[0m         \u001b[39m\"\u001b[39m\u001b[39mraw_input was called, but this frontend does not support input requests.\u001b[39m\u001b[39m\"\u001b[39m\n\u001b[1;32m   <a href='file:///home/ritesh/.cache/pypoetry/virtualenvs/gbif-eStXkc9Y-py3.8/lib/python3.8/site-packages/ipykernel/kernelbase.py?line=1175'>1176</a>\u001b[0m     )\n\u001b[0;32m-> <a href='file:///home/ritesh/.cache/pypoetry/virtualenvs/gbif-eStXkc9Y-py3.8/lib/python3.8/site-packages/ipykernel/kernelbase.py?line=1176'>1177</a>\u001b[0m \u001b[39mreturn\u001b[39;00m \u001b[39mself\u001b[39;49m\u001b[39m.\u001b[39;49m_input_request(\n\u001b[1;32m   <a href='file:///home/ritesh/.cache/pypoetry/virtualenvs/gbif-eStXkc9Y-py3.8/lib/python3.8/site-packages/ipykernel/kernelbase.py?line=1177'>1178</a>\u001b[0m     \u001b[39mstr\u001b[39;49m(prompt),\n\u001b[1;32m   <a href='file:///home/ritesh/.cache/pypoetry/virtualenvs/gbif-eStXkc9Y-py3.8/lib/python3.8/site-packages/ipykernel/kernelbase.py?line=1178'>1179</a>\u001b[0m     \u001b[39mself\u001b[39;49m\u001b[39m.\u001b[39;49m_parent_ident[\u001b[39m\"\u001b[39;49m\u001b[39mshell\u001b[39;49m\u001b[39m\"\u001b[39;49m],\n\u001b[1;32m   <a href='file:///home/ritesh/.cache/pypoetry/virtualenvs/gbif-eStXkc9Y-py3.8/lib/python3.8/site-packages/ipykernel/kernelbase.py?line=1179'>1180</a>\u001b[0m     \u001b[39mself\u001b[39;49m\u001b[39m.\u001b[39;49mget_parent(\u001b[39m\"\u001b[39;49m\u001b[39mshell\u001b[39;49m\u001b[39m\"\u001b[39;49m),\n\u001b[1;32m   <a href='file:///home/ritesh/.cache/pypoetry/virtualenvs/gbif-eStXkc9Y-py3.8/lib/python3.8/site-packages/ipykernel/kernelbase.py?line=1180'>1181</a>\u001b[0m     password\u001b[39m=\u001b[39;49m\u001b[39mFalse\u001b[39;49;00m,\n\u001b[1;32m   <a href='file:///home/ritesh/.cache/pypoetry/virtualenvs/gbif-eStXkc9Y-py3.8/lib/python3.8/site-packages/ipykernel/kernelbase.py?line=1181'>1182</a>\u001b[0m )\n",
      "File \u001b[0;32m~/.cache/pypoetry/virtualenvs/gbif-eStXkc9Y-py3.8/lib/python3.8/site-packages/ipykernel/kernelbase.py:1219\u001b[0m, in \u001b[0;36mKernel._input_request\u001b[0;34m(self, prompt, ident, parent, password)\u001b[0m\n\u001b[1;32m   <a href='file:///home/ritesh/.cache/pypoetry/virtualenvs/gbif-eStXkc9Y-py3.8/lib/python3.8/site-packages/ipykernel/kernelbase.py?line=1215'>1216</a>\u001b[0m             \u001b[39mbreak\u001b[39;00m\n\u001b[1;32m   <a href='file:///home/ritesh/.cache/pypoetry/virtualenvs/gbif-eStXkc9Y-py3.8/lib/python3.8/site-packages/ipykernel/kernelbase.py?line=1216'>1217</a>\u001b[0m \u001b[39mexcept\u001b[39;00m \u001b[39mKeyboardInterrupt\u001b[39;00m:\n\u001b[1;32m   <a href='file:///home/ritesh/.cache/pypoetry/virtualenvs/gbif-eStXkc9Y-py3.8/lib/python3.8/site-packages/ipykernel/kernelbase.py?line=1217'>1218</a>\u001b[0m     \u001b[39m# re-raise KeyboardInterrupt, to truncate traceback\u001b[39;00m\n\u001b[0;32m-> <a href='file:///home/ritesh/.cache/pypoetry/virtualenvs/gbif-eStXkc9Y-py3.8/lib/python3.8/site-packages/ipykernel/kernelbase.py?line=1218'>1219</a>\u001b[0m     \u001b[39mraise\u001b[39;00m \u001b[39mKeyboardInterrupt\u001b[39;00m(\u001b[39m\"\u001b[39m\u001b[39mInterrupted by user\u001b[39m\u001b[39m\"\u001b[39m) \u001b[39mfrom\u001b[39;00m \u001b[39mNone\u001b[39m\n\u001b[1;32m   <a href='file:///home/ritesh/.cache/pypoetry/virtualenvs/gbif-eStXkc9Y-py3.8/lib/python3.8/site-packages/ipykernel/kernelbase.py?line=1219'>1220</a>\u001b[0m \u001b[39mexcept\u001b[39;00m \u001b[39mException\u001b[39;00m:\n\u001b[1;32m   <a href='file:///home/ritesh/.cache/pypoetry/virtualenvs/gbif-eStXkc9Y-py3.8/lib/python3.8/site-packages/ipykernel/kernelbase.py?line=1220'>1221</a>\u001b[0m     \u001b[39mself\u001b[39m\u001b[39m.\u001b[39mlog\u001b[39m.\u001b[39mwarning(\u001b[39m\"\u001b[39m\u001b[39mInvalid Message:\u001b[39m\u001b[39m\"\u001b[39m, exc_info\u001b[39m=\u001b[39m\u001b[39mTrue\u001b[39;00m)\n",
      "\u001b[0;31mKeyboardInterrupt\u001b[0m: Interrupted by user"
     ]
    }
   ],
   "source": [
    "inst = covariates.GBIF_COVARIATES()"
   ]
  },
  {
   "cell_type": "code",
   "execution_count": 4,
   "metadata": {},
   "outputs": [
    {
     "ename": "NameError",
     "evalue": "name 'inst' is not defined",
     "output_type": "error",
     "traceback": [
      "\u001b[0;31m---------------------------------------------------------------------------\u001b[0m",
      "\u001b[0;31mNameError\u001b[0m                                 Traceback (most recent call last)",
      "\u001b[1;32m/mnt/Work/GitClonesPersonal/bio-conservation/gbif/gbif/quick_test.ipynb Cell 32'\u001b[0m in \u001b[0;36m<cell line: 1>\u001b[0;34m()\u001b[0m\n\u001b[0;32m----> <a href='vscode-notebook-cell:/mnt/Work/GitClonesPersonal/bio-conservation/gbif/gbif/quick_test.ipynb#ch0000031?line=0'>1</a>\u001b[0m data \u001b[39m=\u001b[39m inst\u001b[39m.\u001b[39mget_gbif_covariates(\n\u001b[1;32m      <a href='vscode-notebook-cell:/mnt/Work/GitClonesPersonal/bio-conservation/gbif/gbif/quick_test.ipynb#ch0000031?line=1'>2</a>\u001b[0m     event_date \u001b[39m=\u001b[39m \u001b[39m'\u001b[39m\u001b[39m2022-06-11\u001b[39m\u001b[39m'\u001b[39m, \n\u001b[1;32m      <a href='vscode-notebook-cell:/mnt/Work/GitClonesPersonal/bio-conservation/gbif/gbif/quick_test.ipynb#ch0000031?line=2'>3</a>\u001b[0m     country\u001b[39m=\u001b[39m\u001b[39m'\u001b[39m\u001b[39mGB\u001b[39m\u001b[39m'\u001b[39m\n\u001b[1;32m      <a href='vscode-notebook-cell:/mnt/Work/GitClonesPersonal/bio-conservation/gbif/gbif/quick_test.ipynb#ch0000031?line=3'>4</a>\u001b[0m )\n",
      "\u001b[0;31mNameError\u001b[0m: name 'inst' is not defined"
     ]
    }
   ],
   "source": [
    "data = inst.get_gbif_covariates(\n",
    "    event_date = '2022-06-11', \n",
    "    country='GB'\n",
    ")"
   ]
  },
  {
   "cell_type": "code",
   "execution_count": null,
   "metadata": {},
   "outputs": [],
   "source": [
    "data.columns()"
   ]
  },
  {
   "cell_type": "code",
   "execution_count": 7,
   "metadata": {},
   "outputs": [],
   "source": [
    "import time"
   ]
  },
  {
   "cell_type": "code",
   "execution_count": 9,
   "metadata": {},
   "outputs": [],
   "source": [
    "x = time.time()"
   ]
  },
  {
   "cell_type": "code",
   "execution_count": 16,
   "metadata": {},
   "outputs": [
    {
     "name": "stdout",
     "output_type": "stream",
     "text": [
      "Time taken: 270.6\n"
     ]
    }
   ],
   "source": [
    "print(\"Time taken:\",round(time.time() -x,1) )"
   ]
  }
 ],
 "metadata": {
  "interpreter": {
   "hash": "36cf16204b8548560b1c020c4e8fb5b57f0e4c58016f52f2d4be01e192833930"
  },
  "kernelspec": {
   "display_name": "Python 3.9.13 64-bit",
   "language": "python",
   "name": "python3"
  },
  "language_info": {
   "codemirror_mode": {
    "name": "ipython",
    "version": 3
   },
   "file_extension": ".py",
   "mimetype": "text/x-python",
   "name": "python",
   "nbconvert_exporter": "python",
   "pygments_lexer": "ipython3",
   "version": "3.8.10"
  },
  "orig_nbformat": 4
 },
 "nbformat": 4,
 "nbformat_minor": 2
}
