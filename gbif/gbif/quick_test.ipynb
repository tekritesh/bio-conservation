{
 "cells": [
  {
   "cell_type": "code",
   "execution_count": null,
   "metadata": {},
   "outputs": [],
   "source": [
    "from noaa_sdk import NOAA\n",
    "import pandas as pd\n",
    "\n",
    "\n",
    "df= pd.read_csv(\"/mnt/Work/PersonalData/Raw/GBIF/Data/Vulpes vulpes_Haliaeetus albicilla_Dama dama_Hydropotes inermis_Capreolus capreolus_Cervus elaphus.csv\")\n",
    "\n",
    "df.head()"
   ]
  },
  {
   "cell_type": "code",
   "execution_count": null,
   "metadata": {},
   "outputs": [],
   "source": []
  },
  {
   "cell_type": "code",
   "execution_count": null,
   "metadata": {},
   "outputs": [],
   "source": [
    "n = NOAA()\n",
    "n.get_forecasts()\n",
    "res = n.get_forecasts('11365', 'US', type='forecastGridData')\n",
    "for i in res:\n",
    "    print(i)"
   ]
  },
  {
   "cell_type": "code",
   "execution_count": null,
   "metadata": {},
   "outputs": [],
   "source": [
    "# results= n.get_observations_by_lat_lon(\n",
    "#     lat=51.271,\n",
    "#     lon=-1.230,\n",
    "    \n",
    "#     # 40.7314,\n",
    "#     # -73.8656,\n",
    "#     # start='2021-01-01',\n",
    "#     # end='2021-01-10',\n",
    "#     num_of_stations=100)\n",
    "\n",
    "results = n.points_forecast(40.7314, -73.8656, hourly= False)\n",
    "\n"
   ]
  },
  {
   "cell_type": "code",
   "execution_count": null,
   "metadata": {},
   "outputs": [],
   "source": [
    "from meteostat import Point, Daily\n",
    "from datetime import datetime\n",
    "\n",
    "# Refer : https://dev.meteostat.net/python/point.html#api"
   ]
  },
  {
   "cell_type": "code",
   "execution_count": null,
   "metadata": {},
   "outputs": [],
   "source": [
    "\n",
    "date_string = \"2012-12-12\"\n",
    "start = datetime.fromisoformat(date_string)\n",
    "end = datetime.fromisoformat(date_string)\n",
    "\n",
    "# Set time period\n",
    "# start = datetime(2022, 6, 11)\n",
    "# end = datetime(2022, 6, 11)\n",
    "\n",
    "# Create Point for Vancouver, BC\n",
    "location = Point(52.33428, 4.544288)\n",
    "\n",
    "# Get daily data for 2018\n",
    "data = Daily(location, start, end)\n",
    "data = data.fetch()"
   ]
  },
  {
   "cell_type": "code",
   "execution_count": null,
   "metadata": {},
   "outputs": [],
   "source": [
    "import logging"
   ]
  },
  {
   "cell_type": "code",
   "execution_count": null,
   "metadata": {},
   "outputs": [],
   "source": [
    "log = logging.getLogger(\"my-logger\")"
   ]
  },
  {
   "cell_type": "code",
   "execution_count": null,
   "metadata": {},
   "outputs": [],
   "source": [
    "log.info(\"Hello\")"
   ]
  },
  {
   "cell_type": "code",
   "execution_count": null,
   "metadata": {},
   "outputs": [],
   "source": [
    "date_string = \"2012-12-12\"\n",
    "print (datetime.fromisoformat(date_string))"
   ]
  },
  {
   "cell_type": "code",
   "execution_count": null,
   "metadata": {},
   "outputs": [],
   "source": [
    "# pd.DataFrame(results)\n",
    "len(data.index)"
   ]
  },
  {
   "cell_type": "code",
   "execution_count": null,
   "metadata": {},
   "outputs": [],
   "source": [
    "from gbif import climate\n",
    "import logging"
   ]
  },
  {
   "cell_type": "code",
   "execution_count": null,
   "metadata": {},
   "outputs": [],
   "source": []
  },
  {
   "cell_type": "code",
   "execution_count": null,
   "metadata": {},
   "outputs": [],
   "source": [
    "c= climate.GetClimateData(log_level=logging.DEBUG)"
   ]
  },
  {
   "cell_type": "code",
   "execution_count": null,
   "metadata": {},
   "outputs": [],
   "source": [
    "df = c.get_interpolated_climate_data(\n",
    "    lat_deg=52.33428,\n",
    "    lon_deg=4.544288,\n",
    "    start_date='2022-01-02',\n",
    "    end_date='2022-01-02'\n",
    ")\n",
    "df"
   ]
  },
  {
   "cell_type": "code",
   "execution_count": null,
   "metadata": {},
   "outputs": [],
   "source": [
    "assert df['tavg'].values[0] == 10.6"
   ]
  },
  {
   "cell_type": "code",
   "execution_count": null,
   "metadata": {},
   "outputs": [],
   "source": [
    "from gbif import human_interference\n"
   ]
  },
  {
   "cell_type": "code",
   "execution_count": null,
   "metadata": {},
   "outputs": [],
   "source": [
    "c = human_interference.HumanInterference()"
   ]
  },
  {
   "cell_type": "code",
   "execution_count": null,
   "metadata": {},
   "outputs": [],
   "source": [
    "radiance = c.get_avg_radiance(\n",
    "    lat=52.33428,\n",
    "    lon=4.544288,\n",
    "    date='2022-01-02')\n",
    "\n",
    "assert round(radiance,2) ==11.75"
   ]
  },
  {
   "cell_type": "code",
   "execution_count": null,
   "metadata": {},
   "outputs": [],
   "source": [
    "# from pygbif import occurrences as occ\n",
    "\n",
    "\n",
    "# from pygbif import occurences as occ\n"
   ]
  },
  {
   "cell_type": "code",
   "execution_count": null,
   "metadata": {},
   "outputs": [],
   "source": [
    "from gbif import species\n",
    "c = species.Occurence()\n",
    "\n",
    "data= c.get_occurrences(\n",
    "    eventDate='2022-01-02',\n",
    "    country=\"GB\",\n",
    ")"
   ]
  },
  {
   "cell_type": "code",
   "execution_count": null,
   "metadata": {},
   "outputs": [],
   "source": [
    "data['key'].values[0] == 3436650793"
   ]
  },
  {
   "cell_type": "code",
   "execution_count": null,
   "metadata": {},
   "outputs": [],
   "source": [
    "from gbif import land_cover"
   ]
  },
  {
   "cell_type": "code",
   "execution_count": null,
   "metadata": {},
   "outputs": [],
   "source": [
    "inst = land_cover.LandCover()"
   ]
  },
  {
   "cell_type": "code",
   "execution_count": null,
   "metadata": {},
   "outputs": [],
   "source": [
    "inst.get_land_label(\n",
    "    lat_deg=52.33428,\n",
    "    lon_deg=4.544288,\n",
    "    start_date='2022-01-01',\n",
    "    end_date='2022-06-01')"
   ]
  },
  {
   "cell_type": "code",
   "execution_count": null,
   "metadata": {},
   "outputs": [],
   "source": [
    "from gbif import soil_data\n",
    "import logging"
   ]
  },
  {
   "cell_type": "code",
   "execution_count": null,
   "metadata": {},
   "outputs": [],
   "source": [
    "inst = soil_data.SoilDataParser()"
   ]
  },
  {
   "cell_type": "code",
   "execution_count": null,
   "metadata": {},
   "outputs": [],
   "source": [
    "data = inst.get_soil_data(\n",
    "    lat_deg=52.33428,\n",
    "    lon_deg=1.544288,\n",
    "    country=\"GB\"\n",
    ")"
   ]
  },
  {
   "cell_type": "code",
   "execution_count": null,
   "metadata": {},
   "outputs": [],
   "source": [
    "data\n",
    "# assert data[\"phh2o\"] == 0.0\n",
    "# assert data[\"clay\"] == 0.0"
   ]
  },
  {
   "cell_type": "code",
   "execution_count": 1,
   "metadata": {},
   "outputs": [],
   "source": [
    "from gbif import covariates\n",
    "import logging"
   ]
  },
  {
   "cell_type": "code",
   "execution_count": 2,
   "metadata": {},
   "outputs": [
    {
     "name": "stderr",
     "output_type": "stream",
     "text": [
      "2022-07-17 15:11:26,196 - Init GBIF Covariate API\n",
      "2022-07-17 15:11:26,198 - Init Earth Engine\n"
     ]
    }
   ],
   "source": [
    "inst = covariates.GBIF_COVARIATES()"
   ]
  },
  {
   "cell_type": "code",
   "execution_count": 4,
   "metadata": {},
   "outputs": [
    {
     "name": "stderr",
     "output_type": "stream",
     "text": [
      "2022-07-17 15:26:21,869 - Getting Occurence Data for Date:2022-06-11 and Country: GB\n"
     ]
    },
    {
     "ename": "KeyboardInterrupt",
     "evalue": "",
     "output_type": "error",
     "traceback": [
      "\u001b[0;31m---------------------------------------------------------------------------\u001b[0m",
      "\u001b[0;31mKeyboardInterrupt\u001b[0m                         Traceback (most recent call last)",
      "\u001b[1;32m/mnt/Work/GitClonesPersonal/bio-conservation/gbif/gbif/quick_test.ipynb Cell 32'\u001b[0m in \u001b[0;36m<cell line: 1>\u001b[0;34m()\u001b[0m\n\u001b[0;32m----> <a href='vscode-notebook-cell:/mnt/Work/GitClonesPersonal/bio-conservation/gbif/gbif/quick_test.ipynb#ch0000031?line=0'>1</a>\u001b[0m data \u001b[39m=\u001b[39m inst\u001b[39m.\u001b[39;49mget_gbif_covariates(\n\u001b[1;32m      <a href='vscode-notebook-cell:/mnt/Work/GitClonesPersonal/bio-conservation/gbif/gbif/quick_test.ipynb#ch0000031?line=1'>2</a>\u001b[0m     event_date \u001b[39m=\u001b[39;49m \u001b[39m'\u001b[39;49m\u001b[39m2022-06-11\u001b[39;49m\u001b[39m'\u001b[39;49m, \n\u001b[1;32m      <a href='vscode-notebook-cell:/mnt/Work/GitClonesPersonal/bio-conservation/gbif/gbif/quick_test.ipynb#ch0000031?line=2'>3</a>\u001b[0m     country\u001b[39m=\u001b[39;49m\u001b[39m'\u001b[39;49m\u001b[39mGB\u001b[39;49m\u001b[39m'\u001b[39;49m\n\u001b[1;32m      <a href='vscode-notebook-cell:/mnt/Work/GitClonesPersonal/bio-conservation/gbif/gbif/quick_test.ipynb#ch0000031?line=3'>4</a>\u001b[0m )\n",
      "File \u001b[0;32m/mnt/Work/GitClonesPersonal/bio-conservation/gbif/gbif/covariates.py:43\u001b[0m, in \u001b[0;36mget_gbif_covariates\u001b[0;34m(self, event_date, country)\u001b[0m\n\u001b[1;32m     <a href='file:///mnt/Work/GitClonesPersonal/bio-conservation/gbif/gbif/covariates.py?line=31'>32</a>\u001b[0m \u001b[39mself\u001b[39m\u001b[39m.\u001b[39mdf_species[\u001b[39m'\u001b[39m\u001b[39mdate\u001b[39m\u001b[39m'\u001b[39m] \u001b[39m=\u001b[39m \u001b[39mself\u001b[39m\u001b[39m.\u001b[39mdf_species[\u001b[39m'\u001b[39m\u001b[39meventDate\u001b[39m\u001b[39m'\u001b[39m]\u001b[39m.\u001b[39mastype(\u001b[39mstr\u001b[39m)\u001b[39m.\u001b[39mstr[:\u001b[39m10\u001b[39m]\n\u001b[1;32m     <a href='file:///mnt/Work/GitClonesPersonal/bio-conservation/gbif/gbif/covariates.py?line=32'>33</a>\u001b[0m \u001b[39mself\u001b[39m\u001b[39m.\u001b[39mdf_species[\u001b[39m'\u001b[39m\u001b[39mavg_radiance\u001b[39m\u001b[39m'\u001b[39m] \u001b[39m=\u001b[39m \u001b[39mself\u001b[39m\u001b[39m.\u001b[39mdf_species[[\u001b[39m'\u001b[39m\u001b[39mdecimalLatitude\u001b[39m\u001b[39m'\u001b[39m,\n\u001b[1;32m     <a href='file:///mnt/Work/GitClonesPersonal/bio-conservation/gbif/gbif/covariates.py?line=33'>34</a>\u001b[0m                                 \u001b[39m'\u001b[39m\u001b[39mdecimalLongitude\u001b[39m\u001b[39m'\u001b[39m,\n\u001b[1;32m     <a href='file:///mnt/Work/GitClonesPersonal/bio-conservation/gbif/gbif/covariates.py?line=34'>35</a>\u001b[0m                                 \u001b[39m'\u001b[39m\u001b[39mdate\u001b[39m\u001b[39m'\u001b[39m]]\u001b[39m.\u001b[39m\\\n\u001b[0;32m   (...)\u001b[0m\n\u001b[1;32m     <a href='file:///mnt/Work/GitClonesPersonal/bio-conservation/gbif/gbif/covariates.py?line=37'>38</a>\u001b[0m                                                                 date\u001b[39m=\u001b[39m x\u001b[39m.\u001b[39mdate),\n\u001b[1;32m     <a href='file:///mnt/Work/GitClonesPersonal/bio-conservation/gbif/gbif/covariates.py?line=38'>39</a>\u001b[0m                                     axis\u001b[39m=\u001b[39m\u001b[39m1\u001b[39m)\n\u001b[1;32m     <a href='file:///mnt/Work/GitClonesPersonal/bio-conservation/gbif/gbif/covariates.py?line=41'>42</a>\u001b[0m \u001b[39mself\u001b[39m\u001b[39m.\u001b[39mdf_species[\u001b[39m'\u001b[39m\u001b[39mavg_deg_urban\u001b[39m\u001b[39m'\u001b[39m] \u001b[39m=\u001b[39m \u001b[39mself\u001b[39m\u001b[39m.\u001b[39mdf_species[[\u001b[39m'\u001b[39m\u001b[39mdecimalLatitude\u001b[39m\u001b[39m'\u001b[39m,\n\u001b[0;32m---> <a href='file:///mnt/Work/GitClonesPersonal/bio-conservation/gbif/gbif/covariates.py?line=42'>43</a>\u001b[0m                                 \u001b[39m'\u001b[39m\u001b[39mdecimalLongitude\u001b[39m\u001b[39m'\u001b[39m]]\u001b[39m.\u001b[39m\\\n\u001b[1;32m     <a href='file:///mnt/Work/GitClonesPersonal/bio-conservation/gbif/gbif/covariates.py?line=43'>44</a>\u001b[0m                                 apply(\u001b[39mlambda\u001b[39;00m x: \u001b[39mself\u001b[39m\u001b[39m.\u001b[39minst_human_interference\u001b[39m.\u001b[39mget_avg_deg_urban(lat \u001b[39m=\u001b[39m x[\u001b[39m'\u001b[39m\u001b[39mdecimalLatitude\u001b[39m\u001b[39m'\u001b[39m],\n\u001b[1;32m     <a href='file:///mnt/Work/GitClonesPersonal/bio-conservation/gbif/gbif/covariates.py?line=44'>45</a>\u001b[0m                                                                     lon\u001b[39m=\u001b[39mx[\u001b[39m'\u001b[39m\u001b[39mdecimalLongitude\u001b[39m\u001b[39m'\u001b[39m]),\n\u001b[1;32m     <a href='file:///mnt/Work/GitClonesPersonal/bio-conservation/gbif/gbif/covariates.py?line=45'>46</a>\u001b[0m                                     axis\u001b[39m=\u001b[39m\u001b[39m1\u001b[39m)\n\u001b[1;32m     <a href='file:///mnt/Work/GitClonesPersonal/bio-conservation/gbif/gbif/covariates.py?line=47'>48</a>\u001b[0m \u001b[39mreturn\u001b[39;00m \u001b[39mself\u001b[39m\u001b[39m.\u001b[39mdf_species[[\u001b[39m'\u001b[39m\u001b[39mdecimalLatitude\u001b[39m\u001b[39m'\u001b[39m, \u001b[39m'\u001b[39m\u001b[39mdecimalLongitude\u001b[39m\u001b[39m'\u001b[39m, \n\u001b[1;32m     <a href='file:///mnt/Work/GitClonesPersonal/bio-conservation/gbif/gbif/covariates.py?line=48'>49</a>\u001b[0m \u001b[39m'\u001b[39m\u001b[39mcountryCode\u001b[39m\u001b[39m'\u001b[39m, \u001b[39m'\u001b[39m\u001b[39meventDate\u001b[39m\u001b[39m'\u001b[39m,  \u001b[39m'\u001b[39m\u001b[39mavg_radiance\u001b[39m\u001b[39m'\u001b[39m, \u001b[39m'\u001b[39m\u001b[39mavg_deg_urban\u001b[39m\u001b[39m'\u001b[39m, \u001b[39m'\u001b[39m\u001b[39mscientificName\u001b[39m\u001b[39m'\u001b[39m]]\u001b[39m.\u001b[39mcopy()\n",
      "File \u001b[0;32m/mnt/Work/GitClonesPersonal/bio-conservation/gbif/gbif/species.py:36\u001b[0m, in \u001b[0;36mOccurence.get_occurrences\u001b[0;34m(self, eventDate, country, offset)\u001b[0m\n\u001b[1;32m     <a href='file:///mnt/Work/GitClonesPersonal/bio-conservation/gbif/gbif/species.py?line=33'>34</a>\u001b[0m out_df \u001b[39m=\u001b[39m pd\u001b[39m.\u001b[39mDataFrame()\n\u001b[1;32m     <a href='file:///mnt/Work/GitClonesPersonal/bio-conservation/gbif/gbif/species.py?line=34'>35</a>\u001b[0m \u001b[39mwhile\u001b[39;00m output_rows \u001b[39m>\u001b[39m\u001b[39m=\u001b[39m batch_size:\n\u001b[0;32m---> <a href='file:///mnt/Work/GitClonesPersonal/bio-conservation/gbif/gbif/species.py?line=35'>36</a>\u001b[0m     temp_df \u001b[39m=\u001b[39m pd\u001b[39m.\u001b[39mDataFrame(pygbif\u001b[39m.\u001b[39;49moccurrences\u001b[39m.\u001b[39;49msearch(eventDate\u001b[39m=\u001b[39;49meventDate, country\u001b[39m=\u001b[39;49mcountry,\n\u001b[1;32m     <a href='file:///mnt/Work/GitClonesPersonal/bio-conservation/gbif/gbif/species.py?line=36'>37</a>\u001b[0m                                     offset\u001b[39m=\u001b[39;49moffset, hasCoordinate\u001b[39m=\u001b[39;49m\u001b[39mTrue\u001b[39;49;00m)[\u001b[39m'\u001b[39m\u001b[39mresults\u001b[39m\u001b[39m'\u001b[39m])\n\u001b[1;32m     <a href='file:///mnt/Work/GitClonesPersonal/bio-conservation/gbif/gbif/species.py?line=37'>38</a>\u001b[0m     offset \u001b[39m+\u001b[39m\u001b[39m=\u001b[39m batch_size\n\u001b[1;32m     <a href='file:///mnt/Work/GitClonesPersonal/bio-conservation/gbif/gbif/species.py?line=38'>39</a>\u001b[0m     output_rows \u001b[39m=\u001b[39m temp_df\u001b[39m.\u001b[39mshape[\u001b[39m0\u001b[39m]\n",
      "File \u001b[0;32m~/.cache/pypoetry/virtualenvs/gbif-eStXkc9Y-py3.8/lib/python3.8/site-packages/pygbif/occurrences/search.py:408\u001b[0m, in \u001b[0;36msearch\u001b[0;34m(taxonKey, repatriated, kingdomKey, phylumKey, classKey, orderKey, familyKey, genusKey, subgenusKey, scientificName, country, publishingCountry, hasCoordinate, typeStatus, recordNumber, lastInterpreted, continent, geometry, recordedBy, recordedByID, identifiedByID, basisOfRecord, datasetKey, eventDate, catalogNumber, year, month, decimalLatitude, decimalLongitude, elevation, depth, institutionCode, collectionCode, hasGeospatialIssue, issue, q, spellCheck, mediatype, limit, offset, establishmentMeans, facet, facetMincount, facetMultiselect, **kwargs)\u001b[0m\n\u001b[1;32m    <a href='file:///home/ritesh/.cache/pypoetry/virtualenvs/gbif-eStXkc9Y-py3.8/lib/python3.8/site-packages/pygbif/occurrences/search.py?line=405'>406</a>\u001b[0m     args\u001b[39m.\u001b[39mupdate(xx)\n\u001b[1;32m    <a href='file:///home/ritesh/.cache/pypoetry/virtualenvs/gbif-eStXkc9Y-py3.8/lib/python3.8/site-packages/pygbif/occurrences/search.py?line=406'>407</a>\u001b[0m kwargs \u001b[39m=\u001b[39m {key: kwargs[key] \u001b[39mfor\u001b[39;00m key \u001b[39min\u001b[39;00m kwargs \u001b[39mif\u001b[39;00m key \u001b[39min\u001b[39;00m requests_argset}\n\u001b[0;32m--> <a href='file:///home/ritesh/.cache/pypoetry/virtualenvs/gbif-eStXkc9Y-py3.8/lib/python3.8/site-packages/pygbif/occurrences/search.py?line=407'>408</a>\u001b[0m out \u001b[39m=\u001b[39m gbif_GET(url, args, \u001b[39m*\u001b[39;49m\u001b[39m*\u001b[39;49mkwargs)\n\u001b[1;32m    <a href='file:///home/ritesh/.cache/pypoetry/virtualenvs/gbif-eStXkc9Y-py3.8/lib/python3.8/site-packages/pygbif/occurrences/search.py?line=408'>409</a>\u001b[0m \u001b[39mreturn\u001b[39;00m out\n",
      "File \u001b[0;32m~/.cache/pypoetry/virtualenvs/gbif-eStXkc9Y-py3.8/lib/python3.8/site-packages/pygbif/gbifutils.py:33\u001b[0m, in \u001b[0;36mgbif_GET\u001b[0;34m(url, args, **kwargs)\u001b[0m\n\u001b[1;32m     <a href='file:///home/ritesh/.cache/pypoetry/virtualenvs/gbif-eStXkc9Y-py3.8/lib/python3.8/site-packages/pygbif/gbifutils.py?line=31'>32</a>\u001b[0m \u001b[39mdef\u001b[39;00m \u001b[39mgbif_GET\u001b[39m(url, args, \u001b[39m*\u001b[39m\u001b[39m*\u001b[39mkwargs):\n\u001b[0;32m---> <a href='file:///home/ritesh/.cache/pypoetry/virtualenvs/gbif-eStXkc9Y-py3.8/lib/python3.8/site-packages/pygbif/gbifutils.py?line=32'>33</a>\u001b[0m     out \u001b[39m=\u001b[39m requests\u001b[39m.\u001b[39;49mget(url, params\u001b[39m=\u001b[39;49margs, headers\u001b[39m=\u001b[39;49mmake_ua(), \u001b[39m*\u001b[39;49m\u001b[39m*\u001b[39;49mkwargs)\n\u001b[1;32m     <a href='file:///home/ritesh/.cache/pypoetry/virtualenvs/gbif-eStXkc9Y-py3.8/lib/python3.8/site-packages/pygbif/gbifutils.py?line=33'>34</a>\u001b[0m     out\u001b[39m.\u001b[39mraise_for_status()\n\u001b[1;32m     <a href='file:///home/ritesh/.cache/pypoetry/virtualenvs/gbif-eStXkc9Y-py3.8/lib/python3.8/site-packages/pygbif/gbifutils.py?line=34'>35</a>\u001b[0m     stopifnot(out\u001b[39m.\u001b[39mheaders[\u001b[39m\"\u001b[39m\u001b[39mcontent-type\u001b[39m\u001b[39m\"\u001b[39m])\n",
      "File \u001b[0;32m~/.cache/pypoetry/virtualenvs/gbif-eStXkc9Y-py3.8/lib/python3.8/site-packages/requests/api.py:73\u001b[0m, in \u001b[0;36mget\u001b[0;34m(url, params, **kwargs)\u001b[0m\n\u001b[1;32m     <a href='file:///home/ritesh/.cache/pypoetry/virtualenvs/gbif-eStXkc9Y-py3.8/lib/python3.8/site-packages/requests/api.py?line=61'>62</a>\u001b[0m \u001b[39mdef\u001b[39;00m \u001b[39mget\u001b[39m(url, params\u001b[39m=\u001b[39m\u001b[39mNone\u001b[39;00m, \u001b[39m*\u001b[39m\u001b[39m*\u001b[39mkwargs):\n\u001b[1;32m     <a href='file:///home/ritesh/.cache/pypoetry/virtualenvs/gbif-eStXkc9Y-py3.8/lib/python3.8/site-packages/requests/api.py?line=62'>63</a>\u001b[0m     \u001b[39mr\u001b[39m\u001b[39m\"\"\"Sends a GET request.\u001b[39;00m\n\u001b[1;32m     <a href='file:///home/ritesh/.cache/pypoetry/virtualenvs/gbif-eStXkc9Y-py3.8/lib/python3.8/site-packages/requests/api.py?line=63'>64</a>\u001b[0m \n\u001b[1;32m     <a href='file:///home/ritesh/.cache/pypoetry/virtualenvs/gbif-eStXkc9Y-py3.8/lib/python3.8/site-packages/requests/api.py?line=64'>65</a>\u001b[0m \u001b[39m    :param url: URL for the new :class:`Request` object.\u001b[39;00m\n\u001b[0;32m   (...)\u001b[0m\n\u001b[1;32m     <a href='file:///home/ritesh/.cache/pypoetry/virtualenvs/gbif-eStXkc9Y-py3.8/lib/python3.8/site-packages/requests/api.py?line=69'>70</a>\u001b[0m \u001b[39m    :rtype: requests.Response\u001b[39;00m\n\u001b[1;32m     <a href='file:///home/ritesh/.cache/pypoetry/virtualenvs/gbif-eStXkc9Y-py3.8/lib/python3.8/site-packages/requests/api.py?line=70'>71</a>\u001b[0m \u001b[39m    \"\"\"\u001b[39;00m\n\u001b[0;32m---> <a href='file:///home/ritesh/.cache/pypoetry/virtualenvs/gbif-eStXkc9Y-py3.8/lib/python3.8/site-packages/requests/api.py?line=72'>73</a>\u001b[0m     \u001b[39mreturn\u001b[39;00m request(\u001b[39m\"\u001b[39;49m\u001b[39mget\u001b[39;49m\u001b[39m\"\u001b[39;49m, url, params\u001b[39m=\u001b[39;49mparams, \u001b[39m*\u001b[39;49m\u001b[39m*\u001b[39;49mkwargs)\n",
      "File \u001b[0;32m~/.cache/pypoetry/virtualenvs/gbif-eStXkc9Y-py3.8/lib/python3.8/site-packages/requests/api.py:59\u001b[0m, in \u001b[0;36mrequest\u001b[0;34m(method, url, **kwargs)\u001b[0m\n\u001b[1;32m     <a href='file:///home/ritesh/.cache/pypoetry/virtualenvs/gbif-eStXkc9Y-py3.8/lib/python3.8/site-packages/requests/api.py?line=54'>55</a>\u001b[0m \u001b[39m# By using the 'with' statement we are sure the session is closed, thus we\u001b[39;00m\n\u001b[1;32m     <a href='file:///home/ritesh/.cache/pypoetry/virtualenvs/gbif-eStXkc9Y-py3.8/lib/python3.8/site-packages/requests/api.py?line=55'>56</a>\u001b[0m \u001b[39m# avoid leaving sockets open which can trigger a ResourceWarning in some\u001b[39;00m\n\u001b[1;32m     <a href='file:///home/ritesh/.cache/pypoetry/virtualenvs/gbif-eStXkc9Y-py3.8/lib/python3.8/site-packages/requests/api.py?line=56'>57</a>\u001b[0m \u001b[39m# cases, and look like a memory leak in others.\u001b[39;00m\n\u001b[1;32m     <a href='file:///home/ritesh/.cache/pypoetry/virtualenvs/gbif-eStXkc9Y-py3.8/lib/python3.8/site-packages/requests/api.py?line=57'>58</a>\u001b[0m \u001b[39mwith\u001b[39;00m sessions\u001b[39m.\u001b[39mSession() \u001b[39mas\u001b[39;00m session:\n\u001b[0;32m---> <a href='file:///home/ritesh/.cache/pypoetry/virtualenvs/gbif-eStXkc9Y-py3.8/lib/python3.8/site-packages/requests/api.py?line=58'>59</a>\u001b[0m     \u001b[39mreturn\u001b[39;00m session\u001b[39m.\u001b[39;49mrequest(method\u001b[39m=\u001b[39;49mmethod, url\u001b[39m=\u001b[39;49murl, \u001b[39m*\u001b[39;49m\u001b[39m*\u001b[39;49mkwargs)\n",
      "File \u001b[0;32m~/.cache/pypoetry/virtualenvs/gbif-eStXkc9Y-py3.8/lib/python3.8/site-packages/requests/sessions.py:587\u001b[0m, in \u001b[0;36mSession.request\u001b[0;34m(self, method, url, params, data, headers, cookies, files, auth, timeout, allow_redirects, proxies, hooks, stream, verify, cert, json)\u001b[0m\n\u001b[1;32m    <a href='file:///home/ritesh/.cache/pypoetry/virtualenvs/gbif-eStXkc9Y-py3.8/lib/python3.8/site-packages/requests/sessions.py?line=581'>582</a>\u001b[0m send_kwargs \u001b[39m=\u001b[39m {\n\u001b[1;32m    <a href='file:///home/ritesh/.cache/pypoetry/virtualenvs/gbif-eStXkc9Y-py3.8/lib/python3.8/site-packages/requests/sessions.py?line=582'>583</a>\u001b[0m     \u001b[39m\"\u001b[39m\u001b[39mtimeout\u001b[39m\u001b[39m\"\u001b[39m: timeout,\n\u001b[1;32m    <a href='file:///home/ritesh/.cache/pypoetry/virtualenvs/gbif-eStXkc9Y-py3.8/lib/python3.8/site-packages/requests/sessions.py?line=583'>584</a>\u001b[0m     \u001b[39m\"\u001b[39m\u001b[39mallow_redirects\u001b[39m\u001b[39m\"\u001b[39m: allow_redirects,\n\u001b[1;32m    <a href='file:///home/ritesh/.cache/pypoetry/virtualenvs/gbif-eStXkc9Y-py3.8/lib/python3.8/site-packages/requests/sessions.py?line=584'>585</a>\u001b[0m }\n\u001b[1;32m    <a href='file:///home/ritesh/.cache/pypoetry/virtualenvs/gbif-eStXkc9Y-py3.8/lib/python3.8/site-packages/requests/sessions.py?line=585'>586</a>\u001b[0m send_kwargs\u001b[39m.\u001b[39mupdate(settings)\n\u001b[0;32m--> <a href='file:///home/ritesh/.cache/pypoetry/virtualenvs/gbif-eStXkc9Y-py3.8/lib/python3.8/site-packages/requests/sessions.py?line=586'>587</a>\u001b[0m resp \u001b[39m=\u001b[39m \u001b[39mself\u001b[39;49m\u001b[39m.\u001b[39;49msend(prep, \u001b[39m*\u001b[39;49m\u001b[39m*\u001b[39;49msend_kwargs)\n\u001b[1;32m    <a href='file:///home/ritesh/.cache/pypoetry/virtualenvs/gbif-eStXkc9Y-py3.8/lib/python3.8/site-packages/requests/sessions.py?line=588'>589</a>\u001b[0m \u001b[39mreturn\u001b[39;00m resp\n",
      "File \u001b[0;32m~/.cache/pypoetry/virtualenvs/gbif-eStXkc9Y-py3.8/lib/python3.8/site-packages/requests/sessions.py:745\u001b[0m, in \u001b[0;36mSession.send\u001b[0;34m(self, request, **kwargs)\u001b[0m\n\u001b[1;32m    <a href='file:///home/ritesh/.cache/pypoetry/virtualenvs/gbif-eStXkc9Y-py3.8/lib/python3.8/site-packages/requests/sessions.py?line=741'>742</a>\u001b[0m         \u001b[39mpass\u001b[39;00m\n\u001b[1;32m    <a href='file:///home/ritesh/.cache/pypoetry/virtualenvs/gbif-eStXkc9Y-py3.8/lib/python3.8/site-packages/requests/sessions.py?line=743'>744</a>\u001b[0m \u001b[39mif\u001b[39;00m \u001b[39mnot\u001b[39;00m stream:\n\u001b[0;32m--> <a href='file:///home/ritesh/.cache/pypoetry/virtualenvs/gbif-eStXkc9Y-py3.8/lib/python3.8/site-packages/requests/sessions.py?line=744'>745</a>\u001b[0m     r\u001b[39m.\u001b[39;49mcontent\n\u001b[1;32m    <a href='file:///home/ritesh/.cache/pypoetry/virtualenvs/gbif-eStXkc9Y-py3.8/lib/python3.8/site-packages/requests/sessions.py?line=746'>747</a>\u001b[0m \u001b[39mreturn\u001b[39;00m r\n",
      "File \u001b[0;32m~/.cache/pypoetry/virtualenvs/gbif-eStXkc9Y-py3.8/lib/python3.8/site-packages/requests/models.py:899\u001b[0m, in \u001b[0;36mResponse.content\u001b[0;34m(self)\u001b[0m\n\u001b[1;32m    <a href='file:///home/ritesh/.cache/pypoetry/virtualenvs/gbif-eStXkc9Y-py3.8/lib/python3.8/site-packages/requests/models.py?line=896'>897</a>\u001b[0m         \u001b[39mself\u001b[39m\u001b[39m.\u001b[39m_content \u001b[39m=\u001b[39m \u001b[39mNone\u001b[39;00m\n\u001b[1;32m    <a href='file:///home/ritesh/.cache/pypoetry/virtualenvs/gbif-eStXkc9Y-py3.8/lib/python3.8/site-packages/requests/models.py?line=897'>898</a>\u001b[0m     \u001b[39melse\u001b[39;00m:\n\u001b[0;32m--> <a href='file:///home/ritesh/.cache/pypoetry/virtualenvs/gbif-eStXkc9Y-py3.8/lib/python3.8/site-packages/requests/models.py?line=898'>899</a>\u001b[0m         \u001b[39mself\u001b[39m\u001b[39m.\u001b[39m_content \u001b[39m=\u001b[39m \u001b[39mb\u001b[39;49m\u001b[39m\"\u001b[39;49m\u001b[39m\"\u001b[39;49m\u001b[39m.\u001b[39;49mjoin(\u001b[39mself\u001b[39;49m\u001b[39m.\u001b[39;49miter_content(CONTENT_CHUNK_SIZE)) \u001b[39mor\u001b[39;00m \u001b[39mb\u001b[39m\u001b[39m\"\u001b[39m\u001b[39m\"\u001b[39m\n\u001b[1;32m    <a href='file:///home/ritesh/.cache/pypoetry/virtualenvs/gbif-eStXkc9Y-py3.8/lib/python3.8/site-packages/requests/models.py?line=900'>901</a>\u001b[0m \u001b[39mself\u001b[39m\u001b[39m.\u001b[39m_content_consumed \u001b[39m=\u001b[39m \u001b[39mTrue\u001b[39;00m\n\u001b[1;32m    <a href='file:///home/ritesh/.cache/pypoetry/virtualenvs/gbif-eStXkc9Y-py3.8/lib/python3.8/site-packages/requests/models.py?line=901'>902</a>\u001b[0m \u001b[39m# don't need to release the connection; that's been handled by urllib3\u001b[39;00m\n\u001b[1;32m    <a href='file:///home/ritesh/.cache/pypoetry/virtualenvs/gbif-eStXkc9Y-py3.8/lib/python3.8/site-packages/requests/models.py?line=902'>903</a>\u001b[0m \u001b[39m# since we exhausted the data.\u001b[39;00m\n",
      "File \u001b[0;32m~/.cache/pypoetry/virtualenvs/gbif-eStXkc9Y-py3.8/lib/python3.8/site-packages/requests/models.py:816\u001b[0m, in \u001b[0;36mResponse.iter_content.<locals>.generate\u001b[0;34m()\u001b[0m\n\u001b[1;32m    <a href='file:///home/ritesh/.cache/pypoetry/virtualenvs/gbif-eStXkc9Y-py3.8/lib/python3.8/site-packages/requests/models.py?line=813'>814</a>\u001b[0m \u001b[39mif\u001b[39;00m \u001b[39mhasattr\u001b[39m(\u001b[39mself\u001b[39m\u001b[39m.\u001b[39mraw, \u001b[39m\"\u001b[39m\u001b[39mstream\u001b[39m\u001b[39m\"\u001b[39m):\n\u001b[1;32m    <a href='file:///home/ritesh/.cache/pypoetry/virtualenvs/gbif-eStXkc9Y-py3.8/lib/python3.8/site-packages/requests/models.py?line=814'>815</a>\u001b[0m     \u001b[39mtry\u001b[39;00m:\n\u001b[0;32m--> <a href='file:///home/ritesh/.cache/pypoetry/virtualenvs/gbif-eStXkc9Y-py3.8/lib/python3.8/site-packages/requests/models.py?line=815'>816</a>\u001b[0m         \u001b[39myield from\u001b[39;00m \u001b[39mself\u001b[39m\u001b[39m.\u001b[39mraw\u001b[39m.\u001b[39mstream(chunk_size, decode_content\u001b[39m=\u001b[39m\u001b[39mTrue\u001b[39;00m)\n\u001b[1;32m    <a href='file:///home/ritesh/.cache/pypoetry/virtualenvs/gbif-eStXkc9Y-py3.8/lib/python3.8/site-packages/requests/models.py?line=816'>817</a>\u001b[0m     \u001b[39mexcept\u001b[39;00m ProtocolError \u001b[39mas\u001b[39;00m e:\n\u001b[1;32m    <a href='file:///home/ritesh/.cache/pypoetry/virtualenvs/gbif-eStXkc9Y-py3.8/lib/python3.8/site-packages/requests/models.py?line=817'>818</a>\u001b[0m         \u001b[39mraise\u001b[39;00m ChunkedEncodingError(e)\n",
      "File \u001b[0;32m~/.cache/pypoetry/virtualenvs/gbif-eStXkc9Y-py3.8/lib/python3.8/site-packages/urllib3/response.py:575\u001b[0m, in \u001b[0;36mHTTPResponse.stream\u001b[0;34m(self, amt, decode_content)\u001b[0m\n\u001b[1;32m    <a href='file:///home/ritesh/.cache/pypoetry/virtualenvs/gbif-eStXkc9Y-py3.8/lib/python3.8/site-packages/urllib3/response.py?line=558'>559</a>\u001b[0m \u001b[39m\"\"\"\u001b[39;00m\n\u001b[1;32m    <a href='file:///home/ritesh/.cache/pypoetry/virtualenvs/gbif-eStXkc9Y-py3.8/lib/python3.8/site-packages/urllib3/response.py?line=559'>560</a>\u001b[0m \u001b[39mA generator wrapper for the read() method. A call will block until\u001b[39;00m\n\u001b[1;32m    <a href='file:///home/ritesh/.cache/pypoetry/virtualenvs/gbif-eStXkc9Y-py3.8/lib/python3.8/site-packages/urllib3/response.py?line=560'>561</a>\u001b[0m \u001b[39m``amt`` bytes have been read from the connection or until the\u001b[39;00m\n\u001b[0;32m   (...)\u001b[0m\n\u001b[1;32m    <a href='file:///home/ritesh/.cache/pypoetry/virtualenvs/gbif-eStXkc9Y-py3.8/lib/python3.8/site-packages/urllib3/response.py?line=571'>572</a>\u001b[0m \u001b[39m    'content-encoding' header.\u001b[39;00m\n\u001b[1;32m    <a href='file:///home/ritesh/.cache/pypoetry/virtualenvs/gbif-eStXkc9Y-py3.8/lib/python3.8/site-packages/urllib3/response.py?line=572'>573</a>\u001b[0m \u001b[39m\"\"\"\u001b[39;00m\n\u001b[1;32m    <a href='file:///home/ritesh/.cache/pypoetry/virtualenvs/gbif-eStXkc9Y-py3.8/lib/python3.8/site-packages/urllib3/response.py?line=573'>574</a>\u001b[0m \u001b[39mif\u001b[39;00m \u001b[39mself\u001b[39m\u001b[39m.\u001b[39mchunked \u001b[39mand\u001b[39;00m \u001b[39mself\u001b[39m\u001b[39m.\u001b[39msupports_chunked_reads():\n\u001b[0;32m--> <a href='file:///home/ritesh/.cache/pypoetry/virtualenvs/gbif-eStXkc9Y-py3.8/lib/python3.8/site-packages/urllib3/response.py?line=574'>575</a>\u001b[0m     \u001b[39mfor\u001b[39;00m line \u001b[39min\u001b[39;00m \u001b[39mself\u001b[39m\u001b[39m.\u001b[39mread_chunked(amt, decode_content\u001b[39m=\u001b[39mdecode_content):\n\u001b[1;32m    <a href='file:///home/ritesh/.cache/pypoetry/virtualenvs/gbif-eStXkc9Y-py3.8/lib/python3.8/site-packages/urllib3/response.py?line=575'>576</a>\u001b[0m         \u001b[39myield\u001b[39;00m line\n\u001b[1;32m    <a href='file:///home/ritesh/.cache/pypoetry/virtualenvs/gbif-eStXkc9Y-py3.8/lib/python3.8/site-packages/urllib3/response.py?line=576'>577</a>\u001b[0m \u001b[39melse\u001b[39;00m:\n",
      "File \u001b[0;32m~/.cache/pypoetry/virtualenvs/gbif-eStXkc9Y-py3.8/lib/python3.8/site-packages/urllib3/response.py:767\u001b[0m, in \u001b[0;36mHTTPResponse.read_chunked\u001b[0;34m(self, amt, decode_content)\u001b[0m\n\u001b[1;32m    <a href='file:///home/ritesh/.cache/pypoetry/virtualenvs/gbif-eStXkc9Y-py3.8/lib/python3.8/site-packages/urllib3/response.py?line=763'>764</a>\u001b[0m     \u001b[39mreturn\u001b[39;00m\n\u001b[1;32m    <a href='file:///home/ritesh/.cache/pypoetry/virtualenvs/gbif-eStXkc9Y-py3.8/lib/python3.8/site-packages/urllib3/response.py?line=765'>766</a>\u001b[0m \u001b[39mwhile\u001b[39;00m \u001b[39mTrue\u001b[39;00m:\n\u001b[0;32m--> <a href='file:///home/ritesh/.cache/pypoetry/virtualenvs/gbif-eStXkc9Y-py3.8/lib/python3.8/site-packages/urllib3/response.py?line=766'>767</a>\u001b[0m     \u001b[39mself\u001b[39;49m\u001b[39m.\u001b[39;49m_update_chunk_length()\n\u001b[1;32m    <a href='file:///home/ritesh/.cache/pypoetry/virtualenvs/gbif-eStXkc9Y-py3.8/lib/python3.8/site-packages/urllib3/response.py?line=767'>768</a>\u001b[0m     \u001b[39mif\u001b[39;00m \u001b[39mself\u001b[39m\u001b[39m.\u001b[39mchunk_left \u001b[39m==\u001b[39m \u001b[39m0\u001b[39m:\n\u001b[1;32m    <a href='file:///home/ritesh/.cache/pypoetry/virtualenvs/gbif-eStXkc9Y-py3.8/lib/python3.8/site-packages/urllib3/response.py?line=768'>769</a>\u001b[0m         \u001b[39mbreak\u001b[39;00m\n",
      "File \u001b[0;32m~/.cache/pypoetry/virtualenvs/gbif-eStXkc9Y-py3.8/lib/python3.8/site-packages/urllib3/response.py:697\u001b[0m, in \u001b[0;36mHTTPResponse._update_chunk_length\u001b[0;34m(self)\u001b[0m\n\u001b[1;32m    <a href='file:///home/ritesh/.cache/pypoetry/virtualenvs/gbif-eStXkc9Y-py3.8/lib/python3.8/site-packages/urllib3/response.py?line=694'>695</a>\u001b[0m \u001b[39mif\u001b[39;00m \u001b[39mself\u001b[39m\u001b[39m.\u001b[39mchunk_left \u001b[39mis\u001b[39;00m \u001b[39mnot\u001b[39;00m \u001b[39mNone\u001b[39;00m:\n\u001b[1;32m    <a href='file:///home/ritesh/.cache/pypoetry/virtualenvs/gbif-eStXkc9Y-py3.8/lib/python3.8/site-packages/urllib3/response.py?line=695'>696</a>\u001b[0m     \u001b[39mreturn\u001b[39;00m\n\u001b[0;32m--> <a href='file:///home/ritesh/.cache/pypoetry/virtualenvs/gbif-eStXkc9Y-py3.8/lib/python3.8/site-packages/urllib3/response.py?line=696'>697</a>\u001b[0m line \u001b[39m=\u001b[39m \u001b[39mself\u001b[39;49m\u001b[39m.\u001b[39;49m_fp\u001b[39m.\u001b[39;49mfp\u001b[39m.\u001b[39;49mreadline()\n\u001b[1;32m    <a href='file:///home/ritesh/.cache/pypoetry/virtualenvs/gbif-eStXkc9Y-py3.8/lib/python3.8/site-packages/urllib3/response.py?line=697'>698</a>\u001b[0m line \u001b[39m=\u001b[39m line\u001b[39m.\u001b[39msplit(\u001b[39mb\u001b[39m\u001b[39m\"\u001b[39m\u001b[39m;\u001b[39m\u001b[39m\"\u001b[39m, \u001b[39m1\u001b[39m)[\u001b[39m0\u001b[39m]\n\u001b[1;32m    <a href='file:///home/ritesh/.cache/pypoetry/virtualenvs/gbif-eStXkc9Y-py3.8/lib/python3.8/site-packages/urllib3/response.py?line=698'>699</a>\u001b[0m \u001b[39mtry\u001b[39;00m:\n",
      "File \u001b[0;32m/usr/lib/python3.8/socket.py:669\u001b[0m, in \u001b[0;36mSocketIO.readinto\u001b[0;34m(self, b)\u001b[0m\n\u001b[1;32m    <a href='file:///usr/lib/python3.8/socket.py?line=666'>667</a>\u001b[0m \u001b[39mwhile\u001b[39;00m \u001b[39mTrue\u001b[39;00m:\n\u001b[1;32m    <a href='file:///usr/lib/python3.8/socket.py?line=667'>668</a>\u001b[0m     \u001b[39mtry\u001b[39;00m:\n\u001b[0;32m--> <a href='file:///usr/lib/python3.8/socket.py?line=668'>669</a>\u001b[0m         \u001b[39mreturn\u001b[39;00m \u001b[39mself\u001b[39;49m\u001b[39m.\u001b[39;49m_sock\u001b[39m.\u001b[39;49mrecv_into(b)\n\u001b[1;32m    <a href='file:///usr/lib/python3.8/socket.py?line=669'>670</a>\u001b[0m     \u001b[39mexcept\u001b[39;00m timeout:\n\u001b[1;32m    <a href='file:///usr/lib/python3.8/socket.py?line=670'>671</a>\u001b[0m         \u001b[39mself\u001b[39m\u001b[39m.\u001b[39m_timeout_occurred \u001b[39m=\u001b[39m \u001b[39mTrue\u001b[39;00m\n",
      "File \u001b[0;32m/usr/lib/python3.8/ssl.py:1241\u001b[0m, in \u001b[0;36mSSLSocket.recv_into\u001b[0;34m(self, buffer, nbytes, flags)\u001b[0m\n\u001b[1;32m   <a href='file:///usr/lib/python3.8/ssl.py?line=1236'>1237</a>\u001b[0m     \u001b[39mif\u001b[39;00m flags \u001b[39m!=\u001b[39m \u001b[39m0\u001b[39m:\n\u001b[1;32m   <a href='file:///usr/lib/python3.8/ssl.py?line=1237'>1238</a>\u001b[0m         \u001b[39mraise\u001b[39;00m \u001b[39mValueError\u001b[39;00m(\n\u001b[1;32m   <a href='file:///usr/lib/python3.8/ssl.py?line=1238'>1239</a>\u001b[0m           \u001b[39m\"\u001b[39m\u001b[39mnon-zero flags not allowed in calls to recv_into() on \u001b[39m\u001b[39m%s\u001b[39;00m\u001b[39m\"\u001b[39m \u001b[39m%\u001b[39m\n\u001b[1;32m   <a href='file:///usr/lib/python3.8/ssl.py?line=1239'>1240</a>\u001b[0m           \u001b[39mself\u001b[39m\u001b[39m.\u001b[39m\u001b[39m__class__\u001b[39m)\n\u001b[0;32m-> <a href='file:///usr/lib/python3.8/ssl.py?line=1240'>1241</a>\u001b[0m     \u001b[39mreturn\u001b[39;00m \u001b[39mself\u001b[39;49m\u001b[39m.\u001b[39;49mread(nbytes, buffer)\n\u001b[1;32m   <a href='file:///usr/lib/python3.8/ssl.py?line=1241'>1242</a>\u001b[0m \u001b[39melse\u001b[39;00m:\n\u001b[1;32m   <a href='file:///usr/lib/python3.8/ssl.py?line=1242'>1243</a>\u001b[0m     \u001b[39mreturn\u001b[39;00m \u001b[39msuper\u001b[39m()\u001b[39m.\u001b[39mrecv_into(buffer, nbytes, flags)\n",
      "File \u001b[0;32m/usr/lib/python3.8/ssl.py:1099\u001b[0m, in \u001b[0;36mSSLSocket.read\u001b[0;34m(self, len, buffer)\u001b[0m\n\u001b[1;32m   <a href='file:///usr/lib/python3.8/ssl.py?line=1096'>1097</a>\u001b[0m \u001b[39mtry\u001b[39;00m:\n\u001b[1;32m   <a href='file:///usr/lib/python3.8/ssl.py?line=1097'>1098</a>\u001b[0m     \u001b[39mif\u001b[39;00m buffer \u001b[39mis\u001b[39;00m \u001b[39mnot\u001b[39;00m \u001b[39mNone\u001b[39;00m:\n\u001b[0;32m-> <a href='file:///usr/lib/python3.8/ssl.py?line=1098'>1099</a>\u001b[0m         \u001b[39mreturn\u001b[39;00m \u001b[39mself\u001b[39;49m\u001b[39m.\u001b[39;49m_sslobj\u001b[39m.\u001b[39;49mread(\u001b[39mlen\u001b[39;49m, buffer)\n\u001b[1;32m   <a href='file:///usr/lib/python3.8/ssl.py?line=1099'>1100</a>\u001b[0m     \u001b[39melse\u001b[39;00m:\n\u001b[1;32m   <a href='file:///usr/lib/python3.8/ssl.py?line=1100'>1101</a>\u001b[0m         \u001b[39mreturn\u001b[39;00m \u001b[39mself\u001b[39m\u001b[39m.\u001b[39m_sslobj\u001b[39m.\u001b[39mread(\u001b[39mlen\u001b[39m)\n",
      "\u001b[0;31mKeyboardInterrupt\u001b[0m: "
     ]
    }
   ],
   "source": [
    "data = inst.get_gbif_covariates(\n",
    "    event_date = '2022-06-11', \n",
    "    country='GB'\n",
    ")"
   ]
  }
 ],
 "metadata": {
  "interpreter": {
   "hash": "36cf16204b8548560b1c020c4e8fb5b57f0e4c58016f52f2d4be01e192833930"
  },
  "kernelspec": {
   "display_name": "Python 3.9.13 64-bit",
   "language": "python",
   "name": "python3"
  },
  "language_info": {
   "codemirror_mode": {
    "name": "ipython",
    "version": 3
   },
   "file_extension": ".py",
   "mimetype": "text/x-python",
   "name": "python",
   "nbconvert_exporter": "python",
   "pygments_lexer": "ipython3",
   "version": "3.8.10"
  },
  "orig_nbformat": 4
 },
 "nbformat": 4,
 "nbformat_minor": 2
}
