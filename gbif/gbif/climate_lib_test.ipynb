{
 "cells": [
  {
   "cell_type": "code",
   "execution_count": 61,
   "metadata": {},
   "outputs": [
    {
     "data": {
      "text/html": [
       "<div>\n",
       "<style scoped>\n",
       "    .dataframe tbody tr th:only-of-type {\n",
       "        vertical-align: middle;\n",
       "    }\n",
       "\n",
       "    .dataframe tbody tr th {\n",
       "        vertical-align: top;\n",
       "    }\n",
       "\n",
       "    .dataframe thead th {\n",
       "        text-align: right;\n",
       "    }\n",
       "</style>\n",
       "<table border=\"1\" class=\"dataframe\">\n",
       "  <thead>\n",
       "    <tr style=\"text-align: right;\">\n",
       "      <th></th>\n",
       "      <th>key</th>\n",
       "      <th>scientificName</th>\n",
       "      <th>decimalLatitude</th>\n",
       "      <th>decimalLongitude</th>\n",
       "      <th>issues</th>\n",
       "      <th>datasetKey</th>\n",
       "      <th>publishingOrgKey</th>\n",
       "      <th>installationKey</th>\n",
       "      <th>publishingCountry</th>\n",
       "      <th>protocol</th>\n",
       "      <th>...</th>\n",
       "      <th>institutionID</th>\n",
       "      <th>dynamicProperties</th>\n",
       "      <th>verbatimCoordinateSystem</th>\n",
       "      <th>identificationQualifier</th>\n",
       "      <th>occurrenceRemarks</th>\n",
       "      <th>continent</th>\n",
       "      <th>dataGeneralizations</th>\n",
       "      <th>higherClassification</th>\n",
       "      <th>name</th>\n",
       "      <th>infraspecificEpithet</th>\n",
       "    </tr>\n",
       "  </thead>\n",
       "  <tbody>\n",
       "    <tr>\n",
       "      <th>0</th>\n",
       "      <td>3455694059</td>\n",
       "      <td>Vulpes vulpes (Linnaeus, 1758)</td>\n",
       "      <td>52.33428</td>\n",
       "      <td>4.544288</td>\n",
       "      <td>cdround</td>\n",
       "      <td>50c9509d-22c7-4a22-a47d-8c48425ef4a7</td>\n",
       "      <td>28eb1a3f-1c15-4a95-931a-4af90ecb574d</td>\n",
       "      <td>997448a8-f762-11e1-a439-00145eb45e9a</td>\n",
       "      <td>US</td>\n",
       "      <td>DWC_ARCHIVE</td>\n",
       "      <td>...</td>\n",
       "      <td>NaN</td>\n",
       "      <td>NaN</td>\n",
       "      <td>NaN</td>\n",
       "      <td>NaN</td>\n",
       "      <td>NaN</td>\n",
       "      <td>NaN</td>\n",
       "      <td>NaN</td>\n",
       "      <td>NaN</td>\n",
       "      <td>Vulpes vulpes (Linnaeus, 1758)</td>\n",
       "      <td>NaN</td>\n",
       "    </tr>\n",
       "    <tr>\n",
       "      <th>1</th>\n",
       "      <td>3456244839</td>\n",
       "      <td>Vulpes vulpes (Linnaeus, 1758)</td>\n",
       "      <td>50.07574</td>\n",
       "      <td>5.903848</td>\n",
       "      <td>cdround</td>\n",
       "      <td>50c9509d-22c7-4a22-a47d-8c48425ef4a7</td>\n",
       "      <td>28eb1a3f-1c15-4a95-931a-4af90ecb574d</td>\n",
       "      <td>997448a8-f762-11e1-a439-00145eb45e9a</td>\n",
       "      <td>LU</td>\n",
       "      <td>DWC_ARCHIVE</td>\n",
       "      <td>...</td>\n",
       "      <td>NaN</td>\n",
       "      <td>NaN</td>\n",
       "      <td>NaN</td>\n",
       "      <td>NaN</td>\n",
       "      <td>NaN</td>\n",
       "      <td>NaN</td>\n",
       "      <td>NaN</td>\n",
       "      <td>NaN</td>\n",
       "      <td>Vulpes vulpes (Linnaeus, 1758)</td>\n",
       "      <td>NaN</td>\n",
       "    </tr>\n",
       "    <tr>\n",
       "      <th>2</th>\n",
       "      <td>3456252244</td>\n",
       "      <td>Vulpes vulpes (Linnaeus, 1758)</td>\n",
       "      <td>52.63241</td>\n",
       "      <td>1.230776</td>\n",
       "      <td>cdround</td>\n",
       "      <td>50c9509d-22c7-4a22-a47d-8c48425ef4a7</td>\n",
       "      <td>28eb1a3f-1c15-4a95-931a-4af90ecb574d</td>\n",
       "      <td>997448a8-f762-11e1-a439-00145eb45e9a</td>\n",
       "      <td>US</td>\n",
       "      <td>DWC_ARCHIVE</td>\n",
       "      <td>...</td>\n",
       "      <td>NaN</td>\n",
       "      <td>NaN</td>\n",
       "      <td>NaN</td>\n",
       "      <td>NaN</td>\n",
       "      <td>NaN</td>\n",
       "      <td>NaN</td>\n",
       "      <td>NaN</td>\n",
       "      <td>NaN</td>\n",
       "      <td>Vulpes vulpes (Linnaeus, 1758)</td>\n",
       "      <td>NaN</td>\n",
       "    </tr>\n",
       "    <tr>\n",
       "      <th>3</th>\n",
       "      <td>3468283603</td>\n",
       "      <td>Vulpes vulpes (Linnaeus, 1758)</td>\n",
       "      <td>51.27157</td>\n",
       "      <td>1.080879</td>\n",
       "      <td>fpwktinv</td>\n",
       "      <td>8898e990-9d39-4871-9e6e-d1031c19e24b</td>\n",
       "      <td>d3dd95c3-93d4-4349-a13f-55abf89ad140</td>\n",
       "      <td>99552c70-f762-11e1-a439-00145eb45e9a</td>\n",
       "      <td>GB</td>\n",
       "      <td>DWC_ARCHIVE</td>\n",
       "      <td>...</td>\n",
       "      <td>NaN</td>\n",
       "      <td>NaN</td>\n",
       "      <td>NaN</td>\n",
       "      <td>NaN</td>\n",
       "      <td>NaN</td>\n",
       "      <td>NaN</td>\n",
       "      <td>NaN</td>\n",
       "      <td>NaN</td>\n",
       "      <td>Vulpes vulpes (Linnaeus, 1758)</td>\n",
       "      <td>NaN</td>\n",
       "    </tr>\n",
       "    <tr>\n",
       "      <th>4</th>\n",
       "      <td>3468284637</td>\n",
       "      <td>Vulpes vulpes (Linnaeus, 1758)</td>\n",
       "      <td>51.32545</td>\n",
       "      <td>1.084490</td>\n",
       "      <td>fpwktinv</td>\n",
       "      <td>8898e990-9d39-4871-9e6e-d1031c19e24b</td>\n",
       "      <td>d3dd95c3-93d4-4349-a13f-55abf89ad140</td>\n",
       "      <td>99552c70-f762-11e1-a439-00145eb45e9a</td>\n",
       "      <td>GB</td>\n",
       "      <td>DWC_ARCHIVE</td>\n",
       "      <td>...</td>\n",
       "      <td>NaN</td>\n",
       "      <td>NaN</td>\n",
       "      <td>NaN</td>\n",
       "      <td>NaN</td>\n",
       "      <td>NaN</td>\n",
       "      <td>NaN</td>\n",
       "      <td>NaN</td>\n",
       "      <td>NaN</td>\n",
       "      <td>Vulpes vulpes (Linnaeus, 1758)</td>\n",
       "      <td>NaN</td>\n",
       "    </tr>\n",
       "  </tbody>\n",
       "</table>\n",
       "<p>5 rows × 99 columns</p>\n",
       "</div>"
      ],
      "text/plain": [
       "          key                  scientificName  decimalLatitude  \\\n",
       "0  3455694059  Vulpes vulpes (Linnaeus, 1758)         52.33428   \n",
       "1  3456244839  Vulpes vulpes (Linnaeus, 1758)         50.07574   \n",
       "2  3456252244  Vulpes vulpes (Linnaeus, 1758)         52.63241   \n",
       "3  3468283603  Vulpes vulpes (Linnaeus, 1758)         51.27157   \n",
       "4  3468284637  Vulpes vulpes (Linnaeus, 1758)         51.32545   \n",
       "\n",
       "   decimalLongitude    issues                            datasetKey  \\\n",
       "0          4.544288   cdround  50c9509d-22c7-4a22-a47d-8c48425ef4a7   \n",
       "1          5.903848   cdround  50c9509d-22c7-4a22-a47d-8c48425ef4a7   \n",
       "2          1.230776   cdround  50c9509d-22c7-4a22-a47d-8c48425ef4a7   \n",
       "3          1.080879  fpwktinv  8898e990-9d39-4871-9e6e-d1031c19e24b   \n",
       "4          1.084490  fpwktinv  8898e990-9d39-4871-9e6e-d1031c19e24b   \n",
       "\n",
       "                       publishingOrgKey                       installationKey  \\\n",
       "0  28eb1a3f-1c15-4a95-931a-4af90ecb574d  997448a8-f762-11e1-a439-00145eb45e9a   \n",
       "1  28eb1a3f-1c15-4a95-931a-4af90ecb574d  997448a8-f762-11e1-a439-00145eb45e9a   \n",
       "2  28eb1a3f-1c15-4a95-931a-4af90ecb574d  997448a8-f762-11e1-a439-00145eb45e9a   \n",
       "3  d3dd95c3-93d4-4349-a13f-55abf89ad140  99552c70-f762-11e1-a439-00145eb45e9a   \n",
       "4  d3dd95c3-93d4-4349-a13f-55abf89ad140  99552c70-f762-11e1-a439-00145eb45e9a   \n",
       "\n",
       "  publishingCountry     protocol  ... institutionID dynamicProperties  \\\n",
       "0                US  DWC_ARCHIVE  ...           NaN               NaN   \n",
       "1                LU  DWC_ARCHIVE  ...           NaN               NaN   \n",
       "2                US  DWC_ARCHIVE  ...           NaN               NaN   \n",
       "3                GB  DWC_ARCHIVE  ...           NaN               NaN   \n",
       "4                GB  DWC_ARCHIVE  ...           NaN               NaN   \n",
       "\n",
       "   verbatimCoordinateSystem identificationQualifier occurrenceRemarks  \\\n",
       "0                       NaN                     NaN               NaN   \n",
       "1                       NaN                     NaN               NaN   \n",
       "2                       NaN                     NaN               NaN   \n",
       "3                       NaN                     NaN               NaN   \n",
       "4                       NaN                     NaN               NaN   \n",
       "\n",
       "  continent  dataGeneralizations  higherClassification  \\\n",
       "0       NaN                  NaN                   NaN   \n",
       "1       NaN                  NaN                   NaN   \n",
       "2       NaN                  NaN                   NaN   \n",
       "3       NaN                  NaN                   NaN   \n",
       "4       NaN                  NaN                   NaN   \n",
       "\n",
       "                             name  infraspecificEpithet  \n",
       "0  Vulpes vulpes (Linnaeus, 1758)                   NaN  \n",
       "1  Vulpes vulpes (Linnaeus, 1758)                   NaN  \n",
       "2  Vulpes vulpes (Linnaeus, 1758)                   NaN  \n",
       "3  Vulpes vulpes (Linnaeus, 1758)                   NaN  \n",
       "4  Vulpes vulpes (Linnaeus, 1758)                   NaN  \n",
       "\n",
       "[5 rows x 99 columns]"
      ]
     },
     "execution_count": 61,
     "metadata": {},
     "output_type": "execute_result"
    }
   ],
   "source": [
    "from noaa_sdk import NOAA\n",
    "import pandas as pd\n",
    "\n",
    "\n",
    "df= pd.read_csv(\"/mnt/Work/PersonalData/Raw/GBIF/Data/Vulpes vulpes_Haliaeetus albicilla_Dama dama_Hydropotes inermis_Capreolus capreolus_Cervus elaphus.csv\")\n",
    "\n",
    "df.head()"
   ]
  },
  {
   "cell_type": "code",
   "execution_count": null,
   "metadata": {},
   "outputs": [],
   "source": []
  },
  {
   "cell_type": "code",
   "execution_count": null,
   "metadata": {},
   "outputs": [],
   "source": [
    "n = NOAA()\n",
    "n.get_forecasts()\n",
    "res = n.get_forecasts('11365', 'US', type='forecastGridData')\n",
    "for i in res:\n",
    "    print(i)"
   ]
  },
  {
   "cell_type": "code",
   "execution_count": null,
   "metadata": {},
   "outputs": [],
   "source": [
    "# results= n.get_observations_by_lat_lon(\n",
    "#     lat=51.271,\n",
    "#     lon=-1.230,\n",
    "    \n",
    "#     # 40.7314,\n",
    "#     # -73.8656,\n",
    "#     # start='2021-01-01',\n",
    "#     # end='2021-01-10',\n",
    "#     num_of_stations=100)\n",
    "\n",
    "results = n.points_forecast(40.7314, -73.8656, hourly= False)\n",
    "\n"
   ]
  },
  {
   "cell_type": "code",
   "execution_count": 56,
   "metadata": {},
   "outputs": [],
   "source": [
    "from meteostat import Point, Daily\n",
    "from datetime import datetime\n",
    "\n",
    "# Refer : https://dev.meteostat.net/python/point.html#api"
   ]
  },
  {
   "cell_type": "code",
   "execution_count": 68,
   "metadata": {},
   "outputs": [],
   "source": [
    "\n",
    "date_string = \"2012-12-12\"\n",
    "start = datetime.fromisoformat(date_string)\n",
    "end = datetime.fromisoformat(date_string)\n",
    "\n",
    "# Set time period\n",
    "# start = datetime(2022, 6, 11)\n",
    "# end = datetime(2022, 6, 11)\n",
    "\n",
    "# Create Point for Vancouver, BC\n",
    "location = Point(52.33428, 4.544288)\n",
    "\n",
    "# Get daily data for 2018\n",
    "data = Daily(location, start, end)\n",
    "data = data.fetch()"
   ]
  },
  {
   "cell_type": "code",
   "execution_count": 71,
   "metadata": {},
   "outputs": [],
   "source": [
    "import logging"
   ]
  },
  {
   "cell_type": "code",
   "execution_count": 72,
   "metadata": {},
   "outputs": [],
   "source": [
    "log = logging.getLogger(\"my-logger\")"
   ]
  },
  {
   "cell_type": "code",
   "execution_count": 73,
   "metadata": {},
   "outputs": [
    {
     "name": "stdout",
     "output_type": "stream",
     "text": [
      "[16/Jul/2022 17:10:36] INFO - Hello\n"
     ]
    }
   ],
   "source": [
    "log.info(\"Hello\")"
   ]
  },
  {
   "cell_type": "code",
   "execution_count": 67,
   "metadata": {},
   "outputs": [
    {
     "name": "stdout",
     "output_type": "stream",
     "text": [
      "2012-12-12 00:00:00\n"
     ]
    }
   ],
   "source": [
    "date_string = \"2012-12-12\"\n",
    "print (datetime.fromisoformat(date_string))"
   ]
  },
  {
   "cell_type": "code",
   "execution_count": 80,
   "metadata": {},
   "outputs": [
    {
     "data": {
      "text/plain": [
       "1"
      ]
     },
     "execution_count": 80,
     "metadata": {},
     "output_type": "execute_result"
    }
   ],
   "source": [
    "# pd.DataFrame(results)\n",
    "len(data.index)"
   ]
  },
  {
   "cell_type": "code",
   "execution_count": 13,
   "metadata": {},
   "outputs": [],
   "source": [
    "from gbif import climate\n",
    "import logging"
   ]
  },
  {
   "cell_type": "code",
   "execution_count": 16,
   "metadata": {},
   "outputs": [],
   "source": [
    "c= climate.GetClimateData(log_level=logging.DEBUG)"
   ]
  },
  {
   "cell_type": "code",
   "execution_count": 17,
   "metadata": {},
   "outputs": [
    {
     "data": {
      "text/html": [
       "<div>\n",
       "<style scoped>\n",
       "    .dataframe tbody tr th:only-of-type {\n",
       "        vertical-align: middle;\n",
       "    }\n",
       "\n",
       "    .dataframe tbody tr th {\n",
       "        vertical-align: top;\n",
       "    }\n",
       "\n",
       "    .dataframe thead th {\n",
       "        text-align: right;\n",
       "    }\n",
       "</style>\n",
       "<table border=\"1\" class=\"dataframe\">\n",
       "  <thead>\n",
       "    <tr style=\"text-align: right;\">\n",
       "      <th></th>\n",
       "      <th>tavg</th>\n",
       "      <th>tmin</th>\n",
       "      <th>tmax</th>\n",
       "      <th>prcp</th>\n",
       "      <th>snow</th>\n",
       "      <th>wdir</th>\n",
       "      <th>wspd</th>\n",
       "      <th>wpgt</th>\n",
       "      <th>pres</th>\n",
       "      <th>tsun</th>\n",
       "    </tr>\n",
       "    <tr>\n",
       "      <th>time</th>\n",
       "      <th></th>\n",
       "      <th></th>\n",
       "      <th></th>\n",
       "      <th></th>\n",
       "      <th></th>\n",
       "      <th></th>\n",
       "      <th></th>\n",
       "      <th></th>\n",
       "      <th></th>\n",
       "      <th></th>\n",
       "    </tr>\n",
       "  </thead>\n",
       "  <tbody>\n",
       "    <tr>\n",
       "      <th>2022-01-02</th>\n",
       "      <td>10.6</td>\n",
       "      <td>9.6</td>\n",
       "      <td>11.4</td>\n",
       "      <td>11.4</td>\n",
       "      <td>NaN</td>\n",
       "      <td>0.0</td>\n",
       "      <td>36.3</td>\n",
       "      <td>72.0</td>\n",
       "      <td>1010.2</td>\n",
       "      <td>NaN</td>\n",
       "    </tr>\n",
       "  </tbody>\n",
       "</table>\n",
       "</div>"
      ],
      "text/plain": [
       "            tavg  tmin  tmax  prcp  snow  wdir  wspd  wpgt    pres  tsun\n",
       "time                                                                    \n",
       "2022-01-02  10.6   9.6  11.4  11.4   NaN   0.0  36.3  72.0  1010.2   NaN"
      ]
     },
     "execution_count": 17,
     "metadata": {},
     "output_type": "execute_result"
    }
   ],
   "source": [
    "c.get_interpolated_climate_data(\n",
    "    lat_deg=52.33428,\n",
    "    lon_deg=4.544288,\n",
    "    start_date='2022-01-02',\n",
    "    end_date='2022-01-02'\n",
    ")"
   ]
  }
 ],
 "metadata": {
  "interpreter": {
   "hash": "36cf16204b8548560b1c020c4e8fb5b57f0e4c58016f52f2d4be01e192833930"
  },
  "kernelspec": {
   "display_name": "Python 3.9.13 64-bit",
   "language": "python",
   "name": "python3"
  },
  "language_info": {
   "codemirror_mode": {
    "name": "ipython",
    "version": 3
   },
   "file_extension": ".py",
   "mimetype": "text/x-python",
   "name": "python",
   "nbconvert_exporter": "python",
   "pygments_lexer": "ipython3",
   "version": "3.8.10"
  },
  "orig_nbformat": 4
 },
 "nbformat": 4,
 "nbformat_minor": 2
}
